{
 "metadata": {
  "name": "CALDB sandbox"
 },
 "nbformat": 3,
 "nbformat_minor": 0,
 "worksheets": [
  {
   "cells": [
    {
     "cell_type": "markdown",
     "metadata": {},
     "source": [
      "How To Read and Manipulate the caldb.indx file\n",
      "="
     ]
    },
    {
     "cell_type": "code",
     "collapsed": false,
     "input": [
      "import urllib\n",
      "import pyfits\n",
      "import os\n",
      "#cif='/fuse/caldb/data/fermi/lat/caldb.indx'\n",
      "cifurl='ftp://heasarc.gsfc.nasa.gov/caldb/data/fermi/lat/caldb.indx' \n",
      "cif=urllib.urlretrieve(cifurl) # retrieve this url urllib.urlretrieve and copy it to a temporary file\n",
      "cif=cif[0]\n",
      "print \"cif = \"+cif\n",
      "# note - urlretrieve says \"[if a] valid cached copy of the object exists, the object is not copied\" - use urllib.urlcleanup() \n",
      "hdulist = pyfits.open(cif)\n",
      "hdulist.info()\n",
      "urllib.urlcleanup() # this apparently removes the file "
     ],
     "language": "python",
     "metadata": {},
     "outputs": [
      {
       "output_type": "stream",
       "stream": "stdout",
       "text": [
        "cif = /var/folders/vm/jqys08d955l9csmhdx0zg4gw0000gn/T/tmpKH0lod.indx\n",
        "Filename: /var/folders/vm/jqys08d955l9csmhdx0zg4gw0000gn/T/tmpKH0lod.indx\n",
        "No.    Name         Type      Cards   Dimensions   Format\n",
        "0    PRIMARY     PrimaryHDU       6   ()           uint8   \n",
        "1    CIF         BinTableHDU     66   103R x 18C   [10A, 10A, 20A, 10A, 20A, 70A, 40A, 3A, 4A, 20A, 630A70, I, 10A, 8A, D, I, 10A, 70A]   \n"
       ]
      }
     ],
     "prompt_number": 23
    },
    {
     "cell_type": "code",
     "collapsed": false,
     "input": [
      "cols = hdulist[1].columns\n",
      "cifdata = hdulist[1].data\n",
      "hdulist.info()\n",
      "cols"
     ],
     "language": "python",
     "metadata": {},
     "outputs": [
      {
       "output_type": "stream",
       "stream": "stdout",
       "text": [
        "Filename: /var/folders/vm/jqys08d955l9csmhdx0zg4gw0000gn/T/tmpKH0lod.indx\n",
        "No.    Name         Type      Cards   Dimensions   Format\n",
        "0    PRIMARY     PrimaryHDU       6   ()           uint8   \n",
        "1    CIF         BinTableHDU     66   103R x 18C   ['10A', '10A', '20A', '10A', '20A', '70A', '40A', '3A', '4A', '20A', '630A70', 'I', '10A', '8A', 'D', 'I', '10A', '70A']   \n"
       ]
      },
      {
       "output_type": "pyout",
       "prompt_number": 24,
       "text": [
        "ColDefs(\n",
        "    name = 'TELESCOP'; format = '10A'\n",
        "    name = 'INSTRUME'; format = '10A'\n",
        "    name = 'DETNAM'; format = '20A'\n",
        "    name = 'FILTER'; format = '10A'\n",
        "    name = 'CAL_DEV'; format = '20A'\n",
        "    name = 'CAL_DIR'; format = '70A'\n",
        "    name = 'CAL_FILE'; format = '40A'\n",
        "    name = 'CAL_CLAS'; format = '3A'\n",
        "    name = 'CAL_DTYP'; format = '4A'\n",
        "    name = 'CAL_CNAM'; format = '20A'\n",
        "    name = 'CAL_CBD'; format = '630A70'\n",
        "    name = 'CAL_XNO'; format = 'I'\n",
        "    name = 'CAL_VSD'; format = '10A'\n",
        "    name = 'CAL_VST'; format = '8A'\n",
        "    name = 'REF_TIME'; format = 'D'\n",
        "    name = 'CAL_QUAL'; format = 'I'\n",
        "    name = 'CAL_DATE'; format = '10A'\n",
        "    name = 'CAL_DESC'; format = '70A'\n",
        ")"
       ]
      }
     ],
     "prompt_number": 24
    },
    {
     "cell_type": "code",
     "collapsed": false,
     "input": [
      "calcnam=cifdata.field(\"cal_cnam\")\n",
      "calcnam"
     ],
     "language": "python",
     "metadata": {},
     "outputs": [
      {
       "output_type": "pyout",
       "prompt_number": 25,
       "text": [
        "chararray(['EFF_AREA', 'EFF_AREA', 'EDISP', 'EDISP', 'RPSF', 'RPSF',\n",
        "       'EFF_AREA', 'EFF_AREA', 'EFF_AREA', 'EFF_AREA', 'EDISP', 'EDISP',\n",
        "       'EDISP', 'EDISP', 'RPSF', 'RPSF', 'RPSF', 'RPSF', 'EFF_AREA',\n",
        "       'EFF_AREA', 'EFF_AREA', 'EFF_AREA', 'EFF_AREA', 'EFF_AREA', 'RPSF',\n",
        "       'RPSF', 'RPSF', 'RPSF', 'RPSF', 'RPSF', 'EDISP', 'EDISP', 'EDISP',\n",
        "       'EDISP', 'EDISP', 'EDISP', 'EFF_AREA', 'EFF_AREA', 'RPSF', 'RPSF',\n",
        "       'EDISP', 'EDISP', 'EFF_AREA', 'EFF_AREA', 'RPSF', 'RPSF', 'EDISP',\n",
        "       'EDISP', 'EFF_AREA', 'EFF_AREA', 'EFF_AREA', 'EFF_AREA', 'RPSF',\n",
        "       'RPSF', 'RPSF', 'RPSF', 'EDISP', 'EDISP', 'EDISP', 'EDISP',\n",
        "       'EFF_AREA', 'EFF_AREA', 'EFF_AREA', 'EFF_AREA', 'RPSF', 'RPSF',\n",
        "       'RPSF', 'EDISP', 'EDISP', 'EDISP', 'EDISP', 'EFF_AREA', 'EFF_AREA',\n",
        "       'EFF_AREA', 'EFF_AREA', 'RPSF', 'RPSF', 'EDISP', 'EDISP', 'EDISP',\n",
        "       'EDISP', 'EFF_AREA', 'EFF_AREA', 'EFF_AREA', 'EFF_AREA', 'RPSF',\n",
        "       'RPSF', 'RPSF', 'RPSF', 'EDISP', 'EDISP', 'EDISP', 'EDISP',\n",
        "       'EFF_AREA', 'EFF_AREA', 'RPSF', 'RPSF', 'RPSF', 'RPSF', 'EDISP',\n",
        "       'EDISP', 'EDISP', 'EDISP'], \n",
        "      dtype='|S20')"
       ]
      }
     ],
     "prompt_number": 25
    },
    {
     "cell_type": "markdown",
     "metadata": {},
     "source": [
      "NOW, Let's find all entries in cifdata that have a specified data quality = qual"
     ]
    },
    {
     "cell_type": "code",
     "collapsed": false,
     "input": [
      "calqual=cifdata.field(\"cal_qual\")\n",
      "calqual.shape"
     ],
     "language": "python",
     "metadata": {},
     "outputs": [
      {
       "output_type": "pyout",
       "prompt_number": 26,
       "text": [
        "(103,)"
       ]
      }
     ],
     "prompt_number": 26
    },
    {
     "cell_type": "code",
     "collapsed": false,
     "input": [
      "print calqual"
     ],
     "language": "python",
     "metadata": {},
     "outputs": [
      {
       "output_type": "stream",
       "stream": "stdout",
       "text": [
        "[0 0 0 0 0 0 0 0 0 0 0 0 0 0 0 0 0 0 0 0 0 0 0 0 0 0 0 0 0 0 0 0 0 0 0 0 0\n",
        " 0 0 0 0 0 0 0 0 0 0 0 0 0 0 0 0 0 0 0 0 0 0 0 0 0 0 0 0 0 0 0 0 0 0 0 0 0\n",
        " 0 0 0 0 0 0 0 0 0 0 0 0 0 0 0 0 0 0 0 0 0 0 0 0 0 0 0 0 0]\n"
       ]
      }
     ],
     "prompt_number": 27
    },
    {
     "cell_type": "code",
     "collapsed": false,
     "input": [
      "qual=0\n",
      "i=where(calqual==qual)"
     ],
     "language": "python",
     "metadata": {},
     "outputs": [],
     "prompt_number": 28
    },
    {
     "cell_type": "code",
     "collapsed": false,
     "input": [
      "i=i[0]"
     ],
     "language": "python",
     "metadata": {},
     "outputs": [],
     "prompt_number": 29
    },
    {
     "cell_type": "code",
     "collapsed": false,
     "input": [
      "i # contains the indices of all rows of cifdata which have quality = qual"
     ],
     "language": "python",
     "metadata": {},
     "outputs": [
      {
       "output_type": "pyout",
       "prompt_number": 30,
       "text": [
        "array([  0,   1,   2,   3,   4,   5,   6,   7,   8,   9,  10,  11,  12,\n",
        "        13,  14,  15,  16,  17,  18,  19,  20,  21,  22,  23,  24,  25,\n",
        "        26,  27,  28,  29,  30,  31,  32,  33,  34,  35,  36,  37,  38,\n",
        "        39,  40,  41,  42,  43,  44,  45,  46,  47,  48,  49,  50,  51,\n",
        "        52,  53,  54,  55,  56,  57,  58,  59,  60,  61,  62,  63,  64,\n",
        "        65,  66,  67,  68,  69,  70,  71,  72,  73,  74,  75,  76,  77,\n",
        "        78,  79,  80,  81,  82,  83,  84,  85,  86,  87,  88,  89,  90,\n",
        "        91,  92,  93,  94,  95,  96,  97,  98,  99, 100, 101, 102])"
       ]
      }
     ],
     "prompt_number": 30
    },
    {
     "cell_type": "code",
     "collapsed": false,
     "input": [
      "i.shape"
     ],
     "language": "python",
     "metadata": {},
     "outputs": [
      {
       "output_type": "pyout",
       "prompt_number": 31,
       "text": [
        "(103,)"
       ]
      }
     ],
     "prompt_number": 31
    },
    {
     "cell_type": "markdown",
     "metadata": {},
     "source": [
      "NOW, for all the files meeting calqual==qual, let's find a) all the entries with cal_cnam='EDISP'"
     ]
    },
    {
     "cell_type": "code",
     "collapsed": false,
     "input": [
      "cifdata=cifdata[i]\n",
      "cifdata.shape\n",
      "j=where(cifdata.field(\"cal_cnam\")=='EDISP')\n",
      "print cifdata[j].field(\"cal_cnam\")"
     ],
     "language": "python",
     "metadata": {},
     "outputs": [
      {
       "output_type": "stream",
       "stream": "stdout",
       "text": [
        "['EDISP' 'EDISP' 'EDISP' 'EDISP' 'EDISP' 'EDISP' 'EDISP' 'EDISP' 'EDISP'\n",
        " 'EDISP' 'EDISP' 'EDISP' 'EDISP' 'EDISP' 'EDISP' 'EDISP' 'EDISP' 'EDISP'\n",
        " 'EDISP' 'EDISP' 'EDISP' 'EDISP' 'EDISP' 'EDISP' 'EDISP' 'EDISP' 'EDISP'\n",
        " 'EDISP' 'EDISP' 'EDISP' 'EDISP' 'EDISP' 'EDISP' 'EDISP' 'EDISP' 'EDISP']\n"
       ]
      }
     ],
     "prompt_number": 32
    },
    {
     "cell_type": "markdown",
     "metadata": {},
     "source": [
      "SO, now that we've got the EDISP entries, let's print out their validity start dates "
     ]
    },
    {
     "cell_type": "code",
     "collapsed": false,
     "input": [
      "from astropy.time import Time\n",
      "times= cifdata[j].field(\"cal_vsd\")+' '+cifdata[j].field(\"cal_vst\")\n",
      "times"
     ],
     "language": "python",
     "metadata": {},
     "outputs": [
      {
       "output_type": "pyout",
       "prompt_number": 71,
       "text": [
        "chararray(['2007-01-17 00:00:00', '2007-01-17 00:00:00', '2007-01-17 00:00:00',\n",
        "       '2007-01-17 00:00:00', '2007-01-17 00:00:00', '2007-01-17 00:00:00',\n",
        "       '2007-01-17 00:00:00', '2007-01-17 00:00:00', '2007-01-17 00:00:00',\n",
        "       '2007-01-17 00:00:00', '2007-01-17 00:00:00', '2007-01-17 00:00:00',\n",
        "       '2007-01-17 00:00:00', '2007-01-17 00:00:00', '2007-01-17 00:00:00',\n",
        "       '2007-01-17 00:00:00', '2007-01-17 00:00:00', '2007-01-17 00:00:00',\n",
        "       '2007-01-17 00:00:00', '2007-01-17 00:00:00', '2007-01-17 00:00:00',\n",
        "       '2007-01-17 00:00:00', '2007-01-17 00:00:00', '2007-01-17 00:00:00',\n",
        "       '2007-01-17 00:00:00', '2007-01-17 00:00:00', '2007-01-17 00:00:00',\n",
        "       '2007-01-17 00:00:00', '2007-01-17 00:00:00', '2007-01-17 00:00:00',\n",
        "       '2007-01-17 00:00:00', '2007-01-17 00:00:00', '2007-01-17 00:00:00',\n",
        "       '2007-01-17 00:00:00', '2007-01-17 00:00:00', '2007-01-17 00:00:00'], \n",
        "      dtype='|S19')"
       ]
      }
     ],
     "prompt_number": 71
    },
    {
     "cell_type": "markdown",
     "metadata": {},
     "source": [
      "AND their boundary values"
     ]
    },
    {
     "cell_type": "code",
     "collapsed": false,
     "input": [
      "a= cifdata[j].field(\"cal_cbd\")\n",
      "print a[0]\n",
      "ibd=a.find('CTHETAQ')\n",
      "ibd"
     ],
     "language": "python",
     "metadata": {},
     "outputs": [
      {
       "output_type": "stream",
       "stream": "stdout",
       "text": [
        "VERSION(P6_V1_DIFFUSE)                                                CLASS(P6_v1_diff_front)                                               ENERG(18-560000)MeV                                                   CTHETA(0.2-1)                                                         PHI(0-360)deg                                                         NONE                                                                  NONE                                                                  NONE                                                                  NONE\n"
       ]
      },
      {
       "output_type": "pyout",
       "prompt_number": 57,
       "text": [
        "array([-1, -1, -1, -1, -1, -1, -1, -1, -1, -1, -1, -1, -1, -1, -1, -1, -1,\n",
        "       -1, -1, -1, -1, -1, -1, -1, -1, -1, -1, -1, -1, -1, -1, -1, -1, -1,\n",
        "       -1, -1])"
       ]
      }
     ],
     "prompt_number": 57
    },
    {
     "cell_type": "code",
     "collapsed": false,
     "input": [
      "b0=a[0] # 1st set of boundary parameters\n",
      "b0[30:100]"
     ],
     "language": "python",
     "metadata": {},
     "outputs": [
      {
       "output_type": "pyout",
       "prompt_number": 35,
       "text": [
        "'                                        CLASS(P6_v1_diff_front)       '"
       ]
      }
     ],
     "prompt_number": 35
    },
    {
     "cell_type": "code",
     "collapsed": false,
     "input": [
      "c=b0.split() # splits string on whitespace; generates a list of all the boundary parameters\n",
      "print c"
     ],
     "language": "python",
     "metadata": {},
     "outputs": [
      {
       "output_type": "stream",
       "stream": "stdout",
       "text": [
        "['VERSION(P6_V1_DIFFUSE)', 'CLASS(P6_v1_diff_front)', 'ENERG(18-560000)MeV', 'CTHETA(0.2-1)', 'PHI(0-360)deg', 'NONE', 'NONE', 'NONE', 'NONE']\n"
       ]
      }
     ],
     "prompt_number": 36
    },
    {
     "cell_type": "markdown",
     "metadata": {},
     "source": [
      "SO for each element in list c, let's find a) the boundary parameter, b) whether its a range or equality, c) whether there are associated units"
     ]
    },
    {
     "cell_type": "code",
     "collapsed": false,
     "input": [
      "print len(c)\n",
      "c[0]\n",
      "cc=c[0].split(\"(\")\n",
      "cc"
     ],
     "language": "python",
     "metadata": {},
     "outputs": [
      {
       "output_type": "stream",
       "stream": "stdout",
       "text": [
        "9\n"
       ]
      },
      {
       "output_type": "pyout",
       "prompt_number": 37,
       "text": [
        "['VERSION', 'P6_V1_DIFFUSE)']"
       ]
      }
     ],
     "prompt_number": 37
    },
    {
     "cell_type": "code",
     "collapsed": false,
     "input": [
      "for bound in c:\n",
      "    test=asarray(bound.split(\"(\")) # split the string at the \"(\" into a list; use numpy.asarray to convert to an array\n",
      "    param=test[0]\n",
      "    if param != \"NONE\": \n",
      "        bval=test[1].split(\")\") \n",
      "        print \"\\n\"\n",
      "        if bval[0].find(\"-\")>=0: # .find returns a -1 if the substring is not found, otherwise the position of the string\n",
      "            ptype=\"Range\" \n",
      "            vals=bval[0].split(\"-\")\n",
      "            minval=vals[0]\n",
      "            maxval=vals[1]\n",
      "        else:\n",
      "            ptype=\"Equality\"\n",
      "        print \"Parameter = \"+param\n",
      "        print \"Parameter Boundary = \"+bval[0]\n",
      "        print \"Type = \"+ptype\n",
      "        if ptype =='Range':\n",
      "            print(\"Minimum = %f, maximum = %f\") % (float(minval), float(maxval))\n",
      "        unit=\"None\"\n",
      "        if len(bval[1]) > 0:\n",
      "            unit=bval[1]\n",
      "        print \"Unit = \"+unit\n",
      "    "
     ],
     "language": "python",
     "metadata": {},
     "outputs": [
      {
       "output_type": "stream",
       "stream": "stdout",
       "text": [
        "\n",
        "\n",
        "Parameter = VERSION\n",
        "Parameter Boundary = P6_V1_DIFFUSE\n",
        "Type = Equality\n",
        "Unit = None\n",
        "\n",
        "\n",
        "Parameter = CLASS\n",
        "Parameter Boundary = P6_v1_diff_front\n",
        "Type = Equality\n",
        "Unit = None\n",
        "\n",
        "\n",
        "Parameter = ENERG\n",
        "Parameter Boundary = 18-560000\n",
        "Type = Range\n",
        "Minimum = 18.000000, maximum = 560000.000000\n",
        "Unit = MeV\n",
        "\n",
        "\n",
        "Parameter = CTHETA\n",
        "Parameter Boundary = 0.2-1\n",
        "Type = Range\n",
        "Minimum = 0.200000, maximum = 1.000000\n",
        "Unit = None\n",
        "\n",
        "\n",
        "Parameter = PHI\n",
        "Parameter Boundary = 0-360\n",
        "Type = Range\n",
        "Minimum = 0.000000, maximum = 360.000000\n",
        "Unit = deg\n"
       ]
      }
     ],
     "prompt_number": 53
    },
    {
     "cell_type": "markdown",
     "metadata": {},
     "source": [
      "So the bit of code above finds the boundary parameter name, the boundary value and the type, along with the unit if any"
     ]
    },
    {
     "cell_type": "markdown",
     "metadata": {},
     "source": [
      "So to mimic gtcalf.f functionality, the user should be able to input\n",
      "\n",
      "         * 'TELESCOP'; format = '10A'\n",
      "         * 'INSTRUME'; format = '10A'\n",
      "         * 'DETNAM'; format = '20A'\n",
      "         * 'FILTER'; format = '10A'\n",
      "         * 'CAL_CNAM'; format = '20A'\n",
      "         * 'CAL_CBD'; format = '630A70' - this should be an array\n",
      "         * 'CAL_VSD'; format = '10A'\n",
      "         * 'CAL_VST'; format = '8A'\n",
      "         * 'CAL_QUAL'; format = 'I'\n",
      "\n",
      "and get back \n",
      "\n",
      "         * 'CAL_DEV'; format = '20A'\n",
      "         * 'CAL_DIR'; format = '70A'\n",
      "         * 'CAL_FILE'; format = '40A'\n",
      "         * 'CAL_CLAS'; format = '3A'\n",
      "         * 'CAL_DTYP'; format = '4A'\n",
      "         * 'CAL_XNO'; format = 'I'\n",
      "         * 'REF_TIME'; format = 'D'\n",
      "         * 'CAL_DATE'; format = '10A'\n",
      "         * 'CAL_DESC'; format = '70A'\n",
      "\n",
      "How to handle the caldb boundaries: one could have up to 9 boundary values (which are read as a 630 character string from the caldb.indx file). The logic should go like this\n",
      "\n",
      "    - user specifies an array of caldb boundaries with a format like PARAM.EQ.VAL \n",
      "\n",
      "    - split PARAM and value\n",
      "    \n",
      "    - for each input PARAM, find the cif boundary param that matches\n",
      "            \n",
      "        - if no match for PARAM, return with an error\n",
      "        \n",
      "        - if a match found, see if the BOUNDARY specified falls within the cif boundary range/equality"
     ]
    },
    {
     "cell_type": "code",
     "collapsed": false,
     "input": [
      "def quizcif(telescope, instrument, cal_cnam, detnam='',cal_cbd=['','','','','','','','',''],\n",
      "filter=\"none\", cal_vsd=\"today\", cal_vst=\"now\", cal_qual=0, caldb='ftp://heasarc.gsfc.nasa.gov/caldb', caldbver=''):\n",
      "    import urllib\n",
      "    import pyfits\n",
      "    import os  \n",
      "    import datetime\n",
      "    import pdb\n",
      "    from astropy.time import Time\n",
      "    #print cal_cbd\n",
      "    cifurl=caldb+'/data/'+telescope+'/'+instrument+'/caldb.indx'\n",
      "    print \"cifurl = \"+cifurl\n",
      "    cif=urllib.urlretrieve(cifurl) # retrieve this url urllib.urlretrieve and copy it to a temporary file\n",
      "    cif=cif[0]\n",
      "    print \"cif = \"+cif\n",
      "    #pdb.set_trace()\n",
      "    hdulist = pyfits.open(cif)\n",
      "    hdulist.info()\n",
      "    #urllib.urlcleanup() # this apparently removes the file \n",
      "    cols = hdulist[1].columns\n",
      "    cifdata = hdulist[1].data\n",
      "    #\n",
      "    # get entries that match cal_cnam\n",
      "    #\n",
      "    icnam=where(cifdata.field(\"cal_cnam\")==cal_cnam)\n",
      "    #print cifdata[icnam].field(\"cal_cnam\")\n",
      "    cifdata=cifdata[icnam]\n",
      "    print cifdata.field(\"cal_cnam\")\n",
      "    #\n",
      "    # get entries that match cal_qual\n",
      "    #\n",
      "    iqual=where(cifdata.field(\"cal_qual\")==cal_qual)\n",
      "    cifdate=cifdata[iqual]\n",
      "    print cifdata.field(\"cal_qual\")\n",
      "    #\n",
      "    # vsd & vst\n",
      "    #\n",
      "    # to come...plan is to convert vsd+vst into jd, along with the date/time specified by the user and compare\n",
      "    # \n",
      "    now = datetime.datetime.now()\n",
      "    if cal_vsd==\"today\":\n",
      "        vsd=now.date()\n",
      "    if cal_vst==\"now\":\n",
      "        vst=now.time()\n",
      "    vsdt=str(vsd)+' '+str(vst)\n",
      "    vsdt=Time(vsdt,format='iso',scale='utc')\n",
      "    cif_vsdt=cifdata.field(\"cal_vsd\")+' '+cifdata.field(\"cal_vst\")\n",
      "    cif_vsdt= Time(cif_vsdt, format='iso', scale='utc')\n",
      "    \"\"\"print vsdt.jd\n",
      "    print cif_vsdt.jd\"\"\"\n",
      "    dift= cif_vsdt.jd-vsdt.jd\n",
      "    #dift=vsdt.jd-cif_vsdt.jd\n",
      "    print dift\n",
      "    ivsd=where(dift<0)\n",
      "    print ivsd[0]\n",
      "    if ivsd[0].size==0: # if no elements match then ivsd[0] is an array of size 0\n",
      "        print \"Time criterion not matched by CALDB\"\n",
      "        return\n",
      "    #elif: \n",
      "    #    cifdata=cifdata[ivsd] # filter on acceptable vsds.  Any cif_vsdt<vsdt is acceptable\n",
      "    #\n",
      "    # cbds - have to extract all the boundary value entries, then find the ones that match\n",
      "    # the specified boundary array entries\n",
      "    # for example we might specify as input: \n",
      "    # cal_cbd=['theta=50', 'phi=30']\n",
      "    #\n",
      "    # and have cbds in the cif like cbd='theta(40-60)degrees           phi(10-50)degrees'\n",
      "    #   which would match the input, while\n",
      "    #   cbd='theta(40-60)degrees           phi(10-25)degrees'\n",
      "    #   would not match the input (note the implicit \"AND\"-ing of the boundaries, not 'OR'-ing\n",
      "    #\n",
      "    bnd= cifdata.field(\"cal_cbd\") # get a string array of all the boundary values\n",
      "    # find all rows of bnd that contain the first input boundary parameter\n",
      "    #  a. find the name of the first input boundary parameter by splitting on = equality, or < or > as necessary\n",
      "    ii=where(cal_cbd[0]==\"=\")\n",
      "    \n",
      "    \n",
      "    \n",
      "quizcif('fermi','lat','EDISP')\n",
      "   "
     ],
     "language": "python",
     "metadata": {},
     "outputs": [
      {
       "output_type": "stream",
       "stream": "stdout",
       "text": [
        "cifurl = ftp://heasarc.gsfc.nasa.gov/caldb/data/fermi/lat/caldb.indx\n",
        "cif = /var/folders/vm/jqys08d955l9csmhdx0zg4gw0000gn/T/tmp_r9YDz.indx\n",
        "Filename: /var/folders/vm/jqys08d955l9csmhdx0zg4gw0000gn/T/tmp_r9YDz.indx\n",
        "No.    Name         Type      Cards   Dimensions   Format\n",
        "0    PRIMARY     PrimaryHDU       6   ()           uint8   \n",
        "1    CIF         BinTableHDU     66   103R x 18C   [10A, 10A, 20A, 10A, 20A, 70A, 40A, 3A, 4A, 20A, 630A70, I, 10A, 8A, D, I, 10A, 70A]   \n"
       ]
      },
      {
       "output_type": "stream",
       "stream": "stdout",
       "text": [
        "['EDISP' 'EDISP' 'EDISP' 'EDISP' 'EDISP' 'EDISP' 'EDISP' 'EDISP' 'EDISP'\n",
        " 'EDISP' 'EDISP' 'EDISP' 'EDISP' 'EDISP' 'EDISP' 'EDISP' 'EDISP' 'EDISP'\n",
        " 'EDISP' 'EDISP' 'EDISP' 'EDISP' 'EDISP' 'EDISP' 'EDISP' 'EDISP' 'EDISP'\n",
        " 'EDISP' 'EDISP' 'EDISP' 'EDISP' 'EDISP' 'EDISP' 'EDISP' 'EDISP' 'EDISP']\n",
        "[0 0 0 0 0 0 0 0 0 0 0 0 0 0 0 0 0 0 0 0 0 0 0 0 0 0 0 0 0 0 0 0 0 0 0 0]\n",
        "[-2383.54900359 -2383.54900359 -2383.54900359 -2383.54900359 -2383.54900359\n",
        " -2383.54900359 -2383.54900359 -2383.54900359 -2383.54900359 -2383.54900359\n",
        " -2383.54900359 -2383.54900359 -2383.54900359 -2383.54900359 -2383.54900359\n",
        " -2383.54900359 -2383.54900359 -2383.54900359 -2383.54900359 -2383.54900359\n",
        " -2383.54900359 -2383.54900359 -2383.54900359 -2383.54900359 -2383.54900359\n",
        " -2383.54900359 -2383.54900359 -2383.54900359 -2383.54900359 -2383.54900359\n",
        " -2383.54900359 -2383.54900359 -2383.54900359 -2383.54900359 -2383.54900359\n",
        " -2383.54900359]\n",
        "[ 0  1  2  3  4  5  6  7  8  9 10 11 12 13 14 15 16 17 18 19 20 21 22 23 24\n",
        " 25 26 27 28 29 30 31 32 33 34 35]\n"
       ]
      }
     ],
     "prompt_number": 127
    },
    {
     "cell_type": "code",
     "collapsed": false,
     "input": [],
     "language": "python",
     "metadata": {},
     "outputs": [],
     "prompt_number": 58
    },
    {
     "cell_type": "code",
     "collapsed": false,
     "input": [],
     "language": "python",
     "metadata": {},
     "outputs": []
    }
   ],
   "metadata": {}
  }
 ]
}