{
 "metadata": {
  "name": ""
 },
 "nbformat": 3,
 "nbformat_minor": 0,
 "worksheets": [
  {
   "cells": [
    {
     "cell_type": "code",
     "collapsed": false,
     "input": [
      "#\n",
      "# this should work from home - there are problems with the USRA wireless network which causes xpa not to be able to communicate\n",
      "# with the ds9 window\n",
      "# \n",
      "\n",
      "from ds9 import *\n",
      "d=ds9()"
     ],
     "language": "python",
     "metadata": {},
     "outputs": [],
     "prompt_number": 32
    },
    {
     "cell_type": "code",
     "collapsed": false,
     "input": [
      "fdir=\"/Users/corcoran/research/Delta_Ori/VLP/Data/ao14/work/fluximage_out\"\n",
      "im=!ls /Users/corcoran/research/Delta_Ori/VLP/Data/ao14/work/fluximage_out/*/broad_flux.img\n",
      "d.set(\"tile\")\n",
      "for image in im:\n",
      "    d.set(\"file \"+image)\n",
      "    d.set(\"frame new\")\n",
      "d.set(\"cmap load \"+fdir+\"/vlp.sao\")\n",
      "d.set(\"cmap match\")\n",
      "d.set(\"smooth\")\n",
      "d.set(\"smooth match\")\n",
      "d.set(\"zoom 2\")\n",
      "#d.set(\"frame new\")\n"
     ],
     "language": "python",
     "metadata": {},
     "outputs": [
      {
       "metadata": {},
       "output_type": "pyout",
       "prompt_number": 33,
       "text": [
        "1"
       ]
      }
     ],
     "prompt_number": 33
    },
    {
     "cell_type": "code",
     "collapsed": false,
     "input": [
      "d.set(\"dsssao {Delta Ori A} size 1 1 degree\")\n",
      "d.set(\"frame first\")\n",
      "d.set(\"frame match wcs\")"
     ],
     "language": "python",
     "metadata": {},
     "outputs": [
      {
       "metadata": {},
       "output_type": "pyout",
       "prompt_number": 36,
       "text": [
        "1"
       ]
      }
     ],
     "prompt_number": 36
    },
    {
     "cell_type": "code",
     "collapsed": false,
     "input": [
      "d.set(\"smooth match\")"
     ],
     "language": "python",
     "metadata": {},
     "outputs": [
      {
       "metadata": {},
       "output_type": "pyout",
       "prompt_number": 53,
       "text": [
        "1"
       ]
      }
     ],
     "prompt_number": 53
    },
    {
     "cell_type": "code",
     "collapsed": false,
     "input": [
      "d.set(\"cmap match\")"
     ],
     "language": "python",
     "metadata": {},
     "outputs": [
      {
       "metadata": {},
       "output_type": "pyout",
       "prompt_number": 54,
       "text": [
        "1"
       ]
      }
     ],
     "prompt_number": 54
    },
    {
     "cell_type": "code",
     "collapsed": false,
     "input": [
      "d.set(\"frame match wcs\")"
     ],
     "language": "python",
     "metadata": {},
     "outputs": [
      {
       "metadata": {},
       "output_type": "pyout",
       "prompt_number": 57,
       "text": [
        "1"
       ]
      }
     ],
     "prompt_number": 57
    },
    {
     "cell_type": "code",
     "collapsed": false,
     "input": [
      "d.set(\"2mass {Delta Ori A}\")"
     ],
     "language": "python",
     "metadata": {},
     "outputs": [
      {
       "metadata": {},
       "output_type": "pyout",
       "prompt_number": 63,
       "text": [
        "1"
       ]
      }
     ],
     "prompt_number": 63
    }
   ],
   "metadata": {}
  }
 ]
}