{
 "metadata": {
  "name": "",
  "signature": "sha256:29b83e385dba3c0df99e7431367c2e91c7953000eb3dd9470d5ffaaded3e2bfa"
 },
 "nbformat": 3,
 "nbformat_minor": 0,
 "worksheets": [
  {
   "cells": [
    {
     "cell_type": "code",
     "collapsed": false,
     "input": [
      "import ecswift\n",
      "import os\n"
     ],
     "language": "python",
     "metadata": {},
     "outputs": [],
     "prompt_number": 9
    },
    {
     "cell_type": "code",
     "collapsed": false,
     "input": [
      "workdir='/Users/corcoran/research/ETA_CAR/Swift/2014/work/'\n",
      "os.chdir(workdir)\n",
      "rmfdir=\"/caldb/data/swift/xrt/cpf/rmf\"\n",
      "emin=2.0\n",
      "emax=2.0\n",
      "obsids=!ls -d 000*\n",
      "\n"
     ],
     "language": "python",
     "metadata": {},
     "outputs": [],
     "prompt_number": 23
    },
    {
     "cell_type": "code",
     "collapsed": false,
     "input": [
      "obsinfo, xcm = ecswift.fit_ecsrcbin10(obsids[0], WorkDir=workdir, emin=emin, emax=emax, rmfdir=rmfdir, chatter=0)\n"
     ],
     "language": "python",
     "metadata": {},
     "outputs": [
      {
       "output_type": "stream",
       "stream": "stdout",
       "text": [
        "\n",
        "\n"
       ]
      },
      {
       "ename": "Exception",
       "evalue": "Error executing command: error",
       "output_type": "pyerr",
       "traceback": [
        "\u001b[0;31m---------------------------------------------------------------------------\u001b[0m\n\u001b[0;31mException\u001b[0m                                 Traceback (most recent call last)",
        "\u001b[0;32m<ipython-input-24-c61745c2193f>\u001b[0m in \u001b[0;36m<module>\u001b[0;34m()\u001b[0m\n\u001b[0;32m----> 1\u001b[0;31m \u001b[0mobsinfo\u001b[0m\u001b[0;34m,\u001b[0m \u001b[0mxcm\u001b[0m \u001b[0;34m=\u001b[0m \u001b[0mecswift\u001b[0m\u001b[0;34m.\u001b[0m\u001b[0mfit_ecsrcbin10\u001b[0m\u001b[0;34m(\u001b[0m\u001b[0mobsids\u001b[0m\u001b[0;34m[\u001b[0m\u001b[0;36m0\u001b[0m\u001b[0;34m]\u001b[0m\u001b[0;34m,\u001b[0m \u001b[0mWorkDir\u001b[0m\u001b[0;34m=\u001b[0m\u001b[0mworkdir\u001b[0m\u001b[0;34m,\u001b[0m \u001b[0memin\u001b[0m\u001b[0;34m=\u001b[0m\u001b[0memin\u001b[0m\u001b[0;34m,\u001b[0m \u001b[0memax\u001b[0m\u001b[0;34m=\u001b[0m\u001b[0memax\u001b[0m\u001b[0;34m,\u001b[0m \u001b[0mrmfdir\u001b[0m\u001b[0;34m=\u001b[0m\u001b[0mrmfdir\u001b[0m\u001b[0;34m,\u001b[0m \u001b[0mchatter\u001b[0m\u001b[0;34m=\u001b[0m\u001b[0;36m0\u001b[0m\u001b[0;34m)\u001b[0m\u001b[0;34m\u001b[0m\u001b[0m\n\u001b[0m",
        "\u001b[0;32m/Users/corcoran/Dropbox/Python/python_modules/ecswift/fit_ecsrcbin10.pyc\u001b[0m in \u001b[0;36mfit_ecsrcbin10\u001b[0;34m(obsid, WorkDir, emin, emax, rmfdir, chatter)\u001b[0m\n\u001b[1;32m     96\u001b[0m     \u001b[0mnorm\u001b[0m\u001b[0;34m=\u001b[0m\u001b[0mm\u001b[0m\u001b[0;34m.\u001b[0m\u001b[0mapec\u001b[0m\u001b[0;34m.\u001b[0m\u001b[0mnorm\u001b[0m\u001b[0;34m.\u001b[0m\u001b[0mvalues\u001b[0m\u001b[0;34m[\u001b[0m\u001b[0;36m0\u001b[0m\u001b[0;34m]\u001b[0m\u001b[0;34m\u001b[0m\u001b[0m\n\u001b[1;32m     97\u001b[0m     \u001b[0mnh3\u001b[0m\u001b[0;34m=\u001b[0m\u001b[0mm\u001b[0m\u001b[0;34m.\u001b[0m\u001b[0mwabs_3\u001b[0m\u001b[0;34m.\u001b[0m\u001b[0mnH\u001b[0m\u001b[0;34m.\u001b[0m\u001b[0mvalues\u001b[0m\u001b[0;34m[\u001b[0m\u001b[0;36m0\u001b[0m\u001b[0;34m]\u001b[0m\u001b[0;34m\u001b[0m\u001b[0m\n\u001b[0;32m---> 98\u001b[0;31m     \u001b[0mxspec\u001b[0m\u001b[0;34m.\u001b[0m\u001b[0mFit\u001b[0m\u001b[0;34m.\u001b[0m\u001b[0merror\u001b[0m\u001b[0;34m(\u001b[0m\u001b[0;34m\"2.706 6\"\u001b[0m\u001b[0;34m)\u001b[0m  \u001b[0;31m# param 6 is nh3\u001b[0m\u001b[0;34m\u001b[0m\u001b[0m\n\u001b[0m\u001b[1;32m     99\u001b[0m     \u001b[0mp6\u001b[0m \u001b[0;34m=\u001b[0m \u001b[0mxspec\u001b[0m\u001b[0;34m.\u001b[0m\u001b[0mAllModels\u001b[0m\u001b[0;34m(\u001b[0m\u001b[0;36m1\u001b[0m\u001b[0;34m)\u001b[0m\u001b[0;34m(\u001b[0m\u001b[0;36m6\u001b[0m\u001b[0;34m)\u001b[0m\u001b[0;34m\u001b[0m\u001b[0m\n\u001b[1;32m    100\u001b[0m     \u001b[0mnhmin\u001b[0m\u001b[0;34m=\u001b[0m\u001b[0mp6\u001b[0m\u001b[0;34m.\u001b[0m\u001b[0merror\u001b[0m\u001b[0;34m[\u001b[0m\u001b[0;36m0\u001b[0m\u001b[0;34m]\u001b[0m\u001b[0;34m\u001b[0m\u001b[0m\n",
        "\u001b[0;32m/software/heasoft/headas/setup/lib/python/xspec/fit.pyc\u001b[0m in \u001b[0;36merror\u001b[0;34m(self, argString)\u001b[0m\n\u001b[1;32m    322\u001b[0m             \u001b[0merrorArgs\u001b[0m \u001b[0;34m=\u001b[0m \u001b[0;34m[\u001b[0m\u001b[0;34m\"error\"\u001b[0m\u001b[0;34m]\u001b[0m\u001b[0;34m\u001b[0m\u001b[0m\n\u001b[1;32m    323\u001b[0m             \u001b[0merrorArgs\u001b[0m \u001b[0;34m+=\u001b[0m \u001b[0margString\u001b[0m\u001b[0;34m.\u001b[0m\u001b[0msplit\u001b[0m\u001b[0;34m(\u001b[0m\u001b[0;34m)\u001b[0m\u001b[0;34m\u001b[0m\u001b[0m\n\u001b[0;32m--> 324\u001b[0;31m             \u001b[0m_pyXspec\u001b[0m\u001b[0;34m.\u001b[0m\u001b[0mdoXspecCmd\u001b[0m\u001b[0;34m(\u001b[0m\u001b[0merrorArgs\u001b[0m\u001b[0;34m)\u001b[0m\u001b[0;34m\u001b[0m\u001b[0m\n\u001b[0m\u001b[1;32m    325\u001b[0m         \u001b[0;32melse\u001b[0m\u001b[0;34m:\u001b[0m\u001b[0;34m\u001b[0m\u001b[0m\n\u001b[1;32m    326\u001b[0m             \u001b[0;32mraise\u001b[0m \u001b[0mException\u001b[0m\u001b[0;34m,\u001b[0m \u001b[0;34m\"Error: error function argument must be a string\"\u001b[0m\u001b[0;34m\u001b[0m\u001b[0m\n",
        "\u001b[0;31mException\u001b[0m: Error executing command: error"
       ]
      }
     ],
     "prompt_number": 24
    },
    {
     "cell_type": "code",
     "collapsed": false,
     "input": [
      "obsids=!ls -d 000*"
     ],
     "language": "python",
     "metadata": {},
     "outputs": [],
     "prompt_number": 14
    },
    {
     "cell_type": "code",
     "collapsed": false,
     "input": [
      "foreach obsid in obsids:\n",
      "    "
     ],
     "language": "python",
     "metadata": {},
     "outputs": [
      {
       "metadata": {},
       "output_type": "pyout",
       "prompt_number": 15,
       "text": [
        "['00031308025',\n",
        " '00031308027',\n",
        " '00031308029',\n",
        " '00031308030',\n",
        " '00031308032',\n",
        " '00031308033',\n",
        " '00031308034',\n",
        " '00031308035',\n",
        " '00031308036',\n",
        " '00031308037',\n",
        " '00031308038',\n",
        " '00031308040',\n",
        " '00031308041',\n",
        " '00031308043a',\n",
        " '00031308043b',\n",
        " '00031308044',\n",
        " '00031308044a',\n",
        " '00031308045',\n",
        " '00031308046',\n",
        " '00080760001',\n",
        " '00080760002',\n",
        " '00080760003',\n",
        " '00091911002',\n",
        " '00091911003',\n",
        " '00091911004',\n",
        " '00091911005',\n",
        " '00091911006',\n",
        " '00091911007',\n",
        " '00091911008',\n",
        " '00091911009',\n",
        " '00091911010',\n",
        " '00091911011',\n",
        " '00091911012',\n",
        " '00091911013',\n",
        " '00091911014',\n",
        " '00091911015',\n",
        " '00091911016',\n",
        " '00091911017',\n",
        " '00091911018',\n",
        " '00091911019',\n",
        " '00091911020',\n",
        " '00091911021',\n",
        " '00091911022',\n",
        " '00091911023',\n",
        " '00091911024',\n",
        " '00091911025',\n",
        " '00091911026',\n",
        " '00091911027',\n",
        " '00091911028',\n",
        " '00091911029',\n",
        " '00091911030',\n",
        " '00091911031',\n",
        " '00091911032',\n",
        " '00091911033',\n",
        " '00091911034',\n",
        " '00091911035',\n",
        " '00091911036',\n",
        " '00091911037',\n",
        " '00091911038',\n",
        " '00091911039',\n",
        " '00091911040',\n",
        " '00091911041',\n",
        " '00091911042',\n",
        " '00091911043',\n",
        " '00091911045',\n",
        " '00091911046',\n",
        " '00091911047',\n",
        " '00091911048',\n",
        " '00091911049',\n",
        " '00091911050']"
       ]
      }
     ],
     "prompt_number": 15
    },
    {
     "cell_type": "code",
     "collapsed": false,
     "input": [],
     "language": "python",
     "metadata": {},
     "outputs": []
    }
   ],
   "metadata": {}
  }
 ]
}