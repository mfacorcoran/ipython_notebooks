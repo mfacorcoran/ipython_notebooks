{
 "metadata": {
  "name": ""
 },
 "nbformat": 3,
 "nbformat_minor": 0,
 "worksheets": [
  {
   "cells": [
    {
     "cell_type": "code",
     "collapsed": false,
     "input": [
      "2013-1996"
     ],
     "language": "python",
     "metadata": {},
     "outputs": [
      {
       "metadata": {},
       "output_type": "pyout",
       "prompt_number": 17,
       "text": [
        "17"
       ]
      }
     ],
     "prompt_number": 17
    },
    {
     "cell_type": "markdown",
     "metadata": {},
     "source": [
      "% this is a example of using ipynb2article.py to generate a laTeX file"
     ]
    },
    {
     "cell_type": "code",
     "collapsed": false,
     "input": [
      "def fig_template(figure, width=\"2in\", label=\"fig:example\", caption=\"example caption\"):\n",
      "    \"\"\"\n",
      "    figure = name of the input figure file\n",
      "    \"\"\"\n",
      "    print \"\\\\begin{figure}[htbp] %  figure placement: here, top, bottom, or page\"\n",
      "    print \"\\centering\"\n",
      "    print \"\\includegraphics[width=\"+width+\"]{\"+figure+\"}\" \n",
      "    print \"\\caption{\"+caption+\"}\"\n",
      "    print \"\\label{\"+label+\"}\"\n",
      "    print \"\\end{figure}\""
     ],
     "language": "python",
     "metadata": {},
     "outputs": [],
     "prompt_number": 18
    },
    {
     "cell_type": "raw",
     "metadata": {},
     "source": [
      "\\documentclass[11pt]{article}            % for single column format \n",
      "%\\documentclass[11pt,twocolumn]{article} % for two column format\n",
      "%\n",
      "%\n",
      "\n",
      "\\usepackage{psfig,xspace}\n",
      "\\usepackage{amssymb}\n",
      "\\usepackage{color}\n",
      "\\usepackage{html}\n",
      "\\usepackage{graphicx}\n",
      "\\usepackage{amssymb}\n",
      "\\usepackage{epstopdf}\n",
      "\\DeclareGraphicsRule{.tif}{png}{.png}{`convert #1 `dirname #1`/`basename #1 .tif`.png}\n",
      "\n",
      "\n",
      "% DO NOT CHANGE ANYTHING IN THE FOLLOWING 6 LINES! (but see warning 1.)\n",
      "\\textheight=247mm\n",
      "\\textwidth=180mm\n",
      "%\\topmargin=-7mm\n",
      "\\topmargin=-30mm\n",
      "\\oddsidemargin=-10mm\n",
      "\\evensidemargin=-10mm\n",
      "\\parindent 10pt\n",
      "\n",
      "\\newcounter{rxpage}\n",
      "\\newcounter{subpage}\n",
      "\n",
      "\\newcommand{\\etacar}{$\\eta$~Car}\n",
      "%\\newcommand{\\swift}{\\textit{Swift}}\n",
      "\\newcommand{\\myemail}{michael.f.corcoran@nasa.gov}\n",
      "\\newcommand{\\axaf}{{\\it CHANDRA}}\n",
      "\\newcommand{\\chandra}{{\\it CHANDRA}}\n",
      "\\newcommand{\\rxte}{{\\it RXTE}}\n",
      "\\newcommand{\\asca}{{\\it ASCA}}\n",
      "\\newcommand{\\rosat}{{\\it ROSAT}}\n",
      "\\newcommand{\\einstein}{{\\it EINSTEIN}}\n",
      "\\newcommand{\\ginga}{{\\it GINGA}}\n",
      "\\newcommand{\\bbxrt}{{\\it BBXRT}}\n",
      "\\newcommand{\\suzaku}{{\\it Suzaku}}\n",
      "\\newcommand{\\xmm}{{\\it XMM}}\n",
      "\\newcommand{\\sax}{{\\it BeppoSAX}}\n",
      "\\newcommand{\\ec}{$\\eta$~Car}\n",
      "\\newcommand{\\glast}{{\\it GLAST}}\n",
      "\\newcommand{\\fermi}{{\\it Fermi}}\n",
      "\\newcommand{\\agile}{{\\it AGILE}}\n",
      "\\newcommand{\\swift}{{\\it Swift}}\n",
      "\\newcommand{\\nustar}{{\\it NuSTAR}}\n",
      "\\newcommand{\\integral}{\\textit{INTEGRAL}}\n",
      "\\newcommand{\\ms}{$M_{\\odot}$}\n",
      "\\newcommand{\\ls}{$L_{\\odot}$}\n",
      "\\newcommand{\\kms}{km~s$^{-1}$}\n",
      "\\newcommand{\\fluxcgs}{ergs~s$^{-1}$~cm^${-2}$}\n",
      "\\newcommand{\\vdag}{(v)^\\dagger}\n",
      "\\newcommand{\\hst}{{\\it HST}}\n",
      "\n",
      "\\newcommand{\\NH}{$N_{H}$}\n",
      "\n",
      "%\n",
      "\\begin{document}\n",
      "%\n",
      "% The following footnote is for information only and should be removed\n",
      "% in the final justification\n",
      "%\\noindent$\\star$\\footnote{\\sl Note: the proposal justification must be \n",
      "%                          submitted in Portable Document Format (PDF). \n",
      "%                          The maximum length of a justification \n",
      "%                          (everything included) is 4 pages \n",
      "%                          (5 pages in case of `Large Programs' only)!}\n",
      "%\n",
      "%---- ENTRY 1 ----------------------------------------------------------\n",
      "%\n",
      "% Type below, within the curly braces{}, the title of your proposal\n",
      "%\n",
      "\n",
      "\\centerline{\\large{\\bf{X-RAY MONITORING of \\ec\\ DURING ITS 2014 PERIASTRON PASSAGE:}}} \n",
      "\n",
      "\\centerline{\\large{\\bf{TESTING VARIABLE MASS-LOSS MODELS}}} \n",
      "\\medskip\n",
      "%---- ENTRY 2 ----------------------------------------------------------\n",
      "% \n",
      "% Type below the Principal Investigator (PI) initial(s) and family name \n",
      "\\centerline{\\bf PI: \n",
      "{M. F. Corcoran}}\n",
      " \n",
      "\\bigskip\n",
      "%---- ENTRY 3 ----------------------------------------------------------\n",
      "%\n",
      "% Type below a concise abstract of your proposal.\n",
      "% It is suggested to use the same text as entered in the XMM-Newton \n",
      "% Remote Proposal System. \n",
      "\\noindent {\\bf 1. Overview}\n",
      "\\smallskip\n",
      "\n",
      "Eta Car is the nearest supermassive star, a notoriously eruptive variable and arguably the progenitor of the next Galactic SN.  Its periodic 2024-day X-ray emission identifies the star as a massive, long-period, extremely eccentric ($e\\sim0.9$) colliding wind binary in which variable $2-10$ keV X-ray emission is produced by the strong collision of the wind from the companion star (\\ec-B) with that of the Luminous Blue Variable primary (\\ec-A). Detailed monitoring of the variation in the  $2-10$ keV band \n",
      "%has played a key role defining the star as a massive, eccentric colliding wind binary and \n",
      "is the best diagnostic of the strong, variable stellar mass loss which determines the ultimate evolution of the star. Along with strictly cyclical variability, X-ray observations over the last 17 years (3 orbital cycles) have shown surpising variations -- most notably a dramatic shortening of the X-ray ``eclipse'' in 2009 -- which suggest a sudden, large scale change in the mass loss rate or other property of the stellar wind.  We request monitoring observations with the \\swift-XRT to provide critical measurements of the current state of the system up to, through, and after the next X-ray minimum/periastron passage, which occurs in the summer of 2014. \n",
      " \n"
     ]
    },
    {
     "cell_type": "raw",
     "metadata": {},
     "source": [
      "\n",
      "\\smallskip\n",
      "\\noindent {\\bf 2. Introduction and Science Goals}\n",
      "\\smallskip\n",
      "\n",
      "Understanding the evolution of extremely massive stars ($M>60$~\\ms) requires a detailed understanding of the evolving way these stars lose mass and angular momentum.   In  the most massive stars, mass loss is difficult to constrain using free-free radio emission, UV P-Cygni absorption features or other conventional diagnostics due to wind clumping, non-spherical mass loss, and eruptions.  For extremely massive stars, short, super-Eddington outbursts (like the ``Great Eruption'' which \\ec\\ suffered in the mid-19th century) may play a dominant role in removing the H-rich envelope.  Such eruptions can eject enormous amounts of mass ($\\gtrsim10$\\ms) into the ISM and rival a supernova in energy. \n",
      "There's recent evidence that eruptive mass loss, perhaps similar to \\ec's ``Great Eruption'', occurs a few years before some fraction of core-collapse SNe; a recent supernova ``imposter'', SN 2009ip, is apparently an example of a star that underwent core collapse just 3 years after its own ``Great Eruption'' in 2009 (Mauerhan et al. 2013).  It is currently unclear whether these eruptive events or  more stable radiatively driven winds determine the final mass of the star.  This leads to substantial uncertainty in understanding how these extremely massive stars evolve from the main sequence to supernovae, neutron star, magnetar, blackhole or GRB-hypernovae.  \n",
      "\n",
      "Eta Car is the nearest, best example we have of a supermassive star ($M_{initial}>100M_{\\odot}$, Hillier et al. 2001), \n",
      "one which suffered a violent ejection of $>10M_{\\odot}$ (whose remnants are still visible as the bipolar Homunculus nebula which surrounds and obscures the star) and which is still losing mass at a prodigious rate ($\\dot{M}\\approx10^{-3}M_\\odot$~yr$^{-1}$). Eta Car presents the unique opportunity to study, in near real-time, the evolution of mass loss in a supermassive star.  Shrouded as it is by the thick Homunculus nebula, direct studies of the star are unfortunately difficult and for more than 100 years the nature of the star (and, in fact, whether the star itself still existed) was a matter of debate. \n",
      "\n",
      "Important progress in understanding \\ec\\ came about in the 1990's with the discovery of a strict 2024-day periodicity at nearly all wavebands (see Damineli et al. 2008 and references therein), including the X-ray band.  The X-ray variability, impressively defined by detailed monitoring over 3 cycles (16 years) with \\rxte, and focussed observations by \\rosat, \\chandra, \\xmm, and \\swift, are the most direct indication that the star is a massive, long-period, extremely eccentric ($e\\sim0.9$) binary system in which the superluminous, massive LBV primary (\\ec-A) is orbited by a bright, massive (but not otherwise directly seen) O-type star, \\ec-B. Eta Car's variable $2-10$ keV X-ray emission is produced by the strong collision of the thin, fast wind from \\ec-B\\  and the massive, slow wind of \\ec-A. The phase-locked X-ray variability provides our most direct constraints on the orbital parameters (and hence as direct a measure of the the mass ratio as we can get), the momentum ratio of the two winds, and on the shape of the wind-wind ``bow shock''. The size and shape of the ``bow shock'' is critical information, because this bow shock produces a cavity in the LBV wind which in turn allows ionizing radiation to escape and illuminate the circumstellar nebulosity like a lighthouse beacon.  This produces optical and UV line variations, correlated with the X-ray lightcurve (but time-delayed) which are used to reconstruct the history of the mass loss process and the 3-D orientation of the system (Teodoro et al. 2013, Madura et al. 2012, 2013).\n",
      "\n",
      "%Studies of the Eta Car binary system allow us to address the following outstanding issues in stellar astrophysics in the upper HRD: what drives the large outbursts?  Do such outbursts dominate the mass loss from the star over the star's evolution?  what evolutionary role does binarity play?  How do strong gravitational and radiative interactions at periastron drive changes in the system? \n",
      "\n",
      "%X-ray observations play a key role in answering these question because\n",
      "%changes in the 2--10 keV X-ray spectrum provide the most easily understandable diagnostics of the wind-driven mass loss for both the LBV primary and the (otherwise unseen) companion star.  Detailed monitoring of the variable X-ray spectrum with \\rxte, along with snapshot observations by \\rosat, \\chandra, \\xmm, and \\swift, have helped constrain the shape of the wind-wind ``bow shock'' and the ratio of the wind momentum flux. This is critical information since this bow shock produces a cavity in the LBV wind which in turn alters the photoionization of the circumstellar nebula and which produces variations correlated with the X-ray lightcurve in nearly all other energy bands.  \n",
      "\n",
      "But the variations are not completely phase-locked and important changes from cycle-to-cycle have been seen. Most notably, the X-ray minimum in 2009 was about 1 month shorter than the other two minima observed with \\rxte\\ (in 2003 and 1998, see Figs. \\ref{fig:lc} \\& \\ref{fig:ao10_interval}, Pian et al. 2009, Corcoran et al. 2010). These non-phase-locked variations are probably related to variations in the mass loss rate of \\ec-A, and most likely signal an important, though not yet fully understood, ongoing change in the LBV primary. \n"
     ]
    },
    {
     "cell_type": "code",
     "collapsed": false,
     "input": [
      "# cycle 10 starts on apr 1 2014 and ends mar 31 apr 15\n",
      "# times = ['1999-01-01 00:00:00.123456789', '2010-01-01 00:00:00']\n",
      "from astropy.time import Time\n",
      "obstime=['2014-04-01 00:00:00', '2015-03-31 00:00:00']\n",
      "t = Time(obstime, format='iso', scale='utc')"
     ],
     "language": "python",
     "metadata": {},
     "outputs": [],
     "prompt_number": 19
    },
    {
     "cell_type": "code",
     "collapsed": false,
     "input": [
      "epoch = 2448776.0\n",
      "period=2023\n",
      "\n",
      "phi_start=(t.jd[0]-epoch)/period\n",
      "phi_end=(t.jd[1]-epoch)/period\n",
      "print \"Start of Cycle 10 JD = %0.1f (phase=%0.3f)\" % (t.jd[0], phi_start)\n",
      "print \"  End of Cycle 10 JD = %0.1f (phase=%0.3f)\" % (t.jd[1], phi_end)\n",
      "\n"
     ],
     "language": "python",
     "metadata": {},
     "outputs": [
      {
       "output_type": "stream",
       "stream": "stdout",
       "text": [
        "Start of Cycle 10 JD = 2456748.5 (phase=3.941)\n",
        "  End of Cycle 10 JD = 2457112.5 (phase=4.121)\n"
       ]
      }
     ],
     "prompt_number": 20
    },
    {
     "cell_type": "code",
     "collapsed": false,
     "input": [
      "xray_min=4*period+epoch\n",
      "min_date=Time(xray_min,format=\"jd\", scale=\"utc\")\n",
      "print \"\"\n",
      "print \"X-ray minimum occurs on: \"+min_date.iso\n",
      "print \"\""
     ],
     "language": "python",
     "metadata": {},
     "outputs": [
      {
       "output_type": "stream",
       "stream": "stdout",
       "text": [
        "\n",
        "X-ray minimum occurs on: 2014-07-29 12:00:00.000\n",
        "\n"
       ]
      }
     ],
     "prompt_number": 21
    },
    {
     "cell_type": "code",
     "collapsed": false,
     "input": [
      "\n",
      "fig_template(\"figures/mnet2vsjd2_fancy_swift.pdf\", width=\"5.5in\", caption=\"Example\")"
     ],
     "language": "python",
     "metadata": {},
     "outputs": [
      {
       "output_type": "stream",
       "stream": "stdout",
       "text": [
        "\\begin{figure}[htbp] %  figure placement: here, top, bottom, or page\n",
        "\\centering\n",
        "\\includegraphics[width=5.5in]{figures/mnet2vsjd2_fancy_swift.pdf}\n",
        "\\caption{Example}\n",
        "\\label{fig:example}\n",
        "\\end{figure}\n"
       ]
      }
     ],
     "prompt_number": 22
    },
    {
     "cell_type": "raw",
     "metadata": {},
     "source": [
      "\n",
      "\\begin{figure}[htbp] %  figure placement: here, top, bottom, or page\n",
      "\\centering\n",
      "\\includegraphics[width=6.5in]{figures/mnet2vsjd2_fancy_swift_cycle10.pdf}\n",
      "\\caption{\\footnotesize{RXTE +  Swift 2--10 keV lightcurve of Eta Car, 1996--2013.  Cycle 10 runs from X-ray cycle phase $\\phi=3.94$ to $\\phi=4.12$ as shown by the dashed vertical lines.  This interval includes the key diagnostic times of strong X-ray flaring (probably related to large-scale inhomogeneities - clumps - in the wind of Eta Car A), the start and end of the ``deep X-ray minimum'' (near the time of periastron passage, when the companion is speeding around the back side of Eta Car A), the start and end of the shallow X-ray minimum (associated with a change in the stability of the shock), and the recovery phase where the X-ray bow shock ``breaks free'' of the wind of the LBV primary. The line in gray is the \\rxte\\ lightcurve projected forward by 2024 days.}}\n",
      "\\label{fig:lc}\n",
      "\\end{figure}\n"
     ]
    },
    {
     "cell_type": "raw",
     "metadata": {},
     "source": [
      "\\smallskip\n",
      "\\noindent {\\bf 3. The Need for \\swift}\n",
      "\\smallskip\n",
      "\n",
      "Monitoring of the X-ray spectrum up to, during and through the next X-ray minimum/periastron passage in 2014 is crucial for comparison with earlier observations and to constrain what changed in the system. Since the spectrum varies on day-week timescales, X-ray monitoring of the system on these timescales is the only way to fully measure the state of the wind-wind shock during this critical time. This monitoring can only be done with the \\swift-XRT. We propose here to monitor the X-ray spectrum of \\ec\\ with the \\swift-XRT through Cycle 10, which encompasses all the important phases of the next X-ray minimum/periastron passage (Fig \\ref{fig:ao10_interval}): the X-ray brightening/flaring phase at the start of cycle 10, the start of the ``deep minimum'' and ``deep'' to ``shallow'' minimum transition (Hamaguchi 2007, 2013), the X-ray recovery, and the ``breakout'' when the shock breaks free of the LBV wind. Monitoring the X-ray spectrum with \\swift\\ is the only way to determine the timings of these events, and to correlate these events with approved ground- and space-based photometry and spectroscopy observing campaigns which are ongoing, and to measure the current state of the systemic mass loss.   \n",
      "\n",
      "%During Cycle 10 the X-ray spectrum will brighten and harden as the stars approach periastron, then fade due to a combination of wind occultation and rapid cooling in the radiatively unstable wind-wind bow shock; as the two stars separate the bow shock is re-established and emerges from the thick stellar wind of \\ec-A and the X-rays brighten as the minimum state ends, and the circumstellar material is flooded by UV photons from the hot companion star.  \n",
      "\n",
      "There are four key observational questions which can only be addressed through \\swift\\ monitoring: 1) Is the 2014 X-ray minimum shorter or longer than the 2009 minimum? 2) Is the correlation between X-ray and He II 4686 emission seen in 2009 (Teodoro et al. 2012) confirmed in 2014? 3) Is there a change in the X-ray flare frequency in 2014 compared to previous cycles? 4) Does the overall brightness of the X-ray emission continue to decline after periastron passage? X-ray monitoring observations by \\swift, compared to the monitoring observations by \\rxte\\ and simultaneous/contemporaneous observations in other wavebands, will directly answer all these questions.\n",
      "\n",
      "The flexible scheduling capability of \\swift, along with \\swift's sensitivity in the $2-10$ keV band, make it the only instrument able to monitor the X-ray spectrum on relevant (day-week) timescales.  This is critical for interpreting approved, coordinated ground and HST/space based observations, and to monitor what are possibly large-scale changes in the system wind.  \n",
      "\n",
      "%One of the primary goals of these X-ray observations of \\ec\\ is to monitor, on a physically-significant timescale, the response of the shocked X-ray emitting gas in the wind-wind collision region as the stars move in orbit for comparison with  previous orbital cycles. This monitoring is especially crucial near X-ray minimum (which starts about 1 month before periastron passage), when the geometry and thermodynamic state of the shocked gas undergoes extreme changes on short (days-weeks) timescales as the X-ray emitting gas is buried near the dense inner wind of \\ec-A.  Continued X-ray monitoring is especially important for the upcoming X-ray minimum given the surprisingly abrupt recovery from the X-ray minimum observed in the 2009 periastron passage.  Column densities, temperatures and emission measures directly obtainable from the XRT X-ray spectrA are key indicators of the physical changes in mass loss.  This spectral information also serves as the key input to sophisticated 3-D hydro models which have been developed over the past few years (Okazaki et al. 2008; Parkin et al. 2011; Russell 2013).  \n",
      "\n",
      "%\\swift\\ is the only remaining X-ray observatory which can flexibly schedule observations of \\ec\\ at any time, and the XRT provides sufficient sensitivity to derive the X-ray spectral parameters in a modest amount of time.  \n"
     ]
    },
    {
     "cell_type": "raw",
     "metadata": {},
     "source": [
      "\\smallskip\n",
      "\\noindent {\\bf 4. Proposed \\swift\\ Observations \\\\}\n",
      "\\smallskip\n",
      "\\noindent {\\sl a) XRT:}\n",
      "\\smallskip\n",
      "\n",
      "The \\swift-XRT is the prime instrument for this investigation.  Our propsed XRT monitoring observations provide direct comparison to  previous \\rxte\\ and \\swift\\ X-ray spectra to determine the level and nature of cycle-to-cycle changes through the next periastron, and to put other observations in the X-ray band (approved Chandra observations, and to-be-proposed \\xmm\\ observations) in context. \n",
      "\n",
      "We request 1.5 ksec monitoring observations with the XRT  through cycle 10, sufficient to adequately measure the X-ray spectrum during the bright phases and to measure the X-ray flux during the X-ray minimum. We have based the requested exposures on our previous \\swift\\ XRT observations.   In order to balance sufficient sampling with a minimum of observing time and impact on satellite scheduling, we request 2 observations per week through cycle 10 for a total of 104 observations, and a total exposure time of 156 ksec.  Nominally consecutive observations should be separated by 2-4 days, but the exact separation is not critical.  \n",
      "\n",
      "%Fundamental questions these observations will answer is whether the duration of the X-ray minimum has changed further, whether the \"X-ray flares\" prior to the X-ray minimum indicate a change in the clumping fraction of the primary wind (Moffat\\& Corcoran 2009), test whether the X-ray flaring is correlated with He II 4686 emission (Teodoro et al. 2012), and to see if the overall state of the X-ray emission continues to decline after periastron passage.   These observations also serve as input to evolving numerical 3-D models usedto determine influence of the UV and X-ray emission on the circumstellar nebulosity, which provides the best constraints on the system geometry (Madura et al. 2011).\n",
      "\n",
      "%\\ec\\ is  observable by \\swift\\ throughout cycle 10.   Our previous \\swift\\ XRT observations of \\ec\\ show that the X-ray can be detected sufficiently in an observation of $1.5$~ksec. During cycle 9, \\ec's flux will be increasing dramatically as the stars approach periastron. Given the expected level of variability, we request weekly monitoring of \\ec\\ by the XRT . "
     ]
    },
    {
     "cell_type": "code",
     "collapsed": false,
     "input": [
      "# total time requested: let's say 2 ksec per observation outside of the minimum \n",
      "# 1st interval - phase 0.95-0.99, weekly observations\n",
      "numobs1=ceil((0.99-0.95)*2024/7)\n",
      "tot_time1=numobs1*2\n",
      "\n",
      "jd1=[3.95*2024+epoch, 3.99*2024+epoch]\n",
      "t1 = Time(jd1, format='jd', scale='utc')\n",
      "\n",
      "print \"Number of Observations, Interval 1 = %i, Total Time requested = %i\" % (numobs1, tot_time1)\n",
      "print \"JD start for interval 1 = %f (UTC=%s)\"% (jd1[0], t1.iso[0])                                          \n",
      "print \"  JD End for interval 1 = %f (UTC=%s)\" % (jd1[1], t1.iso[1])\n",
      "print\"\"\n",
      "\n",
      "# 2nd interval: deep minimum- shallow transition, 1 observation every other day\n",
      "numobs2=ceil((1.04-0.99)*2024/2)\n",
      "tot_time2=numobs2*2\n",
      "jd2=[3.99*2024+epoch, 4.04*2024+epoch]\n",
      "t2 = Time(jd2, format='jd', scale='utc')\n",
      "\n",
      "print \"Number of Observations, Interval 2 = %i, Total Time requested = %i\" % (numobs2, tot_time2)\n",
      "print \"JD start for interval 2 = %f (UTC=%s)\" % (jd2[0], t2.iso[0])                                          \n",
      "print \"  JD End for interval 2 = %f (UTC=%s)\" % (jd2[1], t2.iso[1])\n",
      "print\"\"\n",
      "\n",
      "#3rd intervalLshallow through recovery; 1 observation per week\n",
      "numobs3=ceil((1.14-1.04)*2024/7)\n",
      "tot_time3=numobs3*2\n",
      "\n",
      "jd3=[4.04*2024+epoch, 4.115*2024+epoch]\n",
      "t3 = Time(jd3, format='jd', scale='utc')\n",
      "\n",
      "print \"Number of Observations, Interval 3 = %i, Total Time requested = %i\" % (numobs3, tot_time3)\n",
      "print \"JD start for interval 3 = %f (UTC=%s)\" % (jd3[0], t3.iso[0])                                          \n",
      "print \"  JD End for interval 3 = %f (UTC=%s)\" % (jd3[1], t3.iso[1])\n",
      "print\"\"\n",
      "\n",
      "\n",
      "total_time=tot_time1+tot_time2+tot_time3\n",
      "numobs=numobs1+numobs2+numobs3\n",
      "\n",
      "print \"Total observations requested = %i; Total Time requested = %i ksec\" %(total_time, numobs)\n",
      "\n",
      "print \" \"\n",
      "print \"Alternative: one observation every third day (i.e. one observation, 2days pass, then the next observation)\"\n",
      "numobs=365/3.0\n",
      "print \"Number of observations = %i; Total exposure = %i \" % (numobs,numobs*1.5 )\n",
      "print \" \"\n",
      "#\n",
      "# note that no more than 500 time-constrained observations will be accepted in cycle 10 acc. to\n",
      "# http://swift.gsfc.nasa.gov/proposals/cy10_faq.html#timeconstrained\n",
      "#\n",
      "\n",
      "numobs=52*2\n",
      "expot=1.5\n",
      "print \" \"\n",
      "print \"Alternative: 2 observations per week, %s ksec each\" % str(expot)\n",
      "print \"Number of observations = %i; Total exposure = %i \" % (numobs,numobs*expot)\n",
      "print \" \"\n",
      "\n",
      "print \"Anticipated funding per award $%i\" % (int(1.2e6/40.0))"
     ],
     "language": "python",
     "metadata": {},
     "outputs": [
      {
       "output_type": "stream",
       "stream": "stdout",
       "text": [
        "Number of Observations, Interval 1 = 12, Total Time requested = 24\n",
        "JD start for interval 1 = 2456770.800000 (UTC=2014-04-23 07:12:00.000)\n",
        "  JD End for interval 1 = 2456851.760000 (UTC=2014-07-13 06:14:24.000)\n",
        "\n",
        "Number of Observations, Interval 2 = 51, Total Time requested = 102\n",
        "JD start for interval 2 = 2456851.760000 (UTC=2014-07-13 06:14:24.000)\n",
        "  JD End for interval 2 = 2456952.960000 (UTC=2014-10-22 11:02:24.000)\n",
        "\n",
        "Number of Observations, Interval 3 = 29, Total Time requested = 58\n",
        "JD start for interval 3 = 2456952.960000 (UTC=2014-10-22 11:02:24.000)\n",
        "  JD End for interval 3 = 2457104.760000 (UTC=2015-03-23 06:14:24.000)\n",
        "\n",
        "Total observations requested = 184; Total Time requested = 92 ksec\n",
        " \n",
        "Alternative: one observation every third day (i.e. one observation, 2days pass, then the next observation)\n",
        "Number of observations = 121; Total exposure = 182 \n",
        " \n",
        " \n",
        "Alternative: 2 observations per week, 1.5 ksec each\n",
        "Number of observations = 104; Total exposure = 156 \n",
        " \n",
        "Anticipated funding per award $30000\n"
       ]
      }
     ],
     "prompt_number": 32
    },
    {
     "cell_type": "raw",
     "metadata": {},
     "source": [
      "\n",
      "\\begin{figure}[htbp] %  figure placement: here, top, bottom, or page\n",
      "\\centering\n",
      "\\includegraphics[width=5.2in]{resources/ao10_figure2.pdf}\n",
      "\\caption{\\footnotesize{The \\ec\\ X-ray lightcurve near periastron, showing all 3 cycles which have currently been observed. The phase interval shown corresponds to the \\swift\\ Cycle 10 observing interval. The inset images are slices in the orbital plane of the density (left) and temperature (right) at the marked phases and are from 3D SPH simulations by T. Madura. Each image covers about $60\\times60$AU, and the brightest colors (red-yellow) correspond to $10^{-14}<\\rho<10^{-12}$~gm~cm$^{-3}$ and $10^{6}<T<10^{8}$~K.   The Cycle 10 interval covers the entire range of strong variations, starting with a rapid, unstable rise in X-ray brightness, then a drop as the stars move through periastron (and the wind-wind bow shock is strongly affected by radiative cooling, absorption and rapid orbital motion), through the change from the ``deep\" to ``shallow'' minimum (which we believe occurs at periastron, near X-ray phase 0.015) and ends with the X-ray emitting shock fully re-established and beyond the strong absorption from the wind of \\ec-A.}}\n",
      "\\label{fig:ao10_interval}\n",
      "\\end{figure}\n"
     ]
    },
    {
     "cell_type": "raw",
     "metadata": {},
     "source": [
      "\\smallskip\n",
      "\\noindent {\\sl b) BAT \\& UVOT:}\n",
      "\\smallskip\n",
      "\n",
      "Unfortunately \\ec\\ is too bright to be observed with UVOT using either the filters or GRISMs.   On the other hand \\ec\\ is in the 58-month BAT catalog (SWIFT J1045.3-5942) as a $5-\\sigma$ source with a flux of \n",
      "$5.9^{+2.0}_{-1.6}\\times10^{-12}$~ergs~s$^{-1}$~cm$^{2}$ in the 14-195 keV band.  Our analysis of the BAT data reveals mild evidence of variation near periastron, mostly consistent with more sensitive measures from the \\suzaku\\ HXD. Hard emission from  \\ec\\ at $E>10$ keV has also been detected by \\sax\\ (Viotti et al., 2004), \\integral\\ (Leyder et al. 2010) and (in the MeV-GeV range) by \\fermi\\ (Abdo et al., 2010).   \n"
     ]
    },
    {
     "cell_type": "raw",
     "metadata": {},
     "source": [
      "\n",
      "\\smallskip\n",
      "\\noindent {\\bf 5. Feasibility and Plan of Analysis}\n",
      "\\smallskip\n",
      "\n",
      "There are no real feasibility issues and the analysis plan is straightforward.  We have been monitoring \\ec\\ with the XRT, as shown in Figure \\ref{fig:lc}, and these observations will continue to the start of \\swift\\ cycle 10 under a Director's Discretionary time award. As shown, the agreement between the \\rxte-PCA and the \\swift-XRT measures where there is overlap is very good, so that the \\swift\\ XRT spectra can be reliably compared to earlier observations with \\rxte.  \n",
      "%\n",
      "%The most recent \\swift-XRT spectra show that the flux is beginning to increase (as expected) as the stars approach periastron, though the current flux is lower than observed by \\rxte\\ in the previous cycle (indicating a possible weakening of either the wind from the secondary or primary star).   \n",
      "%\n",
      "\n",
      "%We have based the requested exposures on our previous \\swift\\ XRT observations.  We request 1.5 ksec monitoring observations with the XRT  through cycle 10, sufficient to adequately measure the X-ray spectrum during the bright phases and to measure the X-ray flux during the X-ray minimum.  In order to balance sufficient sampling with a minimum of observing time and impact on satellite scheduling, we request 2 observations per week through cycle 10.  Nominally the observations should be separated by 2-4 days, but the exact separation is not critical.  \n",
      "\n",
      "%there should be a separation of not less than 2 days between consecutive observations and not more than four days.  Near periastron passage (1 July 2014-1 Sep 2014) we'd request that the separation be 2 days or less.  The total observing time we request is \n",
      "\n",
      "We will analyze the XRT spectra with our standard analysis pipeline. Spectra will be fit using thermal plasma models as we have done in the previous cycles to determine the overall flux levels and variations in spectral parameters. Outside the X-ray minimum we can measure column density, \\NH, temperature and emission measure to about 20\\% and fluxes to about 5\\%.  During the faint interval of the X-ray minimum, the XRT spectra will be sufficient to measure the X-ray flux to determine the time of the start of the deep X-ray minimum, the deep-to-shallow minimum transition, and the end of the shallow minimum to the X-ray recovery. We note that we will obtain high S/N X-ray spectra during the X-ray minimum from our approved \\chandra\\ ACIS program. As an aid to other observers we will update our \\ec\\ X-ray lightcurve page\\footnote{http://asd.gsfc.nasa.gov/Michael.Corcoran/eta\\_car/etacar\\_rxte\\_lightcurve/index.html} as new data are available.\n",
      "\n",
      "The spectral parameters are directly related to the wind-wind collision: temperatures measure changes in \\ec-B's wind speed; emission measures constrain the density of the shocked wind of \\ec-B; and column densities measure the wind density of \\ec-A.  This information is required to constrain numerical models which include time-dependent mass loss (Russell 2013, Madura et al. 2013).  We will also compare the spectra directly to synthetic spectra generated from our 3-D hydrodynamic shock models to constrain the current 3-D shape and temperature structure of the colliding wind shock.  \n"
     ]
    },
    {
     "cell_type": "raw",
     "metadata": {},
     "source": [
      "\\smallskip\n",
      "\\noindent {\\bf 6. Coordinated Observations}\n",
      "%\\noindent {\\sl A) Scientific Rationale:}\n",
      "\\smallskip\n",
      "\n",
      "The 2014 periastron passage will be perhaps the most widely observed astronomical event of 2014. Our group has already been awarded \\chandra\\ ACIS observations of \\ec\\ during the 2014 minimum to monitor spectral changes during the deep and shallow minimum states, and we will propose for \\xmm\\ and \\nustar\\ observations as well. We have an ongoing  spectral mapping program of the inner Homunculus with \\hst/STIS. Additional \\hst/STIS spectra will be obtained by Mehner et al.   These \\hst/STIS observations measure the response of the circumstellar nebula to the rapidly-changing photoionizing flux from the companion star channelled by the outer walls of the distorted wind-wind collision zone.  Ground-based spectrometry of key diagnostic lines (He II 4686, HeI 10830, etc) will be obtained by Co-Is Teodoro, Groh and Damineli.  UBVR photometric monitoring by the La Plata group\\footnote{http://etacar.fcaglp.unlp.edu.ar} and JHK photometry will be obtained %by Whitelock and Ishibashi \n",
      "from South Africa. Our proposed \\swift\\ observations (like the prior \\rxte\\ monitoring) will play a key role in putting all these observations in context, and show how these longer-wavelength changes correlate with the hot shocked gas measured by \\swift\\ in the inner part of the bow shock.\n"
     ]
    },
    {
     "cell_type": "code",
     "collapsed": false,
     "input": [
      "\n",
      "refs=( \\\n",
      "'Abdo, A., et al., 2010, ApJ, 723, 649 '            , \\\n",
      "'Corcoran, M. F., et al., 2010, ApJ, 725, 1528 '    , \\\n",
      "'Damineli, A., et al., 2008, MNRAS, 386, 2330'      , \\\n",
      "'Hamaguchi, K., et al., 2007, ApJ, 663, 522 '       , \\\n",
      "'Hillier, D. J., et al., 2001, ApJ, 553, 83 '       , \\\n",
      "'Leyder, J.-C., et al., 2010, A\\'A, 524, 59 '       , \\\n",
      "'Madura, T., et al., 2010, BSRSL, 80, 694 '         , \\\n",
      "'Madura, T., et al., 2012, MNRAS, 420, 2064M'       , \\\n",
      "'Madura, T., et al., 2013, ApJ, submitted'          , \\\n",
      "'Okazaki, A., et al., 2008, MNRAS 388, L39 '        , \\\n",
      "'Mauerhan, J., et al., 2013, MNRAS, 430 , 1801'     , \\\n",
      "'Moffat, A., \\' Corcoran, M., 2009, ApJ, 707, 693 ' , \\\n",
      "'Pian, E., et al., 2009, arXiv:0908.2819 '          , \\\n",
      "'Pittard, J. \\& Corcoran, M., 2002, A\\&A, 383, 636 ', \\\n",
      "'Pittard, J. 2007, ApJL, 660, 141  '                , \\\n",
      "'Russell, C. M. P., et al., 2010, IAUS, 272, 630 '  , \\\n",
      "'Russell, C. M. P., 2013, PhD. Thesis, U. Delaware' , \\\n",
      "'Teodoro, M., 2013, ApJ, 773L, 16'   )\n",
      "\n",
      "print \"\\\\bigskip\"\n",
      "print \"\\\\begin{tabular}{ll}\"\n",
      "print \"\\\\textbf{References} \\\\\\\\\"\n",
      "for i in range(0,len(refs)-1,2):\n",
      "    print \"%s & %s \\\\\\\\\" % (refs[i],refs[i+1])\n",
      "if (len(refs) % 2):\n",
      "    # add last (odd) reference\n",
      "    print \"%s \\\\\\\\\" % refs[len(refs)-1]\n",
      "print \"\\\\end{tabular}\"\n"
     ],
     "language": "python",
     "metadata": {},
     "outputs": [
      {
       "output_type": "stream",
       "stream": "stdout",
       "text": [
        "\\bigskip\n",
        "\\begin{tabular}{ll}\n",
        "\\textbf{References} \\\\\n",
        "Abdo, A., et al., 2010, ApJ, 723, 649  & Corcoran, M. F., et al., 2010, ApJ, 725, 1528  \\\\\n",
        "Damineli, A., et al., 2008, MNRAS, 386, 2330 & Hamaguchi, K., et al., 2007, ApJ, 663, 522  \\\\\n",
        "Hillier, D. J., et al., 2001, ApJ, 553, 83  & Leyder, J.-C., et al., 2010, A'A, 524, 59  \\\\\n",
        "Madura, T., et al., 2010, BSRSL, 80, 694  & Madura, T., et al., 2012, MNRAS, 420, 2064M \\\\\n",
        "Madura, T., et al., 2013, ApJ, submitted & Okazaki, A., et al., 2008, MNRAS 388, L39  \\\\\n",
        "Mauerhan, J., et al., 2013, MNRAS, 430 , 1801 & Moffat, A., ' Corcoran, M., 2009, ApJ, 707, 693  \\\\\n",
        "Pian, E., et al., 2009, arXiv:0908.2819  & Pittard, J. \\& Corcoran, M., 2002, A\\&A, 383, 636  \\\\\n",
        "Pittard, J. 2007, ApJL, 660, 141   & Russell, C. M. P., et al., 2010, IAUS, 272, 630  \\\\\n",
        "Russell, C. M. P., 2013, PhD. Thesis, U. Delaware & Teodoro, M., 2013, ApJ, 773L, 16 \\\\\n",
        "joe blow \\\\\n",
        "\\end{tabular}\n"
       ]
      }
     ],
     "prompt_number": 59
    },
    {
     "cell_type": "raw",
     "metadata": {},
     "source": [
      "\\bigskip\n",
      "\\begin{tabular}{ll}\n",
      "\\textbf{References} \\\\\n",
      "Abdo, A., et al., 2010, ApJ, 723, 649  & Corcoran, M. F., et al., 2010, ApJ, 725, 1528  \\\\\n",
      "Damineli, A., et al., 2008, MNRAS, 386, 2330 & Hamaguchi, K., et al., 2007, ApJ, 663, 522  \\\\\n",
      "Hillier, D. J., et al., 2001, ApJ, 553, 83  & Leyder, J.-C., et al., 2010, A'A, 524, 59  \\\\\n",
      "Madura, T., et al., 2010, BSRSL, 80, 694  & Madura, T., et al., 2012, MNRAS, 420, 2064M \\\\\n",
      "Madura, T., et al., 2013, ApJ, submitted & Okazaki, A., et al., 2008, MNRAS 388, L39  \\\\\n",
      "Mauerhan, J., et al., 2013, MNRAS, 430 , 1801 & Moffat, A., ' Corcoran, M., 2009, ApJ, 707, 693  \\\\\n",
      "Pian, E., et al., 2009, arXiv:0908.2819  & Pittard, J. \\& Corcoran, M., 2002, A\\&A, 383, 636  \\\\\n",
      "Pittard, J. 2007, ApJL, 660, 141   & Russell, C. M. P., et al., 2010, IAUS, 272, 630  \\\\\n",
      "Russell, C. M. P., 2013, PhD. Thesis, U. Delaware & Teodoro, M., 2013, ApJ, 773L, 16 \\\\\n",
      "\\end{tabular}"
     ]
    },
    {
     "cell_type": "raw",
     "metadata": {},
     "source": [
      "\\clearpage\n",
      "\n",
      "\\smallskip\n",
      "\\noindent {\\bf Budget Narrative}\n",
      "\\smallskip\n",
      "\n",
      "Requested funds of \\$30,000 will be used to support a graduate student, who will participate in the data reduction and analysis, at a level of 0.5 FTE.  This effort includes analyzing the \\swift\\ spectra and comparing these spectra to \\rxte, \\chandra, \\xmm, and \\suzaku\\ spectra, and updating the Eta Car X-ray lightcurve page and other notifications to the team as new data are processed.   We also request publication funds and travel support for one international meeting, and include applicable fringe rates, overheads, fees and GSFC lab tax. "
     ]
    },
    {
     "cell_type": "raw",
     "metadata": {},
     "source": [
      "\\end{document}"
     ]
    },
    {
     "cell_type": "code",
     "collapsed": false,
     "input": [
      "\"\"\"\n",
      "exposure times for 2009\n",
      "\"\"\"\n",
      "import pyfits\n",
      "evtfiles=!ls /Users/corcoran/research/ETA_CAR/Swift/pre_2012_data/work/000*/*wt*cl.evt\n",
      "for evt in evtfiles:\n",
      "    hdulist=pyfits.open(evt)\n",
      "    hdr=hdulist[1].header\n",
      "    print \"Exposure = %f (%s)\" % (hdr['EXPOSURE'], evt)\n",
      "    \n"
     ],
     "language": "python",
     "metadata": {},
     "outputs": [
      {
       "output_type": "stream",
       "stream": "stdout",
       "text": [
        "Exposure = 4118.163589 (/Users/corcoran/research/ETA_CAR/Swift/pre_2012_data/work/00031308002/sw00031308002xwtw2po_cl.evt)\n",
        "Exposure = 3178.068614 (/Users/corcoran/research/ETA_CAR/Swift/pre_2012_data/work/00031308003/sw00031308003xwtw2po_cl.evt)"
       ]
      },
      {
       "output_type": "stream",
       "stream": "stdout",
       "text": [
        "\n",
        "Exposure = 4312.385581 (/Users/corcoran/research/ETA_CAR/Swift/pre_2012_data/work/00031308004/sw00031308004xwtw2po_cl.evt)"
       ]
      },
      {
       "output_type": "stream",
       "stream": "stdout",
       "text": [
        "\n",
        "Exposure = 3625.659102 (/Users/corcoran/research/ETA_CAR/Swift/pre_2012_data/work/00031308005/sw00031308005xwtw2po_cl.evt)"
       ]
      },
      {
       "output_type": "stream",
       "stream": "stdout",
       "text": [
        "\n",
        "Exposure = 3585.154705 (/Users/corcoran/research/ETA_CAR/Swift/pre_2012_data/work/00031308006/sw00031308006xwtw2po_cl.evt)"
       ]
      },
      {
       "output_type": "stream",
       "stream": "stdout",
       "text": [
        "\n",
        "Exposure = 3942.067080 (/Users/corcoran/research/ETA_CAR/Swift/pre_2012_data/work/00031308007/sw00031308007xwtw2po_cl.evt)"
       ]
      },
      {
       "output_type": "stream",
       "stream": "stdout",
       "text": [
        "\n",
        "Exposure = 3941.325418 (/Users/corcoran/research/ETA_CAR/Swift/pre_2012_data/work/00031308008/sw00031308008xwtw2po_cl.evt)"
       ]
      },
      {
       "output_type": "stream",
       "stream": "stdout",
       "text": [
        "\n",
        "Exposure = 10834.408676 (/Users/corcoran/research/ETA_CAR/Swift/pre_2012_data/work/00031308009/sw00031308009xwtw2po_cl.evt)"
       ]
      },
      {
       "output_type": "stream",
       "stream": "stdout",
       "text": [
        "\n",
        "Exposure = 5198.142957 (/Users/corcoran/research/ETA_CAR/Swift/pre_2012_data/work/00031308010/sw00031308010xwtw2po_cl.evt)"
       ]
      },
      {
       "output_type": "stream",
       "stream": "stdout",
       "text": [
        "\n",
        "Exposure = 3861.360341 (/Users/corcoran/research/ETA_CAR/Swift/pre_2012_data/work/00031308011/sw00031308011xwtw2po_cl.evt)\n",
        "Exposure = 3436.466999 (/Users/corcoran/research/ETA_CAR/Swift/pre_2012_data/work/00031308012/sw00031308012xwtw2po_cl.evt)"
       ]
      },
      {
       "output_type": "stream",
       "stream": "stdout",
       "text": [
        "\n",
        "Exposure = 3646.248327 (/Users/corcoran/research/ETA_CAR/Swift/pre_2012_data/work/00031308013/sw00031308013xwtw2po_cl.evt)\n",
        "Exposure = 5285.945530 (/Users/corcoran/research/ETA_CAR/Swift/pre_2012_data/work/00090033002/sw00090033002xwtw2po_cl.evt)"
       ]
      },
      {
       "output_type": "stream",
       "stream": "stdout",
       "text": [
        "\n",
        "Exposure = 13241.704745 (/Users/corcoran/research/ETA_CAR/Swift/pre_2012_data/work/00090033003/sw00090033003xwtw2po_cl.evt)\n",
        "Exposure = 12802.826339 (/Users/corcoran/research/ETA_CAR/Swift/pre_2012_data/work/00090033004/sw00090033004xwtw2po_cl.evt)"
       ]
      },
      {
       "output_type": "stream",
       "stream": "stdout",
       "text": [
        "\n",
        "Exposure = 4006.537351 (/Users/corcoran/research/ETA_CAR/Swift/pre_2012_data/work/00090033005/sw00090033005xwtw2po_cl.evt)\n"
       ]
      }
     ],
     "prompt_number": 25
    },
    {
     "cell_type": "code",
     "collapsed": false,
     "input": [
      "\"\"\"\n",
      "exposure times for 2012\n",
      "\"\"\"\n",
      "import pyfits\n",
      "evtfiles=!ls /Users/corcoran/research/ETA_CAR/Swift/2012/work/000*/*wt*cl.evt\n",
      "expot=[]\n",
      "for evt in evtfiles:\n",
      "    hdulist=pyfits.open(evt)\n",
      "    hdr=hdulist[1].header\n",
      "    print \"Exposure = %f (%s)\" % (hdr['EXPOSURE'], evt)\n",
      "    expot.append(hdr['EXPOSURE'])"
     ],
     "language": "python",
     "metadata": {},
     "outputs": [
      {
       "output_type": "stream",
       "stream": "stdout",
       "text": [
        "Exposure = 1044.211785 (/Users/corcoran/research/ETA_CAR/Swift/2012/work/00031308014/sw00031308014xwtw2po_cl.evt)\n",
        "Exposure = 125.230368 (/Users/corcoran/research/ETA_CAR/Swift/2012/work/00031308014/sw00031308014xwtw2sl_cl.evt)\n",
        "Exposure = 956.095955 (/Users/corcoran/research/ETA_CAR/Swift/2012/work/00031308015/sw00031308015xwtw2po_cl.evt)"
       ]
      },
      {
       "output_type": "stream",
       "stream": "stdout",
       "text": [
        "\n",
        "Exposure = 49.736245 (/Users/corcoran/research/ETA_CAR/Swift/2012/work/00031308015/sw00031308015xwtw2sl_cl.evt)\n",
        "Exposure = 1001.225044 (/Users/corcoran/research/ETA_CAR/Swift/2012/work/00031308016/sw00031308016xwtw2po_cl.evt)"
       ]
      },
      {
       "output_type": "stream",
       "stream": "stdout",
       "text": [
        "\n",
        "Exposure = 66.108903 (/Users/corcoran/research/ETA_CAR/Swift/2012/work/00031308016/sw00031308016xwtw2sl_cl.evt)"
       ]
      },
      {
       "output_type": "stream",
       "stream": "stdout",
       "text": [
        "\n",
        "Exposure = 352.696432 (/Users/corcoran/research/ETA_CAR/Swift/2012/work/00031308017/sw00031308017xwtw2po_cl.evt)\n",
        "Exposure = 145.198091 (/Users/corcoran/research/ETA_CAR/Swift/2012/work/00031308017/sw00031308017xwtw2sl_cl.evt)"
       ]
      },
      {
       "output_type": "stream",
       "stream": "stdout",
       "text": [
        "\n",
        "Exposure = 284.017900 (/Users/corcoran/research/ETA_CAR/Swift/2012/work/00031308018/sw00031308018xwtw2po_cl.evt)\n",
        "Exposure = 53.730812 (/Users/corcoran/research/ETA_CAR/Swift/2012/work/00031308018/sw00031308018xwtw2sl_cl.evt)\n",
        "Exposure = 1143.741137 (/Users/corcoran/research/ETA_CAR/Swift/2012/work/00031308019/sw00031308019xwtw2po_cl.evt)"
       ]
      },
      {
       "output_type": "stream",
       "stream": "stdout",
       "text": [
        "\n",
        "Exposure = 109.862989 (/Users/corcoran/research/ETA_CAR/Swift/2012/work/00031308019/sw00031308019xwtw2sl_cl.evt)\n",
        "Exposure = 1058.911608 (/Users/corcoran/research/ETA_CAR/Swift/2012/work/00031308020/sw00031308020xwtw2po_cl.evt)"
       ]
      },
      {
       "output_type": "stream",
       "stream": "stdout",
       "text": [
        "\n",
        "Exposure = 78.888432 (/Users/corcoran/research/ETA_CAR/Swift/2012/work/00031308020/sw00031308020xwtw2sl_cl.evt)\n",
        "Exposure = 389.134828 (/Users/corcoran/research/ETA_CAR/Swift/2012/work/00031308021/sw00031308021xwtw2po_cl.evt)"
       ]
      },
      {
       "output_type": "stream",
       "stream": "stdout",
       "text": [
        "\n",
        "Exposure = 69.304204 (/Users/corcoran/research/ETA_CAR/Swift/2012/work/00031308021/sw00031308021xwtw2sl_cl.evt)"
       ]
      },
      {
       "output_type": "stream",
       "stream": "stdout",
       "text": [
        "\n",
        "Exposure = 263.021783 (/Users/corcoran/research/ETA_CAR/Swift/2012/work/00031308022/sw00031308022xwtw2po_cl.evt)"
       ]
      },
      {
       "output_type": "stream",
       "stream": "stdout",
       "text": [
        "\n",
        "Exposure = 68.107123 (/Users/corcoran/research/ETA_CAR/Swift/2012/work/00031308022/sw00031308022xwtw2sl_cl.evt)"
       ]
      },
      {
       "output_type": "stream",
       "stream": "stdout",
       "text": [
        "\n",
        "Exposure = 1025.340364 (/Users/corcoran/research/ETA_CAR/Swift/2012/work/00031308023/sw00031308023xwtw2po_cl.evt)\n",
        "Exposure = 37.955941 (/Users/corcoran/research/ETA_CAR/Swift/2012/work/00031308023/sw00031308023xwtw2sl_cl.evt)"
       ]
      },
      {
       "output_type": "stream",
       "stream": "stdout",
       "text": [
        "\n",
        "Exposure = 2739.860532 (/Users/corcoran/research/ETA_CAR/Swift/2012/work/00091395001/sw00091395001xwtw2po_cl.evt)\n",
        "Exposure = 3034.354485 (/Users/corcoran/research/ETA_CAR/Swift/2012/work/00091395002/sw00091395002xwtw2po_cl.evt)"
       ]
      },
      {
       "output_type": "stream",
       "stream": "stdout",
       "text": [
        "\n",
        "Exposure = 214.701456 (/Users/corcoran/research/ETA_CAR/Swift/2012/work/00091395002/sw00091395002xwtw2sl_cl.evt)\n",
        "Exposure = 3673.176694 (/Users/corcoran/research/ETA_CAR/Swift/2012/work/00091395003/sw00091395003xwtw2po_cl.evt)"
       ]
      },
      {
       "output_type": "stream",
       "stream": "stdout",
       "text": [
        "\n",
        "Exposure = 305.169186 (/Users/corcoran/research/ETA_CAR/Swift/2012/work/00091395003/sw00091395003xwtw2sl_cl.evt)\n",
        "Exposure = 1447.326562 (/Users/corcoran/research/ETA_CAR/Swift/2012/work/00091395004/sw00091395004xwtw2po_cl.evt)"
       ]
      },
      {
       "output_type": "stream",
       "stream": "stdout",
       "text": [
        "\n",
        "Exposure = 122.234429 (/Users/corcoran/research/ETA_CAR/Swift/2012/work/00091395004/sw00091395004xwtw2sl_cl.evt)\n",
        "Exposure = 1988.979839 (/Users/corcoran/research/ETA_CAR/Swift/2012/work/00091395005/sw00091395005xwtw2po_cl.evt)"
       ]
      },
      {
       "output_type": "stream",
       "stream": "stdout",
       "text": [
        "\n",
        "Exposure = 145.596688 (/Users/corcoran/research/ETA_CAR/Swift/2012/work/00091395005/sw00091395005xwtw2sl_cl.evt)\n",
        "Exposure = 2051.902041 (/Users/corcoran/research/ETA_CAR/Swift/2012/work/00091395006/sw00091395006xwtw2po_cl.evt)"
       ]
      },
      {
       "output_type": "stream",
       "stream": "stdout",
       "text": [
        "\n",
        "Exposure = 139.015207 (/Users/corcoran/research/ETA_CAR/Swift/2012/work/00091395006/sw00091395006xwtw2sl_cl.evt)\n",
        "Exposure = 905.190339 (/Users/corcoran/research/ETA_CAR/Swift/2012/work/00091395007/sw00091395007xwtw2po_cl.evt)"
       ]
      },
      {
       "output_type": "stream",
       "stream": "stdout",
       "text": [
        "\n",
        "Exposure = 156.957919 (/Users/corcoran/research/ETA_CAR/Swift/2012/work/00091395007/sw00091395007xwtw2sl_cl.evt)\n",
        "Exposure = 2830.700195 (/Users/corcoran/research/ETA_CAR/Swift/2012/work/00091395008/sw00091395008xwtw2po_cl.evt)"
       ]
      },
      {
       "output_type": "stream",
       "stream": "stdout",
       "text": [
        "\n",
        "Exposure = 68.725620 (/Users/corcoran/research/ETA_CAR/Swift/2012/work/00091395008/sw00091395008xwtw2sl_cl.evt)\n",
        "Exposure = 2608.293821 (/Users/corcoran/research/ETA_CAR/Swift/2012/work/00091395009/sw00091395009xwtw2po_cl.evt)"
       ]
      },
      {
       "output_type": "stream",
       "stream": "stdout",
       "text": [
        "\n",
        "Exposure = 188.730216 (/Users/corcoran/research/ETA_CAR/Swift/2012/work/00091395009/sw00091395009xwtw2sl_cl.evt)\n",
        "Exposure = 3077.652352 (/Users/corcoran/research/ETA_CAR/Swift/2012/work/00091395010/sw00091395010xwtw2po_cl.evt)"
       ]
      },
      {
       "output_type": "stream",
       "stream": "stdout",
       "text": [
        "\n",
        "Exposure = 89.490344 (/Users/corcoran/research/ETA_CAR/Swift/2012/work/00091395010/sw00091395010xwtw2sl_cl.evt)\n",
        "Exposure = 2905.313432 (/Users/corcoran/research/ETA_CAR/Swift/2012/work/00091395011/sw00091395011xwtw2po_cl.evt)\n",
        "Exposure = 97.697950 (/Users/corcoran/research/ETA_CAR/Swift/2012/work/00091395011/sw00091395011xwtw2sl_cl.evt)"
       ]
      },
      {
       "output_type": "stream",
       "stream": "stdout",
       "text": [
        "\n",
        "Exposure = 1340.433696 (/Users/corcoran/research/ETA_CAR/Swift/2012/work/00091395012/sw00091395012xwtw2po_cl.evt)\n",
        "Exposure = 97.696145 (/Users/corcoran/research/ETA_CAR/Swift/2012/work/00091395012/sw00091395012xwtw2sl_cl.evt)\n",
        "Exposure = 2069.991206 (/Users/corcoran/research/ETA_CAR/Swift/2012/work/00091395013/sw00091395013xwtw2po_cl.evt)"
       ]
      },
      {
       "output_type": "stream",
       "stream": "stdout",
       "text": [
        "\n",
        "Exposure = 222.496816 (/Users/corcoran/research/ETA_CAR/Swift/2012/work/00091395013/sw00091395013xwtw2sl_cl.evt)"
       ]
      },
      {
       "output_type": "stream",
       "stream": "stdout",
       "text": [
        "\n",
        "Exposure = 2950.695207 (/Users/corcoran/research/ETA_CAR/Swift/2012/work/00091395014/sw00091395014xwtw2po_cl.evt)\n",
        "Exposure = 34.381107 (/Users/corcoran/research/ETA_CAR/Swift/2012/work/00091395014/sw00091395014xwtw2sl_cl.evt)"
       ]
      },
      {
       "output_type": "stream",
       "stream": "stdout",
       "text": [
        "\n",
        "Exposure = 3113.615075 (/Users/corcoran/research/ETA_CAR/Swift/2012/work/00091395015/sw00091395015xwtw2po_cl.evt)\n",
        "Exposure = 240.658194 (/Users/corcoran/research/ETA_CAR/Swift/2012/work/00091395015/sw00091395015xwtw2sl_cl.evt)"
       ]
      },
      {
       "output_type": "stream",
       "stream": "stdout",
       "text": [
        "\n",
        "Exposure = 1883.163210 (/Users/corcoran/research/ETA_CAR/Swift/2012/work/00091395016/sw00091395016xwtw2po_cl.evt)\n",
        "Exposure = 96.280608 (/Users/corcoran/research/ETA_CAR/Swift/2012/work/00091395016/sw00091395016xwtw2sl_cl.evt)"
       ]
      },
      {
       "output_type": "stream",
       "stream": "stdout",
       "text": [
        "\n"
       ]
      }
     ],
     "prompt_number": 29
    },
    {
     "cell_type": "code",
     "collapsed": false,
     "input": [
      "average(expot)"
     ],
     "language": "python",
     "metadata": {},
     "outputs": [
      {
       "metadata": {},
       "output_type": "pyout",
       "prompt_number": 31,
       "text": [
        "963.98040232607775"
       ]
      }
     ],
     "prompt_number": 31
    },
    {
     "cell_type": "code",
     "collapsed": false,
     "input": [
      "6 % 2"
     ],
     "language": "python",
     "metadata": {},
     "outputs": [
      {
       "metadata": {},
       "output_type": "pyout",
       "prompt_number": 41,
       "text": [
        "0"
       ]
      }
     ],
     "prompt_number": 41
    },
    {
     "cell_type": "code",
     "collapsed": false,
     "input": [
      "if (8 % 2):\n",
      "    print \"odd\"\n",
      "else:\n",
      "    print \"even\""
     ],
     "language": "python",
     "metadata": {},
     "outputs": [
      {
       "output_type": "stream",
       "stream": "stdout",
       "text": [
        "even\n"
       ]
      }
     ],
     "prompt_number": 50
    },
    {
     "cell_type": "code",
     "collapsed": false,
     "input": [
      "(len(refs) % 2)"
     ],
     "language": "python",
     "metadata": {},
     "outputs": [
      {
       "metadata": {},
       "output_type": "pyout",
       "prompt_number": 57,
       "text": [
        "0"
       ]
      }
     ],
     "prompt_number": 57
    },
    {
     "cell_type": "code",
     "collapsed": false,
     "input": [],
     "language": "python",
     "metadata": {},
     "outputs": []
    }
   ],
   "metadata": {}
  }
 ]
}