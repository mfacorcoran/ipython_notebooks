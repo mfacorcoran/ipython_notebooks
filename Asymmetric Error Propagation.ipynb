{
 "metadata": {
  "name": ""
 },
 "nbformat": 3,
 "nbformat_minor": 0,
 "worksheets": [
  {
   "cells": [
    {
     "cell_type": "markdown",
     "metadata": {},
     "source": [
      "See asymmetric_errors_oser.pdf and http://arxiv.org/pdf/physics/0406120v1.pdf\n",
      "\n",
      "suppose we have r=(f/i) where f and i both have asymmetric errors\n",
      "\n",
      "$$\\alpha=(x^{*} - x)$$\n",
      "\n",
      "where $x^{*}$ is equal to one of the variables, and $x$ the variable true value\n",
      "\n",
      "$$V_{n}=(\\sigma_{n,+} \\times \\sigma_{n,-})$$\n",
      "\n",
      "$$V'= (\\sigma_{n,+} - \\sigma_{n,-})$$\n",
      "\n",
      "then the log Likelihood of (f; i) is\n",
      "\n",
      "$$ln(L(f,i)) = -\\frac{1}{2}[\\frac{(f-f_{o})^2}{V_{f}+V'(f-f_{o})}] - \\frac{1}{2}[\\frac{(i-i_{o})^2}{V_{f}+V'(i-i_{o})}]$$\n",
      "\n",
      "Then we need to express this log likelihood in terms of the quantity we want (f/i) and a \"nuisance parameter\" (which can be either f or i) that we don't really care about\n"
     ]
    },
    {
     "cell_type": "markdown",
     "metadata": {},
     "source": [
      "Let $$r=f/i$$\n",
      "\n",
      "then $$ln(L(i,r))= -\\frac{1}{2}[\\frac{(ri-f_{o})^2}{V_{f}+V'(ri-f_{o})}] - \\frac{1}{2}[\\frac{(i-i_{o})^2}{V_{f}+V'(i-i_{o})}]$$"
     ]
    },
    {
     "cell_type": "code",
     "collapsed": false,
     "input": [
      "import sympy as sp"
     ],
     "language": "python",
     "metadata": {},
     "outputs": [],
     "prompt_number": 2
    },
    {
     "cell_type": "code",
     "collapsed": false,
     "input": [
      "r,f, i= sp.symbols('r,f,i') "
     ],
     "language": "python",
     "metadata": {},
     "outputs": [],
     "prompt_number": 13
    },
    {
     "cell_type": "code",
     "collapsed": false,
     "input": [
      "help (sp.symbols)"
     ],
     "language": "python",
     "metadata": {},
     "outputs": [
      {
       "output_type": "stream",
       "stream": "stdout",
       "text": [
        "Help on function symbols in module sympy.core.symbol:\n",
        "\n",
        "symbols(names, **args)\n",
        "    Transform strings into instances of :class:`Symbol` class.\n",
        "    \n",
        "    :func:`symbols` function returns a sequence of symbols with names taken\n",
        "    from ``names`` argument, which can be a comma or whitespace delimited\n",
        "    string, or a sequence of strings::\n",
        "    \n",
        "        >>> from sympy import symbols, Function\n",
        "    \n",
        "        >>> x, y, z = symbols('x,y,z')\n",
        "        >>> a, b, c = symbols('a b c')\n",
        "    \n",
        "    The type of output is dependent on the properties of input arguments::\n",
        "    \n",
        "        >>> symbols('x')\n",
        "        x\n",
        "        >>> symbols('x,')\n",
        "        (x,)\n",
        "        >>> symbols('x,y')\n",
        "        (x, y)\n",
        "        >>> symbols(('a', 'b', 'c'))\n",
        "        (a, b, c)\n",
        "        >>> symbols(['a', 'b', 'c'])\n",
        "        [a, b, c]\n",
        "        >>> symbols(set(['a', 'b', 'c']))\n",
        "        set([a, b, c])\n",
        "    \n",
        "    If an iterable container is needed for a single symbol, set the ``seq``\n",
        "    argument to ``True`` or terminate the symbol name with a comma::\n",
        "    \n",
        "        >>> symbols('x', seq=True)\n",
        "        (x,)\n",
        "    \n",
        "    To reduce typing, range syntax is supported to create indexed symbols::\n",
        "    \n",
        "        >>> symbols('x:10')\n",
        "        (x0, x1, x2, x3, x4, x5, x6, x7, x8, x9)\n",
        "    \n",
        "        >>> symbols('x5:10')\n",
        "        (x5, x6, x7, x8, x9)\n",
        "    \n",
        "        >>> symbols('x5:10,y:5')\n",
        "        (x5, x6, x7, x8, x9, y0, y1, y2, y3, y4)\n",
        "    \n",
        "        >>> symbols(('x5:10', 'y:5'))\n",
        "        ((x5, x6, x7, x8, x9), (y0, y1, y2, y3, y4))\n",
        "    \n",
        "    To reduce typing even more, lexicographic range syntax is supported::\n",
        "    \n",
        "        >>> symbols('x:z')\n",
        "        (x, y, z)\n",
        "    \n",
        "        >>> symbols('a:d,x:z')\n",
        "        (a, b, c, d, x, y, z)\n",
        "    \n",
        "        >>> symbols(('a:d', 'x:z'))\n",
        "        ((a, b, c, d), (x, y, z))\n",
        "    \n",
        "    All newly created symbols have assumptions set accordingly to ``args``::\n",
        "    \n",
        "        >>> a = symbols('a', integer=True)\n",
        "        >>> a.is_integer\n",
        "        True\n",
        "    \n",
        "        >>> x, y, z = symbols('x,y,z', real=True)\n",
        "        >>> x.is_real and y.is_real and z.is_real\n",
        "        True\n",
        "    \n",
        "    Despite its name, :func:`symbols` can create symbol--like objects of\n",
        "    other type, for example instances of Function or Wild classes. To\n",
        "    achieve this, set ``cls`` keyword argument to the desired type::\n",
        "    \n",
        "        >>> symbols('f,g,h', cls=Function)\n",
        "        (f, g, h)\n",
        "    \n",
        "        >>> type(_[0])\n",
        "        <class 'sympy.core.function.UndefinedFunction'>\n",
        "\n"
       ]
      }
     ],
     "prompt_number": 9
    },
    {
     "cell_type": "code",
     "collapsed": false,
     "input": [
      "sp.pi"
     ],
     "language": "python",
     "metadata": {},
     "outputs": [
      {
       "metadata": {},
       "output_type": "pyout",
       "prompt_number": 4,
       "text": [
        "pi"
       ]
      }
     ],
     "prompt_number": 4
    },
    {
     "cell_type": "code",
     "collapsed": false,
     "input": [
      "sp.sqrt(2).evalf()"
     ],
     "language": "python",
     "metadata": {},
     "outputs": [
      {
       "metadata": {},
       "output_type": "pyout",
       "prompt_number": 9,
       "text": [
        "1.41421356237310"
       ]
      }
     ],
     "prompt_number": 9
    },
    {
     "cell_type": "code",
     "collapsed": false,
     "input": [
      "sp.Rational(1,2)+sp.Rational(1,3)"
     ],
     "language": "python",
     "metadata": {},
     "outputs": [
      {
       "metadata": {},
       "output_type": "pyout",
       "prompt_number": 11,
       "text": [
        "5/6"
       ]
      }
     ],
     "prompt_number": 11
    },
    {
     "cell_type": "code",
     "collapsed": false,
     "input": [
      "x=sp.symbols('x')\n",
      "y=sp.symbols('y')\n",
      "sp.expand((x+y)**6)"
     ],
     "language": "python",
     "metadata": {},
     "outputs": [
      {
       "metadata": {},
       "output_type": "pyout",
       "prompt_number": 18,
       "text": [
        "x**6 + 6*x**5*y + 15*x**4*y**2 + 20*x**3*y**3 + 15*x**2*y**4 + 6*x*y**5 + y**6"
       ]
      }
     ],
     "prompt_number": 18
    },
    {
     "cell_type": "code",
     "collapsed": false,
     "input": [
      "delta = 0.025\n",
      "x = np.arange(0.1, 4.0, delta)\n",
      "y = np.arange(0.1, 2.5, delta)\n",
      "X, Y = np.meshgrid(x, y)\n",
      "Z1 = mlab.bivariate_normal(X, Y, 1.0, 1.0, 0.0, 0.0)\n",
      "Z2 = mlab.bivariate_normal(X, Y, 1.5, 0.5, 1, 1)\n",
      "# difference of Gaussians\n",
      "#Z = 10.0 * (Z2 - Z1)\n",
      "Z=10*Z2\n",
      "\n",
      "# Create a simple contour plot with labels using default colors.  The\n",
      "# inline argument to clabel will control whether the labels are draw\n",
      "# over the line segments of the contour, removing the lines beneath\n",
      "# the label\n",
      "plt.figure()\n",
      "CS = plt.contour(X, Y, Z)\n",
      "plt.clabel(CS, inline=1, fontsize=8)\n",
      "plt.xlabel(\"f\", fontsize=14)\n",
      "plt.ylabel(\"i\", fontsize=14)\n",
      "plt.xlim(xmin=0,xmax=5)\n",
      "plt.ylim(ymin=0,ymax=5)\n",
      "f=arange(0.1,10,1.5)\n",
      "for i in arange(0,10):\n",
      "    plt.plot(f,i*f,'-b')\n",
      "for i in arange(0,1,0.2):\n",
      "    plt.plot(f,i*f,'-b')\n",
      "\n",
      "plt.title('Pretend these are the f and i confidence contours - lines are lines of constant r')\n"
     ],
     "language": "python",
     "metadata": {},
     "outputs": [
      {
       "metadata": {},
       "output_type": "pyout",
       "prompt_number": 79,
       "text": [
        "<matplotlib.text.Text at 0x109350950>"
       ]
      },
      {
       "metadata": {},
       "output_type": "display_data",
       "png": "[encoded data removed]",
       "text": [
        "<matplotlib.figure.Figure at 0x109144110>"
       ]
      }
     ],
     "prompt_number": 79
    },
    {
     "cell_type": "code",
     "collapsed": false,
     "input": [
      "help(plt.xlim)\n"
     ],
     "language": "python",
     "metadata": {},
     "outputs": [
      {
       "output_type": "stream",
       "stream": "stdout",
       "text": [
        "Help on function xlim in module matplotlib.pyplot:\n",
        "\n",
        "xlim(*args, **kwargs)\n",
        "    Get or set the *x* limits of the current axes.\n",
        "    \n",
        "    ::\n",
        "    \n",
        "      xmin, xmax = xlim()   # return the current xlim\n",
        "      xlim( (xmin, xmax) )  # set the xlim to xmin, xmax\n",
        "      xlim( xmin, xmax )    # set the xlim to xmin, xmax\n",
        "    \n",
        "    If you do not specify args, you can pass the xmin and xmax as\n",
        "    kwargs, eg.::\n",
        "    \n",
        "      xlim(xmax=3) # adjust the max leaving min unchanged\n",
        "      xlim(xmin=1) # adjust the min leaving max unchanged\n",
        "    \n",
        "    Setting limits turns autoscaling off for the x-axis.\n",
        "    \n",
        "    The new axis limits are returned as a length 2 tuple.\n",
        "\n"
       ]
      }
     ],
     "prompt_number": 31
    },
    {
     "cell_type": "code",
     "collapsed": false,
     "input": [
      "from sympy import *\n",
      "f = Symbol('f')\n",
      "i= Symbol('i')\n",
      "r=Symbol('r')\n",
      "sf= Symbol('sf')\n",
      "si=Symbol('si')\n",
      "sr = Symbol('sr')\n",
      "r=f/i\n",
      "sr=r*sqrt(((sf*diff(r,f)/r)**2+(si*diff(r,i)/r)**2))\n",
      "sr\n"
     ],
     "language": "python",
     "metadata": {},
     "outputs": [
      {
       "metadata": {},
       "output_type": "pyout",
       "prompt_number": 61,
       "text": [
        "f*sqrt(si**2/i**2 + sf**2/f**2)/i"
       ]
      }
     ],
     "prompt_number": 61
    },
    {
     "cell_type": "code",
     "collapsed": false,
     "input": [
      "help(r.evalf)\n"
     ],
     "language": "python",
     "metadata": {},
     "outputs": [
      {
       "output_type": "stream",
       "stream": "stdout",
       "text": [
        "Help on method evalf in module sympy.core.evalf:\n",
        "\n",
        "evalf(self, n=15, subs=None, maxn=100, chop=False, strict=False, quad=None, verbose=False) method of sympy.core.mul.Mul instance\n",
        "    Evaluate the given formula to an accuracy of n digits.\n",
        "    Optional keyword arguments:\n",
        "    \n",
        "        subs=<dict>\n",
        "            Substitute numerical values for symbols, e.g.\n",
        "            subs={x:3, y:1+pi}.\n",
        "    \n",
        "        maxn=<integer>\n",
        "            Allow a maximum temporary working precision of maxn digits\n",
        "            (default=100)\n",
        "    \n",
        "        chop=<bool>\n",
        "            Replace tiny real or imaginary parts in subresults\n",
        "            by exact zeros (default=False)\n",
        "    \n",
        "        strict=<bool>\n",
        "            Raise PrecisionExhausted if any subresult fails to evaluate\n",
        "            to full accuracy, given the available maxprec\n",
        "            (default=False)\n",
        "    \n",
        "        quad=<str>\n",
        "            Choose algorithm for numerical quadrature. By default,\n",
        "            tanh-sinh quadrature is used. For oscillatory\n",
        "            integrals on an infinite interval, try quad='osc'.\n",
        "    \n",
        "        verbose=<bool>\n",
        "            Print debug information (default=False)\n",
        "\n"
       ]
      }
     ],
     "prompt_number": 49
    },
    {
     "cell_type": "code",
     "collapsed": false,
     "input": [
      "r.evalf(subs={f:1,i:2})"
     ],
     "language": "python",
     "metadata": {},
     "outputs": [
      {
       "metadata": {},
       "output_type": "pyout",
       "prompt_number": 53,
       "text": [
        "0.500000000000000"
       ]
      }
     ],
     "prompt_number": 53
    },
    {
     "cell_type": "code",
     "collapsed": false,
     "input": [],
     "language": "python",
     "metadata": {},
     "outputs": []
    }
   ],
   "metadata": {}
  }
 ]
}