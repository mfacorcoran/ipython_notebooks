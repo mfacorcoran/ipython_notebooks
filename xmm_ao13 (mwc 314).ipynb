{
 "metadata": {
  "name": ""
 },
 "nbformat": 3,
 "nbformat_minor": 0,
 "worksheets": [
  {
   "cells": [
    {
     "cell_type": "markdown",
     "metadata": {},
     "source": [
      "<h2>Calculation of the phasings of the visibility windows for xmm for MWC 314</h2>\n"
     ]
    },
    {
     "cell_type": "code",
     "collapsed": false,
     "input": [
      "# the xmm visibility tool outputs an html table\n",
      "# BeautifulSoup reads and parses html tables\n",
      "# see http://segfault.in/2010/07/parsing-html-table-in-python-with-beautifulsoup/\n",
      "from bs4 import BeautifulSoup\n",
      "\n",
      "from astropy.time import Time"
     ],
     "language": "python",
     "metadata": {},
     "outputs": [],
     "prompt_number": 34
    },
    {
     "cell_type": "code",
     "collapsed": false,
     "input": [
      "vis='/Users/corcoran/Documents/Proposals/xmm/ao13/MWC314/refs/XMM-Newton_AO13_Target_Visibility_Checker.html'\n",
      "f=open(vis)\n",
      "html=f.read() # reads entire vis file as a string"
     ],
     "language": "python",
     "metadata": {},
     "outputs": [],
     "prompt_number": 11
    },
    {
     "cell_type": "code",
     "collapsed": false,
     "input": [
      "# from Lobel et al. 2013\n",
      "epoch=2454959.76\n",
      "period=60.799977"
     ],
     "language": "python",
     "metadata": {},
     "outputs": [],
     "prompt_number": 37
    },
    {
     "cell_type": "code",
     "collapsed": false,
     "input": [
      "soup=BeautifulSoup(''.join(html)) # create a \"soup\" object\n",
      "table=soup.find('table',  id=\"visibility\")\n",
      "rows=table.findAll('tr')\n",
      "rowindex=range(len(rows))\n",
      "rowindex=rowindex[1:] # ignore first row\n",
      "j=0\n",
      "k=0\n",
      "print \"\\nEclipse Pointings\"\n",
      "for i in rowindex:\n",
      "    cols=rows[i].findAll('td')\n",
      "    rev=int(''.join(cols[0].find(text=True)))\n",
      "    start=''.join(cols[1].find(text=True))\n",
      "    duration=int(''.join(cols[2].find(text=True)))\n",
      "    stop=''.join(cols[3].find(text=True))\n",
      "    t=Time([start,stop],format='iso', scale='utc')\n",
      "    phistart=(t.jd[0]-epoch)/period\n",
      "    phistop =(t.jd[1]-epoch)/period\n",
      "    test=phistart-floor(phistart)\n",
      "    if test>0.9:\n",
      "        j=j+1\n",
      "        print \"%i %d %s %f %f  %s %f %f %i\" % (j,rev, start,t.jd[0], phistart, stop, t.jd[1], phistop, duration)\n",
      "k=0\n",
      "print \"\\nQuadrature Pointings\"\n",
      "for i in rowindex:\n",
      "    cols=rows[i].findAll('td')\n",
      "    rev=int(''.join(cols[0].find(text=True)))\n",
      "    start=''.join(cols[1].find(text=True))\n",
      "    duration=int(''.join(cols[2].find(text=True)))\n",
      "    stop=''.join(cols[3].find(text=True))\n",
      "    t=Time([start,stop],format='iso', scale='utc')\n",
      "    phistart=(t.jd[0]-epoch)/period\n",
      "    phistop =(t.jd[1]-epoch)/period\n",
      "    test=phistart-floor(phistart)\n",
      "    if test>0.75 and test<0.85:\n",
      "        k=k+1\n",
      "        print \"%i %d %s %f %f  %s %f %f %i\" % (k,rev, start,t.jd[0], phistart, stop, t.jd[1], phistop, duration)"
     ],
     "language": "python",
     "metadata": {},
     "outputs": [
      {
       "output_type": "stream",
       "stream": "stdout",
       "text": [
        "\n",
        "Eclipse Pointings\n",
        "1 2636 2014-05-01 02:21 2456778.597917 29.915109  2014-05-02 16:33 2456780.189583 29.941287 137516\n",
        "2 2637 2014-05-03 02:13 2456780.592361 29.947912  2014-05-04 16:25 2456782.184028 29.974091 137538\n",
        "3 2638 2014-05-05 02:05 2456782.586806 29.980715  2014-05-06 16:18 2456784.179167 30.006906 137545\n",
        "4 2727 2014-10-29 14:32 2456960.105556 32.900433  2014-10-29 17:33 2456960.231250 32.902500 10883\n",
        "5 2727 2014-10-31 04:48 2456961.700000 32.926657  2014-10-31 06:59 2456961.790972 32.928153 7877\n",
        "6 2728 2014-10-31 14:24 2456962.100000 32.933236  2014-11-02 06:51 2456963.785417 32.960957 145624\n",
        "7 2729 2014-11-02 14:16 2456964.094444 32.966040  2014-11-04 06:42 2456965.779167 32.993749 145599\n",
        "8 2819 2015-05-01 04:57 2457143.706250 35.920182  2015-05-02 16:09 2457145.172917 35.944305 126734\n",
        "\n",
        "Quadrature Pointings\n",
        "1 2723 2014-10-21 15:05 2456952.128472 32.769231  2014-10-23 07:31 2456953.813194 32.796940 145602"
       ]
      },
      {
       "output_type": "stream",
       "stream": "stdout",
       "text": [
        "\n",
        "2 2724 2014-10-23 14:56 2456954.122222 32.802023  2014-10-25 07:23 2456955.807639 32.829743 145581\n",
        "3 2725 2014-10-25 14:48 2456956.116667 32.834826  2014-10-27 07:14 2456957.801389 32.862535 145583\n",
        "4 2814 2015-04-21 01:53 2457133.578472 35.753607  2015-04-22 16:35 2457135.190972 35.780128 139294\n",
        "5 2815 2015-04-23 01:46 2457135.573611 35.786422  2015-04-24 16:28 2457137.186111 35.812943 139322\n",
        "6 2816 2015-04-25 05:18 2457137.720833 35.821738  2015-04-26 16:21 2457139.181250 35.845758 126187\n"
       ]
      }
     ],
     "prompt_number": 83
    },
    {
     "cell_type": "code",
     "collapsed": false,
     "input": [
      "tdeadline=Time(\"2013-10-11 12:00:00\",format='iso', scale='utc')"
     ],
     "language": "python",
     "metadata": {},
     "outputs": [],
     "prompt_number": 85
    },
    {
     "cell_type": "code",
     "collapsed": false,
     "input": [],
     "language": "python",
     "metadata": {},
     "outputs": []
    }
   ],
   "metadata": {}
  }
 ]
}