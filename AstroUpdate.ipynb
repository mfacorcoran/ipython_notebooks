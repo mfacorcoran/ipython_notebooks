{
 "cells": [
  {
   "cell_type": "markdown",
   "metadata": {},
   "source": [
    "<h3>How to get the latest version id for a given software package from astro-update</h3>\n"
   ]
  },
  {
   "cell_type": "code",
   "execution_count": 1,
   "metadata": {
    "collapsed": false
   },
   "outputs": [
    {
     "name": "stdout",
     "output_type": "stream",
     "text": [
      "Populating the interactive namespace from numpy and matplotlib\n"
     ]
    },
    {
     "name": "stderr",
     "output_type": "stream",
     "text": [
      "WARNING: pylab import has clobbered these variables: ['array', 'linalg', 'draw_if_interactive', 'random', 'power', 'info', 'fft']\n",
      "`%matplotlib` prevents importing * from pylab and numpy\n"
     ]
    }
   ],
   "source": [
    "%pylab inline\n",
    "from bs4 import BeautifulSoup\n",
    "import urllib2\n",
    "import subprocess\n"
   ]
  },
  {
   "cell_type": "code",
   "execution_count": 2,
   "metadata": {
    "collapsed": true
   },
   "outputs": [],
   "source": [
    "response = urllib2.urlopen('http://heasarc.gsfc.nasa.gov/docs/heasarc/astro-update/')\n",
    "html=response.read()"
   ]
  },
  {
   "cell_type": "code",
   "execution_count": 3,
   "metadata": {
    "collapsed": true
   },
   "outputs": [],
   "source": [
    "soup=BeautifulSoup(''.join(html))"
   ]
  },
  {
   "cell_type": "code",
   "execution_count": 4,
   "metadata": {
    "collapsed": true
   },
   "outputs": [],
   "source": [
    "table=soup.findAll('table')\n",
    "soft_table=table[1] # there are 3 tables on the page, the software version table is the 2nd table"
   ]
  },
  {
   "cell_type": "code",
   "execution_count": 5,
   "metadata": {
    "collapsed": false
   },
   "outputs": [
    {
     "name": "stdout",
     "output_type": "stream",
     "text": [
      "1 XSPEC was last updated by HEASARC to version 12.9.0b on 08/07/2015\n",
      "2 SPOT/LEOPARD was last updated by SSC to version 19.0  on 08/05/2015\n",
      "3 HEASoft was last updated by HEASARC to version  6.17 on 07/29/2015\n",
      "4 ACIS_EXTRACT was last updated by PSU to version  2015Jul7 on 07/07/2015\n",
      "5 SAE was last updated by FSSC to version  v10r0p5 on 06/24/2015\n",
      "6 MARX was last updated by CXC/MIT to version 5.1 on 04/28/2015\n",
      "7 Skyview was last updated by HEASARC to version 3.1.12 on 04/22/2015\n",
      "8 CPL was last updated by ESO to version 6.6 on 03/06/2015\n",
      "9 GASGANO was last updated by ESO to version 2.4.8 on 01/08/2015\n",
      "10 PIMMS was last updated by HEASARC to version  4.7d on 12/24/2014\n",
      "11 CIAO was last updated by CXC to version  4.7  on 12/16/2014\n",
      "12 XSA was last updated by XMM-SOC to version  8.3 on 12/04/2014\n",
      "13 SAS was last updated by XMM-SOC to version  14.0.0 on 11/12/2014\n",
      "14 IDL Astronomical Users Library was last updated by ASD/GSFC to version 02 Nov 2014 on 11/02/2014\n",
      "15 APT was last updated by STScI to version  22.4.1 on 10/31/2014\n",
      "16 Ureka was last updated by STScI to version 1.4.1.2 on 10/20/2014\n",
      "17 PyRAF  was last updated by STScI to version  2.1.7 on 10/16/2014\n",
      "18 VISIT was last updated by LLNL to version  2.9 on 10/01/2014\n",
      "19 ASTROPY was last updated by The Astropy Team to version  0.4.2  on 09/23/2014\n",
      "20 WCSLIB was last updated by Calabretta to version 4.24 on 09/19/2014\n",
      "21 TARA was last updated by PSU to version  2014Sep10 on 09/10/2014\n",
      "22 OSA was last updated by ISDC to version  10.1 on 09/04/2014\n",
      "23 Web Hera was last updated by HEASARC to version  3.0 on 08/25/2014\n",
      "24 SPLASH was last updated by D. Price/Monash to version 2.5.0 on 08/22/2014\n",
      "25 SAOImage ds9 was last updated by SAO/HEASARC to version  7.3.2 on 08/10/2014\n",
      "26 STARLINK was last updated by JAC to version 2014A on 07/23/2014\n",
      "27 ISIS was last updated by CXC to version  1.6.2-30 on 07/22/2014\n",
      "28 SIMX was last updated by CfA to version  2.1.0 on 06/20/2014\n",
      "29 CFITSIO was last updated by HEASARC to version  3.37  on 06/03/2014\n",
      "30 STScI Python was last updated by STScI to version  2.15.1 on 04/01/2014\n",
      "31 WINDOW TO THE STARS was last updated by Izzard/Bonn to version 0.39 on 05/02/2014\n",
      "32 Aladin was last updated by CDS; ULP/CNRS  to version 8.04 on 03/25/2014\n",
      "33 STSDAS was last updated by STScI to version  3.17 on 03/01/2014\n",
      "34 Sherpa was last updated by CXC to version v2 on 02/01/2014 \n",
      "35 MIDAS was last updated by ESO to version  13Sepl1.2  on 01/17/2014 \n",
      "36 AIPS was last updated by NRAO to version  31DEC13 on 12/31/2013\n",
      "37 P2PP was last updated by ESO to version 3.4.0  on 12/19/2013\n",
      "38 CHIANTI IDL package was last updated by GMU, U. Michigan and Cambridge to version 7.1.4 on 08/14/2013\n",
      "39 PINTofALE was last updated by Drake & Kashyap/CXC to version  2.954 on 08/10/2013\n",
      "40 GSL was last updated by Free Software Foundation to version  1.16 on 07/19/2013\n",
      "41 GAIA AND SKYCAT was last updated by ESO to version 4.4-4 on 05/30/2013\n",
      "42 VLT Instrument Pipelines was last updated by ESO to version 24 May 2013  on 05/24/20103\n",
      "43 CASA was last updated by NRAO to version  4.0.1 on 02/14/2013\n",
      "44 MOPEX was last updated by SSC to version 18.5.6  on 10/10/2012\n",
      "45 SPEX was last updated by Kaastra/SRON to version  2.03.03 on 08/01/2012\n",
      "46 SPEX was last updated by Kaastra/SRON to version  2.04.00 on 08/01/2012\n",
      "47 Aladin was last updated by CDS; ULP/CNRS  to version 7.5 on 07/01/2012\n",
      "48 IRAF was last updated by NOAO to version 2.16 on 03/22/2012\n",
      "49 SCISOFT was last updated by ESO to version 7.7  on 03/01/2012\n",
      "50 GALPROP was last updated by Stanford to version 54.0.572  on 10/21/2010\n",
      "51 PANDORA was last updated by IASF to version  3.1 on 10/01/2010\n",
      "52 browse_extract.pl was last updated by HEASARC to version 2.1a on 09/20/2010\n",
      "53 XIMAGE was last updated by HEASARC to version  4.5.1 on 03/29/2010\n",
      "54 ASTROGRID VO DESKTOP was last updated by UK VOP to version 1.3.2 on 02/10/2010\n",
      "55 XSTAR was last updated by  Kallman/HEASARC to version  2.2 on 11/01/2009\n",
      "56 CCfits was last updated by HEASARC to version  2.2 on 09/09/2009\n",
      "57 XRONOS was last updated by HEASARC to version  5.22 on 08/21/2009\n",
      "58 fv was last updated by HEASARC to version  5.3 on 07/16/2009\n",
      "59 browse_extract_wget.pl was last updated by HEASARC to version 2.2 on 07/31/2008\n",
      "60 GRACE was last updated by Weizmann to version  5.1.22 on 05/21/2008\n",
      "61 TEMPO2 was last updated by ATNF to version 1.11  on 01/17/2008\n",
      "62 W3Browse was last updated by HEASARC to version 8.4 on 10/09/2007\n",
      "63 PROFIT was last updated by Smith/HEASARC to version  2.0.0 on 08/07/2007\n",
      "64 TLUSTY was last updated by Hubeny+Lanz to version  202 on 10/19/2006\n",
      "65 SYNSPEC was last updated by Hubeny+Lanz to version 43 on 10/05/2005\n",
      "66 ECLIPSE was last updated by ESO to version 5.0  on 09/23/2005\n",
      "67 XSPEC 11 was last updated by HEASARC to version  11.3.2 on 04/13/2005\n",
      "68 STARVIEW was last updated by NWACC to version 0.1 on 12/17/2004\n",
      "69 SEXTRACTOR was last updated by LANL to version  2.3.1 on 04/09/2002\n",
      "70 EXSAS was last updated by MPE to version  01APR_EXP on 04/01/2001\n",
      "71 PROS was last updated by CfA to version 2.5_p1 on 03/01/1998\n"
     ]
    }
   ],
   "source": [
    "rows = soft_table.findAll('tr')\n",
    "i=0\n",
    "name=[]\n",
    "for row in rows[1:]:\n",
    "    cols = row.findAll('td')\n",
    "    i=i+1\n",
    "    n   =''.join(cols[0].find(text=True))\n",
    "    name.append(n)\n",
    "    rep    =''.join(cols[1].find(text=True))\n",
    "    vers   =''.join(cols[2].find(text=True))\n",
    "    moddate=''.join(cols[3].find(text=True))\n",
    "    print \"%i %s was last updated by %s to version %s on %s\" % (i,n, rep, vers, moddate)\n",
    "#    progname=''.join(td.find(text=True))\n",
    "#    print progname"
   ]
  },
  {
   "cell_type": "code",
   "execution_count": 13,
   "metadata": {
    "collapsed": false
   },
   "outputs": [
    {
     "name": "stdout",
     "output_type": "stream",
     "text": [
      "missing\n"
     ]
    }
   ],
   "source": [
    "if 'FV' in name:\n",
    "    print \"CPL in name\"\n",
    "else:\n",
    "    print \"missing\""
   ]
  },
  {
   "cell_type": "code",
   "execution_count": 38,
   "metadata": {
    "collapsed": true
   },
   "outputs": [],
   "source": [
    "def astroupdate_dict2(url=\"http://heasarc.gsfc.nasa.gov/docs/heasarc/astro-update/\"):\n",
    "    from bs4 import BeautifulSoup\n",
    "    import urllib2\n",
    "    response = urllib2.urlopen('http://heasarc.gsfc.nasa.gov/docs/heasarc/astro-update/')\n",
    "    html=response.read()\n",
    "    soup=BeautifulSoup(''.join(html))\n",
    "    table=soup.findAll('table')\n",
    "    soft_table=table[1] # there are 3 tables on the page, the software version table is the 2nd table\n",
    "    rows = soft_table.findAll('tr')\n",
    "    au_dict=dict()\n",
    "    for row in rows[1:]:\n",
    "        cols = row.findAll('td')\n",
    "        n   =''.join(cols[0].find(text=True))\n",
    "        r   =''.join(cols[1].find(text=True))\n",
    "        v   =''.join(cols[2].find(text=True))\n",
    "        m   =''.join(cols[3].find(text=True))\n",
    "        au_dict[n]=(v,m,r)\n",
    "    return au_dict\n",
    "\n",
    "def astroupdate_dict(url=\"http://heasarc.gsfc.nasa.gov/docs/heasarc/astro-update/\"):\n",
    "    from bs4 import BeautifulSoup\n",
    "    import urllib2\n",
    "    response = urllib2.urlopen('http://heasarc.gsfc.nasa.gov/docs/heasarc/astro-update/')\n",
    "    html=response.read()\n",
    "    soup=BeautifulSoup(''.join(html))\n",
    "    table=soup.findAll('table')\n",
    "    soft_table=table[1] # there are 3 tables on the page, the software version table is the 2nd table\n",
    "    rows = soft_table.findAll('tr')\n",
    "    au_dict=dict()\n",
    "    for row in rows[1:]:\n",
    "        cols = row.findAll('td')\n",
    "        n   =''.join(cols[0].find(text=True))\n",
    "        r   =''.join(cols[1].find(text=True))\n",
    "        v   =''.join(cols[2].find(text=True))\n",
    "        m   =''.join(cols[3].find(text=True))\n",
    "        au_dict[str(n).lower().strip()]={'Version':str(v),'Date':str(m),'Author':str(r)}\n",
    "    return au_dict\n",
    "        \n",
    "        \n",
    "def astroupdate(software, chatter=0):\n",
    "    aud=astroupdate_dict()\n",
    "    softkey=software.strip().lower()\n",
    "    try:\n",
    "        aud[softkey]\n",
    "        if chatter > 0:\n",
    "            print \"{0} was last updated to version {1} on {2} by {3}\".format(software, \n",
    "                                                                         aud[software]['Version'], \n",
    "                                                                         aud[software]['Date'], \n",
    "                                                                         aud[software]['Author'])\n",
    "        ver = str(aud[softkey]['Version']) \n",
    "        date = str(aud[softkey]['Date'])\n",
    "        author = str(aud[softkey]['Author'])\n",
    "        return ver, date, author   \n",
    "    except KeyError:\n",
    "        print \"%s not monitored by Astro-Update\" % software\n",
    "        print \"Valid entries are:\"\n",
    "        print aud.keys()\n",
    "\n",
    "        \n",
    "def auto_update(software):\n",
    "    import subprocess\n",
    "    import os\n",
    "    import glob\n",
    "    import webbrowser\n",
    "    current_vers, moddate, resp = astroupdate(software.strip().lower())\n",
    "\n",
    "    if software==\"HEASoft\":    \n",
    "        fver_installed = subprocess.check_output(['fversion'])\n",
    "        vers=fver_installed.strip(\"\\n\").split('_V')\n",
    "        vers=vers[1].rstrip()\n",
    "        print \"Latest version of  HEASoft = %s; You currently have HEASoft version %s\" % (current_vers, vers)\n",
    "        if current_vers.strip()<> vers.strip():\n",
    "            ans=''\n",
    "            ans=raw_input(\"Would you like to update (Y/n)? \")\n",
    "            if ans.strip()=='' or ans[0].lower()=='y':\n",
    "                print \"Opening HEASoft download page in your web browser\"\n",
    "                webbrowser.open('http://heasarc.gsfc.nasa.gov/docs/software/lheasoft/download.html')            \n",
    "            \n",
    "    if software=='SAE':\n",
    "        fermidir=os.getenv('FERMI_DIR')\n",
    "        if not fermidir:\n",
    "            print \"Environment variable $FERMI_DIR is not defined; stopping\"\n",
    "            return\n",
    "        STools= glob.glob(fermidir+'/../../ScienceTools*') # Find Science Tools directory\n",
    "        #print STools\n",
    "        if not STools:\n",
    "            print \"Problem finding {0}\".format(fermidir+'/../..')\n",
    "            return\n",
    "        SToolsver=STools[0].split('Tools-')[1].split('-fssc')[0]\n",
    "        #print SToolsver\n",
    "        print \"The current version of the Science Analysis Environment for Fermi is {0}; you have version {1}\".format(current_vers.strip(), SToolsver.strip())\n",
    "        if current_vers<>SToolsver:\n",
    "            ans=''\n",
    "            ans=raw_input(\"Would you like to update (Y/n)? \")\n",
    "            if ans.strip()=='' or ans[0].lower()=='y':\n",
    "                print \"Opening Fermi SAE download page in your web browser\"\n",
    "                webbrowser.open('http://fermi.gsfc.nasa.gov/ssc/data/analysis/software/')\n",
    "    return\n",
    "                \n",
    "                          \n"
   ]
  },
  {
   "cell_type": "code",
   "execution_count": 39,
   "metadata": {
    "collapsed": false
   },
   "outputs": [
    {
     "name": "stdout",
     "output_type": "stream",
     "text": [
      "Latest version of  HEASoft =  6.17; You currently have HEASoft version 6.17\n"
     ]
    }
   ],
   "source": [
    "auto_update('HEASoft')"
   ]
  },
  {
   "cell_type": "code",
   "execution_count": 7,
   "metadata": {
    "collapsed": false
   },
   "outputs": [
    {
     "name": "stdout",
     "output_type": "stream",
     "text": [
      "HEASoft not monitored by Astro-Update\n",
      "Valid entries are:\n",
      "['cfitsio', 'xspec 11', 'saoimage ds9', 'ciao', 'pros', 'mopex', 'simx', 'pyraf', 'sae', 'ccfits', 'gasgano', 'astrogrid vo desktop', 'starview', 'osa', 'tempo2', 'galprop', 'tlusty', 'synspec', 'heasoft', 'spex', 'sherpa', 'wcslib', 'casa', 'tara', 'visit', 'xronos', 'grace', 'vlt instrument pipelines', 'sas', 'splash', 'skyview', 'sextractor', 'marx', 'aips', 'exsas', 'ureka', 'pandora', 'fv', 'iraf', 'aladin', 'pimms', 'chianti idl package', 'web hera', 'ximage', 'astropy', 'apt', 'window to the stars', 'isis', 'xstar', 'browse_extract.pl', 'scisoft', 'gaia and skycat', 'cpl', 'acis_extract', 'spot/leopard', 'eclipse', 'browse_extract_wget.pl', 'stsdas', 'gsl', 'profit', 'xsa', 'xspec', 'stsci python', 'p2pp', 'midas', 'w3browse', 'idl astronomical users library', 'starlink', 'pintofale']\n"
     ]
    },
    {
     "ename": "TypeError",
     "evalue": "'NoneType' object is not iterable",
     "output_type": "error",
     "traceback": [
      "\u001b[0;31m---------------------------------------------------------------------------\u001b[0m",
      "\u001b[0;31mTypeError\u001b[0m                                 Traceback (most recent call last)",
      "\u001b[0;32m<ipython-input-7-8899aa935bd6>\u001b[0m in \u001b[0;36m<module>\u001b[0;34m()\u001b[0m\n\u001b[0;32m----> 1\u001b[0;31m \u001b[0mver\u001b[0m\u001b[0;34m,\u001b[0m \u001b[0mdate\u001b[0m\u001b[0;34m,\u001b[0m \u001b[0mauth\u001b[0m \u001b[0;34m=\u001b[0m \u001b[0mastroupdate\u001b[0m\u001b[0;34m(\u001b[0m\u001b[0;34m'HEASoft'\u001b[0m\u001b[0;34m)\u001b[0m\u001b[0;34m\u001b[0m\u001b[0m\n\u001b[0m",
      "\u001b[0;31mTypeError\u001b[0m: 'NoneType' object is not iterable"
     ]
    }
   ],
   "source": [
    "ver, date, auth = astroupdate('HEASoft')"
   ]
  },
  {
   "cell_type": "code",
   "execution_count": 31,
   "metadata": {
    "collapsed": false
   },
   "outputs": [
    {
     "name": "stdout",
     "output_type": "stream",
     "text": [
      "fv was last updated to version  5.3 on 07/16/2009 by HEASARC\n"
     ]
    },
    {
     "data": {
      "text/plain": [
       "'5.3'"
      ]
     },
     "execution_count": 31,
     "metadata": {},
     "output_type": "execute_result"
    }
   ],
   "source": [
    "software='fv'\n",
    "vers, modd, resp = astroupdate(software)\n",
    "vers"
   ]
  },
  {
   "cell_type": "code",
   "execution_count": 12,
   "metadata": {
    "collapsed": false
   },
   "outputs": [
    {
     "data": {
      "text/plain": [
       "'6.17'"
      ]
     },
     "execution_count": 12,
     "metadata": {},
     "output_type": "execute_result"
    }
   ],
   "source": [
    "fver_installed = subprocess.check_output(['fversion'])\n",
    "a=fver_installed.split(\"_V\")\n",
    "b=a[1].rstrip()\n",
    "b"
   ]
  },
  {
   "cell_type": "code",
   "execution_count": 11,
   "metadata": {
    "collapsed": false
   },
   "outputs": [
    {
     "name": "stdout",
     "output_type": "stream",
     "text": [
      "heasoft\n",
      "heasoft was last updated to version  6.17 on 07/29/2015 by HEASARC\n",
      "Latest version of  HEASoft =  6.17; You currently have Version 6.17\n"
     ]
    }
   ],
   "source": [
    "auto_update(\"HEASoft\")"
   ]
  },
  {
   "cell_type": "code",
   "execution_count": 25,
   "metadata": {
    "collapsed": false
   },
   "outputs": [
    {
     "name": "stdout",
     "output_type": "stream",
     "text": [
      "{'Updated': '07/29/2015', 'Version': ' 6.17', 'By': 'HEASARC'}\n"
     ]
    }
   ],
   "source": [
    "aud=astroupdate_dict2()\n",
    "key='heasoft'\n",
    "try:\n",
    "    aud[key]\n",
    "    print aud[key]\n",
    "except KeyError:\n",
    "    print \"%s not in dict\" % key"
   ]
  },
  {
   "cell_type": "code",
   "execution_count": 30,
   "metadata": {
    "collapsed": false
   },
   "outputs": [
    {
     "data": {
      "text/plain": [
       "' 6.17'"
      ]
     },
     "execution_count": 30,
     "metadata": {},
     "output_type": "execute_result"
    }
   ],
   "source": [
    "hver=aud['heasoft']['Version']\n",
    "hver"
   ]
  },
  {
   "cell_type": "code",
   "execution_count": 36,
   "metadata": {
    "collapsed": false
   },
   "outputs": [
    {
     "data": {
      "text/plain": [
       "list"
      ]
     },
     "execution_count": 36,
     "metadata": {},
     "output_type": "execute_result"
    }
   ],
   "source": [
    "type((name))"
   ]
  },
  {
   "cell_type": "code",
   "execution_count": 159,
   "metadata": {
    "collapsed": true
   },
   "outputs": [],
   "source": [
    "import subprocess\n",
    "fver_output = subprocess.check_output(['fversion'])"
   ]
  },
  {
   "cell_type": "code",
   "execution_count": 166,
   "metadata": {
    "collapsed": false
   },
   "outputs": [
    {
     "data": {
      "text/plain": [
       "['24Jan2014', '6.15.1']"
      ]
     },
     "execution_count": 166,
     "metadata": {},
     "output_type": "execute_result"
    }
   ],
   "source": [
    "fver_output.strip(\"\\n\").split('_V')"
   ]
  },
  {
   "cell_type": "code",
   "execution_count": 227,
   "metadata": {
    "collapsed": false
   },
   "outputs": [
    {
     "name": "stdout",
     "output_type": "stream",
     "text": [
      "[u'GAIA AND SKYCAT', u'XSTAR', u'CPL', u'PANDORA', u'ACIS_EXTRACT', u'Sherpa', u'CIAO', u'SPOT/LEOPARD', u'TLUSTY', u'TEMPO2', u'VLT Instrument Pipelines', u'browse_extract_wget.pl', u'VISIT', u'STSDAS', u'P2PP', u'STARLINK', u'GSL', u'STScI Python', u'UKIRT-OT', u'Ureka', u'ISIS', u'HEASoft', u'SEXTRACTOR', u'PROFIT', u'PIMMS', u'SAE', u'GASGANO', u'SPLASH', u'PINTofALE', u'SAS', u'CMBEASY', u'GRACE', u'MOPEX', u'STARVIEW', u'SCISOFT', u'SAOImage ds9', u'Aladin', u'fv', u'IRAF', u'CHIANTI IDL package', u'EXSAS', u'CCfits', u'OSA', u'ASTROGRID VO DESKTOP', u'XSPEC', u'WINDOW TO THE STARS', u'MIDAS', u'CASA', u'browse_extract.pl', u'CFITSIO', u'XSPEC 11', u'SPEX', u'XIMAGE', u'WCSLIB', u'IDL Astronomical Users Library', u'PROS', u'XRONOS', u'APT', u'AIPS', u'ASTROPY', u'SYNSPEC', u'W3Browse', u'ECLIPSE', u'GALPROP', u'TARA']\n"
     ]
    }
   ],
   "source": [
    "print k"
   ]
  },
  {
   "cell_type": "code",
   "execution_count": 228,
   "metadata": {
    "collapsed": false
   },
   "outputs": [
    {
     "name": "stdout",
     "output_type": "stream",
     "text": [
      "65\n"
     ]
    }
   ],
   "source": [
    "print len(k)"
   ]
  },
  {
   "cell_type": "code",
   "execution_count": 229,
   "metadata": {
    "collapsed": false
   },
   "outputs": [
    {
     "name": "stdout",
     "output_type": "stream",
     "text": [
      "TARA\n"
     ]
    }
   ],
   "source": [
    "print k[64]"
   ]
  },
  {
   "cell_type": "code",
   "execution_count": 242,
   "metadata": {
    "collapsed": false
   },
   "outputs": [
    {
     "data": {
      "text/plain": [
       "array([ 0,  9, 18, 27, 36, 45, 54, 63])"
      ]
     },
     "execution_count": 242,
     "metadata": {},
     "output_type": "execute_result"
    }
   ],
   "source": [
    "arange(0,len(k)-1,9)"
   ]
  },
  {
   "cell_type": "markdown",
   "metadata": {},
   "source": [
    "<hr>\n",
    "<h2>How to find the latest version for a CALDB</h2>\n",
    "\n",
    "we define a caldb python dictionary as follows:\n",
    "\n",
    "caldb={'ASCA':{'GIS':20060711,'SIS':19991111,'XRT':19991111,'MIS':19940114}, 'BEPPOSAX':{'HGSPC':1999, 'LECS':1999, 'MECS':1999, 'PDS':1999, 'WFC':1999} ...}\n",
    "\n",
    "this dictionary should be defined by parsing the \"supported missions\" webpage\n",
    "http://heasarc.gsfc.nasa.gov/docs/heasarc/caldb/caldb_supported_missions.html"
   ]
  },
  {
   "cell_type": "code",
   "execution_count": null,
   "metadata": {
    "collapsed": true
   },
   "outputs": [],
   "source": [
    "def caldb_dict(url=\"http://heasarc.gsfc.nasa.gov/docs/heasarc/caldb/caldb_supported_missions.html\"):\n",
    "    \"\"\"\n",
    "    Parse the caldb supported missions web page and convert to a python library\n",
    "    \"\"\"\n",
    "    from bs4 import BeautifulSoup\n",
    "    import urllib2\n",
    "    response = urllib2.urlopen(url)\n",
    "    html=response.read()\n",
    "    soup=BeautifulSoup(''.join(html))\n",
    "    table=soup.findAll('table')\n",
    "    hcal_table=table[1] # there are 3 tables on the page, the caldb version table is the 2nd table\n",
    "    rows = hcal_table.findAll('tr')\n",
    "    #a= ''.join(cols.find(text=True)).strip()\n",
    "    #print a\n",
    "    caldb_dict=dict()\n",
    "    \"\"\"\n",
    "    Read first row - contains the first mission\n",
    "       if first cell in row is not empty: mission name=mis\n",
    "    \"\"\"\n",
    "    cols = rows[0].findAll('td')\n",
    "    mis =str(cols[0].find(text=True)).strip().lower()\n",
    "    #print \"Found %s\" % mis\n",
    "    \"\"\"\n",
    "    Read next row\n",
    "       check that first cell in row is empty: \n",
    "         if cell empty, then add to instrument dictionary\n",
    "            inst_dict[cell[1]]=cell[2] (i.e. something like inst_dict={'XIS':'20140101'}) \n",
    "                 where cell[1] is the instrument name (XIS) and cell[2] is the version date \n",
    "          if cell is not empty: found new mission\n",
    "               so store instr_dict in caldb_dict for previous mission: CALDB_DICT[MIS]=inst_dict\n",
    "               set mis = new mission\n",
    "               clear inst_dict\n",
    "               repeat\n",
    "    \"\"\"\n",
    "    inst_dict=dict()\n",
    "    for row in rows[1:]: # omit first row (i.e. row 0)\n",
    "        cols = row.findAll('td')\n",
    "        #print cols[0]\n",
    "        a=cols[0].find(text=True)\n",
    "        #print a\n",
    "        if len(a.strip()) == 0: # no entry in mission cell, so these are instruments\n",
    "            inst= str(cols[1].find(text=True)).strip().lower()\n",
    "            vers= str(cols[2].find(text=True)).strip()\n",
    "            #print mis, inst, vers\n",
    "            try:\n",
    "                inst_dict[inst]=caldate2vers(vers)\n",
    "            except:\n",
    "                inst_dict[inst]=vers\n",
    "        else: # save instruments & version in mission dictionary\n",
    "            #print inst_dict\n",
    "            #print \"current mission is %s\" % mis\n",
    "            caldb_dict[mis]=inst_dict\n",
    "            #print caldb_dict\n",
    "            inst_dict=dict()\n",
    "            mis=str(a.strip()).lower()\n",
    "            #print \"Found new mission %s \" % mis\n",
    "    return caldb_dict\n",
    "\n",
    "def caldate2vers(update_date):\n",
    "    \"\"\"\n",
    "    converts latest update dates (a string in mmm 00, yyyy format) to yyyymmdd format\n",
    "    \"\"\"\n",
    "    month=({'Apr':'04','Aug':'08','Dec':'12','Feb':'02','Jan':'01','Jul':'07','Jun':'06','Mar':'03','May':'05','Nov':'11',\n",
    "          'Oct':'10','Sep':'09'})\n",
    "    a=update_date.split(',')\n",
    "    yyyy=a[1].strip()\n",
    "    b=a[0].split()\n",
    "    mon=b[0]\n",
    "    day=b[1]\n",
    "    return yyyy+month[mon]+day\n",
    "    \n",
    "def current_caldb_vers(mis, inst):\n",
    "    import ftplib\n",
    "    caldir=\"caldb/data/\"+mis.lower().strip()+\"/\"+inst.lower().strip()\n",
    "    ftp = ftplib.FTP(\"heasarc.gsfc.nasa.gov\")\n",
    "    ftp.login(\"anonymous\", \"\")\n",
    "    ftpmess=ftp.cwd(caldir)\n",
    "    list=[]\n",
    "    ftp.dir('caldb.indx', list.append)\n",
    "    ftp.close()\n",
    "    vers=list[0].split()[-1].split('/')[1].split('indx')[-1] #[-1] is the last element\n",
    "    return vers"
   ]
  },
  {
   "cell_type": "code",
   "execution_count": 86,
   "metadata": {
    "collapsed": true
   },
   "outputs": [],
   "source": [
    "caldict=caldb_dict()"
   ]
  },
  {
   "cell_type": "code",
   "execution_count": 99,
   "metadata": {
    "collapsed": false
   },
   "outputs": [
    {
     "ename": "KeyError",
     "evalue": "'xte'",
     "output_type": "error",
     "traceback": [
      "\u001b[0;31m---------------------------------------------------------------------------\u001b[0m\n\u001b[0;31mKeyError\u001b[0m                                  Traceback (most recent call last)",
      "\u001b[0;32m<ipython-input-99-f7008cf96fce>\u001b[0m in \u001b[0;36m<module>\u001b[0;34m()\u001b[0m\n\u001b[1;32m      1\u001b[0m \u001b[0mmis\u001b[0m\u001b[0;34m=\u001b[0m\u001b[0;34m'xte'\u001b[0m\u001b[0;34m\u001b[0m\u001b[0m\n\u001b[1;32m      2\u001b[0m \u001b[0minst\u001b[0m\u001b[0;34m=\u001b[0m\u001b[0;34m'pca'\u001b[0m\u001b[0;34m\u001b[0m\u001b[0m\n\u001b[0;32m----> 3\u001b[0;31m \u001b[0;32mprint\u001b[0m \u001b[0mcaldict\u001b[0m\u001b[0;34m[\u001b[0m\u001b[0mmis\u001b[0m\u001b[0;34m]\u001b[0m\u001b[0;34m[\u001b[0m\u001b[0minst\u001b[0m\u001b[0;34m]\u001b[0m\u001b[0;34m\u001b[0m\u001b[0m\n\u001b[0m\u001b[1;32m      4\u001b[0m \u001b[0mcur_vers\u001b[0m\u001b[0;34m=\u001b[0m\u001b[0mcurrent_caldb_vers\u001b[0m\u001b[0;34m(\u001b[0m\u001b[0mmis\u001b[0m\u001b[0;34m,\u001b[0m \u001b[0minst\u001b[0m\u001b[0;34m)\u001b[0m\u001b[0;34m\u001b[0m\u001b[0m\n\u001b[1;32m      5\u001b[0m \u001b[0;32mprint\u001b[0m \u001b[0mcur_vers\u001b[0m\u001b[0;34m\u001b[0m\u001b[0m\n",
      "\u001b[0;31mKeyError\u001b[0m: 'xte'"
     ]
    }
   ],
   "source": [
    "mis='xte'\n",
    "inst='pca'\n",
    "print caldict[mis][inst]\n",
    "cur_vers=current_caldb_vers(mis, inst)\n",
    "print cur_vers\n",
    "if caldict['nustar']['fpm']==cur_vers:\n",
    "    print \"You're Current!\"\n",
    "else:\n",
    "    print \"Not current :-(\""
   ]
  },
  {
   "cell_type": "code",
   "execution_count": 192,
   "metadata": {
    "collapsed": false
   },
   "outputs": [
    {
     "name": "stdout",
     "output_type": "stream",
     "text": [
      "Nov 11, 1999\n",
      "19991111\n"
     ]
    }
   ],
   "source": [
    "a=caldict['ASCA']['GIS'].split(',')\n",
    "yyyy=a[1].strip()\n",
    "yyyy\n",
    "a[0]\n",
    "a[0].split()\n",
    "c='1999'+'11'+'11'\n",
    "c\n",
    "\n",
    "print caldict['ASCA']['GIS']\n",
    "print caldate2vers('Nov 11, 1999')"
   ]
  },
  {
   "cell_type": "code",
   "execution_count": 208,
   "metadata": {
    "collapsed": false
   },
   "outputs": [
    {
     "data": {
      "text/plain": [
       "{'GIS': '19991111',\n",
       " 'MIS': '19940114',\n",
       " 'SIS': 'July 11, 2006',\n",
       " 'XRT': '19991111'}"
      ]
     },
     "execution_count": 208,
     "metadata": {},
     "output_type": "execute_result"
    }
   ],
   "source": [
    "caldict['ASCA']"
   ]
  },
  {
   "cell_type": "code",
   "execution_count": 57,
   "metadata": {
    "collapsed": false
   },
   "outputs": [
    {
     "data": {
      "text/plain": [
       "{}"
      ]
     },
     "execution_count": 57,
     "metadata": {},
     "output_type": "execute_result"
    }
   ],
   "source": [
    "a={'b':'c',2:5}\n",
    "a\n",
    "a.clear()\n",
    "a"
   ]
  },
  {
   "cell_type": "code",
   "execution_count": 107,
   "metadata": {
    "collapsed": true
   },
   "outputs": [],
   "source": [
    "from bs4 import BeautifulSoup\n",
    "import urllib2\n",
    "url=\"http://heasarc.gsfc.nasa.gov/docs/heasarc/caldb/caldb_supported_missions.html\"\n",
    "response = urllib2.urlopen(url)\n",
    "html=response.read()\n",
    "soup = BeautifulSoup(html)\n",
    "table=soup.findAll('table')\n",
    "hcal_table=table[1]# there are 3 tables on the page, the software version table is the 2nd table\n",
    "rows = hcal_table.findAll('tr')\n",
    "cols = rows[3].findAll('td')\n",
    "mis =str(cols[0].find(text=True))"
   ]
  },
  {
   "cell_type": "code",
   "execution_count": 179,
   "metadata": {
    "collapsed": false
   },
   "outputs": [
    {
     "data": {
      "text/plain": [
       "{'': 0,\n",
       " 'Apr': 4,\n",
       " 'Aug': 8,\n",
       " 'Dec': 12,\n",
       " 'Feb': 2,\n",
       " 'Jan': 1,\n",
       " 'Jul': 7,\n",
       " 'Jun': 6,\n",
       " 'Mar': 3,\n",
       " 'May': 5,\n",
       " 'Nov': 11,\n",
       " 'Oct': 10,\n",
       " 'Sep': 9}"
      ]
     },
     "execution_count": 179,
     "metadata": {},
     "output_type": "execute_result"
    }
   ],
   "source": [
    "import calendar\n",
    "enumerate(calendar.month_abbr)\n",
    "dict((v,k) for k,v in enumerate(calendar.month_abbr))"
   ]
  },
  {
   "cell_type": "code",
   "execution_count": 181,
   "metadata": {
    "collapsed": false
   },
   "outputs": [
    {
     "data": {
      "text/plain": [
       "'09'"
      ]
     },
     "execution_count": 181,
     "metadata": {},
     "output_type": "execute_result"
    }
   ],
   "source": [
    "mon['Sep']"
   ]
  },
  {
   "cell_type": "code",
   "execution_count": 82,
   "metadata": {
    "collapsed": false
   },
   "outputs": [
    {
     "data": {
      "text/plain": [
       "['lrwxrwxrwx   1 1389     340            24 Jan 17 12:31 caldb.indx -> index/caldb.indx20131223']"
      ]
     },
     "execution_count": 82,
     "metadata": {},
     "output_type": "execute_result"
    }
   ],
   "source": [
    "import ftplib\n",
    "ftp = ftplib.FTP(\"heasarc.gsfc.nasa.gov\")\n",
    "ftp.login(\"anonymous\", \"\")\n",
    "ftpmess=ftp.cwd(\"caldb/data/nustar/fpm\")\n",
    "list=[]\n",
    "ftp.dir('caldb.indx', list.append)\n",
    "ftp.close()\n",
    "list"
   ]
  },
  {
   "cell_type": "code",
   "execution_count": null,
   "metadata": {
    "collapsed": true
   },
   "outputs": [],
   "source": [
    "a=list[0].split()"
   ]
  },
  {
   "cell_type": "code",
   "execution_count": null,
   "metadata": {
    "collapsed": true
   },
   "outputs": [],
   "source": [
    "a[-1]"
   ]
  },
  {
   "cell_type": "code",
   "execution_count": 83,
   "metadata": {
    "collapsed": true
   },
   "outputs": [],
   "source": [
    "vers=list[0].split()[-1].split('/')[1].split('indx')[-1]"
   ]
  },
  {
   "cell_type": "code",
   "execution_count": 84,
   "metadata": {
    "collapsed": false
   },
   "outputs": [
    {
     "data": {
      "text/plain": [
       "'20131223'"
      ]
     },
     "execution_count": 84,
     "metadata": {},
     "output_type": "execute_result"
    }
   ],
   "source": [
    "vers"
   ]
  },
  {
   "cell_type": "code",
   "execution_count": 59,
   "metadata": {
    "collapsed": true
   },
   "outputs": [],
   "source": [
    "a='ABC'"
   ]
  },
  {
   "cell_type": "code",
   "execution_count": 61,
   "metadata": {
    "collapsed": false
   },
   "outputs": [
    {
     "data": {
      "text/plain": [
       "'abc'"
      ]
     },
     "execution_count": 61,
     "metadata": {},
     "output_type": "execute_result"
    }
   ],
   "source": [
    "a.lower()"
   ]
  }
 ],
 "metadata": {
  "kernelspec": {
   "display_name": "Python 2",
   "language": "python",
   "name": "python2"
  },
  "language_info": {
   "codemirror_mode": {
    "name": "ipython",
    "version": 2
   },
   "file_extension": ".py",
   "mimetype": "text/x-python",
   "name": "python",
   "nbconvert_exporter": "python",
   "pygments_lexer": "ipython2",
   "version": "2.7.10"
  }
 },
 "nbformat": 4,
 "nbformat_minor": 0
}
