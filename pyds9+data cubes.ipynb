{
 "metadata": {
  "name": "",
  "signature": "sha256:f68c9d3135ce0f882f4b36cff5e20d4ec106ad502ceebebff7cfeff498026e68"
 },
 "nbformat": 3,
 "nbformat_minor": 0,
 "worksheets": [
  {
   "cells": [
    {
     "cell_type": "markdown",
     "metadata": {},
     "source": [
      "Shows how to display an image in ds9 from Python\n",
      "\n",
      "Also shows how to read in an idl save file using readsav from scipy.io.idl\n",
      "\n",
      "Also shows how to display a datacube (X, Y, Z) from a fits file in a ds9 \"3-D frame\"\n",
      "\n",
      "\n",
      "----"
     ]
    },
    {
     "cell_type": "code",
     "collapsed": false,
     "input": [
      "from scipy import stats\n",
      "import numpy as np\n",
      "import ds9\n"
     ],
     "language": "python",
     "metadata": {},
     "outputs": [],
     "prompt_number": 1
    },
    {
     "cell_type": "markdown",
     "metadata": {},
     "source": [
      "Example - displaying a 2-d gaussian in ds9 from python"
     ]
    },
    {
     "cell_type": "code",
     "collapsed": false,
     "input": [
      " x = np.arange(-3, 3, 0.1)"
     ],
     "language": "python",
     "metadata": {},
     "outputs": [],
     "prompt_number": 2
    },
    {
     "cell_type": "code",
     "collapsed": false,
     "input": [
      "xx, yy = np.meshgrid(x, x) # make an x, y mesh\n"
     ],
     "language": "python",
     "metadata": {},
     "outputs": [],
     "prompt_number": 3
    },
    {
     "cell_type": "code",
     "collapsed": false,
     "input": [
      "xx"
     ],
     "language": "python",
     "metadata": {},
     "outputs": [
      {
       "metadata": {},
       "output_type": "pyout",
       "prompt_number": 4,
       "text": [
        "array([[-3. , -2.9, -2.8, ...,  2.7,  2.8,  2.9],\n",
        "       [-3. , -2.9, -2.8, ...,  2.7,  2.8,  2.9],\n",
        "       [-3. , -2.9, -2.8, ...,  2.7,  2.8,  2.9],\n",
        "       ..., \n",
        "       [-3. , -2.9, -2.8, ...,  2.7,  2.8,  2.9],\n",
        "       [-3. , -2.9, -2.8, ...,  2.7,  2.8,  2.9],\n",
        "       [-3. , -2.9, -2.8, ...,  2.7,  2.8,  2.9]])"
       ]
      }
     ],
     "prompt_number": 4
    },
    {
     "cell_type": "code",
     "collapsed": false,
     "input": [
      "xx.size\n"
     ],
     "language": "python",
     "metadata": {},
     "outputs": [
      {
       "metadata": {},
       "output_type": "pyout",
       "prompt_number": 5,
       "text": [
        "3600"
       ]
      }
     ],
     "prompt_number": 5
    },
    {
     "cell_type": "code",
     "collapsed": false,
     "input": [
      "xx.ndim\n"
     ],
     "language": "python",
     "metadata": {},
     "outputs": [
      {
       "metadata": {},
       "output_type": "pyout",
       "prompt_number": 6,
       "text": [
        "2"
       ]
      }
     ],
     "prompt_number": 6
    },
    {
     "cell_type": "code",
     "collapsed": false,
     "input": [
      "test = stats.norm.pdf(xx)\n",
      "gauss2d=stats.norm.pdf(xx) * stats.norm.pdf(yy)\n",
      "test.ndim\n"
     ],
     "language": "python",
     "metadata": {},
     "outputs": [
      {
       "metadata": {},
       "output_type": "pyout",
       "prompt_number": 7,
       "text": [
        "2"
       ]
      }
     ],
     "prompt_number": 7
    },
    {
     "cell_type": "code",
     "collapsed": false,
     "input": [
      "d = ds9.ds9()"
     ],
     "language": "python",
     "metadata": {},
     "outputs": []
    },
    {
     "cell_type": "code",
     "collapsed": false,
     "input": [
      "d.set_np2arr(gauss2d)\n"
     ],
     "language": "python",
     "metadata": {},
     "outputs": []
    },
    {
     "cell_type": "code",
     "collapsed": false,
     "input": [
      "d.set('cmap bb')\n"
     ],
     "language": "python",
     "metadata": {},
     "outputs": []
    },
    {
     "cell_type": "code",
     "collapsed": false,
     "input": [
      "d.set(\"frame new\")\n"
     ],
     "language": "python",
     "metadata": {},
     "outputs": []
    },
    {
     "cell_type": "code",
     "collapsed": false,
     "input": [
      "d.set(\"file /Users/corcoran/research/Delta_Ori/VLP/Data/ao14/14567/primary/acisf14567N001_evt2.fits\")"
     ],
     "language": "python",
     "metadata": {},
     "outputs": []
    },
    {
     "cell_type": "code",
     "collapsed": false,
     "input": [
      "d.set(\"frame 1\")\n",
      "d.set_np2arr(gauss2d)"
     ],
     "language": "python",
     "metadata": {},
     "outputs": [
      {
       "metadata": {},
       "output_type": "pyout",
       "prompt_number": 23,
       "text": [
        "1"
       ]
      }
     ],
     "prompt_number": 23
    },
    {
     "cell_type": "code",
     "collapsed": false,
     "input": [
      " from scipy.io.idl import readsav # to read an idl save file\n",
      "    "
     ],
     "language": "python",
     "metadata": {},
     "outputs": [],
     "prompt_number": 2
    },
    {
     "cell_type": "code",
     "collapsed": false,
     "input": [
      "s=readsav(\"/Users/corcoran/Dropbox/people/Ted/Feb2014_obs/Feb14_analysis_nopath.dat\") # that  file's an idl save file\n"
     ],
     "language": "python",
     "metadata": {},
     "outputs": [],
     "prompt_number": 3
    },
    {
     "cell_type": "code",
     "collapsed": false,
     "input": [
      "\n"
     ],
     "language": "python",
     "metadata": {},
     "outputs": []
    },
    {
     "cell_type": "code",
     "collapsed": false,
     "input": [
      "d.set(\"frame new 3d\") # set up a 3-d frame\n"
     ],
     "language": "python",
     "metadata": {},
     "outputs": [
      {
       "metadata": {},
       "output_type": "pyout",
       "prompt_number": 43,
       "text": [
        "1"
       ]
      }
     ],
     "prompt_number": 43
    },
    {
     "cell_type": "code",
     "collapsed": false,
     "input": [
      "s.keys()\n",
      "\n"
     ],
     "language": "python",
     "metadata": {},
     "outputs": [
      {
       "metadata": {},
       "output_type": "pyout",
       "prompt_number": 4,
       "text": [
        "['diffeii11m10',\n",
        " 'cubefeii13',\n",
        " 'cubefeii12',\n",
        " 'cubefeii11',\n",
        " 'cubefeii10',\n",
        " 'magfeiii12m11',\n",
        " 'magfeiii12m10',\n",
        " 'magfeii12m11',\n",
        " 'magfeii12m10',\n",
        " 'twocolor',\n",
        " 'location',\n",
        " 'diffeii142m12',\n",
        " 'f312',\n",
        " 'diffeii142m10',\n",
        " 'diffeii142m11',\n",
        " 'difiron212m10',\n",
        " 'magfeiii11m10',\n",
        " 'diffeii142m110',\n",
        " 'magiron313m10',\n",
        " 'f213',\n",
        " 'f212',\n",
        " 'f211',\n",
        " 'f210',\n",
        " 'dif313m12',\n",
        " 'dif313m11',\n",
        " 'dif313m10',\n",
        " 'magfeii13m12',\n",
        " 'magfeii13m10',\n",
        " 'magfeii13m11',\n",
        " 'dif312m10',\n",
        " 'dif312m11',\n",
        " 'dif212m11',\n",
        " 'dif212m10',\n",
        " 'f3142',\n",
        " 'diffeiii142m10',\n",
        " 'diffeiii142m11',\n",
        " 'diffeiii142m12',\n",
        " 'difiron313m12',\n",
        " 'blue',\n",
        " 'diffeii12m11',\n",
        " 'diffeii12m10',\n",
        " 'difiron3142m13',\n",
        " 'difiron3142m12',\n",
        " 'difiron3142m11',\n",
        " 'difiron3142m10',\n",
        " 'red',\n",
        " 'f2142',\n",
        " 'magfeiii13m10',\n",
        " 'magfeiii13m11',\n",
        " 'difiron312m10',\n",
        " 'difiron312m11',\n",
        " 'diffeiii12m11',\n",
        " 'diffeiii12m10',\n",
        " 'k',\n",
        " 'magfeiii13m12',\n",
        " 'cubefeiii142',\n",
        " 'difiron311m10',\n",
        " 'dif211m10',\n",
        " 'cubefeii142',\n",
        " 'diriron313m12',\n",
        " 'difiron212m11',\n",
        " 'f313',\n",
        " 'f310',\n",
        " 'f311',\n",
        " 'j',\n",
        " 'diffeiii13m10',\n",
        " 'diffeiii13m11',\n",
        " 'diffeiii13m12',\n",
        " 'difiron313m10',\n",
        " 'difiron211m10',\n",
        " 'dif311m10',\n",
        " 'diffeii142m13',\n",
        " 'diffeiii142m13',\n",
        " 'magfeii11m10',\n",
        " 'cube',\n",
        " 'diffeiii11m10',\n",
        " 'dif213m10',\n",
        " 'dif213m11',\n",
        " 'dif213m12',\n",
        " 'cubefeiii13',\n",
        " 'cubefeiii12',\n",
        " 'cubefeiii11',\n",
        " 'cubefeiii10',\n",
        " 'i',\n",
        " 'magiron213m10',\n",
        " 'difiron2142m12',\n",
        " 'difiron2142m13',\n",
        " 'difiron2142m10',\n",
        " 'difiron2142m11',\n",
        " 'diffeii13m12',\n",
        " 'diffeii13m10',\n",
        " 'diffeii13m11',\n",
        " 'difiron213m12',\n",
        " 'difiron213m10']"
       ]
      }
     ],
     "prompt_number": 4
    },
    {
     "cell_type": "code",
     "collapsed": false,
     "input": [],
     "language": "python",
     "metadata": {},
     "outputs": [],
     "prompt_number": 44
    },
    {
     "cell_type": "code",
     "collapsed": false,
     "input": [
      "f2142=s.f2142\n"
     ],
     "language": "python",
     "metadata": {},
     "outputs": [],
     "prompt_number": 50
    },
    {
     "cell_type": "code",
     "collapsed": false,
     "input": [
      "f2142.ndim\n"
     ],
     "language": "python",
     "metadata": {},
     "outputs": [
      {
       "metadata": {},
       "output_type": "pyout",
       "prompt_number": 51,
       "text": [
        "3"
       ]
      }
     ],
     "prompt_number": 51
    },
    {
     "cell_type": "code",
     "collapsed": false,
     "input": [
      "import pyfits\n",
      "import pywcs\n",
      "# Create a new WCS object.  The number of axes must be set\n",
      "# from the start\n",
      "wcs = pywcs.WCS(naxis=3)\n",
      "# Set up an \"TANGENTIAL\" projection\n",
      "# Vector properties may be set with Python lists, or Numpy arrays\n",
      "wcs.wcs.crpix = [80, 80, 0]\n",
      "wcs.wcs.cdelt = numpy.array([-0.066667, 0.066667,1000./25.]) # approximate values\n",
      "wcs.wcs.crval = [10.7, -54,-500] # approximate values\n",
      "wcs.wcs.ctype = [\"RA---TAN\", \"DEC--TAN\", \"VELOCITY\"]\n",
      "header = wcs.to_header()\n",
      "k=s.keys()\n",
      "for i in k:\n",
      "    if (hasattr(s[i],'ndim') and s[i].ndim > 1):\n",
      "        fname=i+\".fits\"\n",
      "        print \"File = %s\\n\" % fname\n",
      "        pyfits.writeto(\"/Users/corcoran/Dropbox/people/Ted/Feb2014_obs/mike/\"+fname,s[i], clobber=True, header=header)"
     ],
     "language": "python",
     "metadata": {},
     "outputs": [
      {
       "output_type": "stream",
       "stream": "stdout",
       "text": [
        "File = diffeii11m10.fits\n",
        "\n",
        "File = cubefeii13.fits\n"
       ]
      },
      {
       "output_type": "stream",
       "stream": "stderr",
       "text": [
        "Overwriting existing file '/Users/corcoran/Dropbox/people/Ted/Feb2014_obs/mike/diffeii11m10.fits'.\n",
        "Overwriting existing file '/Users/corcoran/Dropbox/people/Ted/Feb2014_obs/mike/cubefeii13.fits'.\n",
        "Overwriting existing file '/Users/corcoran/Dropbox/people/Ted/Feb2014_obs/mike/cubefeii12.fits'.\n"
       ]
      },
      {
       "output_type": "stream",
       "stream": "stdout",
       "text": [
        "\n",
        "File = cubefeii12.fits\n",
        "\n",
        "File = cubefeii11.fits\n"
       ]
      },
      {
       "output_type": "stream",
       "stream": "stdout",
       "text": [
        "\n",
        "File = cubefeii10.fits\n",
        "\n",
        "File = magfeiii12m11.fits\n"
       ]
      },
      {
       "output_type": "stream",
       "stream": "stderr",
       "text": [
        "Overwriting existing file '/Users/corcoran/Dropbox/people/Ted/Feb2014_obs/mike/cubefeii11.fits'.\n",
        "Overwriting existing file '/Users/corcoran/Dropbox/people/Ted/Feb2014_obs/mike/cubefeii10.fits'.\n",
        "Overwriting existing file '/Users/corcoran/Dropbox/people/Ted/Feb2014_obs/mike/magfeiii12m11.fits'.\n",
        "Overwriting existing file '/Users/corcoran/Dropbox/people/Ted/Feb2014_obs/mike/magfeiii12m10.fits'.\n"
       ]
      },
      {
       "output_type": "stream",
       "stream": "stdout",
       "text": [
        "\n",
        "File = magfeiii12m10.fits\n",
        "\n",
        "File = magfeii12m11.fits\n",
        "\n",
        "File = magfeii12m10.fits\n"
       ]
      },
      {
       "output_type": "stream",
       "stream": "stdout",
       "text": [
        "\n",
        "File = twocolor.fits\n",
        "\n",
        "File = diffeii142m12.fits\n"
       ]
      },
      {
       "output_type": "stream",
       "stream": "stderr",
       "text": [
        "Overwriting existing file '/Users/corcoran/Dropbox/people/Ted/Feb2014_obs/mike/magfeii12m11.fits'.\n",
        "Overwriting existing file '/Users/corcoran/Dropbox/people/Ted/Feb2014_obs/mike/magfeii12m10.fits'.\n",
        "Overwriting existing file '/Users/corcoran/Dropbox/people/Ted/Feb2014_obs/mike/twocolor.fits'.\n",
        "Overwriting existing file '/Users/corcoran/Dropbox/people/Ted/Feb2014_obs/mike/diffeii142m12.fits'.\n"
       ]
      },
      {
       "output_type": "stream",
       "stream": "stdout",
       "text": [
        "\n",
        "File = f312.fits\n"
       ]
      },
      {
       "output_type": "stream",
       "stream": "stdout",
       "text": [
        "\n",
        "File = diffeii142m10.fits\n"
       ]
      },
      {
       "output_type": "stream",
       "stream": "stderr",
       "text": [
        "Overwriting existing file '/Users/corcoran/Dropbox/people/Ted/Feb2014_obs/mike/f312.fits'.\n",
        "Overwriting existing file '/Users/corcoran/Dropbox/people/Ted/Feb2014_obs/mike/diffeii142m10.fits'.\n"
       ]
      },
      {
       "output_type": "stream",
       "stream": "stdout",
       "text": [
        "\n",
        "File = diffeii142m11.fits\n",
        "\n",
        "File = difiron212m10.fits\n",
        "\n",
        "File = magfeiii11m10.fits\n"
       ]
      },
      {
       "output_type": "stream",
       "stream": "stderr",
       "text": [
        "Overwriting existing file '/Users/corcoran/Dropbox/people/Ted/Feb2014_obs/mike/diffeii142m11.fits'.\n",
        "Overwriting existing file '/Users/corcoran/Dropbox/people/Ted/Feb2014_obs/mike/difiron212m10.fits'.\n",
        "Overwriting existing file '/Users/corcoran/Dropbox/people/Ted/Feb2014_obs/mike/magfeiii11m10.fits'.\n"
       ]
      },
      {
       "output_type": "stream",
       "stream": "stdout",
       "text": [
        "\n",
        "File = diffeii142m110.fits\n"
       ]
      },
      {
       "output_type": "stream",
       "stream": "stdout",
       "text": [
        "\n",
        "File = magiron313m10.fits\n"
       ]
      },
      {
       "output_type": "stream",
       "stream": "stderr",
       "text": [
        "Overwriting existing file '/Users/corcoran/Dropbox/people/Ted/Feb2014_obs/mike/diffeii142m110.fits'.\n",
        "Overwriting existing file '/Users/corcoran/Dropbox/people/Ted/Feb2014_obs/mike/magiron313m10.fits'.\n"
       ]
      },
      {
       "output_type": "stream",
       "stream": "stdout",
       "text": [
        "\n",
        "File = f213.fits\n"
       ]
      },
      {
       "output_type": "stream",
       "stream": "stdout",
       "text": [
        "\n",
        "File = f212.fits\n"
       ]
      },
      {
       "output_type": "stream",
       "stream": "stderr",
       "text": [
        "Overwriting existing file '/Users/corcoran/Dropbox/people/Ted/Feb2014_obs/mike/f213.fits'.\n",
        "Overwriting existing file '/Users/corcoran/Dropbox/people/Ted/Feb2014_obs/mike/f212.fits'.\n"
       ]
      },
      {
       "output_type": "stream",
       "stream": "stdout",
       "text": [
        "\n",
        "File = f211.fits\n"
       ]
      },
      {
       "output_type": "stream",
       "stream": "stderr",
       "text": [
        "Overwriting existing file '/Users/corcoran/Dropbox/people/Ted/Feb2014_obs/mike/f211.fits'.\n",
        "Overwriting existing file '/Users/corcoran/Dropbox/people/Ted/Feb2014_obs/mike/f210.fits'.\n"
       ]
      },
      {
       "output_type": "stream",
       "stream": "stdout",
       "text": [
        "\n",
        "File = f210.fits\n",
        "\n",
        "File = dif313m12.fits\n"
       ]
      },
      {
       "output_type": "stream",
       "stream": "stdout",
       "text": [
        "\n",
        "File = dif313m11.fits\n"
       ]
      },
      {
       "output_type": "stream",
       "stream": "stderr",
       "text": [
        "Overwriting existing file '/Users/corcoran/Dropbox/people/Ted/Feb2014_obs/mike/dif313m12.fits'.\n",
        "Overwriting existing file '/Users/corcoran/Dropbox/people/Ted/Feb2014_obs/mike/dif313m11.fits'.\n"
       ]
      },
      {
       "output_type": "stream",
       "stream": "stdout",
       "text": [
        "\n",
        "File = dif313m10.fits\n"
       ]
      },
      {
       "output_type": "stream",
       "stream": "stdout",
       "text": [
        "\n",
        "File = magfeii13m12.fits\n"
       ]
      },
      {
       "output_type": "stream",
       "stream": "stderr",
       "text": [
        "Overwriting existing file '/Users/corcoran/Dropbox/people/Ted/Feb2014_obs/mike/dif313m10.fits'.\n",
        "Overwriting existing file '/Users/corcoran/Dropbox/people/Ted/Feb2014_obs/mike/magfeii13m12.fits'.\n"
       ]
      },
      {
       "output_type": "stream",
       "stream": "stdout",
       "text": [
        "\n",
        "File = magfeii13m10.fits\n",
        "\n",
        "File = magfeii13m11.fits\n",
        "\n",
        "File = dif312m10.fits\n"
       ]
      },
      {
       "output_type": "stream",
       "stream": "stderr",
       "text": [
        "Overwriting existing file '/Users/corcoran/Dropbox/people/Ted/Feb2014_obs/mike/magfeii13m10.fits'.\n",
        "Overwriting existing file '/Users/corcoran/Dropbox/people/Ted/Feb2014_obs/mike/magfeii13m11.fits'.\n",
        "Overwriting existing file '/Users/corcoran/Dropbox/people/Ted/Feb2014_obs/mike/dif312m10.fits'.\n"
       ]
      },
      {
       "output_type": "stream",
       "stream": "stdout",
       "text": [
        "\n",
        "File = dif312m11.fits\n"
       ]
      },
      {
       "output_type": "stream",
       "stream": "stdout",
       "text": [
        "\n",
        "File = dif212m11.fits\n"
       ]
      },
      {
       "output_type": "stream",
       "stream": "stderr",
       "text": [
        "Overwriting existing file '/Users/corcoran/Dropbox/people/Ted/Feb2014_obs/mike/dif312m11.fits'.\n",
        "Overwriting existing file '/Users/corcoran/Dropbox/people/Ted/Feb2014_obs/mike/dif212m11.fits'.\n"
       ]
      },
      {
       "output_type": "stream",
       "stream": "stdout",
       "text": [
        "\n",
        "File = dif212m10.fits\n"
       ]
      },
      {
       "output_type": "stream",
       "stream": "stdout",
       "text": [
        "\n",
        "File = f3142.fits\n"
       ]
      },
      {
       "output_type": "stream",
       "stream": "stderr",
       "text": [
        "Overwriting existing file '/Users/corcoran/Dropbox/people/Ted/Feb2014_obs/mike/dif212m10.fits'.\n",
        "Overwriting existing file '/Users/corcoran/Dropbox/people/Ted/Feb2014_obs/mike/f3142.fits'.\n"
       ]
      },
      {
       "output_type": "stream",
       "stream": "stdout",
       "text": [
        "\n",
        "File = diffeiii142m10.fits\n",
        "\n",
        "File = diffeiii142m11.fits\n",
        "\n",
        "File = diffeiii142m12.fits\n",
        "\n",
        "File = difiron313m12.fits\n",
        "\n",
        "File = blue.fits\n"
       ]
      },
      {
       "output_type": "stream",
       "stream": "stdout",
       "text": [
        "\n",
        "File = diffeii12m11.fits\n"
       ]
      },
      {
       "output_type": "stream",
       "stream": "stderr",
       "text": [
        "Overwriting existing file '/Users/corcoran/Dropbox/people/Ted/Feb2014_obs/mike/diffeiii142m10.fits'.\n",
        "Overwriting existing file '/Users/corcoran/Dropbox/people/Ted/Feb2014_obs/mike/diffeiii142m11.fits'.\n",
        "Overwriting existing file '/Users/corcoran/Dropbox/people/Ted/Feb2014_obs/mike/diffeiii142m12.fits'.\n",
        "Overwriting existing file '/Users/corcoran/Dropbox/people/Ted/Feb2014_obs/mike/difiron313m12.fits'.\n",
        "Overwriting existing file '/Users/corcoran/Dropbox/people/Ted/Feb2014_obs/mike/blue.fits'.\n",
        "Overwriting existing file '/Users/corcoran/Dropbox/people/Ted/Feb2014_obs/mike/diffeii12m11.fits'.\n"
       ]
      },
      {
       "output_type": "stream",
       "stream": "stdout",
       "text": [
        "\n",
        "File = diffeii12m10.fits\n",
        "\n",
        "File = difiron3142m13.fits\n",
        "\n",
        "File = difiron3142m12.fits\n",
        "\n",
        "File = difiron3142m11.fits\n"
       ]
      },
      {
       "output_type": "stream",
       "stream": "stderr",
       "text": [
        "Overwriting existing file '/Users/corcoran/Dropbox/people/Ted/Feb2014_obs/mike/diffeii12m10.fits'.\n",
        "Overwriting existing file '/Users/corcoran/Dropbox/people/Ted/Feb2014_obs/mike/difiron3142m13.fits'.\n",
        "Overwriting existing file '/Users/corcoran/Dropbox/people/Ted/Feb2014_obs/mike/difiron3142m12.fits'.\n",
        "Overwriting existing file '/Users/corcoran/Dropbox/people/Ted/Feb2014_obs/mike/difiron3142m11.fits'.\n",
        "Overwriting existing file '/Users/corcoran/Dropbox/people/Ted/Feb2014_obs/mike/difiron3142m10.fits'.\n"
       ]
      },
      {
       "output_type": "stream",
       "stream": "stdout",
       "text": [
        "\n",
        "File = difiron3142m10.fits\n",
        "\n",
        "File = red.fits\n"
       ]
      },
      {
       "output_type": "stream",
       "stream": "stdout",
       "text": [
        "\n",
        "File = f2142.fits\n",
        "\n",
        "File = magfeiii13m10.fits\n",
        "\n",
        "File = magfeiii13m11.fits\n",
        "\n",
        "File = difiron312m10.fits\n"
       ]
      },
      {
       "output_type": "stream",
       "stream": "stderr",
       "text": [
        "Overwriting existing file '/Users/corcoran/Dropbox/people/Ted/Feb2014_obs/mike/red.fits'.\n",
        "Overwriting existing file '/Users/corcoran/Dropbox/people/Ted/Feb2014_obs/mike/f2142.fits'.\n",
        "Overwriting existing file '/Users/corcoran/Dropbox/people/Ted/Feb2014_obs/mike/magfeiii13m10.fits'.\n",
        "Overwriting existing file '/Users/corcoran/Dropbox/people/Ted/Feb2014_obs/mike/magfeiii13m11.fits'.\n",
        "Overwriting existing file '/Users/corcoran/Dropbox/people/Ted/Feb2014_obs/mike/difiron312m10.fits'.\n"
       ]
      },
      {
       "output_type": "stream",
       "stream": "stdout",
       "text": [
        "\n",
        "File = difiron312m11.fits\n",
        "\n",
        "File = diffeiii12m11.fits\n",
        "\n",
        "File = diffeiii12m10.fits\n",
        "\n",
        "File = magfeiii13m12.fits\n"
       ]
      },
      {
       "output_type": "stream",
       "stream": "stderr",
       "text": [
        "Overwriting existing file '/Users/corcoran/Dropbox/people/Ted/Feb2014_obs/mike/difiron312m11.fits'.\n",
        "Overwriting existing file '/Users/corcoran/Dropbox/people/Ted/Feb2014_obs/mike/diffeiii12m11.fits'.\n",
        "Overwriting existing file '/Users/corcoran/Dropbox/people/Ted/Feb2014_obs/mike/diffeiii12m10.fits'.\n",
        "Overwriting existing file '/Users/corcoran/Dropbox/people/Ted/Feb2014_obs/mike/magfeiii13m12.fits'.\n",
        "Overwriting existing file '/Users/corcoran/Dropbox/people/Ted/Feb2014_obs/mike/cubefeiii142.fits'.\n",
        "Overwriting existing file '/Users/corcoran/Dropbox/people/Ted/Feb2014_obs/mike/difiron311m10.fits'.\n"
       ]
      },
      {
       "output_type": "stream",
       "stream": "stdout",
       "text": [
        "\n",
        "File = cubefeiii142.fits\n",
        "\n",
        "File = difiron311m10.fits\n",
        "\n",
        "File = dif211m10.fits\n"
       ]
      },
      {
       "output_type": "stream",
       "stream": "stdout",
       "text": [
        "\n",
        "File = cubefeii142.fits\n"
       ]
      },
      {
       "output_type": "stream",
       "stream": "stderr",
       "text": [
        "Overwriting existing file '/Users/corcoran/Dropbox/people/Ted/Feb2014_obs/mike/dif211m10.fits'.\n",
        "Overwriting existing file '/Users/corcoran/Dropbox/people/Ted/Feb2014_obs/mike/cubefeii142.fits'.\n"
       ]
      },
      {
       "output_type": "stream",
       "stream": "stdout",
       "text": [
        "\n",
        "File = diriron313m12.fits\n",
        "\n",
        "File = difiron212m11.fits\n",
        "\n",
        "File = f313.fits\n"
       ]
      },
      {
       "output_type": "stream",
       "stream": "stderr",
       "text": [
        "Overwriting existing file '/Users/corcoran/Dropbox/people/Ted/Feb2014_obs/mike/diriron313m12.fits'.\n",
        "Overwriting existing file '/Users/corcoran/Dropbox/people/Ted/Feb2014_obs/mike/difiron212m11.fits'.\n",
        "Overwriting existing file '/Users/corcoran/Dropbox/people/Ted/Feb2014_obs/mike/f313.fits'.\n",
        "Overwriting existing file '/Users/corcoran/Dropbox/people/Ted/Feb2014_obs/mike/f310.fits'.\n",
        "Overwriting existing file '/Users/corcoran/Dropbox/people/Ted/Feb2014_obs/mike/f311.fits'.\n"
       ]
      },
      {
       "output_type": "stream",
       "stream": "stdout",
       "text": [
        "\n",
        "File = f310.fits\n",
        "\n",
        "File = f311.fits\n",
        "\n",
        "File = diffeiii13m10.fits\n",
        "\n",
        "File = diffeiii13m11.fits\n",
        "\n",
        "File = diffeiii13m12.fits\n"
       ]
      },
      {
       "output_type": "stream",
       "stream": "stdout",
       "text": [
        "\n",
        "File = difiron313m10.fits\n",
        "\n",
        "File = difiron211m10.fits\n",
        "\n",
        "File = dif311m10.fits\n",
        "\n",
        "File = diffeii142m13.fits\n"
       ]
      },
      {
       "output_type": "stream",
       "stream": "stderr",
       "text": [
        "Overwriting existing file '/Users/corcoran/Dropbox/people/Ted/Feb2014_obs/mike/diffeiii13m10.fits'.\n",
        "Overwriting existing file '/Users/corcoran/Dropbox/people/Ted/Feb2014_obs/mike/diffeiii13m11.fits'.\n",
        "Overwriting existing file '/Users/corcoran/Dropbox/people/Ted/Feb2014_obs/mike/diffeiii13m12.fits'.\n",
        "Overwriting existing file '/Users/corcoran/Dropbox/people/Ted/Feb2014_obs/mike/difiron313m10.fits'.\n",
        "Overwriting existing file '/Users/corcoran/Dropbox/people/Ted/Feb2014_obs/mike/difiron211m10.fits'.\n",
        "Overwriting existing file '/Users/corcoran/Dropbox/people/Ted/Feb2014_obs/mike/dif311m10.fits'.\n",
        "Overwriting existing file '/Users/corcoran/Dropbox/people/Ted/Feb2014_obs/mike/diffeii142m13.fits'.\n"
       ]
      },
      {
       "output_type": "stream",
       "stream": "stdout",
       "text": [
        "\n",
        "File = diffeiii142m13.fits\n"
       ]
      },
      {
       "output_type": "stream",
       "stream": "stdout",
       "text": [
        "\n",
        "File = magfeii11m10.fits\n",
        "\n",
        "File = cube.fits\n",
        "\n",
        "File = diffeiii11m10.fits\n",
        "\n",
        "File = dif213m10.fits\n",
        "\n",
        "File = dif213m11.fits\n"
       ]
      },
      {
       "output_type": "stream",
       "stream": "stderr",
       "text": [
        "Overwriting existing file '/Users/corcoran/Dropbox/people/Ted/Feb2014_obs/mike/diffeiii142m13.fits'.\n",
        "Overwriting existing file '/Users/corcoran/Dropbox/people/Ted/Feb2014_obs/mike/magfeii11m10.fits'.\n",
        "Overwriting existing file '/Users/corcoran/Dropbox/people/Ted/Feb2014_obs/mike/cube.fits'.\n",
        "Overwriting existing file '/Users/corcoran/Dropbox/people/Ted/Feb2014_obs/mike/diffeiii11m10.fits'.\n",
        "Overwriting existing file '/Users/corcoran/Dropbox/people/Ted/Feb2014_obs/mike/dif213m10.fits'.\n",
        "Overwriting existing file '/Users/corcoran/Dropbox/people/Ted/Feb2014_obs/mike/dif213m11.fits'.\n"
       ]
      },
      {
       "output_type": "stream",
       "stream": "stdout",
       "text": [
        "\n",
        "File = dif213m12.fits\n"
       ]
      },
      {
       "output_type": "stream",
       "stream": "stdout",
       "text": [
        "\n",
        "File = cubefeiii13.fits\n"
       ]
      },
      {
       "output_type": "stream",
       "stream": "stderr",
       "text": [
        "Overwriting existing file '/Users/corcoran/Dropbox/people/Ted/Feb2014_obs/mike/dif213m12.fits'.\n",
        "Overwriting existing file '/Users/corcoran/Dropbox/people/Ted/Feb2014_obs/mike/cubefeiii13.fits'.\n"
       ]
      },
      {
       "output_type": "stream",
       "stream": "stdout",
       "text": [
        "\n",
        "File = cubefeiii12.fits\n",
        "\n",
        "File = cubefeiii11.fits\n",
        "\n",
        "File = cubefeiii10.fits\n",
        "\n",
        "File = magiron213m10.fits\n",
        "\n",
        "File = difiron2142m12.fits\n"
       ]
      },
      {
       "output_type": "stream",
       "stream": "stderr",
       "text": [
        "Overwriting existing file '/Users/corcoran/Dropbox/people/Ted/Feb2014_obs/mike/cubefeiii12.fits'.\n",
        "Overwriting existing file '/Users/corcoran/Dropbox/people/Ted/Feb2014_obs/mike/cubefeiii11.fits'.\n",
        "Overwriting existing file '/Users/corcoran/Dropbox/people/Ted/Feb2014_obs/mike/cubefeiii10.fits'.\n",
        "Overwriting existing file '/Users/corcoran/Dropbox/people/Ted/Feb2014_obs/mike/magiron213m10.fits'.\n",
        "Overwriting existing file '/Users/corcoran/Dropbox/people/Ted/Feb2014_obs/mike/difiron2142m12.fits'.\n"
       ]
      },
      {
       "output_type": "stream",
       "stream": "stdout",
       "text": [
        "\n",
        "File = difiron2142m13.fits\n",
        "\n",
        "File = difiron2142m10.fits\n",
        "\n",
        "File = difiron2142m11.fits\n",
        "\n",
        "File = diffeii13m12.fits\n"
       ]
      },
      {
       "output_type": "stream",
       "stream": "stderr",
       "text": [
        "Overwriting existing file '/Users/corcoran/Dropbox/people/Ted/Feb2014_obs/mike/difiron2142m13.fits'.\n",
        "Overwriting existing file '/Users/corcoran/Dropbox/people/Ted/Feb2014_obs/mike/difiron2142m10.fits'.\n",
        "Overwriting existing file '/Users/corcoran/Dropbox/people/Ted/Feb2014_obs/mike/difiron2142m11.fits'.\n",
        "Overwriting existing file '/Users/corcoran/Dropbox/people/Ted/Feb2014_obs/mike/diffeii13m12.fits'.\n"
       ]
      },
      {
       "output_type": "stream",
       "stream": "stdout",
       "text": [
        "\n",
        "File = diffeii13m10.fits\n",
        "\n",
        "File = diffeii13m11.fits\n",
        "\n",
        "File = difiron213m12.fits\n",
        "\n",
        "File = difiron213m10.fits\n",
        "\n"
       ]
      },
      {
       "output_type": "stream",
       "stream": "stderr",
       "text": [
        "Overwriting existing file '/Users/corcoran/Dropbox/people/Ted/Feb2014_obs/mike/diffeii13m10.fits'.\n",
        "Overwriting existing file '/Users/corcoran/Dropbox/people/Ted/Feb2014_obs/mike/diffeii13m11.fits'.\n",
        "Overwriting existing file '/Users/corcoran/Dropbox/people/Ted/Feb2014_obs/mike/difiron213m12.fits'.\n",
        "Overwriting existing file '/Users/corcoran/Dropbox/people/Ted/Feb2014_obs/mike/difiron213m10.fits'.\n"
       ]
      }
     ],
     "prompt_number": 5
    },
    {
     "cell_type": "code",
     "collapsed": false,
     "input": [
      "a=numpy.array([-0.066667, 0.066667])\n",
      "print a"
     ],
     "language": "python",
     "metadata": {},
     "outputs": [
      {
       "output_type": "stream",
       "stream": "stdout",
       "text": [
        "[-0.066667  0.066667]\n"
       ]
      }
     ],
     "prompt_number": 82
    },
    {
     "cell_type": "code",
     "collapsed": false,
     "input": [
      "d.set(\"frame new 3d\") # set up a 3-d frame\n",
      "d.set(\"file /Users/corcoran/Dropbox/people/Ted/Feb2014_obs/mike/f3142.fits\") # this displays the data cube into a 3 d frame\n",
      "#\n",
      "# note - for data with few planes in the Z-axis (this only has 26) set the Z-axis scale (in the ds9 3D window control) to \n",
      "# a number like 50 for better visibility\n",
      "#\n"
     ],
     "language": "python",
     "metadata": {},
     "outputs": [
      {
       "metadata": {},
       "output_type": "pyout",
       "prompt_number": 84,
       "text": [
        "1"
       ]
      }
     ],
     "prompt_number": 84
    },
    {
     "cell_type": "code",
     "collapsed": false,
     "input": [],
     "language": "python",
     "metadata": {},
     "outputs": []
    }
   ],
   "metadata": {}
  }
 ]
}