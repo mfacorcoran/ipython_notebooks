{
 "metadata": {
  "name": ""
 },
 "nbformat": 3,
 "nbformat_minor": 0,
 "worksheets": [
  {
   "cells": [
    {
     "cell_type": "heading",
     "level": 2,
     "metadata": {},
     "source": [
      "Calculating R=f/i (i.e. the forbidden to intercombination line ratio) values for He-like ions"
     ]
    },
    {
     "cell_type": "markdown",
     "metadata": {},
     "source": [
      "This notebook describes how to calculate R=f/i values for He-like ions for hot O stars as a function of distance from the photosphere\n",
      "\n",
      "Some references:\n",
      "\n",
      "1) <a href=\"http://adsabs.harvard.edu/cgi-bin/nph-bib_query?bibcode=1972ApJ...172..205B&db_key=AST\">Blumenthal et al. 1972</a>; describes the underlying methodology for calculating R based on knowledge of the density of the X-ray plasma and UV field of the O star\n",
      "\n",
      "2) <a href=\"http://adsabs.harvard.edu/abs/2001ApJ...548L..45W\">Waldron & Cassinelli 2001</a>; applied this technique to Zeta Ori\n",
      "\n",
      "Based on <b>Waldron & Cassinelli</b>:\n",
      "\n",
      "Using the formalism developed by Blumenthal et al. (1972), i.e.\n",
      "\n",
      "$$\n",
      "R=R_{0}/(1+\\frac{\\phi}{\\phi_{c}}+\\frac{n}{n_{c}})\n",
      "$$\n",
      "\n",
      "(where $n$ is the number density and $\\phi$ is the photoexcitation rate).\n",
      "\n",
      "MFC note: the photoexcitation rate is related to $u_{\\nu}$ the spectral energy density of radiation at the appropriate \n",
      "2 $^{3}$P$\\rightarrow$ 2 $^{3}$S frequency:\n",
      "\n",
      "$$\n",
      "\\frac{\\phi}{\\phi_c} = \\frac{3(1+F)c^{3}}{8 \\pi h \\nu^{3}} \\frac{A(2~ ^{3}P \\rightarrow 2~ ^{3}S)}{A(2~ ^{3}S_{1}\\rightarrow 1~ ^{1}S_{0})} u_{\\nu}\n",
      "$$ \n",
      "(see eq. 9 in Blumenthal et al. - note that $\\frac{c^3}{h\\nu^3}$ has units of cm$^3$ s$^{-3}$/erg/s $\\times$ s$^3$ = cm$^3$ erg$^{-1}$ s$^{-1}$, so $u_\\nu$ has units of erg s/cm$^3$ = ergs\n",
      "/cm$^3$ per hertz as expected.)"
     ]
    },
    {
     "cell_type": "code",
     "collapsed": false,
     "input": [
      "from IPython.display import Image"
     ],
     "language": "python",
     "metadata": {},
     "outputs": [],
     "prompt_number": 374
    },
    {
     "cell_type": "code",
     "collapsed": false,
     "input": [
      "from astropy import constants as const\n",
      "K=3.0*const.c.cgs.value**3/(8*pi*const.h.cgs.value)\n",
      "print \"%5.2e\" % K"
     ],
     "language": "python",
     "metadata": {},
     "outputs": [
      {
       "output_type": "stream",
       "stream": "stdout",
       "text": [
        "4.85e+56\n"
       ]
      }
     ],
     "prompt_number": 123
    },
    {
     "cell_type": "markdown",
     "metadata": {},
     "source": [
      "Or\n",
      "\n",
      "$$\n",
      "\\frac{\\phi}{\\phi_c} = 4.85\\times10^{56} \\frac{(1+F)}{\\nu^{3}} \\frac{A(2~ ^{3}P \\rightarrow 2~ ^{3}S)}{A(2~ ^{3}S_{1}\\rightarrow 1~ ^{1}S_{0})} u_{\\nu}\n",
      "$$ \n",
      "\n",
      "We calculate the radial dependence of R in the envelope of $\\zeta$ Ori using a photospheric UV flux model at $T_{eff} = 30,000$ K (Kurucz 1993). \n",
      "\n",
      "The radial-dependent wind density is derived from the stellar and wind parameters of Lamers & Leitherer (1993) using a standard wind velocity law that is modified below 1.02 stellar radii to provide a smooth density transition to the photospheric structure. \n",
      "\n",
      "MFC note: the wind density $n(r)$ for $r>1.02R_{*}$ is  \n",
      "\n",
      "$$\n",
      "n(r)=\\dot{M}/(4\\pi\\mu m_H V(r) r^2)\n",
      "$$\n",
      "\n",
      "The radial dependence of the UV mean intensity $J_{\\nu}(r)$\n",
      "is assumed to be simply the geometric dilution of the stellar radiation, with no attenuation, i.e., \n",
      "\n",
      "$$\n",
      "J_{\\nu}(r) = 4W(r) \\times H(T_eff) \n",
      "$$\n",
      "\n",
      "where $W(r)$ is the Dilution Factor given by \n",
      "\n",
      "$$\n",
      "W(r)=\\frac{1}{2}-\\frac{1}{2}\\sqrt{1-(R_{*}/r)^{2}}\n",
      "$$\n",
      "\n",
      "\n",
      "**MFC notes**: _Blumenthal considers the excitation from the hot X-ray plasma itself, and finds that this is negligible EXCEPT for high Z ions (like iron; what about Si XV or Ca XIX?).  So if the plasma is hot enough to produce FeXXV, then there will be significant photoexcitation from the forbidden to intercombination line, so f/i should be low, and therefore the f/i ratio is not a good diagnostic of the radial location of the plasma above the stellar photosphere_\n",
      "\n",
      "To define the photoexcitation model, we need the photospheric photon energy density $u_{\\nu}(R_{*})$ at the frequency which excites from the forbidden level to the intercombination level. To get this energy density, we must rely on some external models of the radiative output of the star, like Ivan Hubeny's [TLUSTY5](http://nova.astro.umd.edu) model atmospheres.  \n",
      "\n",
      "Since (Rybicki & Lightman eq. 1.9)\n",
      "\n",
      "$$\n",
      "u_{\\nu} = \\frac{4 \\pi}{c} J_{\\nu}\n",
      "$$\n",
      "\n",
      "and \n",
      "\n",
      "$$\n",
      "J_{\\nu}(r) = 4W(r) \\times H_{\\nu}(T_eff) \n",
      "$$\n",
      "\n",
      "then \n",
      "\n",
      "$$\n",
      "u_{\\nu} = \\frac{16 \\pi}{c}W(r) \\times H_{\\nu}(T_eff) \n",
      "$$\n",
      "\n",
      "\n",
      "Dave Huenemorder's ISIS he_modifier tech note gives\n",
      "\n",
      "$$\n",
      "u_{\\nu}(R_{*}) = (16\\pi/c)H_{\\nu}(R_{*}) \n",
      "$$\n",
      "\n",
      "$H_{\\nu}(T_eff)$ is given in units of ergs s$^{-1}$ cm$^{-2}$ Hz$^{-1}$ (so that multiplying by 1/c, i.e. s/cm,  gives units of energy density: ergs cm$^3$ Hz$^{-1}$.\n",
      "\n",
      "TLUSTY5 unfortunately gives $H_{\\lambda}(R_{*})$ (in units of erg s$^{-1}$ cm$^{-2}$ \\AA$^{-1}$) in wavelength space (per Angstrom).  To convert to frequency space (ergs s$^{-1}$ cm$^{-2}$ Hz$^{-1}$), recall that $H_{\\nu}\\mbox{ (in ergs s$^{-1}$ cm$^{-2}$ Hz$^{-1}$)} =\\frac{1}{c} \\lambda^{2} H_{\\lambda} = 3.33\\times10^{-19} \\times \\lambda^{2} H_{\\lambda}$ (in erg s$^{-1}$ cm$^{-2}$ \\AA$^{-1}$; see Zombeck pg. 11; $\\lambda$ is given in Angstroms here).\n",
      "\n",
      "So we have:\n",
      "$$\n",
      "u_{\\nu}(R_{*}) = (16\\pi/c)W(r)H_{\\nu}(R_{*}) = (16\\pi/c) 3.33\\times10^{-19} \\times \\lambda^{2} W(r) H_{\\lambda}(R_{*}) \\mbox{ ergs s}^{-1} \\mbox{ cm}^{-3}\n",
      "$$\n",
      "\n",
      "where  $u_{\\nu}$ is in units of ergs cm$^3$ Hz$^{-1}$.\n",
      "\n",
      "Since $16 \\pi/3\\times 10^{10}*3.33\\times10^{-19}=5.58\\times10^{-28}$, we can write this as:\n",
      "\n",
      "$$\n",
      "u_{\\nu}(R_{*}) = 5.58\\times10^{-28}\\times \\lambda^{2} W(r) H_{\\lambda}(R_{*})\n",
      "$$\n",
      "\n",
      "again, in units of ergs cm$^3$ Hz$^{-1}$."
     ]
    },
    {
     "cell_type": "code",
     "collapsed": false,
     "input": [
      "K=16*pi/3e10*3.33e-19\n",
      "print '%5.2e' % K"
     ],
     "language": "python",
     "metadata": {},
     "outputs": [
      {
       "output_type": "stream",
       "stream": "stdout",
       "text": [
        "5.58e-28\n"
       ]
      }
     ],
     "prompt_number": 144
    },
    {
     "cell_type": "markdown",
     "metadata": {},
     "source": [
      "<h2> Atomic Data for He-Like Transitions</h2>\n",
      "\n",
      "Blumenthal et al., Tables 1 & 2, gives these atomic parameters for He-like lines\n",
      "\n",
      "| Ion   |  $R_{0}$ | $n_{c}$ (cm$^{-3}$) |   $\\phi_{c}$ (s$^{-1}$)  | F | A(2 $^{3}$P $\\rightarrow$ 2 $^{3}$S)| A(2 $^{3}$S_{1}$\\rightarrow$ 1 $^{1}$S_{0})|\n",
      "|-------|----------|---------------------|-------------------------|---|---|---|\n",
      "|     CV|11.3 | 6.7e8  |  3.57e1 | 0.36  | 5.72e7| 4.86e1 |\n",
      "|    NVI|5.13 | 5.9e9  |  1.83e2 | 0.38  | 6.86e7| 2.53e2 |\n",
      "|   OVII|3.85 | 3.4e10 |  7.32e2 | 0.42  | 8.05e7| 1.04e3 |\n",
      "|   NeIX|3.17 | 6.4e11 |  7.73e3 | 0.41  | 1.06e8| 1.09e4 |\n",
      "|   MgXI|3.03 | 6.2e12 |  4.86e4 | 0.49  | 1.34e8| 7.24e4 |\n",
      "|  AlXII|1.47 | 1.7e13 |  2.39e5 | 0.47  | 1.50e8| 1.66e5 |\n",
      "| SiXIII|1.49 | 4.0e13 |  2.39e5 | 0.49  | 1.66e8| 3.56e5 |\n",
      "|    SXV|2.04 | 1.9e14 |  9.16e5 | 0.54  | 2.04e8| 1.41e6 |\n",
      "|  CaXIX|1.33 | 2.1e15 |  8.79e6 | 0.57  | 2.97e8| 1.38e7 |\n",
      "|  FeXXV|1.02 | 4.7e16 |  1.23e8 | 0.62  | 4.93e8| 2.00e8 |\n"
     ]
    },
    {
     "cell_type": "code",
     "collapsed": false,
     "input": [
      "#\n",
      "# atomic data from Blumenthal et el. tables 1 & 2 expressed as a python dictionary\n",
      "#\n",
      "d={  'CV':{'r0': 11.3, 'nc': 6.7e8 ,'phic':  3.57e1, 'F':0.36 , 'a3p3s':5.72e7 , 'a3s1s':4.86e1},\n",
      "    'NVI':{'r0': 5.13, 'nc': 5.9e9 ,'phic':  1.83e2, 'F':0.38 , 'a3p3s':6.86e7 , 'a3s1s':2.53e2},\n",
      "   'OVII':{'r0': 3.85, 'nc': 3.4e10,'phic':  7.32e2, 'F':0.42 , 'a3p3s':8.05e7 , 'a3s1s':1.04e3 },\n",
      "   'NeIX':{'r0': 3.17, 'nc': 6.4e11,'phic':  7.73e3, 'F':0.41 , 'a3p3s':1.06e8 , 'a3s1s':1.09e4 },\n",
      "   'MgXI':{'r0': 3.03, 'nc': 6.2e12,'phic':  4.86e4, 'F':0.49 , 'a3p3s':1.34e8 , 'a3s1s':7.24e4 },\n",
      "  'AlXII':{'r0': 1.47, 'nc': 1.7e13,'phic':  2.39e5, 'F':0.47 , 'a3p3s':1.50e8 , 'a3s1s':1.66e5 },\n",
      " 'SiXIII':{'r0': 1.49, 'nc': 4.0e13,'phic':  2.39e5, 'F':0.49 , 'a3p3s':1.66e8 , 'a3s1s':3.56e5 },\n",
      "    'SXV':{'r0': 2.04, 'nc': 1.9e14,'phic':  9.16e5, 'F':0.54 , 'a3p3s':2.04e8 , 'a3s1s':1.41e6 },\n",
      "  'CaXIX':{'r0': 1.33, 'nc': 2.1e15,'phic':  8.79e6, 'F':0.57 , 'a3p3s':2.97e8 , 'a3s1s':1.38e7 },\n",
      "  'FeXXV':{'r0': 1.02, 'nc': 4.7e16,'phic':  1.23e8, 'F':0.62 , 'a3p3s':4.93e8 , 'a3s1s':2.00e8 }}\n",
      "\n",
      "\n",
      "d['CaXIX']['nc']\n",
      "\n"
     ],
     "language": "python",
     "metadata": {},
     "outputs": [
      {
       "metadata": {},
       "output_type": "pyout",
       "prompt_number": 266,
       "text": [
        "2100000000000000.0"
       ]
      }
     ],
     "prompt_number": 266
    },
    {
     "cell_type": "code",
     "collapsed": false,
     "input": [
      "#\n",
      "# Parameters for Delta Ori Aa1\n",
      "#\n",
      "mdot=1e-6*2e33/3.1e7 # cgs\n",
      "Vterm=2000*1e5 # cgs\n",
      "beta=1.0\n",
      "mh=1.67e-24"
     ],
     "language": "python",
     "metadata": {},
     "outputs": [],
     "prompt_number": 35
    },
    {
     "cell_type": "code",
     "collapsed": false,
     "input": [
      "r=np.linspace(1.01,50,100)\n",
      "V=Vterm*(1-1/r)**beta\n",
      "n=mdot/(4*pi*2.3*mh*V*r**2)"
     ],
     "language": "python",
     "metadata": {},
     "outputs": [],
     "prompt_number": 48
    },
    {
     "cell_type": "code",
     "collapsed": false,
     "input": [
      "fig = pyplot.figure()\n",
      "ax = fig.add_subplot(1,1,1)\n",
      "ax.set_yscale('log')\n",
      "plot(r,n)\n"
     ],
     "language": "python",
     "metadata": {},
     "outputs": [
      {
       "metadata": {},
       "output_type": "pyout",
       "prompt_number": 49,
       "text": [
        "[<matplotlib.lines.Line2D at 0x10629e3d0>]"
       ]
      },
      {
       "metadata": {},
       "output_type": "display_data",
       "png": "[encoded data removed]",
       "text": [
        "<matplotlib.figure.Figure at 0x10692ed50>"
       ]
      }
     ],
     "prompt_number": 49
    },
    {
     "cell_type": "code",
     "collapsed": false,
     "input": [
      "fig = pyplot.figure()\n",
      "ax = fig.add_subplot(1,1,1)\n",
      "ax.set_yscale('log')\n",
      "plot(r, 1/2.0 - 1.0/2.0*sqrt(1-1/r), r, 1.0/r**2)\n"
     ],
     "language": "python",
     "metadata": {},
     "outputs": [
      {
       "metadata": {},
       "output_type": "pyout",
       "prompt_number": 75,
       "text": [
        "[<matplotlib.lines.Line2D at 0x1075752d0>,\n",
        " <matplotlib.lines.Line2D at 0x1078c4bd0>]"
       ]
      },
      {
       "metadata": {},
       "output_type": "display_data",
       "png": "[encoded data removed]",
       "text": [
        "<matplotlib.figure.Figure at 0x107565150>"
       ]
      }
     ],
     "prompt_number": 75
    },
    {
     "cell_type": "markdown",
     "metadata": {},
     "source": [
      "\n",
      "\n",
      "                                                             "
     ]
    },
    {
     "cell_type": "markdown",
     "metadata": {},
     "source": [
      "<hr>\n",
      "\n",
      "<h2> Photoexciting wavelengths for relevant transitions</h2>\n",
      "\n",
      "|Ion  | Transition  | Photoexciting $\\lambda$ | $\\delta$ Aa1 Ori $H_{\\lambda}$  | $U_{\\nu}$         | \n",
      "|-----|-------------|----------------|---------------------|----------------|--|\n",
      "|O VII  | 6-2  | 1623.7  | 2.13E+09  | 3.14e-12            | \n",
      "|O VII  | 5-2  | 1638.3  | 2.08E+09  | 3.60e-12            | \n",
      "|Ne IX  | 6-2  | 1248.1  | 4.16E+09  | 3.6265e-12          | \n",
      "|Ne IX  | 5-2  | 1272.8  | 3.97E+09  | 3.6265e-12          | \n",
      "|Mg XI  | 6-2  | 997.5  | 6.72E+09  | 3.7419e-12           | \n",
      "|Mg XI  | 5-2  | 1034.3  | 6.26E+09  | 3.7477e-12          | \n",
      "|Si XIII   | 6-2  | 814.7  | not tabulated                 | not tabulated                 | \n",
      "|Si XIII   | 5-2  | 865.1  | not tabulated                 | not tabulated                 | \n",
      "|S XV  | 6-2  | 673.4  | not tabulated                     |  not tabulated                 |\n",
      "|S XV  | 5-2  | 738.3  | not tabulated                     | not tabulated                 |\n",
      "|Ca XIX  | 6-2  | 466.9  | not tabulated                   | not tabulated                 |\n",
      "|Ca XIX  | 5-2  | 560.7  | not tabulated                   | not tabulated                 |                                                      \n",
      "|Fe XXV  | 6-2  | 271.2  | not tabulated                   | not tabulated                 | \n",
      "|Fe XXV  | 5-2  | 400.3  | not tabulated                   | not tabulated                 |\n",
      "\n",
      "$H_{\\lambda}$ from TLUSTY model G32500g350v10.uv.17.  Note that TLUSTY does not tabulate fluxes below 900 Ang (90 nm).\n",
      " "
     ]
    },
    {
     "cell_type": "code",
     "collapsed": false,
     "input": [
      "#\n",
      "# this contains the information from the table above, giving the wavelengths of the radiation \n",
      "# which photoexcites the i-line x and y components\n",
      "# from G32500g350v10.uv.17\n",
      "#\n",
      "\n",
      "photo_exc ={'OVII':{'lam_phx':1623.7,   'Hlamx':2.13E+09,        'lam_phy':1638.3, 'Hlamy':2.08E+09},\n",
      "       'NeIX'     :{'lam_phx':1248.1,   'Hlamx':4.16E+09,        'lam_phy':1272.8,'Hlamy': 3.97E+09},\n",
      "       'MgXI'     :{'lam_phx':997.5 ,   'Hlamx':6.72E+09,        'lam_phy':1034.3,'Hlamy': 6.26E+09},\n",
      "       'SiXIII'   :{'lam_phx':814.7,    'Hlamx':'not tabulated', 'lam_phy':865.1, 'Hlamy': 'not tabulated'},\n",
      "       'SXV'      :{'lam_phx':673.4 ,   'Hlamx':'not tabulated', 'lam_phy':738.3, 'Hlamy': 'not tabulated'},\n",
      "       'CaXIX'    :{'lam_phx':466.9 ,   'Hlamx':'not tabulated', 'lam_phy':560.7, 'Hlamy': 'not tabulated'},\n",
      "       'FeXXV'    :{'lam_phx':271.2 ,   'Hlamx':'not tabulated', 'lam_phy':400.3, 'Hlamy': 'not tabulated'}}"
     ],
     "language": "python",
     "metadata": {},
     "outputs": [],
     "prompt_number": 192
    },
    {
     "cell_type": "code",
     "collapsed": false,
     "input": [
      "5.58e-28*1623.7**2*2.13E+09 # energy density in ergs/cm3/Hz"
     ],
     "language": "python",
     "metadata": {},
     "outputs": [
      {
       "metadata": {},
       "output_type": "pyout",
       "prompt_number": 103,
       "text": [
        "3.1334688646325998e-12"
       ]
      }
     ],
     "prompt_number": 103
    },
    {
     "cell_type": "code",
     "collapsed": false,
     "input": [
      "#\n",
      "# test case\n",
      "#\n",
      "\n",
      "ion='MgXI'\n",
      "\n",
      "lam=(photo_exc[ion]['lam_phx']+photo_exc[ion]['lam_phy'])/2.0 # average of x & y photoexciting wavelengths in Angs\n",
      "nu=const.c.cgs.value/(lam*1e-8)\n",
      "F=d[ion]['F']\n",
      "hlam=(photo_exc[ion]['Hlamx']+photo_exc[ion]['Hlamy'])/2.0\n",
      "\n",
      "r=100000 # five times the stellar radius\n",
      "\n",
      "Rsun = 6.96e+10\n",
      "Rstar=17 # in solar radii\n",
      "V=Vterm*(1-1/r)**1.0\n",
      "W_r=1.0/2.0*(1-sqrt(1.0 - 1.0/r))\n",
      "u_nu=5.58e-28*lam**2*W_r*hlam\n",
      "phi2phic=4.85e56*(1+F)/nu**3*d[ion]['a3p3s']/d[ion]['a3s1s']*u_nu\n",
      "dens=mdot/(4*pi*2.3*mh*V*(r*Rstar*Rsun)**2)\n",
      "\n",
      "f2i=d['OVII']['r0']/(1+dens/d['OVII']['nc'] + phi2phic)\n",
      "\n",
      "print \"Distance from star = %f stellar radii\" % r\n",
      "print \"Photoexciting wavelength = %f, Hlambda = %5.2e\" % (lam, hlam)\n",
      "print \"W= %f, lam= %f, u_nu=%5.2e\" % (W_r, lam, u_nu)\n",
      "print \"phi/phi_c = %5.5e\" % (phi2phic)\n",
      "print \"Ambient density/nc = %5.2e\" % (dens/d['OVII']['nc'])\n",
      "print \"Denominator = %f \" % (1+dens/d['OVII']['nc'] + phi2phic)\n",
      "print \"R = f/i ratio = %f \" % f2i"
     ],
     "language": "python",
     "metadata": {},
     "outputs": [
      {
       "output_type": "stream",
       "stream": "stdout",
       "text": [
        "Distance from star = 100000.000000 stellar radii\n",
        "Photoexciting wavelength = 1015.900000, Hlambda = 6.49e+09\n",
        "W= 0.000003, lam= 1015.900000, u_nu=9.34e-18\n",
        "phi/phi_c = 4.86303e-04\n",
        "Ambient density/nc = 1.40e-11\n",
        "Denominator = 1.000486 \n",
        "R = f/i ratio = 3.848129 \n"
       ]
      }
     ],
     "prompt_number": 215
    },
    {
     "cell_type": "code",
     "collapsed": false,
     "input": [
      "\n",
      "\n",
      "def calcR(r,ion='MgXI', Rstar=17, mdot=1.0e6, vterm=2000, lam=1015.9, Hlam=6.49e+09):\n",
      "    \"\"\"\n",
      "    this subroutine calculates the R=f/i ratio for a specified He-like transition for the given ion\n",
      "    r given in stellar radii - typically from 1.02 to 1000\n",
      "    \"\"\"\n",
      "    import numpy as np\n",
      "    from astropy import constants as const\n",
      "    \n",
      "    Rsun=const.R_sun.cgs.value\n",
      "    mp=const.m_p.cgs.value\n",
      "    mu=2.3\n",
      "    \n",
      "    nu=const.c.cgs.value/(lam*1e-8)    \n",
      "    V=vterm*1e5*(1.0-1/r)\n",
      "    mdot=1e-6*2e33/3.1e7 # cgs\n",
      "    dens=mdot/(4*pi*2.3*mp*V*(r*Rstar*Rsun)**2)\n",
      "    #\n",
      "    # atomic data from Blumenthal et el. tables 1 & 2 expressed as a python dictionary\n",
      "    #\n",
      "    atomic_data={  'CV':{'r0': 11.3, 'nc': 6.7e8 ,'phic':  3.57e1, 'F':0.36 , 'a3p3s':5.72e7 , 'a3s1s':4.86e1},\n",
      "       'NVI':{'r0': 5.13, 'nc': 5.9e9 ,'phic':  1.83e2, 'F':0.38 , 'a3p3s':6.86e7 , 'a3s1s':2.53e2},\n",
      "       'OVII':{'r0': 3.85, 'nc': 3.4e10,'phic':  7.32e2, 'F':0.42 , 'a3p3s':8.05e7 , 'a3s1s':1.04e3 },\n",
      "       'NeIX':{'r0': 3.17, 'nc': 6.4e11,'phic':  7.73e3, 'F':0.41 , 'a3p3s':1.06e8 , 'a3s1s':1.09e4 },\n",
      "       'MgXI':{'r0': 3.03, 'nc': 6.2e12,'phic':  4.86e4, 'F':0.49 , 'a3p3s':1.34e8 , 'a3s1s':7.24e4 },\n",
      "       'AlXII':{'r0': 1.47, 'nc': 1.7e13,'phic':  2.39e5, 'F':0.47 , 'a3p3s':1.50e8 , 'a3s1s':1.66e5 },\n",
      "       'SiXIII':{'r0': 1.49, 'nc': 4.0e13,'phic':  2.39e5, 'F':0.49 , 'a3p3s':1.66e8 , 'a3s1s':3.56e5 },\n",
      "       'SXV':{'r0': 2.04, 'nc': 1.9e14,'phic':  9.16e5, 'F':0.54 , 'a3p3s':2.04e8 , 'a3s1s':1.41e6 },\n",
      "       'CaXIX':{'r0': 1.33, 'nc': 2.1e15,'phic':  8.79e6, 'F':0.57 , 'a3p3s':2.97e8 , 'a3s1s':1.38e7 },\n",
      "       'FeXXV':{'r0': 1.02, 'nc': 4.7e16,'phic':  1.23e8, 'F':0.62 , 'a3p3s':4.93e8 , 'a3s1s':2.00e8 }}\n",
      "    \n",
      "    W_r=1.0/2.0*(1-sqrt(1.0 - 1.0/r))\n",
      "    u_nu=5.58e-28*lam**2*W_r*Hlam\n",
      "    phi2phic=4.85e56*(1+atomic_data[ion]['F'])/nu**3*d[ion]['a3p3s']/d[ion]['a3s1s']*u_nu\n",
      "    f2i=d[ion]['r0']/(1.0 + dens/d[ion]['nc'] + phi2phic)\n",
      "    return f2i, V, dens, u_nu, phi2phic\n",
      "    \n"
     ],
     "language": "python",
     "metadata": {},
     "outputs": [],
     "prompt_number": 265
    },
    {
     "cell_type": "code",
     "collapsed": false,
     "input": [
      "ion='NeIX'\n",
      "r=concatenate((linspace(1.001, 10, 1000),linspace(10.1,1000,100)))\n",
      "hlam=(photo_exc[ion]['Hlamx']+photo_exc['MgXI']['Hlamy'])/2.0\n",
      "print \"Hlam = %5.2e\" % hlam"
     ],
     "language": "python",
     "metadata": {},
     "outputs": [
      {
       "output_type": "stream",
       "stream": "stdout",
       "text": [
        "Hlam = 5.21e+09\n"
       ]
      }
     ],
     "prompt_number": 359
    },
    {
     "cell_type": "code",
     "collapsed": false,
     "input": [
      "R, V, dens, unu, phi2phic=calcR(r, Hlam=hlam)"
     ],
     "language": "python",
     "metadata": {},
     "outputs": [],
     "prompt_number": 360
    },
    {
     "cell_type": "code",
     "collapsed": false,
     "input": [
      "fig = pyplot.figure()\n",
      "fig.set_size_inches(8,8)\n",
      "ax = fig.add_subplot(2,1,1)\n",
      "ax.set_xscale('log')\n",
      "ax.set_ylim(0,5.1)\n",
      "ax.set_ylabel('f/i emission line ratio',fontsize=16)\n",
      "plot(r-1, R)\n",
      "ax = fig.add_subplot(2,1,2)\n",
      "ax.set_xscale('log')\n",
      "ax.set_ylabel('Density',fontsize=16)\n",
      "plot(r-1, dens)"
     ],
     "language": "python",
     "metadata": {},
     "outputs": [
      {
       "metadata": {},
       "output_type": "pyout",
       "prompt_number": 361,
       "text": [
        "[<matplotlib.lines.Line2D at 0x11a565350>]"
       ]
      },
      {
       "metadata": {},
       "output_type": "display_data",
       "png": "[encoded data removed]",
       "text": [
        "<matplotlib.figure.Figure at 0x119ef1e50>"
       ]
      }
     ],
     "prompt_number": 361
    },
    {
     "cell_type": "code",
     "collapsed": false,
     "input": [
      "print dens[0:10]\n"
     ],
     "language": "python",
     "metadata": {},
     "outputs": [
      {
       "output_type": "stream",
       "stream": "stdout",
       "text": [
        "[  2.33975611e+11   1.60013624e+11   1.21082333e+11   9.70678169e+10\n",
        "   8.07808899e+10   6.90125775e+10   6.01145190e+10   5.31531012e+10\n",
        "   4.75599460e+10   4.29692216e+10]\n"
       ]
      }
     ],
     "prompt_number": 258
    },
    {
     "cell_type": "code",
     "collapsed": false,
     "input": [
      "\"\"\"\n",
      "#\n",
      "# storing a dictionary using json\n",
      "# see http://stackoverflow.com/questions/11821322/python-elegant-way-to-store-dictionary-permanently\n",
      "#\n",
      "import json\n",
      "with open('/Users/corcoran/Desktop/atomic_data.json', 'w') as f:\n",
      "    json.dump(d, f)\n",
      "\"\"\"\n",
      "#\n",
      "# restoring the dictionary\n",
      "#\n",
      "with open('/Users/corcoran/Desktop/atomic_data.json') as f:\n",
      "    my_dict = json.load(f)\n",
      "my_dict['SiXIII']['F']"
     ],
     "language": "python",
     "metadata": {},
     "outputs": [
      {
       "metadata": {},
       "output_type": "pyout",
       "prompt_number": 271,
       "text": [
        "0.49"
       ]
      }
     ],
     "prompt_number": 271
    },
    {
     "cell_type": "code",
     "collapsed": false,
     "input": [
      "r=linspace(1.01, 1000, 10000)\n",
      "\n",
      "ion='NeIX'\n",
      "hlam=(photo_exc[ion]['Hlamx']+photo_exc['MgXI']['Hlamy'])/2.0\n",
      "print \"Hlam = %5.2e\" % hlam\n",
      "Rn, V, dens, unu, phi2phic=calcR(r, Hlam=hlam)\n",
      "\n",
      "ion='MgXI'\n",
      "hlam=(photo_exc[ion]['Hlamx']+photo_exc['MgXI']['Hlamy'])/2.0\n",
      "print \"Hlam = %5.2e\" % hlam\n",
      "Rm, V, dens, unu, phi2phic=calcR(r, Hlam=hlam)\n",
      "\n",
      "ion='SiXIII'\n",
      "#hlam=(photo_exc[ion]['Hlamx']+photo_exc['MgXI']['Hlamy'])/2.0\n",
      "hlam=hlam/30\n",
      "print \"Hlam = %5.2e\" % hlam\n",
      "Rs, V, dens, unu, phi2phic=calcR(r, Hlam=hlam)\n",
      "\n",
      "\n",
      "fig = pyplot.figure()\n",
      "fig.set_size_inches(5,5)\n",
      "ax = fig.add_subplot(1,1,1)\n",
      "ax.set_xscale('log')\n",
      "ax.set_ylim(0,3)\n",
      "ax.set_ylabel('f/i emission line ratio',fontsize=16)\n",
      "ax.set_xlabel('r/R -1',fontsize=16)\n",
      "ax.tick_params(axis='both',labelsize='14')\n",
      "plot(r-1, Rn, 'b', r-1,Rm, 'r', r-1, Rs, 'g')\n"
     ],
     "language": "python",
     "metadata": {},
     "outputs": [
      {
       "output_type": "stream",
       "stream": "stdout",
       "text": [
        "Hlam = 5.21e+09\n",
        "Hlam = 6.49e+09\n",
        "Hlam = 2.16e+08\n"
       ]
      },
      {
       "metadata": {},
       "output_type": "pyout",
       "prompt_number": 395,
       "text": [
        "[<matplotlib.lines.Line2D at 0x122227610>,\n",
        " <matplotlib.lines.Line2D at 0x12224d090>,\n",
        " <matplotlib.lines.Line2D at 0x12224d750>]"
       ]
      },
      {
       "metadata": {},
       "output_type": "display_data",
       "png": "[encoded data removed]",
       "text": [
        "<matplotlib.figure.Figure at 0x120685e10>"
       ]
      }
     ],
     "prompt_number": 395
    },
    {
     "cell_type": "markdown",
     "metadata": {},
     "source": [
      "<center>\n",
      "<img src=\"files/resources/fig4_miller_etal.png\" width=300>\n",
      "</center>\n",
      "\n",
      "__Figure 4 from Miller et al. 2002__: The dependence of the O VII, Ne IX, Mg XI, and Si XIII f/i line ratios on radius caused by the geometric dilution of the UV radiation field. The asterisks indicate the measured values, while the darkened lines extend over the range of the uncertainty in the f/i line ratio for each ion. The Ne ix and O vii ions give only upper limits, while the uncertainty for the Si XIII ion extends to arbitrarily high radii. The bottom panel gives the radius of wind continuum optical depth of unity as a function of wavelength. The dark horizontal lines correspond to the ranges in radii indicated by the f/i ratios of the top panel.\n"
     ]
    },
    {
     "cell_type": "code",
     "collapsed": false,
     "input": [
      "print r, Rs"
     ],
     "language": "python",
     "metadata": {},
     "outputs": [
      {
       "output_type": "stream",
       "stream": "stdout",
       "text": [
        "[    1.01           1.10990899     1.20981798 ...,   999.80018202\n",
        "   999.90009101  1000.        ] [ 0.75832605  0.93862757  1.0466634  ...,  3.0250941   3.02509458\n",
        "  3.02509507]\n"
       ]
      }
     ],
     "prompt_number": 398
    },
    {
     "cell_type": "code",
     "collapsed": false,
     "input": [],
     "language": "python",
     "metadata": {},
     "outputs": [],
     "prompt_number": 398
    },
    {
     "cell_type": "code",
     "collapsed": false,
     "input": [],
     "language": "python",
     "metadata": {},
     "outputs": []
    }
   ],
   "metadata": {}
  }
 ]
}