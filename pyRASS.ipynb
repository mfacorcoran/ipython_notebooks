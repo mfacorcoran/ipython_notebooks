{
 "metadata": {
  "name": ""
 },
 "nbformat": 3,
 "nbformat_minor": 0,
 "worksheets": [
  {
   "cells": [
    {
     "cell_type": "markdown",
     "metadata": {},
     "source": [
      "<h3> Convert EXSAS ascii formatted PHA and RSP files to FITS</h3>\n",
      "\n",
      "e-mail from Chris Done, 2014 April: she has ascii versions (in RDPHA format) of pha and response files for RASS data produced with EXSAS by Thomas Boller and needs to convert them to fits formatted files that XSPEC can read.  Can this be done in python?\n",
      "\n",
      "idea: can I simply read the ascii spectrum file into a python dictionary - split info on \":\", with the 1st half the key and the second half the value, that will get the \"package\" info.  Need to decide how best to parse the rate info; have the channel number as the key, and the rate/count info (and error) as the value\n",
      "\n",
      "\n",
      "<hr>\n",
      "\n"
     ]
    },
    {
     "cell_type": "code",
     "collapsed": false,
     "input": [
      "import numpy as np\n",
      "import pyfits\n",
      "\n",
      "ddir='/Users/corcoran/program/ROSAT/ROSAT_PROBLEMS/done_201404/rev0'\n",
      "pha=open(ddir+'/chris.pha_sou','r')\n",
      "l=pha.readlines()\n",
      "pacname=['\"source info \"','\"ass. files  \"',''\"file info   \"'', '\"pha per sec \"']\n",
      "pacpre=' ***** Package '\n",
      "pacsuf=' ***** '\n",
      "j=0\n",
      "test=pacpre+pacname[j]+pacsuf\n",
      "\"\"\"\n",
      "this block creates a dictionary of all the info blocks\n",
      "\"\"\"\n",
      "hdr=pyfits.Header()\n",
      "for i in arange(1,len(l)):\n",
      "    try: \n",
      "        a=l[i].split(\":\")\n",
      "        hdr[a[0].strip().replace(\" \", \"\").replace(\".\",\"\")[0:7]]=a[1].strip().replace(\" \", \"\")\n",
      "    except:\n",
      "        if l[i][0:5].strip()==\"chan\":\n",
      "            rate_index=i\n",
      "            \n",
      "# Add appropriate FITS extension header keywords for Spectrum file\n",
      "\n",
      "hdr['EXTNAME']='SPECTRUM'\n",
      "hdr['TELESCOP']=info['Detecto'][0:5]\n",
      "hdr['INSTRUME']=info['Detecto'][5:]\n",
      "hdr['FILTER']='NONE'\n",
      "hdr['EXPOSURE']=float(info['Integra'])\n",
      "hdr['BACKFILE']='NONE'\n",
      "hdr['CORRFILE']='NONE'\n",
      "hdr['CORRSCAL']=1.0\n",
      "hdr['AREASCAL']=1.0\n",
      "hdr['BACKSCAL']=1.0\n",
      "hdr['RESPFILE']='NONE'\n",
      "hdr['ANCRFILE']='NONE'\n",
      "hdr['HDUCLASS']='OGIP'\n",
      "hdr['HDUCLAS1']='SPECTRUM'\n",
      "hdr['HDUVERS']='1.2.1'\n",
      "hdr['POISSERR']=bool(0)\n",
      "hdr['STAT_ERR']=0\n",
      "hdr['SYS_ERR']=0\n",
      "hdr['CHANTYPE']='PI'\n",
      "hdr['DETCHANS']=hdr['Unbinne']\n",
      "hdr['TLMIN1']=1\n",
      "hdr['TLMAX1']=120\n",
      "hdr['DETCHANS']=120\n",
      "\"\"\"\n",
      "this block gets the rate information and stores in the chan, rate, errors array\n",
      "the keys are the channel numbers\n",
      "the values are the rates and errors\n",
      "\"\"\"\n",
      "chan=[]\n",
      "rate=[]\n",
      "stat_err=[]\n",
      "for i in arange(len(l[rate_index+1:-2])):\n",
      "    a=l[i+rate_index+1].split()\n",
      "    try:\n",
      "        stat_err.append(float(a[2])); stat_err.append(float(a[5])); stat_err.append(float(a[8]))\n",
      "        chan.append(int(a[0])); chan.append(int(a[3])); chan.append(int(a[6]))          \n",
      "        rate.append(float(a[1])); rate.append(float(a[4])); rate.append(float(a[7]))\n",
      "    except:\n",
      "        print \"Line is %s\" % l[i]\n",
      "\"\"\"\n",
      "now write to fits file\n",
      "\"\"\"\n",
      "col1 = pyfits.Column(name='CHANNEL', format='I2', array=chan)\n",
      "col2 = pyfits.Column(name='RATE', format='E',  array=rate)\n",
      "col3 = pyfits.Column(name='STAT_ERR', format='E',  array=stat_err)\n",
      "cols = pyfits.ColDefs([col1, col2, col3])\n",
      "\n",
      "tbhdu = pyfits.new_table(cols,header=hdr)\n",
      "outname=ddir+'/test.pha'\n",
      "tbhdu.writeto(outname, clobber=True)\n",
      "\n",
      "     \n"
     ],
     "language": "python",
     "metadata": {},
     "outputs": [
      {
       "output_type": "stream",
       "stream": "stderr",
       "text": [
        "Overwriting existing file '/Users/corcoran/program/ROSAT/ROSAT_PROBLEMS/done_201404/test.pha'.\n"
       ]
      }
     ],
     "prompt_number": 48
    },
    {
     "cell_type": "code",
     "collapsed": false,
     "input": [
      "\"\"\"\n",
      "Convert an ascii-formatted rosat RSP file to xspec FITS format\n",
      "\"\"\"\n",
      "\n",
      "import numpy as np\n",
      "import pyfits\n",
      "\n",
      "ddir='/Users/corcoran/program/ROSAT/ROSAT_PROBLEMS/done_201404/rev1'\n",
      "rsp=open(ddir+'/3c273_unbinned.rsp_sou','r')\n",
      "l=rsp.readlines()\n",
      "pacname=['\"detect info \"','\"chanel bound\"','\"response    \"']\n",
      "pacpre=' ***** Package '\n",
      "pacsuf=' ***** '\n",
      "test=pacpre+pacname[j]+pacsuf\n",
      "\"\"\"\n",
      "this block creates a dictionary of all the info blocks\n",
      "\"\"\"\n",
      "hdr=pyfits.Header()\n",
      "for i in arange(1,len(l)):\n",
      "    try: \n",
      "        a=l[i].split(\":\")\n",
      "        hdr[a[0].strip().replace(\" \", \"\").replace(\".\",\"\")[0:7]]=a[1].strip().replace(\" \", \"\")\n",
      "    except:\n",
      "        if l[i][0:5].strip()==\"chan\":\n",
      "            rate_index=i\n",
      "            \n",
      "# Add appropriate FITS extension header keywords for MATRIX extension\n",
      "\n",
      "hdr['EXTNAME']='MATRIX'\n",
      "hdr['TELESCOP']=info['Detecto'][0:5]\n",
      "hdr['INSTRUME']=info['Detecto'][5:]\n",
      "hdr['FILTER']='NONE'\n",
      "hdr['CHANTYPE']='PI'\n",
      "hdr['DETCHANS']=hdr['No.ofphachannels']\n",
      "hdr['HDUCLASS']='OGIP'\n",
      "hdr['HDUCLAS1'] = 'RESPONSE' \n",
      "hdr['HDUCLAS2'] = 'RSP_MATRIX'\n",
      "hdr['HDUVERS'] = '1.3.0'\n",
      "hdr['TLMIN4']=8 # first channel in response matrix\n",
      "\"\"\"\n",
      "this block gets the response information and stores in the matrix array\n",
      "\"\"\"\n",
      "resp=[]\n",
      "for i in arange(len(l[rate_index+1:-2])):\n",
      "    a=l[i+rate_index+1].split()\n",
      "    try:\n",
      "        stat_err.append(float(a[2])); stat_err.append(float(a[5])); stat_err.append(float(a[8]))\n",
      "        chan.append(int(a[0])); chan.append(int(a[3])); chan.append(int(a[6]))          \n",
      "        rate.append(float(a[1])); rate.append(float(a[4])); rate.append(float(a[7]))\n",
      "    except:\n",
      "        print \"Line is %s\" % l[i]\n",
      "\"\"\"\n",
      "now write to fits file\n",
      "\"\"\"\n",
      "col1 = pyfits.Column(name='CHANNEL', format='I2', array=chan)\n",
      "col2 = pyfits.Column(name='RATE', format='E',  array=rate)\n",
      "col3 = pyfits.Column(name='STAT_ERR', format='E',  array=stat_err)\n",
      "cols = pyfits.ColDefs([col1, col2, col3])\n",
      "\n",
      "tbhdu = pyfits.new_table(cols,header=hdr)\n",
      "outname=ddir+'/test.pha'\n",
      "tbhdu.writeto(outname, clobber=True)\n"
     ],
     "language": "python",
     "metadata": {},
     "outputs": [
      {
       "metadata": {},
       "output_type": "pyout",
       "prompt_number": 46,
       "text": [
        "120"
       ]
      }
     ],
     "prompt_number": 46
    },
    {
     "cell_type": "code",
     "collapsed": false,
     "input": [
      "hdr0=pyfits.Header()\n",
      "hdr0"
     ],
     "language": "python",
     "metadata": {},
     "outputs": [
      {
       "metadata": {},
       "output_type": "pyout",
       "prompt_number": 28,
       "text": []
      }
     ],
     "prompt_number": 28
    },
    {
     "cell_type": "code",
     "collapsed": false,
     "input": [
      "bool(0)\n"
     ],
     "language": "python",
     "metadata": {},
     "outputs": [
      {
       "metadata": {},
       "output_type": "pyout",
       "prompt_number": 25,
       "text": [
        "False"
       ]
      }
     ],
     "prompt_number": 25
    },
    {
     "cell_type": "code",
     "collapsed": false,
     "input": [
      "arange(1,120)"
     ],
     "language": "python",
     "metadata": {},
     "outputs": [
      {
       "metadata": {},
       "output_type": "pyout",
       "prompt_number": 139,
       "text": [
        "array([  1,   2,   3,   4,   5,   6,   7,   8,   9,  10,  11,  12,  13,\n",
        "        14,  15,  16,  17,  18,  19,  20,  21,  22,  23,  24,  25,  26,\n",
        "        27,  28,  29,  30,  31,  32,  33,  34,  35,  36,  37,  38,  39,\n",
        "        40,  41,  42,  43,  44,  45,  46,  47,  48,  49,  50,  51,  52,\n",
        "        53,  54,  55,  56,  57,  58,  59,  60,  61,  62,  63,  64,  65,\n",
        "        66,  67,  68,  69,  70,  71,  72,  73,  74,  75,  76,  77,  78,\n",
        "        79,  80,  81,  82,  83,  84,  85,  86,  87,  88,  89,  90,  91,\n",
        "        92,  93,  94,  95,  96,  97,  98,  99, 100, 101, 102, 103, 104,\n",
        "       105, 106, 107, 108, 109, 110, 111, 112, 113, 114, 115, 116, 117,\n",
        "       118, 119])"
       ]
      }
     ],
     "prompt_number": 139
    },
    {
     "cell_type": "markdown",
     "metadata": {},
     "source": [
      "<h3>RASS Code</h3>\n",
      "\n",
      "This code explores the implementation of the method of Belloni, Hasinger & Izzo (1994A&A...283.1037B) on analysis of ROSAT All-Sky Survey data"
     ]
    },
    {
     "cell_type": "code",
     "collapsed": false,
     "input": [
      "# directory of sample lmc x-3 data\n",
      "ddir=\"/Users/corcoran/program/ROSAT/RASS_analysis/lmcx-3\""
     ],
     "language": "python",
     "metadata": {},
     "outputs": [],
     "prompt_number": 2
    },
    {
     "cell_type": "code",
     "collapsed": false,
     "input": [
      "import pyfits\n",
      "import numpy as np\n",
      "from utils import idl\n",
      "\n",
      "\n",
      "\n",
      "\n"
     ],
     "language": "python",
     "metadata": {},
     "outputs": [
      {
       "metadata": {},
       "output_type": "pyout",
       "prompt_number": 18,
       "text": [
        "numpy.ndarray"
       ]
      }
     ],
     "prompt_number": 18
    },
    {
     "cell_type": "code",
     "collapsed": false,
     "input": [
      "anc=idl.findfile(\"*/*anc*\",ddir=ddir)\n",
      "anc"
     ],
     "language": "python",
     "metadata": {},
     "outputs": []
    },
    {
     "cell_type": "code",
     "collapsed": false,
     "input": [
      "bas=idl.findfile(\"*/*bas*\",ddir=ddir)\n",
      "bas"
     ],
     "language": "python",
     "metadata": {},
     "outputs": [
      {
       "metadata": {},
       "output_type": "pyout",
       "prompt_number": 66,
       "text": [
        "array([ '/Users/corcoran/program/ROSAT/RASS_analysis/lmcx-3/rs932808n00/rs932808n00_bas.fits',\n",
        "       '/Users/corcoran/program/ROSAT/RASS_analysis/lmcx-3/rs932809n00/rs932809n00_bas.fits',\n",
        "       '/Users/corcoran/program/ROSAT/RASS_analysis/lmcx-3/rs932907n00/rs932907n00_bas.fits'], \n",
        "      dtype='|S83')"
       ]
      }
     ],
     "prompt_number": 66
    },
    {
     "cell_type": "code",
     "collapsed": false,
     "input": [
      "hdu=pyfits.open(bas[1])\n",
      "hdu.info()\n"
     ],
     "language": "python",
     "metadata": {},
     "outputs": [
      {
       "output_type": "stream",
       "stream": "stdout",
       "text": [
        "Filename: /Users/corcoran/program/ROSAT/RASS_analysis/lmcx-3/rs932809n00/rs932809n00_bas.fits\n",
        "No.    Name         Type      Cards   Dimensions   Format\n",
        "0    PRIMARY     PrimaryHDU      48   ()           int32   \n",
        "1    STDGTI      BinTableHDU     75   1168R x 3C   [1D, 1D, 1I]   \n",
        "2    STDEVT      BinTableHDU    172   412924R x 8C   [1J, 1J, 1I, 1I, 1D, 1I, 1I, 1I]   \n",
        "3    REJEVT      BinTableHDU    162   75126R x 8C   [1J, 1J, 1I, 1I, 1D, 1I, 1I, 1I]   \n",
        "4    TSI         BinTableHDU    163   13228R x 22C   [1D, 1J, 1J, 1I, 1I, 1I, 1I, 1I, 1I, 1I, 1I, 1I, 1I, 1I, 1I, 1I, 1I, 1I, 1I, 1I, 1I, 1J]   \n",
        "5    STDQLM      BinTableHDU    199   1R x 36C     [1J, 1J, 1J, 1I, 1I, 1I, 1I, 1I, 1I, 1I, 1I, 1I, 1I, 1I, 1I, 1I, 1I, 1I, 1I, 1I, 1I, 1I, 1I, 1I, 1I, 1I, 1I, 1I, 1I, 1I, 1I, 1I, 1I, 1I, 1I, 1I]   \n",
        "6    ALLQLM      BinTableHDU    196   1R x 36C     [1J, 1J, 1J, 1I, 1I, 1I, 1I, 1I, 1I, 1I, 1I, 1I, 1I, 1I, 1I, 1I, 1I, 1I, 1I, 1I, 1I, 1I, 1I, 1I, 1I, 1I, 1I, 1I, 1I, 1I, 1I, 1I, 1I, 1I, 1I, 1I]   \n"
       ]
      }
     ],
     "prompt_number": 67
    },
    {
     "cell_type": "code",
     "collapsed": false,
     "input": [
      "evt=hdu['STDEVT'].data\n",
      "evthd=hdu['STDEVT'].header\n",
      "evt.columns"
     ],
     "language": "python",
     "metadata": {},
     "outputs": [
      {
       "metadata": {},
       "output_type": "pyout",
       "prompt_number": 75,
       "text": [
        "ColDefs(\n",
        "    name = 'X'; format = '1J'; unit = 'pixel'\n",
        "    name = 'Y'; format = '1J'; unit = 'pixel'\n",
        "    name = 'PHA'; format = '1I'; unit = 'chan'\n",
        "    name = 'PI'; format = '1I'; unit = 'chan'\n",
        "    name = 'TIME'; format = '1D'; unit = 's'\n",
        "    name = 'DETX'; format = '1I'; unit = 'pixeL'\n",
        "    name = 'DETY'; format = '1I'; unit = 'pixel'\n",
        "    name = 'STATUS'; format = '1I'; unit = 'CODED'\n",
        ")"
       ]
      }
     ],
     "prompt_number": 75
    },
    {
     "cell_type": "code",
     "collapsed": false,
     "input": [
      "hdua=pyfits.open(anc[1])\n",
      "asp=hdua['ASPECT'].data\n",
      "asphdr=hdua['ASPECT'].header\n",
      "asp.columns"
     ],
     "language": "python",
     "metadata": {},
     "outputs": [
      {
       "metadata": {},
       "output_type": "pyout",
       "prompt_number": 74,
       "text": [
        "ColDefs(\n",
        "    name = 'TIME'; format = '1D'; unit = 's'\n",
        "    name = 'MJD_INT'; format = '1J'; unit = 'd'\n",
        "    name = 'MJD_FRAC'; format = '1D'; unit = 'd'\n",
        "    name = 'RA_CAS'; format = '1D'; unit = 'deg'\n",
        "    name = 'DEC_CAS'; format = '1D'; unit = 'deg'\n",
        "    name = 'ROAN_CAS'; format = '1D'; unit = 'deg'\n",
        "    name = 'ASP_QUAL'; format = '1I'; unit = 'CODED'\n",
        "    name = 'STT_QUAL'; format = '1I'; unit = 'CODED'\n",
        "    name = 'RA_SC'; format = '1D'; unit = 'deg'\n",
        "    name = 'DEC_SC'; format = '1D'; unit = 'deg'\n",
        "    name = 'ROAN_SC'; format = '1D'; unit = 'deg'\n",
        "    name = 'RA_ERR'; format = '1D'; unit = 'deg'\n",
        "    name = 'DEC_ERR'; format = '1D'; unit = 'deg'\n",
        "    name = 'ROAN_ERR'; format = '1D'; unit = 'deg'\n",
        "    name = 'STATUS'; format = '1I'; unit = 'CODED'\n",
        "    name = 'OBI_NUM'; format = '1I'\n",
        ")"
       ]
      }
     ],
     "prompt_number": 74
    },
    {
     "cell_type": "code",
     "collapsed": false,
     "input": [
      "plot(asp.field('RA_CAS')[0:1000], asp.field('DEC_CAS')[0:1000])"
     ],
     "language": "python",
     "metadata": {},
     "outputs": [
      {
       "metadata": {},
       "output_type": "pyout",
       "prompt_number": 80,
       "text": [
        "[<matplotlib.lines.Line2D at 0x1157fae90>]"
       ]
      },
      {
       "metadata": {},
       "output_type": "display_data",
       "png": "[encoded data removed]",
       "text": [
        "<matplotlib.figure.Figure at 0x10a3b0f10>"
       ]
      }
     ],
     "prompt_number": 80
    },
    {
     "cell_type": "code",
     "collapsed": false,
     "input": [
      "asp.field('RA_CAS')[0:100]"
     ],
     "language": "python",
     "metadata": {},
     "outputs": [
      {
       "metadata": {},
       "output_type": "pyout",
       "prompt_number": 81,
       "text": [
        "array([ 0.        ,  0.        ,  0.        ,  0.        ,  0.        ,\n",
        "        0.        ,  0.        ,  0.        ,  0.        ,  0.        ,\n",
        "        0.        ,  0.        ,  0.        ,  0.        ,  0.        ,\n",
        "        0.        ,  0.        ,  0.        , -5.12694444, -5.065     ,\n",
        "       -5.00277778, -4.94083333, -4.87902778, -4.81138889, -4.75333333,\n",
        "       -4.69236111, -4.6275    , -4.56652778, -4.50694444, -4.44444444,\n",
        "       -4.3825    , -4.32152778, -4.26      , -4.19861111, -4.13680556,\n",
        "       -4.07458333, -4.01208333, -3.95027778, -3.88680556, -3.82555556,\n",
        "       -3.76263889, -3.69833333, -3.63916667, -3.57777778, -3.51416667,\n",
        "       -3.45152778, -3.39083333, -3.32875   , -3.26666667, -3.20291667,\n",
        "       -3.14125   , -3.07847222, -3.01847222, -2.95680556, -2.89513889,\n",
        "       -2.83236111, -2.76847222, -2.70583333, -2.64527778, -2.58208333,\n",
        "       -2.52111111, -2.45930556, -2.39722222, -2.33333333, -2.27194444,\n",
        "       -2.21069444, -2.14805556, -2.08638889, -2.02402778, -1.96305556,\n",
        "       -1.91277778, -1.84097222, -1.77722222, -1.71111111, -1.65083333,\n",
        "       -1.59      , -1.52861111, -1.46486111, -1.4025    , -1.33958333,\n",
        "       -1.2775    , -1.21555556, -1.15333333, -1.09152778, -1.02986111,\n",
        "       -0.96791667, -0.90541667, -0.84361111, -0.7825    , -0.72055556,\n",
        "       -0.65888889, -0.59680556, -0.53444444, -0.47236111, -0.40986111,\n",
        "       -0.34791667, -0.28555556, -0.22291667, -0.16027778, -0.09777778])"
       ]
      }
     ],
     "prompt_number": 81
    },
    {
     "cell_type": "code",
     "collapsed": false,
     "input": [
      "evthd\n"
     ],
     "language": "python",
     "metadata": {},
     "outputs": [
      {
       "metadata": {},
       "output_type": "pyout",
       "prompt_number": 71,
       "text": [
        "XTENSION= 'BINTABLE'           / binary table extension                         \n",
        "BITPIX  =                    8 / 8-bit bytes                                    \n",
        "NAXIS   =                    2 / 2-dimensional binary table                     \n",
        "NAXIS1  =                   26 / width of table in bytes                        \n",
        "NAXIS2  =               412924 / number of rows in table                        \n",
        "PCOUNT  =                    0 / size of special data area                      \n",
        "GCOUNT  =                    1 / one data group (required keyword)              \n",
        "TFIELDS =                    8 / number of fields in each row                   \n",
        "TTYPE1  = 'X       '           / Projected X position of photon on sky          \n",
        "TFORM1  = '1J      '           / data format of field: 4-byte INTEGER           \n",
        "TUNIT1  = 'pixel   '           / Unit:  0.5 arcsecond x 0.5 arcsecond pixel     \n",
        "TTYPE2  = 'Y       '           / Projected Y position of photon on sky          \n",
        "TFORM2  = '1J      '           / data format of field: 4-byte INTEGER           \n",
        "TUNIT2  = 'pixel   '           / Unit:  0.5 arcsecond x 0.5 arcsecond pixel     \n",
        "TTYPE3  = 'PHA     '           / Pulse Height Analyzer bin number               \n",
        "TFORM3  = '1I      '           / data format of field: 2-byte INTEGER           \n",
        "TUNIT3  = 'chan    '           / Unit:  channels                                \n",
        "TTYPE4  = 'PI      '           / Pulse Invariant bin number                     \n",
        "TFORM4  = '1I      '           / data format of field: 2-byte INTEGER           \n",
        "TUNIT4  = 'chan    '           / Unit:  channels                                \n",
        "TTYPE5  = 'TIME    '           / Spacecraft clock time of event                 \n",
        "TFORM5  = '1D      '           / data format of field: 8-byte DOUBLE            \n",
        "TUNIT5  = 's       '           / Unit:  seconds                                 \n",
        "TTYPE6  = 'DETX    '           / Corrected X coordinate of photon               \n",
        "TFORM6  = '1I      '           / data format of field: 2-byte INTEGER           \n",
        "TUNIT6  = 'pixeL   '           / Unit:  0.93 arcsecond x 0.93 arcsecond pixel   \n",
        "TTYPE7  = 'DETY    '           / Corrected Y coordinate of photon               \n",
        "TFORM7  = '1I      '           / data format of field: 2-byte INTEGER           \n",
        "TUNIT7  = 'pixel   '           / Unit:  0.93 arcsecond x 0.93 arcsecond pixel   \n",
        "TTYPE8  = 'STATUS  '           / Status flag for the event                      \n",
        "TFORM8  = '1I      '           / data format of field: 2-byte INTEGER           \n",
        "TUNIT8  = 'CODED   '           / Unit:  None                                    \n",
        "EXTNAME = 'STDEVT  '           / Standard Events                                \n",
        "CONTENT = 'BASIC   '           / data content of file                           \n",
        "ORIGIN  = 'MPE Garching, FRG'  / origin of processed data                       \n",
        "DATE    = '10/03/00'           / FITS creation date (DD/MM/YY)                  \n",
        "TELESCOP= 'ROSAT   '           / mission name                                   \n",
        "INSTRUME= 'PSPCC   '           / instrument name                                \n",
        "OBS_MODE= 'SURVEY  '           / obs mode: POINTING,SLEW, OR SCAN               \n",
        "IRAFNAME= 'rs932809n00_stdevt.tab' / IRAF file name                             \n",
        "MJDREFI =                48043 / MJD integer  SC clock start                    \n",
        "MJDREFF = 8.79745370373712E-01 / MJD fraction SC clock start                    \n",
        "ZERODATE= '01/06/90'           / UT date of SC start (DD/MM/YY)                 \n",
        "ZEROTIME= '21:06:50'           / UT time of SC start (HH:MM:SS)                 \n",
        "RDF_VERS= '4.2     '           / Rationalized Data Format release version number\n",
        "RDF_DATE= '29-DEC-1997'        / Rationalized Data Format release date          \n",
        "PROC_SYS= 'SASS8_2_0'          / Processing system                              \n",
        "PROCDATE= ' 7-MAR-2000 13:13:32' / SASS SEQ processing start date               \n",
        "CHECKSUM= '9cANAa9L3aAL9a7L'   / encoded HDU checksum updated on 10/03/00       \n",
        "DATASUM = '1013850644'         / data unit checksum updated on 10/03/00         \n",
        "REVISION=                    3 / Revision number of processed data              \n",
        "FILTER  = 'NONE    '           / filter id: NONE OR BORON                       \n",
        "OBJECT  = 'RASS 3/28/09'       / name of object                                 \n",
        "RA_NOM  =         9.272722E+01 / nominal RA (deg)                               \n",
        "DEC_NOM =        -6.187500E+01 / nominal DEC (deg)                              \n",
        "ROLL_NOM=         0.000000E+00 / nominal ROLL (deg CCW  North)                  \n",
        "EQUINOX =         2.000000E+03 / equinox                                        \n",
        "OBS_ID  = 'WG932809P_N1_SI01.N1' / observation ID                               \n",
        "ROR_NUM =               932809 / ROR number                                     \n",
        "OBSERVER= 'MPE     '           / PI name                                        \n",
        "SETUPID = 'NOMINAL '           / Instrument setup                               \n",
        "DATE-OBS= '11/07/90'           / UT date of obs start (DD/MM/YY)                \n",
        "TIME-OBS= '12:45:00.000'       / UT time of obs start (HH:MM:SS)                \n",
        "DATE_END= '13/08/91'           / UT date of obs end   (DD/MM/YY)                \n",
        "TIME_END= '01:58:17.000'       / UT time of obs end   (HH:MM:SS)                \n",
        "MJD-OBS =         4.808353E+04 / MJD of seq start                               \n",
        "SCSEQBEG=              3425890 / SC seq start(sec)                              \n",
        "SCSEQEND=             37774291 / SC seq end  (sec)                              \n",
        "NUM_OBIS=                    1 / Number of obs intervals (OBIs)                 \n",
        "LIVETIME=        -9.512500E+04 / Live time                                      \n",
        "DTCOR   =        -1.000000E+00 / Dead time correction factor                    \n",
        "ONTIME  =         9.512500E+04 / On time                                        \n",
        "TSTART  =              3425890 / Start time of sequence                         \n",
        "TSTOP   =             37774291 / Stop time of sequence                          \n",
        "HDUCLASS= 'OGIP    '           /                                                \n",
        "HDUCLAS1= 'EVENTS  '           /                                                \n",
        "HDUCLAS2= 'ACCEPTED'           /                                                \n",
        "TIMESYS = 'scc     '           / System used to define time                     \n",
        "TIMEUNIT= 's       '           / Unit of time: seconds                          \n",
        "CLOCKCOR= 'No      '           / Spacecraft clock times not corrected to UT     \n",
        "TIMEREF = 'LOCAL   '           / Reference system for times                     \n",
        "TASSIGN = 'SATELLITE'          / Time assignment done at satellite              \n",
        "TIMVERSN= 'OGIP/93-003a'       / OGIP memo describing convention used           \n",
        "COMMENT                                                                         \n",
        "RAWX    =                    F / RAW X coordinates not supplied                 \n",
        "RAWY    =                    F / RAW Y coordinates not supplied                 \n",
        "TCTYP1  = 'RA---TAN'           / Coord. type: RA tangent plane projection       \n",
        "TCRPX1  =         2.304100E+04 / X axis reference pixel of projected image      \n",
        "TCRVL1  =         9.272722E+01 / Sky coord. (degrees) at X axis ref. pixel      \n",
        "TCDLT1  =        -1.388889E-04 / X increment (degrees per pixel) at ref. pixel  \n",
        "TCROT1  =         0.000000E+00 / Rotation angle (degrees)                       \n",
        "TLMIN1  =                    1 / Minimum legal QPOE projected image X axis value\n",
        "TLMAX1  =                46080 / Maximum legal QPOE projected image X axis value\n",
        "EQUINOX =         2.000000E+03 / Equinox for sky coordinate system x axis       \n",
        "RADECSYS= 'FK5     '           / World coord. system for this file              \n",
        "TCTYP2  = 'DEC--TAN'           / Coord. type: DEC tangent plane projection      \n",
        "TCRPX2  =         2.304100E+04 / Y axis reference pixel of projected image      \n",
        "TCRVL2  =        -6.187500E+01 / Sky coord. (degrees) at Y axis ref. pixel      \n",
        "TCDLT2  =         1.388889E-04 / Y increment (degrees per pixel) at ref. pixel  \n",
        "TCROT2  =         0.000000E+00 / Rotation angle (degrees)                       \n",
        "TLMIN2  =                    1 / Minimum legal QPOE projected image Y axis value\n",
        "TLMAX2  =                46080 / Maximum legal QPOE projected image Y axis value\n",
        "TCRPX3  =         1.000000E+00 / PHA reference channel                          \n",
        "TCRVL3  =         1.000000E+00 / Channel value at PHA axis reference            \n",
        "TCDLT3  =         1.000000E+00 / PHA channel increment                          \n",
        "TLMIN3  =                    1 / Minimum legal PHA axis value                   \n",
        "TLMAX3  =                  256 / Maximum legal PHA axis value                   \n",
        "TCRPX4  =         1.000000E+00 / PI reference channel                           \n",
        "TCRVL4  =         1.000000E+00 / Channel value at PI axis reference             \n",
        "TCDLT4  =         1.000000E+00 / PI channel increment                           \n",
        "TLMIN4  =                    1 / Minimum legal PI axis value                    \n",
        "TLMAX4  =                  500 / Maximum legal PI axis value                    \n",
        "TCRPX6  =         4.119000E+03 / Detector X axis reference pixel                \n",
        "TCDLT6  =         2.595021E-04 / X increment (degrees per pixel) at ref. pixel  \n",
        "TLMIN6  =                    1 / Minimum legal corrected detector X axis value  \n",
        "TLMAX6  =                 8192 / Maximum legal corrected detector X axis value  \n",
        "TCRPX7  =         3.929000E+03 / Detector Y axis reference pixel                \n",
        "TCDLT7  =        -2.595021E-04 / Y increment (degrees per pixel) at ref. pixel  \n",
        "TLMIN7  =                    1 / Minimum legal corrected detector Y axis value  \n",
        "TLMAX7  =                 8192 / Maximum legal corrected detector Y axis value  \n",
        "COMMENT                                                                         \n",
        "COMMENT   WARNING: events later than 25-JAN-1991 generatedby dtector 2 (B)      \n",
        "COMMENT                                                                         \n",
        "COMMENT   X,Y       = projected position of the photons corrected               \n",
        "COMMENT               for boresight and aspect. These coordinates               \n",
        "COMMENT               are derived from the linearized detector                  \n",
        "COMMENT               values (DETX,DETY) by application of aspect.              \n",
        "COMMENT   PHA       = Raw pulse height of photon uncorrected for                \n",
        "COMMENT               gain variations.                                          \n",
        "COMMENT   PI        = Pulse height of photon corrected for :                    \n",
        "COMMENT                1) Non-linearities in conversion from analog             \n",
        "COMMENT                   signal to digital value                               \n",
        "COMMENT                2) Gain saturation                                       \n",
        "COMMENT                3) Temporal gain variations                              \n",
        "COMMENT                4) Spatial gain variations                               \n",
        "COMMENT   TIME      = The recorded spacecraft (SC) time of each photon event    \n",
        "COMMENT               in seconds.  The conversion formula from spacecraft       \n",
        "COMMENT               time to MJD may be revised based on better                \n",
        "COMMENT               calibration but is approximately given by the             \n",
        "COMMENT               following algorithm:                                      \n",
        "COMMENT                  MJD = MJD-INT + MJD_FRAC + TIME/86400.0                \n",
        "COMMENT   DETX,DETY = X,Y position of photon on the detector                    \n",
        "COMMENT               corrected for:                                            \n",
        "COMMENT                1) Small-scale nonlinearities in PSPC wires              \n",
        "COMMENT                2) Large-scale distortions of PSPC windows               \n",
        "COMMENT                3) Plate-scale nonlinearities.                           \n",
        "COMMENT               Coordinates do not include aspect solutions.              \n",
        "COMMENT   STATUS is bit encoded and defined as folows:                          \n",
        "COMMENT      BIT  DESCRIPTION                                                   \n",
        "COMMENT      00   Photon rejected by standard processing (SASS)                 \n",
        "COMMENT      1-15 Not used                                                      \n",
        "COMMENT                                                                         \n",
        "HISTORY   SASS file used:  SCMDS.OBI                                            \n",
        "HISTORY                                                                         \n",
        "HISTORY   Correspondence with SASS variables:                                   \n",
        "HISTORY                                                                         \n",
        "HISTORY   X     = IXN_SCM + IXORIG + XOFFSET                                    \n",
        "HISTORY   Y     = YOFFSET - IYN_SCM - IYORIG                                    \n",
        "HISTORY   where IXN_SCM, IYN_SCM from SCMDS.OBI and                             \n",
        "HISTORY   XOFFSET = 023041                                                      \n",
        "HISTORY   YOFFSET = 023040                                                      \n",
        "HISTORY   and IXORIG, IYORIG derived as follows:                                \n",
        "HISTORY   IROW = NSM_SCM/16                                                     \n",
        "HISTORY   ICOL = NSM_SCM - (IROW*16)                                            \n",
        "HISTORY   IXORIG = (ICOL-8)*02880                                               \n",
        "HISTORY   IYORIG = (IROW-8)*02880                                               \n",
        "HISTORY   PHA  = IA_SCM                                                         \n",
        "HISTORY   PI   = IE_SCM                                                         \n",
        "HISTORY   TIME = IT1_SCM + IT2_SCM/8192.0                                       \n",
        "HISTORY   DETX = IX_SCM                                                         \n",
        "HISTORY   DETY = IY_SCM                                                         \n",
        "HISTORY                                                                         "
       ]
      }
     ],
     "prompt_number": 71
    },
    {
     "cell_type": "code",
     "collapsed": false,
     "input": [
      "hdu.info()"
     ],
     "language": "python",
     "metadata": {},
     "outputs": [
      {
       "output_type": "stream",
       "stream": "stdout",
       "text": [
        "Filename: /Users/corcoran/program/ROSAT/RASS_analysis/lmcx-3/rs932808n00/rs932808n00_anc.fits\n",
        "No.    Name         Type      Cards   Dimensions   Format\n",
        "0    PRIMARY     PrimaryHDU      47   ()           int32   \n",
        "1    OBSTABLE    BinTableHDU    100   1R x 14C     [1J, 1J, 8A, 12A, 8A, 12A, 1E, 1E, 1E, 1E, 1E, 1E, 1E, 1I]   \n",
        "2    EPHEM       BinTableHDU    151   0R x 19C     [1J, 1D, 1D, 1D, 1D, 1D, 1D, 1D, 1J, 1J, 1J, 1D, 1D, 1D, 1D, 1D, 1D, 1D, 1I]   \n",
        "3    ASPECT      BinTableHDU    165   625556R x 16C   ['1D', '1J', '1D', '1D', '1D', '1D', '1I', '1I', '1D', '1D', '1D', '1D', '1D', '1D', '1I', '1I']   \n",
        "4    HKP         BinTableHDU     94   0R x 9C      [1D, 1I, 1I, 1I, 1I, 1I, 1I, 1I, 1I]   \n",
        "5    EVRATE      BinTableHDU    191   314422R x 32C   [1D, 1J, 1J, 1J, 1J, 1J, 1J, 1J, 1J, 1J, 1J, 1J, 1J, 1J, 1J, 1J, 1J, 1J, 1J, 1J, 1J, 1J, 1J, 1J, 1J, 1J, 1J, 1J, 1J, 1J, 1J, 1I]   \n",
        "6    HKSTA       BinTableHDU    116   0R x 12C     [1D, 1I, 1I, 1I, 1I, 1I, 1I, 1I, 1I, 1I, 1I, 1I]   \n",
        "7    GSTAR       BinTableHDU     81   0R x 1C      [80A]   \n"
       ]
      }
     ],
     "prompt_number": 42
    },
    {
     "cell_type": "code",
     "collapsed": false,
     "input": [
      "ephem=hdu['EPHEM'].data\n",
      "ephemhdr=hdu['EPHEM'].header"
     ],
     "language": "python",
     "metadata": {},
     "outputs": [],
     "prompt_number": 61
    },
    {
     "cell_type": "code",
     "collapsed": false,
     "input": [
      "ephem.columns"
     ],
     "language": "python",
     "metadata": {},
     "outputs": [
      {
       "metadata": {},
       "output_type": "pyout",
       "prompt_number": 62,
       "text": [
        "ColDefs(\n",
        "    name = 'MJD_INT'; format = '1J'; unit = 'd'\n",
        "    name = 'MJD_FRAC'; format = '1D'; unit = 'd'\n",
        "    name = 'SUN_X'; format = '1D'; unit = 'NONE'\n",
        "    name = 'SUN_Y'; format = '1D'; unit = 'NONE'\n",
        "    name = 'SUN_Z'; format = '1D'; unit = 'NONE'\n",
        "    name = 'MOON_X'; format = '1D'; unit = 'NONE'\n",
        "    name = 'MOON_Y'; format = '1D'; unit = 'NONE'\n",
        "    name = 'MOON_Z'; format = '1D'; unit = 'NONE'\n",
        "    name = 'SAT_X'; format = '1J'; unit = 'm'\n",
        "    name = 'SAT_Y'; format = '1J'; unit = 'm'\n",
        "    name = 'SAT_Z'; format = '1J'; unit = 'm'\n",
        "    name = 'LON_EAST'; format = '1D'; unit = 'deg'\n",
        "    name = 'LAT_NORT'; format = '1D'; unit = 'deg'\n",
        "    name = 'ALT_SAT'; format = '1D'; unit = 'm'\n",
        "    name = 'GHA'; format = '1D'; unit = 'deg'\n",
        "    name = 'AZIM_SAT'; format = '1D'; unit = 'deg'\n",
        "    name = 'ELEV_SAT'; format = '1D'; unit = 'deg'\n",
        "    name = 'DIS_GSTA'; format = '1D'; unit = 'm'\n",
        "    name = 'OBI_NUM'; format = '1I'; unit = 'NONE'\n",
        ")"
       ]
      }
     ],
     "prompt_number": 62
    },
    {
     "cell_type": "code",
     "collapsed": false,
     "input": [
      "figure()"
     ],
     "language": "python",
     "metadata": {},
     "outputs": [
      {
       "metadata": {},
       "output_type": "pyout",
       "prompt_number": 45,
       "text": [
        "<matplotlib.figure.Figure at 0x10638be90>"
       ]
      },
      {
       "metadata": {},
       "output_type": "display_data",
       "text": [
        "<matplotlib.figure.Figure at 0x10638be90>"
       ]
      }
     ],
     "prompt_number": 45
    },
    {
     "cell_type": "code",
     "collapsed": false,
     "input": [
      "mjdi=ephem.field('mjd_int')\n",
      "mjdf=ephem.field('mjd_frac')\n",
      "mjd=mjdi+mjdf\n",
      "\n",
      "plot(mjd,ephem.field('sat_z'))\n",
      "show()\n",
      "\n",
      "\n"
     ],
     "language": "python",
     "metadata": {},
     "outputs": [
      {
       "metadata": {},
       "output_type": "display_data",
       "png": "[encoded data removed]",
       "text": [
        "<matplotlib.figure.Figure at 0x1060cccd0>"
       ]
      }
     ],
     "prompt_number": 56
    },
    {
     "cell_type": "code",
     "collapsed": false,
     "input": [
      "mjd"
     ],
     "language": "python",
     "metadata": {},
     "outputs": [
      {
       "metadata": {},
       "output_type": "pyout",
       "prompt_number": 58,
       "text": [
        "array([], dtype=float64)"
       ]
      }
     ],
     "prompt_number": 58
    },
    {
     "cell_type": "code",
     "collapsed": false,
     "input": [
      "ephemhdr\n"
     ],
     "language": "python",
     "metadata": {},
     "outputs": [
      {
       "metadata": {},
       "output_type": "pyout",
       "prompt_number": 63,
       "text": [
        "XTENSION= 'BINTABLE'           / binary table extension                         \n",
        "BITPIX  =                    8 / 8-bit bytes                                    \n",
        "NAXIS   =                    2 / 2-dimensional binary table                     \n",
        "NAXIS1  =                  130 / width of table in bytes                        \n",
        "NAXIS2  =                    0 / number of rows in table                        \n",
        "PCOUNT  =                    0 / size of special data area                      \n",
        "GCOUNT  =                    1 / one data group (required keyword)              \n",
        "TFIELDS =                   19 / number of fields in each row                   \n",
        "TTYPE1  = 'MJD_INT '           / Integer portion of UTC in MJD                  \n",
        "TFORM1  = '1J      '           / data format of field: 4-byte INTEGER           \n",
        "TUNIT1  = 'd       '           / physical unit of field                         \n",
        "TTYPE2  = 'MJD_FRAC'           / Fractional portion of UTC in MJD               \n",
        "TFORM2  = '1D      '           / data format of field: 8-byte DOUBLE            \n",
        "TUNIT2  = 'd       '           / physical unit of field                         \n",
        "TTYPE3  = 'SUN_X   '           / unit vector in ECF-frame, X component          \n",
        "TFORM3  = '1D      '           / data format of field: 8-byte DOUBLE            \n",
        "TUNIT3  = 'NONE    '           / physical unit of field                         \n",
        "TTYPE4  = 'SUN_Y   '           / unit vector in ECF-frame, Y component          \n",
        "TFORM4  = '1D      '           / data format of field: 8-byte DOUBLE            \n",
        "TUNIT4  = 'NONE    '           / physical unit of field                         \n",
        "TTYPE5  = 'SUN_Z   '           / unit vector in ECF-frame, Z component          \n",
        "TFORM5  = '1D      '           / data format of field: 8-byte DOUBLE            \n",
        "TUNIT5  = 'NONE    '           / physical unit of field                         \n",
        "TTYPE6  = 'MOON_X  '           / Moon unit vector in ECF-frame, X component     \n",
        "TFORM6  = '1D      '           / data format of field: 8-byte DOUBLE            \n",
        "TUNIT6  = 'NONE    '           / physical unit of field                         \n",
        "TTYPE7  = 'MOON_Y  '           / Moon unit vector in ECF-frame, Y component     \n",
        "TFORM7  = '1D      '           / data format of field: 8-byte DOUBLE            \n",
        "TUNIT7  = 'NONE    '           / physical unit of field                         \n",
        "TTYPE8  = 'MOON_Z  '           / Moon unit vector in ECF-frame, Z component     \n",
        "TFORM8  = '1D      '           / data format of field: 8-byte DOUBLE            \n",
        "TUNIT8  = 'NONE    '           / physical unit of field                         \n",
        "TTYPE9  = 'SAT_X   '           / Satellite position vector ECF-frame, X componen\n",
        "TFORM9  = '1J      '           / data format of field: 4-byte INTEGER           \n",
        "TUNIT9  = 'm       '           / physical unit of field                         \n",
        "TTYPE10 = 'SAT_Y   '           / Satellite position vector ECF-frame, Y componen\n",
        "TFORM10 = '1J      '           / data format of field: 4-byte INTEGER           \n",
        "TUNIT10 = 'm       '           / physical unit of field                         \n",
        "TTYPE11 = 'SAT_Z   '           / Satellite position vector ECF-frame, Z componen\n",
        "TFORM11 = '1J      '           / data format of field: 4-byte INTEGER           \n",
        "TUNIT11 = 'm       '           / physical unit of field                         \n",
        "TTYPE12 = 'LON_EAST'           / Geodetic longitude east in ECF-frame of referen\n",
        "TFORM12 = '1D      '           / data format of field: 8-byte DOUBLE            \n",
        "TUNIT12 = 'deg     '           / physical unit of field                         \n",
        "TTYPE13 = 'LAT_NORT'           / Geodetic latitude north in ECF-frame           \n",
        "TFORM13 = '1D      '           / data format of field: 8-byte DOUBLE            \n",
        "TUNIT13 = 'deg     '           / physical unit of field                         \n",
        "TTYPE14 = 'ALT_SAT '           / Satellite altitude above ellipsoid             \n",
        "TFORM14 = '1D      '           / data format of field: 8-byte DOUBLE            \n",
        "TUNIT14 = 'm       '           / physical unit of field                         \n",
        "TTYPE15 = 'GHA     '           / Greenwich Hour Angle                           \n",
        "TFORM15 = '1D      '           / data format of field: 8-byte DOUBLE            \n",
        "TUNIT15 = 'deg     '           / physical unit of field                         \n",
        "TTYPE16 = 'AZIM_SAT'           / Azimuth of satellite                           \n",
        "TFORM16 = '1D      '           / data format of field: 8-byte DOUBLE            \n",
        "TUNIT16 = 'deg     '           / physical unit of field                         \n",
        "TTYPE17 = 'ELEV_SAT'           / Elevation of satellite                         \n",
        "TFORM17 = '1D      '           / data format of field: 8-byte DOUBLE            \n",
        "TUNIT17 = 'deg     '           / physical unit of field                         \n",
        "TTYPE18 = 'DIS_GSTA'           / Distance of satellite to Weilheim station      \n",
        "TFORM18 = '1D      '           / data format of field: 8-byte DOUBLE            \n",
        "TUNIT18 = 'm       '           / physical unit of field                         \n",
        "TTYPE19 = 'OBI_NUM '           / OBI number                                     \n",
        "TFORM19 = '1I      '           / data format of field: 2-byte INTEGER           \n",
        "TUNIT19 = 'NONE    '           / physical unit of field                         \n",
        "EXTNAME = 'EPHEM   '           / Ephemeris (orbit) data                         \n",
        "CONTENT = 'ANCILLARY'          / data content of file                           \n",
        "ORIGIN  = 'MPE Garching, FRG'  / origin of processed data                       \n",
        "DATE    = '10/03/00'           / FITS creation date (DD/MM/YY)                  \n",
        "TELESCOP= 'ROSAT   '           / mission name                                   \n",
        "INSTRUME= 'PSPCC   '           / instrument name                                \n",
        "OBS_MODE= 'SURVEY  '           / obs mode: POINTING,SLEW, OR SCAN               \n",
        "IRAFNAME= 'rs932809n00_eph.tab' / IRAF file name                                \n",
        "MJDREFI =                48043 / MJD integer  SC clock start                    \n",
        "MJDREFF = 8.79745370373712E-01 / MJD fraction SC clock start                    \n",
        "ZERODATE= '01/06/90'           / UT date of SC start (DD/MM/YY)                 \n",
        "ZEROTIME= '21:06:50'           / UT time of SC start (HH:MM:SS)                 \n",
        "RDF_VERS= '4.2     '           / Rationalized Data Format release version number\n",
        "RDF_DATE= '29-DEC-1997'        / Rationalized Data Format release date          \n",
        "PROC_SYS= 'SASS8_2_0'          / Processing system                              \n",
        "PROCDATE= ' 7-MAR-2000 13:13:32' / SASS SEQ processing start date               \n",
        "CHECKSUM= 'mgJNoeJMmeJMmeJM'   / Current Header Data Unit Checksum              \n",
        "DATASUM = '0000000000000000'   / Current Header Data Unit Datasum               \n",
        "REVISION=                    3 / Revision number of processed data              \n",
        "FILTER  = 'NONE    '           / filter id: NONE OR BORON                       \n",
        "OBJECT  = 'RASS 3/28/09'       / name of object                                 \n",
        "RA_NOM  =         9.272722E+01 / nominal RA (deg)                               \n",
        "DEC_NOM =        -6.187500E+01 / nominal DEC (deg)                              \n",
        "ROLL_NOM=         0.000000E+00 / nominal ROLL (deg CCW  North)                  \n",
        "EQUINOX =         2.000000E+03 / equinox                                        \n",
        "OBS_ID  = 'WG932809P_N1_SI01.N1' / observation ID                               \n",
        "ROR_NUM =               932809 / ROR number                                     \n",
        "OBSERVER= 'MPE     '           / PI name                                        \n",
        "SETUPID = 'NOMINAL '           / Instrument setup                               \n",
        "DATE-OBS= '11/07/90'           / UT date of obs start (DD/MM/YY)                \n",
        "TIME-OBS= '12:45:00.000'       / UT time of obs start (HH:MM:SS)                \n",
        "DATE_END= '13/08/91'           / UT date of obs end   (DD/MM/YY)                \n",
        "TIME_END= '01:58:17.000'       / UT time of obs end   (HH:MM:SS)                \n",
        "MJD-OBS =         4.808353E+04 / MJD of seq start                               \n",
        "SCSEQBEG=              3425890 / SC seq start(sec)                              \n",
        "SCSEQEND=             37774291 / SC seq end  (sec)                              \n",
        "NUM_OBIS=                    1 / Number of obs intervals (OBIs)                 \n",
        "LIVETIME=        -9.512500E+04 / Live time                                      \n",
        "DTCOR   =        -1.000000E+00 / Dead time correction factor                    \n",
        "ONTIME  =         9.512500E+04 / On time                                        \n",
        "HDUCLASS= 'OGIP    '           /                                                \n",
        "HDUCLAS1= 'TEMPORALDATA'       /                                                \n",
        "HDUCLAS2= 'EPHEM   '           /                                                \n",
        "COMMENT                                                                         \n",
        "COMMENT   Earth Centered Fixed (ECF) true of date frame of reference            \n",
        "COMMENT   R-equator=6378.138 km and flattening = 1/298.255                      \n",
        "COMMENT                                                                         \n",
        "HISTORY   Correspondence between tabulated values and                           \n",
        "HISTORY   SASS variables:                                                       \n",
        "HISTORY                                                                         \n",
        "HISTORY   MJD-INT and MJD-FRAC derived from                                     \n",
        "HISTORY                 IUT1_SO  (1J)                                           \n",
        "HISTORY                 IUT2_SO (1J)                                            \n",
        "HISTORY                 IUT3_SO (1J) * 10**-4                                   \n",
        "HISTORY                 IUT1_SO = UT TIME IN YYMMDD tformAT                     \n",
        "HISTORY                 IUT2_SO = UT TIME OF DAY IN FULL SECONDS,               \n",
        "HISTORY                 (unit:: seconds) (1J)                                   \n",
        "HISTORY                 IUT3_SO = FRACTIONAL TIME OF DAY,                       \n",
        "HISTORY                 (unit:: 10**-4 seconds) (1J)                            \n",
        "HISTORY                                                                         \n",
        "HISTORY   SUN_X  = ISUN_SOX (1J)/1.0D8                                          \n",
        "HISTORY   SUN_Y  = ISUN_SOY (1J)/1.0D8                                          \n",
        "HISTORY   SUN_Z  = ISUN_SOZ (1J)/1.0D8                                          \n",
        "HISTORY                                                                         \n",
        "HISTORY   MOON_X = MOON_SOX (1J)/1.0D8                                          \n",
        "HISTORY   MOON_Y = MOON_SOY (1J)/1.0D8                                          \n",
        "HISTORY   MOON_Z = MOON_SOZ (1J)/1.0D8                                          \n",
        "HISTORY                                                                         \n",
        "HISTORY   SAT_X  = ISAT_SOX (1J)                                                \n",
        "HISTORY   SAT_Y  = ISAT_SOY (1J)                                                \n",
        "HISTORY   SAT_Z  = ISAT_SOZ (1J)                                                \n",
        "HISTORY                                                                         \n",
        "HISTORY   LON_EAST = ILON_SO / 36000 (0.1 arcsec -> degrees)                    \n",
        "HISTORY   LAT_NORT = ILAT_SO / 36000 (0.1 arcsec -> degrees)                    \n",
        "HISTORY   ALT_SAT  = IALT_SO (1J) original unit of meters                       \n",
        "HISTORY   GHA      = IGHA_SO / 36000 (0.1 arcsec -> degrees)                    \n",
        "HISTORY   AZIM_SAT = IAZS_SO / 36000 (0.1 arcsec -> degrees)                    \n",
        "HISTORY   ELEV_SAT = IELS_SO / 36000 (0.1 arcsec -> degrees)                    \n",
        "HISTORY   DIS_GSTA = IDIS_SO (1J) original unit of meters                       \n",
        "HISTORY                                                                         \n",
        "HISTORY   SASS FILES USED:                                                      \n",
        "HISTORY                SPORB.OBI                                                \n",
        "HISTORY                                                                         \n",
        "COMMENT   !!!!!!!!!!!!!!!!!!!!!!!!!!!!!!                                        \n",
        "COMMENT    OBI 001 NONEXISTENT                                                  \n",
        "COMMENT   !!!!!!!!!!!!!!!!!!!!!!!!!!!!!!                                        "
       ]
      }
     ],
     "prompt_number": 63
    },
    {
     "cell_type": "code",
     "collapsed": false,
     "input": [
      "reload(idl)\n",
      "rac=asp.field('RA_CAS')\n",
      "decc=asp.field('DEC_CAS')"
     ],
     "language": "python",
     "metadata": {},
     "outputs": [],
     "prompt_number": 109
    },
    {
     "cell_type": "code",
     "collapsed": false,
     "input": [
      "idl.forprint(rac,decc)"
     ],
     "language": "python",
     "metadata": {},
     "outputs": [
      {
       "output_type": "stream",
       "stream": "stdout",
       "text": [
        "type of args is  <type 'tuple'>\n",
        "Number of Args is 2\n"
       ]
      }
     ],
     "prompt_number": 110
    },
    {
     "cell_type": "code",
     "collapsed": false,
     "input": [
      "li=[[rac], [decc]]\n",
      "type(li)"
     ],
     "language": "python",
     "metadata": {},
     "outputs": [
      {
       "metadata": {},
       "output_type": "pyout",
       "prompt_number": 111,
       "text": [
        "list"
       ]
      }
     ],
     "prompt_number": 111
    },
    {
     "cell_type": "code",
     "collapsed": false,
     "input": [
      "print li[1:]"
     ],
     "language": "python",
     "metadata": {},
     "outputs": [
      {
       "output_type": "stream",
       "stream": "stdout",
       "text": [
        "[[array([ 0.,  0.,  0., ...,  0.,  0.,  0.])]]\n"
       ]
      }
     ],
     "prompt_number": 114
    },
    {
     "cell_type": "code",
     "collapsed": false,
     "input": [],
     "language": "python",
     "metadata": {},
     "outputs": []
    }
   ],
   "metadata": {}
  }
 ]
}