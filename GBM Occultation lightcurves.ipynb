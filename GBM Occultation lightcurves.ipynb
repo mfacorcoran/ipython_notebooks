{
 "metadata": {
  "name": "",
  "signature": "sha256:ecba07c8a7a4b99a8a95ac885d7f46967da15d6b41a21ca0fabb6bde722829c1"
 },
 "nbformat": 3,
 "nbformat_minor": 0,
 "worksheets": [
  {
   "cells": [
    {
     "cell_type": "markdown",
     "metadata": {},
     "source": [
      "On Jul 21, 2014, at 1:59 PM, Robin Corbet <Robin.Corbet@nasa.gov> wrote:\n",
      "\n",
      "Hi Mike,\n",
      "\n",
      "I received these two candidate format GBM occultation light curves from Colleen W-H.\n",
      "I've not yet looked at them at all (I just got back from 3 weeks travel in Europe).\n",
      "\n",
      "Don Horner suggested I send them along to you to see if you have any comments.\n",
      "\n",
      "Thanks,\n",
      "\n",
      "- Robin\n",
      "\n",
      "\n",
      "-------- Original Message --------\n",
      "Subject: \tTest files for occultation website and FSSC - comments & questions please!\n",
      "Date: \tWed, 9 Jul 2014 15:28:19 -0400\n",
      "From: \tWilson-Hodge, Colleen A. (MSFC-ZP12) <colleen.wilson@nasa.gov>\n",
      "To: \tMike Cherry <cherry@phunds.phys.lsu.edu>, Gary Case <gcase@lasierra.edu>, James Rodi <jrodi1@tigers.lsu.edu>, ching-cheng Hsu <chsu@www.phys.lsu.edu>, \"Finger, Mark H. (MSFC-ZP12)[USRA]\"\n",
      "<mark.h.finger@nasa.gov>, \"Connaughton, Valerie (MSFC-ZP12)[UAH]\" <valerie.connaughton@nasa.gov>, \"Bhat, Narayana (MSFC-ZP12)[UAH]\" <Narayana.Bhat@nasa.gov>, \"Corbet, Robin (GSFC-662.0)[UNIVERSITY OF\n",
      "MARYLAND BALTIMORE COUNTY]\" <robin.corbet@nasa.gov>\n",
      "\n",
      "\n",
      "\n",
      "Hi,\n",
      "  Attached are two test FITS files containing a 1-day and single step occultation histories for the Crab. These are examples of files I'd like to have available for all sources on the website and\n",
      "delivered to the FSSC.\n",
      "Please take a look at the files and tell me if (1) you think they include all necessary fields, (2) if information is missing, and (3) if you have questions or if more detailed comments are needed in\n",
      "the headers.  I'd really like to have these be available in time for my invited presentation to the 5th Fermi Asian Network Workshop in Taiwan, Jul 28-Aug 1. Do you guys at LSU think you could add\n",
      "them to the website in time? I realize that the FSSC may take longer. I'm testing Pete's code on my machine and we can send it to LSU once we are done.\n",
      "Thanks,\n",
      "Colleen\n",
      "\n",
      "Begin forwarded message:\n",
      "\n",
      "*From: *\"Jenke, Peter A. (MSFC-ZP02)[UAH]\" <peter.a.jenke@nasa.gov <mailto:peter.a.jenke@nasa.gov>>\n",
      "*Subject: **FSSC Crab files *\n",
      "*Date: *July 9, 2014 12:38:13 PM CDT\n",
      "*To: *\"Wilson-Hodge, Colleen A. (MSFC-ZP12)\" <colleen.wilson@nasa.gov <mailto:colleen.wilson@nasa.gov>>\n",
      "\n",
      "\n",
      "\n",
      "\n",
      "<CRAB_daily_lc.fits><CRAB_steps_lc.fits>"
     ]
    },
    {
     "cell_type": "code",
     "collapsed": false,
     "input": [
      "glcdir=\"/Users/corcoran/program/HEASARC/missions/Fermi/Data_Products/GBM_occultation_light_curves\""
     ],
     "language": "python",
     "metadata": {},
     "outputs": [],
     "prompt_number": 1
    },
    {
     "cell_type": "code",
     "collapsed": false,
     "input": [
      "import pyfits\n",
      "import os\n",
      "\n"
     ],
     "language": "python",
     "metadata": {},
     "outputs": [],
     "prompt_number": 19
    },
    {
     "cell_type": "code",
     "collapsed": false,
     "input": [
      "os.chdir(glcdir)\n"
     ],
     "language": "python",
     "metadata": {},
     "outputs": [],
     "prompt_number": 7
    },
    {
     "cell_type": "code",
     "collapsed": false,
     "input": [
      "pwd"
     ],
     "language": "python",
     "metadata": {},
     "outputs": [
      {
       "metadata": {},
       "output_type": "pyout",
       "prompt_number": 8,
       "text": [
        "u'/Users/corcoran/program/HEASARC/missions/Fermi/Data_Products/GBM_occultation_light_curves'"
       ]
      }
     ],
     "prompt_number": 8
    },
    {
     "cell_type": "code",
     "collapsed": false,
     "input": [
      "files=!ls\n"
     ],
     "language": "python",
     "metadata": {},
     "outputs": [],
     "prompt_number": 9
    },
    {
     "cell_type": "code",
     "collapsed": false,
     "input": [
      "files\n"
     ],
     "language": "python",
     "metadata": {},
     "outputs": [
      {
       "metadata": {},
       "output_type": "pyout",
       "prompt_number": 10,
       "text": [
        "['CRAB_daily_lc.fits', 'CRAB_steps_lc.fits']"
       ]
      }
     ],
     "prompt_number": 10
    },
    {
     "cell_type": "code",
     "collapsed": false,
     "input": [
      "pyfits.info(files[0])"
     ],
     "language": "python",
     "metadata": {},
     "outputs": [
      {
       "output_type": "stream",
       "stream": "stdout",
       "text": [
        "Filename: CRAB_daily_lc.fits\n",
        "No.    Name         Type      Cards   Dimensions   Format\n",
        "0    PRIMARY     PrimaryHDU       4   ()           uint8   \n",
        "1    FLUX_HIST   BinTableHDU     59   1691R x 7C   [D, D, 6D, 6D, D, I, J]   \n",
        "2    ECHAN       BinTableHDU     21   7R x 1C      [D]   \n"
       ]
      }
     ],
     "prompt_number": 11
    },
    {
     "cell_type": "code",
     "collapsed": false,
     "input": [
      "\n",
      "os.system(\"echo hello\")"
     ],
     "language": "python",
     "metadata": {},
     "outputs": [
      {
       "metadata": {},
       "output_type": "pyout",
       "prompt_number": 21,
       "text": [
        "0"
       ]
      }
     ],
     "prompt_number": 21
    },
    {
     "cell_type": "code",
     "collapsed": false,
     "input": [
      "!ftverify CRAB_daily_lc.fits\n"
     ],
     "language": "python",
     "metadata": {},
     "outputs": [
      {
       "output_type": "stream",
       "stream": "stdout",
       "text": [
        " \r\n",
        "               ftverify 4.17 (CFITSIO V3.370)               \r\n",
        "               ------------------------------               \r\n",
        " \r\n",
        "HEASARC conventions are being checked.\r\n",
        " \r\n",
        "File: CRAB_daily_lc.fits\r\n",
        "\r\n",
        "3 Header-Data Units in this file.\r\n",
        " \r\n",
        "=================== HDU 1: Primary Array ===================\r\n",
        " \r\n",
        " 5 header keywords\r\n",
        " \r\n",
        " Null data array; NAXIS = 0 \r\n",
        " \r\n",
        "=================== HDU 2: BINARY Table ====================\r\n",
        " \r\n",
        " 60 header keywords\r\n",
        " \r\n",
        " FLUX_HIST  (7 columns x 1691 rows)\r\n",
        " \r\n",
        " Col# Name (Units)       Format\r\n",
        "   1 TSTART (d)           D         \r\n",
        "   2 TSTOP (d)            D         \r\n",
        "   3 FLUX (count/cm^2/s)  6D        \r\n",
        "   4 ERROR (count/cm^2/s) 6D        \r\n",
        "   5 TIMEDEL (s)          D         \r\n",
        "   6 NOCC                 I         \r\n",
        "   7 QUALITY              J         \r\n",
        " \r\n",
        "=================== HDU 3: BINARY Table ====================\r\n",
        " \r\n",
        " 22 header keywords\r\n",
        " \r\n",
        " ECHAN  (1 columns x 7 rows)\r\n",
        " \r\n",
        " Col# Name (Units)       Format\r\n",
        "   1 ENERGY_EDGES         D         \r\n",
        " \r\n",
        "++++++++++++++++++++++ Error Summary  ++++++++++++++++++++++\r\n",
        " \r\n",
        " HDU#  Name (version)       Type             Warnings  Errors\r\n",
        " 1                          Primary Array    0         0     \r\n",
        " 2     FLUX_HIST            Binary Table     0         0     \r\n",
        " 3     ECHAN                Binary Table     0         0     \r\n",
        " \r\n",
        "**** Verification found 0 warning(s) and 0 error(s). ****\r\n"
       ]
      }
     ],
     "prompt_number": 13
    },
    {
     "cell_type": "code",
     "collapsed": false,
     "input": [
      "import os"
     ],
     "language": "python",
     "metadata": {},
     "outputs": [],
     "prompt_number": 22
    },
    {
     "cell_type": "code",
     "collapsed": false,
     "input": [],
     "language": "python",
     "metadata": {},
     "outputs": [
      {
       "metadata": {},
       "output_type": "pyout",
       "prompt_number": 23,
       "text": [
        "0"
       ]
      }
     ],
     "prompt_number": 23
    },
    {
     "cell_type": "code",
     "collapsed": false,
     "input": [],
     "language": "python",
     "metadata": {},
     "outputs": []
    }
   ],
   "metadata": {}
  }
 ]
}