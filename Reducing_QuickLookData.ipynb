{
 "metadata": {
  "name": "",
  "signature": "sha256:db78fc5cc5d6edbf917e9641a8f53320b7c75d490f6b85b4fcbe8d87401892b9"
 },
 "nbformat": 3,
 "nbformat_minor": 0,
 "worksheets": [
  {
   "cells": [
    {
     "cell_type": "heading",
     "level": 1,
     "metadata": {},
     "source": [
      "Reducing and Analyzing Data"
     ]
    },
    {
     "cell_type": "heading",
     "level": 2,
     "metadata": {},
     "source": [
      "Move the File into Desired Directory & Un-Tar Files"
     ]
    },
    {
     "cell_type": "code",
     "collapsed": false,
     "input": [
      "#Given:\n",
      "import os, sys, subprocess,glob , shutil\n",
      "from pprint import pprint ##allows you to print listings\n",
      "DownloadsDir ='/Users/jamar/Downloads/' #Directory where file is currently placed in\n",
      "DesiredDirectory = '/Users/jamar/Dropbox/swift/Jamar_Liburd/QuickLook_data/'#Desired directory of the file\n",
      "\n",
      "#Required: Locate the tar file and copy the file into the desired directory.\n",
      "#Solution:\n",
      "os.chdir(DownloadsDir)# Changed directory to the Downloads directory\n",
      "try :\n",
      "    TarFilename = glob.glob(\"sw000*.tar\")[0] #Locates the first file in the array with the '.tar' extension\n",
      "except: \n",
      "    print \"Cannot find '*.tar' file. Please verify that the file is in the \"+DownloadsDir+\" directory.\"\n",
      "    print \"The current working directory contains the following files: \"\n",
      "    pprint(os.listdir(DownloadsDir))\n",
      "    sys.exit(0) #exits the script\n",
      "print \"Move\", TarFilename, \"to\", DesiredDirectory+TarFilename #prints the directory the file should be moved too\n",
      "os.rename(DownloadsDir + TarFilename,DesiredDirectory+TarFilename) #moves the files from the DownloadsDir to the DesiredDirectory\n",
      "os.chdir(DesiredDirectory) #changes directories to the required directory\n"
     ],
     "language": "python",
     "metadata": {},
     "outputs": [
      {
       "output_type": "stream",
       "stream": "stdout",
       "text": [
        "Cannot find '*.tar' file. Please verify that the file is in the /Users/jamar/Downloads/ directory.\n",
        "The current working directory contains the following files: \n",
        "['.DS_Store', '.localized', 'Reducing_QuickLookData(1).py']\n"
       ]
      },
      {
       "ename": "SystemExit",
       "evalue": "0",
       "output_type": "pyerr",
       "traceback": [
        "An exception has occurred, use %tb to see the full traceback.\n",
        "\u001b[0;31mSystemExit\u001b[0m\u001b[0;31m:\u001b[0m 0\n"
       ]
      },
      {
       "output_type": "stream",
       "stream": "stderr",
       "text": [
        "To exit: use 'exit', 'quit', or Ctrl-D.\n"
       ]
      }
     ],
     "prompt_number": 2
    },
    {
     "cell_type": "code",
     "collapsed": false,
     "input": [
      "#Given: File\n",
      "import tarfile\n",
      "\n",
      "#Required: untar the file \n",
      "#Solution:\n",
      "theTarFile = TarFilename# tar file to extract\n",
      "extractTarPath = '.' # tar file path to extract\n",
      "tfile = tarfile.open(theTarFile) # open the tar file\n",
      "if tarfile.is_tarfile(theTarFile):\n",
      "    # list all contents\n",
      "    print \"tar file contents:\"\n",
      "    print tfile.list(verbose=False)\n",
      "    # extract all contents\n",
      "    tfile.extractall(extractTarPath)\n",
      "else:\n",
      "    print theTarFile + \" is not a tarfile.\"\n",
      "print \"Untar complete!\"\n"
     ],
     "language": "python",
     "metadata": {},
     "outputs": [
      {
       "ename": "NameError",
       "evalue": "name 'TarFilename' is not defined",
       "output_type": "pyerr",
       "traceback": [
        "\u001b[0;31m---------------------------------------------------------------------------\u001b[0m\n\u001b[0;31mNameError\u001b[0m                                 Traceback (most recent call last)",
        "\u001b[0;32m<ipython-input-3-866ad5675975>\u001b[0m in \u001b[0;36m<module>\u001b[0;34m()\u001b[0m\n\u001b[1;32m      4\u001b[0m \u001b[0;31m#Required: untar the file\u001b[0m\u001b[0;34m\u001b[0m\u001b[0;34m\u001b[0m\u001b[0m\n\u001b[1;32m      5\u001b[0m \u001b[0;31m#Solution:\u001b[0m\u001b[0;34m\u001b[0m\u001b[0;34m\u001b[0m\u001b[0m\n\u001b[0;32m----> 6\u001b[0;31m \u001b[0mtheTarFile\u001b[0m \u001b[0;34m=\u001b[0m \u001b[0mTarFilename\u001b[0m\u001b[0;31m# tar file to extract\u001b[0m\u001b[0;34m\u001b[0m\u001b[0m\n\u001b[0m\u001b[1;32m      7\u001b[0m \u001b[0mextractTarPath\u001b[0m \u001b[0;34m=\u001b[0m \u001b[0;34m'.'\u001b[0m \u001b[0;31m# tar file path to extract\u001b[0m\u001b[0;34m\u001b[0m\u001b[0m\n\u001b[1;32m      8\u001b[0m \u001b[0mtfile\u001b[0m \u001b[0;34m=\u001b[0m \u001b[0mtarfile\u001b[0m\u001b[0;34m.\u001b[0m\u001b[0mopen\u001b[0m\u001b[0;34m(\u001b[0m\u001b[0mtheTarFile\u001b[0m\u001b[0;34m)\u001b[0m \u001b[0;31m# open the tar file\u001b[0m\u001b[0;34m\u001b[0m\u001b[0m\n",
        "\u001b[0;31mNameError\u001b[0m: name 'TarFilename' is not defined"
       ]
      }
     ],
     "prompt_number": 3
    },
    {
     "cell_type": "heading",
     "level": 2,
     "metadata": {},
     "source": [
      "Run XRT Pipeline"
     ]
    },
    {
     "cell_type": "code",
     "collapsed": false,
     "input": [
      "#Given:\n",
      "os.chdir(DesiredDirectory) #changes Directory to the file QuickLook Directory\n",
      "Filename = TarFilename[2:13] #collects the ObsID\n",
      "src1 = DesiredDirectory+\"run_xrtpipeline_jamar_Temp.csh\" #Location of XRTE pipeline Template\n",
      "dst1 = DesiredDirectory+\"run_xrtpipeline_jamar.csh\" #Duplicate template\n",
      "shutil.copy2(src1, dst1)\n",
      "LASTKNOWN =\"00000000000\"#change file name from\n",
      "CURRENT = Filename #change file name to\n",
      "XRT = \"run_xrtpipeline_jamar.csh\" #name of file to edit\n",
      "\n",
      "#Required: Replace all the numbers in the text, Run XRT Pipeline,\n",
      "#solution:\n",
      "text = open(XRT).read() #open the file as a text file\n",
      "open(XRT, \"w\").write(text.replace(LASTKNOWN, CURRENT)) #replace the LASTKNOWN with the CURRENT obs ID\n",
      "print \"Running XRT pipeline on the following file:\", Filename\n",
      "print os.getcwd()\n",
      "#os.system(\"source \"+ dst1) #run XRT pipline script"
     ],
     "language": "python",
     "metadata": {},
     "outputs": [
      {
       "ename": "NameError",
       "evalue": "name 'TarFilename' is not defined",
       "output_type": "pyerr",
       "traceback": [
        "\u001b[0;31m---------------------------------------------------------------------------\u001b[0m\n\u001b[0;31mNameError\u001b[0m                                 Traceback (most recent call last)",
        "\u001b[0;32m<ipython-input-4-3569651fcac3>\u001b[0m in \u001b[0;36m<module>\u001b[0;34m()\u001b[0m\n\u001b[1;32m      1\u001b[0m \u001b[0;31m#Given:\u001b[0m\u001b[0;34m\u001b[0m\u001b[0;34m\u001b[0m\u001b[0m\n\u001b[1;32m      2\u001b[0m \u001b[0mos\u001b[0m\u001b[0;34m.\u001b[0m\u001b[0mchdir\u001b[0m\u001b[0;34m(\u001b[0m\u001b[0mDesiredDirectory\u001b[0m\u001b[0;34m)\u001b[0m \u001b[0;31m#changes Directory to the file QuickLook Directory\u001b[0m\u001b[0;34m\u001b[0m\u001b[0m\n\u001b[0;32m----> 3\u001b[0;31m \u001b[0mFilename\u001b[0m \u001b[0;34m=\u001b[0m \u001b[0mTarFilename\u001b[0m\u001b[0;34m[\u001b[0m\u001b[0;36m2\u001b[0m\u001b[0;34m:\u001b[0m\u001b[0;36m13\u001b[0m\u001b[0;34m]\u001b[0m \u001b[0;31m#collects the ObsID\u001b[0m\u001b[0;34m\u001b[0m\u001b[0m\n\u001b[0m\u001b[1;32m      4\u001b[0m \u001b[0msrc1\u001b[0m \u001b[0;34m=\u001b[0m \u001b[0mDesiredDirectory\u001b[0m\u001b[0;34m+\u001b[0m\u001b[0;34m\"run_xrtpipeline_jamar_Temp.csh\"\u001b[0m \u001b[0;31m#Location of XRTE pipeline Template\u001b[0m\u001b[0;34m\u001b[0m\u001b[0m\n\u001b[1;32m      5\u001b[0m \u001b[0mdst1\u001b[0m \u001b[0;34m=\u001b[0m \u001b[0mDesiredDirectory\u001b[0m\u001b[0;34m+\u001b[0m\u001b[0;34m\"run_xrtpipeline_jamar.csh\"\u001b[0m \u001b[0;31m#Duplicate template\u001b[0m\u001b[0;34m\u001b[0m\u001b[0m\n",
        "\u001b[0;31mNameError\u001b[0m: name 'TarFilename' is not defined"
       ]
      }
     ],
     "prompt_number": 4
    },
    {
     "cell_type": "heading",
     "level": 2,
     "metadata": {},
     "source": [
      "Run Xselect"
     ]
    },
    {
     "cell_type": "code",
     "collapsed": false,
     "input": [
      "#Given:\n",
      "XselectDir = DesiredDirectory+\"work/\"+Filename+\"/xsel/\"\n",
      "os.chdir(XselectDir)\n",
      "src2 = DesiredDirectory+\"run_xselect_Temp.xco\" #Location of XRT pipeline Template\n",
      "dst2 = XselectDir+\"run_xselect.xco\"#new destination for the XRT pipeline file\n",
      "src3 = DesiredDirectory+\"run_xselect_Temp2.xco\"\n",
      "dst3 = XselectDir+\"run_xselect2.xco\"\n",
      "\n",
      "#Required: Open Xselect, read event file, promt user to select region files.\n",
      "#Solution:\n",
      "print \"The current working directory is:\", os.getcwd()\n",
      "shutil.copy2(src2, dst2) #copies xselect command file into xselect folder\n",
      "XSELECT = \"run_xselect.xco\"#name of xselect command file to edit\n",
      "text = open(XSELECT).read() #opens xselect command file \n",
      "open(XSELECT, \"w\").write(text.replace(LASTKNOWN, CURRENT)) #updates Lastknown name in file to current file name\n",
      "shutil.copy2(src3, dst3) #copies second xselect command file into xselect folder\n",
      "os.system(\"xselect @run_xselect.xco\") #Runs Xselect command file opened terminal window"
     ],
     "language": "python",
     "metadata": {},
     "outputs": [
      {
       "output_type": "stream",
       "stream": "stdout",
       "text": [
        "The current working directory is: /Users/jamar/Dropbox/swift/QuickLook_Practice/work/00091911032/xsel\n"
       ]
      },
      {
       "metadata": {},
       "output_type": "pyout",
       "prompt_number": 151,
       "text": [
        "0"
       ]
      }
     ],
     "prompt_number": 151
    },
    {
     "cell_type": "heading",
     "level": 3,
     "metadata": {},
     "source": [
      "Copy/Group pha files"
     ]
    },
    {
     "cell_type": "code",
     "collapsed": false,
     "input": [
      "#Given:\n",
      "XspectDir = DesiredDirectory+\"work/\"+Filename+\"/xspec/\" #specifies the location of the Xspec directory\n",
      "bin =\"group bin 10\" #sets the minimum grouping to 10\n",
      "#Required: copy pha files into xspec directory.\n",
      "#Solution:\n",
      "os.chdir(XselectDir)# Changed directory to the Xselect directory\n",
      "for file in glob.glob(\"*.pha\"): #Locates all the files in the current direcotry with the .pha extension\n",
      "    PhaFilename = file #set the file name to PhaFilename\n",
      "    src4 = XselectDir+PhaFilename\n",
      "    dst4 = XspectDir+PhaFilename\n",
      "    shutil.copy2(src4, dst4) #copies all the pha files in the directory to the required folder\n",
      "os.chdir(XspectDir)\n",
      "print \"Current working dir :\",os.getcwd() #Displays current directory\n",
      "os.system(\"grppha ec_src.pha ec_srcbin10.pha comm = bin temp = exit\") #runs the grppha command file."
     ],
     "language": "python",
     "metadata": {},
     "outputs": [
      {
       "output_type": "stream",
       "stream": "stdout",
       "text": [
        "Current working dir : /Users/jamar/Dropbox/swift/QuickLook_Practice/work/00091911032/xspec\n"
       ]
      }
     ],
     "prompt_number": 152
    },
    {
     "cell_type": "heading",
     "level": 3,
     "metadata": {},
     "source": [
      "Make Ancillary response Files"
     ]
    },
    {
     "cell_type": "code",
     "collapsed": false,
     "input": [
      "#Given:\n",
      "src5 = DesiredDirectory+\"mk_xrt_arfs_jamar_Temp.csh\" #Location of XRTE make arf file Template\n",
      "dst5 = XspectDir+\"mk_xrt_arfs_jamar.csh\" #Duplicate template\n",
      "shutil.copy2(src5, dst5)\n",
      "ARF = \"mk_xrt_arfs_jamar.csh\" #name of file to edit\n",
      "\n",
      "#Required: Replace all the numbers in the text, Run XRT Pipeline,\n",
      "#solution:\n",
      "text = open(ARF).read() #open the file as a text file\n",
      "open(ARF, \"w\").write(text.replace(LASTKNOWN, CURRENT)) #replace the LASTKNOWN with the CURRENT obs ID\n",
      "print \"Making Ancillary Response File for file \", Filename\n",
      "print dst5\n",
      "os.system(\"source \"+ dst5) #make Ancillary Response File. "
     ],
     "language": "python",
     "metadata": {},
     "outputs": [
      {
       "metadata": {},
       "output_type": "pyout",
       "prompt_number": 199,
       "text": [
        "0"
       ]
      }
     ],
     "prompt_number": 199
    },
    {
     "cell_type": "heading",
     "level": 3,
     "metadata": {},
     "source": [
      "Locate the Response file"
     ]
    },
    {
     "cell_type": "code",
     "collapsed": false,
     "input": [
      "import os, pyfits \n",
      "os.chdir(XspectDir) \n",
      "\n",
      "hdulist = pyfits.open('ec_srcbin10.arf') #open the Fits file.\n",
      "hdulist.info() #show the information in the fits file\n",
      "hdulist[1].header['RESPFILE'] #open the header file and locate the response file. \n",
      "Response = hdulist[1].header['RESPFILE']\n",
      "hdulist.close()\n",
      "src6 = '/Users/jamar/Dropbox/swift/caldb/data/swift/xrt/cpf/rmf/'\n",
      "shutil.copy2(src6+Response, XspectDir+Response)"
     ],
     "language": "python",
     "metadata": {},
     "outputs": [
      {
       "output_type": "stream",
       "stream": "stdout",
       "text": [
        "Filename: ec_srcbin10.arf\n",
        "No.    Name         Type      Cards   Dimensions   Format\n",
        "0    PRIMARY     PrimaryHDU      11   ()              \n",
        "1    SPECRESP    BinTableHDU     73   2400R x 3C   [1E, 1E, 1E]   \n"
       ]
      }
     ],
     "prompt_number": 8
    },
    {
     "cell_type": "code",
     "collapsed": false,
     "input": [
      "#Given:\n",
      "src7 = DesiredDirectory+\"ec_srcbin10all.xcm\" #Location of XRTE make arf file Template\n",
      "dst7 = XspectDir+\"ec_srcbin10all.xcm\" #Duplicate template\n",
      "shutil.copy2(src7, dst7)\n",
      "CommandFile = \"ec_srcbin10all.xcm\" #name of file to edit\n",
      "TempResponse = \"swxwt00000000000.rmf\"\n",
      "#Required: Replace all the numbers in the text, Run XRT Pipeline,\n",
      "#solution:\n",
      "text = open(CommandFile).read() #open the file as a text file\n",
      "open(CommandFile, \"w\").write(text.replace(TempResponse, Response)) #replace the LASTKNOWN with the CURRENT obs ID\n",
      "os.system(\"xspec - ec_srcbin10.xcm\")"
     ],
     "language": "python",
     "metadata": {},
     "outputs": [
      {
       "metadata": {},
       "output_type": "pyout",
       "prompt_number": 115,
       "text": [
        "0"
       ]
      }
     ],
     "prompt_number": 115
    },
    {
     "cell_type": "code",
     "collapsed": false,
     "input": [],
     "language": "python",
     "metadata": {},
     "outputs": []
    }
   ],
   "metadata": {}
  }
 ]
}