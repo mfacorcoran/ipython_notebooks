{
 "metadata": {
  "name": "",
  "signature": "sha256:7dd94d6be8d2c7bee8276abaacdf8bc17815da71af36dfa45cca93ba5222f89f"
 },
 "nbformat": 3,
 "nbformat_minor": 0,
 "worksheets": [
  {
   "cells": [
    {
     "cell_type": "markdown",
     "metadata": {},
     "source": [
      "20141015\n",
      "\n",
      "This notebook investigates the apparent offset in some of the WT mode XRT data.  The symptom is that region files which are centered on eta car in world coordinates match the pixel position in some eta car XRT WT images but not all...\n",
      "\n",
      "Summary based on work by Mike (mostly presented here) and David & Jamar - perhaps the error is in the RA_OBJ, DEC_OBJ keywords for the earlier files?\n",
      "\n",
      "<pre>\n",
      "On 10/17/2014 07:43 AM, Michael Corcoran wrote:\n",
      "I did some poking around with the xrt WT images to try to track down the origin of the offset in the position of eta car on the earlier data.  I\u2019ve summarized things in an ipython notebook \"Swift XRTWT pointing offsets.ipynb\u201d in my Python dropbox folder, but basically, after displaying each event file and overplotting an eta car region on it, here\u2019s the result\n",
      "\n",
      "sw00091911011xwtw2po_cl.evt PROCVER => 3.16.04 has a bad location for eta car\n",
      "sw00091911012xwtw2po_cl.evt PROCVER => 3.16.04 and subsequent event files have an accurate location for eta car;\n",
      "earlier observations do not\n",
      "sw00091911038xwtw2po_cl.evt is the first with PROCVER => 3.16.05\n",
      "sw00091911040xwtw2po_cl.evt is the first with PROCVER => 3.16.06\n",
      "\n",
      "So it looks like data with PROCVER < 3.16.04 have problems with the world coordinate system in the file headers; even the first few observations we have with PROCVER = 3.16.04 show WCS issues, but you can see that the offsets are growing smaller with time, til finally they got it right.  Now we just need to figure out what changed between 3.16.03 & (late) 3.16.04\u2026\n",
      "\n",
      "I\u2019d encourage you to take a look at the ipython notebook.  It won\u2019t run for you unless you change the directory paths in the notebook so it knows where to find the event files, but there are some useful techniques in manipulating FITS headers and displaying things with pyds9\n",
      "\n",
      "cheers\n",
      "\n",
      "Mike\n",
      "</pre>\n",
      "\n",
      "and later from David:\n",
      "\n",
      "<pre>\n",
      "On Oct 20, 2014, at 6:19 PM, David Morris <dmorris@live.uvi.edu> wrote:\n",
      "\n",
      "Hi Mike,\n",
      "\n",
      "Jamar and I did take a look at this issue last week but hadn't quite come to a conclusion on what the culprit or solution is. Here's what we've seen:\n",
      "\n",
      "Everything up to sw00091911012 has an error in the header such that RA_OBJ and DEC_OBJ (which should be the RA and DEC of the object of interest) are somehow simple copies of the header params RA_PNT and DEC_PNT (which are the RA and DEC of the center of the field of view). I don't see an obvious correlation to PROCVER number with this error. PROCVER 3.16.04 covers segments 7-37. 7-12 are bad, all the rest are good. Even segment 12, which still has the error I'm mentioning in the headers, seems to have ETA CAR showing up at the \"correct\" position. I'm not sure yet how that's happening since the WCS solution should think ETA CAR is somewhere else. From segment 13 onward, RA_OBJ=161.265 and DEC_OBJ=-59.6845, which I presume are the coordinates you submitted with the target request.\n",
      "\n",
      "In the attached screenshot, you see segments 2-12 in the first 11 frames. Segment 12 seems accurate even though the header keywords are still off (again, not sure how that's happening). All segments from 13 onward have the correct header keywords and have good coordinates.\n",
      "\n",
      "I won't hazard a guess as to how the RA_OBJ,DEC_OBJ keywords could get corrupted like this, but presumably if they get fixed and the files rerun, we should get proper coordinates written into the WCS solution. Maybe we should send a message to the SDC asking about it?\n",
      "\n",
      "Cheers,\n",
      "David\n",
      "</pre>\n",
      "\n"
     ]
    },
    {
     "cell_type": "code",
     "collapsed": false,
     "input": [
      "%matplotlib"
     ],
     "language": "python",
     "metadata": {},
     "outputs": [
      {
       "output_type": "stream",
       "stream": "stdout",
       "text": [
        "Using matplotlib backend: MacOSX\n"
       ]
      }
     ],
     "prompt_number": 1
    },
    {
     "cell_type": "code",
     "collapsed": false,
     "input": [
      "import pyfits\n",
      "from astropy import units as u\n",
      "from astropy.coordinates import SkyCoord\n",
      "import ds9\n",
      "import math as m\n"
     ],
     "language": "python",
     "metadata": {},
     "outputs": [],
     "prompt_number": 2
    },
    {
     "cell_type": "code",
     "collapsed": false,
     "input": [
      "ecra=161.264775\n",
      "ecdec=-59.684431\n",
      "eccoord=SkyCoord(ra=ecra*u.degree, dec=ecdec*u.degree)"
     ],
     "language": "python",
     "metadata": {},
     "outputs": [],
     "prompt_number": 3
    },
    {
     "cell_type": "code",
     "collapsed": false,
     "input": [
      "wdir='/Users/corcoran/research/ETA_CAR/Swift/2014/work'\n",
      "evt2=wdir+'/00091911002/xsel/sw00091911002xwtw2po_cl.evt'\n",
      "evt52=wdir+'/00091911052/xsel/sw00091911052xwtw2po_cl.evt'"
     ],
     "language": "python",
     "metadata": {},
     "outputs": [],
     "prompt_number": 4
    },
    {
     "cell_type": "code",
     "collapsed": false,
     "input": [
      "hst=\"/Users/corcoran/research/ETA_CAR/hst/WFPC/ds9.fits\""
     ],
     "language": "python",
     "metadata": {},
     "outputs": [],
     "prompt_number": 5
    },
    {
     "cell_type": "code",
     "collapsed": false,
     "input": [
      "hdu2=pyfits.open(evt2)\n",
      "hdr2=hdu2[1].header\n",
      "c2=SkyCoord(ra=hdr2['TCRVL2']*u.degree, dec=hdr2['TCRVL3']*u.degree)"
     ],
     "language": "python",
     "metadata": {},
     "outputs": [],
     "prompt_number": 6
    },
    {
     "cell_type": "code",
     "collapsed": false,
     "input": [
      "evtfiles=!ls /Users/corcoran/research/ETA_CAR/Swift/2014/work/000919*/xsel/*evt\n"
     ],
     "language": "python",
     "metadata": {},
     "outputs": [],
     "prompt_number": 7
    },
    {
     "cell_type": "code",
     "collapsed": false,
     "input": [
      "print c2.ra.hms\n",
      "print c2.dec.dms\n"
     ],
     "language": "python",
     "metadata": {},
     "outputs": [
      {
       "output_type": "stream",
       "stream": "stdout",
       "text": [
        "hms_tuple(h=10.0, m=44.0, s=53.751419856010187)\n",
        "dms_tuple(d=-59.0, m=-39.0, s=-46.803904685996258)\n"
       ]
      }
     ],
     "prompt_number": 8
    },
    {
     "cell_type": "code",
     "collapsed": false,
     "input": [
      "hdu52=pyfits.open(evt52)\n",
      "hdr52=hdu52[1].header\n",
      "c52=SkyCoord(ra=hdr52['TCRVL2']*u.degree, dec=hdr52['TCRVL3']*u.degree)\n",
      "print c52.ra.hms\n",
      "print c52.dec.dms"
     ],
     "language": "python",
     "metadata": {},
     "outputs": [
      {
       "output_type": "stream",
       "stream": "stdout",
       "text": [
        "hms_tuple(h=10.0, m=45.0, s=19.728624590409538)\n",
        "dms_tuple(d=-59.0, m=-41.0, s=-30.149730412809959)\n"
       ]
      }
     ],
     "prompt_number": 9
    },
    {
     "cell_type": "code",
     "collapsed": false,
     "input": [
      "c2.separation(c52).arcmin"
     ],
     "language": "python",
     "metadata": {},
     "outputs": [
      {
       "metadata": {},
       "output_type": "pyout",
       "prompt_number": 10,
       "text": [
        "3.703659845159107"
       ]
      }
     ],
     "prompt_number": 10
    },
    {
     "cell_type": "code",
     "collapsed": false,
     "input": [
      "# \n",
      "# calculate the X-separation in degrees along a line of the same dec as the reference pixel\n",
      "#\n",
      "sepx=SkyCoord(ra=ecra*u.degree, dec=hdr2['TCRVL3']*u.degree).separation(c2)\n",
      "print sepx.degree\n",
      "dif=eccoord.ra.deg - c2.ra.deg\n",
      "sign=dif/m.sqrt(dif**2) # separation method only gives magnitude of the separation, this determines the sign\n",
      "ecx2=sign*sepx.degree/hdr2['TCDLT2']+hdr2['TCRPX2']\n",
      "ecy2=(ecdec-hdr2['TCRVL3'])/hdr2['TCDLT3']+hdr2['TCRPX3']\n",
      "print \"Pixel position of eta in 00091911002  is X: {0:5.2f} Y: {1:5.2f}\".format(ecx2, ecy2)"
     ],
     "language": "python",
     "metadata": {},
     "outputs": [
      {
       "output_type": "stream",
       "stream": "stdout",
       "text": [
        "0.0206129000401\n",
        "Pixel position of eta in 00091911002  is X: 469.02 Y: 467.77\n"
       ]
      }
     ],
     "prompt_number": 11
    },
    {
     "cell_type": "code",
     "collapsed": false,
     "input": [
      "print hdr52['TCRVL2']\n",
      "print ecra, eccoord.dec.degree\n",
      "print m.cos(eccoord.dec.radian)\n",
      "print (ecra-hdr52['TCRVL2'])\n",
      "print ((ecdec-hdr52['TCRVL3'])/m.cos(eccoord.dec.radian))/hdr52['TCDLT3']+hdr52['TCRPX3']"
     ],
     "language": "python",
     "metadata": {},
     "outputs": [
      {
       "output_type": "stream",
       "stream": "stdout",
       "text": [
        "161.332202602\n",
        "161.264775 -59.684431\n",
        "0.504762215927\n",
        "-0.06742760246\n",
        "522.517417682\n"
       ]
      }
     ],
     "prompt_number": 12
    },
    {
     "cell_type": "code",
     "collapsed": false,
     "input": [
      "# \n",
      "# calculate the X-separation in degrees along a line of the same dec as the reference pixel\n",
      "#\n",
      "sepx=SkyCoord(ra=ecra*u.degree, dec=hdr52['TCRVL3']*u.degree).separation(c52)\n",
      "print sepx.degree\n",
      "dif=eccoord.ra.deg - c52.ra.deg\n",
      "sign=dif/m.sqrt(dif**2) # separation method only gives magnitude of the separation, this determines the sign\n",
      "ecx52=sign*sepx.degree/hdr52['TCDLT2']+hdr52['TCRPX2']\n",
      "ecy52=(ecdec-hdr52['TCRVL3'])/hdr52['TCDLT3']+hdr52['TCRPX3']\n",
      "print \"Pixel position of eta in 00091911052  is X: {0:5.2f} Y: {1:5.2f}\".format(ecx52, ecy52)"
     ],
     "language": "python",
     "metadata": {},
     "outputs": [
      {
       "output_type": "stream",
       "stream": "stdout",
       "text": [
        "0.0340275112433\n",
        "Pixel position of eta in 00091911052  is X: 552.47 Y: 511.61\n"
       ]
      }
     ],
     "prompt_number": 13
    },
    {
     "cell_type": "code",
     "collapsed": false,
     "input": [
      "hdr2['TC*']"
     ],
     "language": "python",
     "metadata": {},
     "outputs": [
      {
       "metadata": {},
       "output_type": "pyout",
       "prompt_number": 14,
       "text": [
        "TCTYP2  = 'RA---TAN'           / Coordinate projection TAN                      \n",
        "TCTYP3  = 'DEC--TAN'           / Coordinate projection TAN                      \n",
        "TCDLT2  = -6.5480890872090E-04 / X image scale (deg/pixel)                      \n",
        "TCDLT3  =  6.5480890872090E-04 / Y image scale (deg/pixel)                      \n",
        "TCRPX2  =  5.0050000000000E+02 / X image reference pixel                        \n",
        "TCRPX3  =  5.0050000000000E+02 / Y image reference pixel                        \n",
        "TCRVL2  =  1.6122396424940E+02 / X image reference pixel coords (deg)           \n",
        "TCRVL3  = -5.9663001084635E+01 / Y image reference pixel coords (deg)           \n",
        "TCTYP6  = 'DETX    '           / World Axis Type                                \n",
        "TCTYP7  = 'DETY    '           / World Axis Type                                \n",
        "TCDLT6  =  4.0000000000000E-02 / DETX image scale (deg/pixel)                   \n",
        "TCDLT7  =  4.0000000000000E-02 / DETY image scale (deg/pixel)                   \n",
        "TCRPX6  =  3.0050000000000E+02 / DETX image reference pixel                     \n",
        "TCRPX7  =  3.0050000000000E+02 / DETY image reference pixel                     \n",
        "TCRVL6  =  0.0000000000000E+00 / DETX image reference pixel coords (mm)         \n",
        "TCRVL7  =  0.0000000000000E+00 / DETY image reference pixel coords (mm)         "
       ]
      }
     ],
     "prompt_number": 14
    },
    {
     "cell_type": "code",
     "collapsed": false,
     "input": [
      "print \"00091911002 PROCVER => {0}\".format(hdr2['PROCVER'])\n",
      "print \"00091911052 PROCVER => {0}\".format(hdr52['PROCVER'])\n",
      "print \"Perhaps this difference in PROCVER is important?\""
     ],
     "language": "python",
     "metadata": {},
     "outputs": [
      {
       "output_type": "stream",
       "stream": "stdout",
       "text": [
        "00091911002 PROCVER => 3.16.02\n",
        "00091911052 PROCVER => 3.16.06\n",
        "Perhaps this difference in PROCVER is important?\n"
       ]
      }
     ],
     "prompt_number": 15
    },
    {
     "cell_type": "code",
     "collapsed": false,
     "input": [
      "hdr52['TC*']"
     ],
     "language": "python",
     "metadata": {},
     "outputs": [
      {
       "metadata": {},
       "output_type": "pyout",
       "prompt_number": 16,
       "text": [
        "TCTYP2  = 'RA---TAN'           / Coordinate projection TAN                      \n",
        "TCTYP3  = 'DEC--TAN'           / Coordinate projection TAN                      \n",
        "TCDLT2  = -6.5480890872090E-04 / X image scale (deg/pixel)                      \n",
        "TCDLT3  =  6.5480890872090E-04 / Y image scale (deg/pixel)                      \n",
        "TCRPX2  =  5.0050000000000E+02 / X image reference pixel                        \n",
        "TCRPX3  =  5.0050000000000E+02 / Y image reference pixel                        \n",
        "TCRVL2  =  1.6133220260246E+02 / X image reference pixel coords (deg)           \n",
        "TCRVL3  = -5.9691708258448E+01 / Y image reference pixel coords (deg)           \n",
        "TCTYP6  = 'DETX    '           / World Axis Type                                \n",
        "TCTYP7  = 'DETY    '           / World Axis Type                                \n",
        "TCDLT6  =  4.0000000000000E-02 / DETX image scale (deg/pixel)                   \n",
        "TCDLT7  =  4.0000000000000E-02 / DETY image scale (deg/pixel)                   \n",
        "TCRPX6  =  3.0050000000000E+02 / DETX image reference pixel                     \n",
        "TCRPX7  =  3.0050000000000E+02 / DETY image reference pixel                     \n",
        "TCRVL6  =  0.0000000000000E+00 / DETX image reference pixel coords (mm)         \n",
        "TCRVL7  =  0.0000000000000E+00 / DETY image reference pixel coords (mm)         "
       ]
      }
     ],
     "prompt_number": 16
    },
    {
     "cell_type": "code",
     "collapsed": false,
     "input": [
      "evt = !ls /Users/corcoran/research/ETA_CAR/Swift/2014/work/00091911*/xsel/*cl.evt\n",
      "for item in evt:\n",
      "    hdu=pyfits.open(item)\n",
      "    hdr=hdu[1].header\n",
      "    c=SkyCoord(ra=hdr['TCRVL2']*u.degree, dec=hdr['TCRVL3']*u.degree)\n",
      "    #print \"evtfile = {0}, Separation= {1:5.2f}\".format(item.rsplit('/')[-1],c.separation(c52).arcmin)\n",
      "    "
     ],
     "language": "python",
     "metadata": {},
     "outputs": [],
     "prompt_number": 17
    },
    {
     "cell_type": "code",
     "collapsed": false,
     "input": [
      "evt = !ls /Users/corcoran/research/ETA_CAR/Swift/2014/work/00091911*/xsel/*cl.evt\n",
      "for item in evt:\n",
      "    hdu=pyfits.open(item)\n",
      "    hdr=hdu[1].header\n",
      "    c=SkyCoord(ra=hdr['RA_OBJ']*u.degree, dec=hdr['DEC_OBJ']*u.degree)\n",
      "    print \"evtfile = {0}, Separation= {1:5.2f}\".format(item.rsplit('/')[-1],c.separation(c52).arcmin)\n",
      "    "
     ],
     "language": "python",
     "metadata": {},
     "outputs": [
      {
       "output_type": "stream",
       "stream": "stdout",
       "text": [
        "evtfile = sw00091911002xwtw2po_cl.evt, Separation=  3.70\n",
        "evtfile = sw00091911003xwtw2po_cl.evt, Separation=  5.88\n",
        "evtfile = sw00091911004xwtw2po_cl.evt, Separation=  5.86\n",
        "evtfile = sw00091911005xwtw2po_cl.evt, Separation=  5.89"
       ]
      },
      {
       "output_type": "stream",
       "stream": "stdout",
       "text": [
        "\n",
        "evtfile = sw00091911006xwtw2po_cl.evt, Separation=  5.41\n",
        "evtfile = sw00091911007xwtw2po_cl.evt, Separation=  4.10\n",
        "evtfile = sw00091911008xwtw2po_cl.evt, Separation=  5.57"
       ]
      },
      {
       "output_type": "stream",
       "stream": "stdout",
       "text": [
        "\n",
        "evtfile = sw00091911009xwtw2po_cl.evt, Separation=  4.02\n",
        "evtfile = sw00091911010xwtw2po_cl.evt, Separation=  4.42\n",
        "evtfile = sw00091911011xwtw2po_cl.evt, Separation=  5.00"
       ]
      },
      {
       "output_type": "stream",
       "stream": "stdout",
       "text": [
        "\n",
        "evtfile = sw00091911012xwtw2po_cl.evt, Separation=  4.25\n",
        "evtfile = sw00091911013xwtw2po_cl.evt, Separation=  2.08\n",
        "evtfile = sw00091911014xwtw2po_cl.evt, Separation=  2.08"
       ]
      },
      {
       "output_type": "stream",
       "stream": "stdout",
       "text": [
        "\n",
        "evtfile = sw00091911015xwtw2po_cl.evt, Separation=  2.08\n",
        "evtfile = sw00091911016xwtw2po_cl.evt, Separation=  2.08\n",
        "evtfile = sw00091911017xwtw2po_cl.evt, Separation=  2.08"
       ]
      },
      {
       "output_type": "stream",
       "stream": "stdout",
       "text": [
        "\n",
        "evtfile = sw00091911019xwtw2po_cl.evt, Separation=  2.08\n",
        "evtfile = sw00091911020xwtw2po_cl.evt, Separation=  2.08\n",
        "evtfile = sw00091911021xwtw2po_cl.evt, Separation=  2.08"
       ]
      },
      {
       "output_type": "stream",
       "stream": "stdout",
       "text": [
        "\n",
        "evtfile = sw00091911022xwtw2po_cl.evt, Separation=  2.08\n",
        "evtfile = sw00091911023xwtw2po_cl.evt, Separation=  2.08\n",
        "evtfile = sw00091911025xwtw2po_cl.evt, Separation=  2.08"
       ]
      },
      {
       "output_type": "stream",
       "stream": "stdout",
       "text": [
        "\n",
        "evtfile = sw00091911026xwtw2po_cl.evt, Separation=  2.08\n",
        "evtfile = sw00091911027xwtw2po_cl.evt, Separation=  2.08\n",
        "evtfile = sw00091911028xwtw2po_cl.evt, Separation=  2.08"
       ]
      },
      {
       "output_type": "stream",
       "stream": "stdout",
       "text": [
        "\n",
        "evtfile = sw00091911029xwtw2po_cl.evt, Separation=  2.08\n",
        "evtfile = sw00091911030xwtw2po_cl.evt, Separation=  2.08\n",
        "evtfile = sw00091911031xwtw2po_cl.evt, Separation=  2.08"
       ]
      },
      {
       "output_type": "stream",
       "stream": "stdout",
       "text": [
        "\n",
        "evtfile = sw00091911032xwtw2po_cl.evt, Separation=  2.08\n",
        "evtfile = sw00091911033xwtw2po_cl.evt, Separation=  2.08\n",
        "evtfile = sw00091911034xwtw2po_cl.evt, Separation=  2.08"
       ]
      },
      {
       "output_type": "stream",
       "stream": "stdout",
       "text": [
        "\n",
        "evtfile = sw00091911035xwtw2po_cl.evt, Separation=  2.08\n",
        "evtfile = sw00091911036xwtw2po_cl.evt, Separation=  2.08\n",
        "evtfile = sw00091911037xwtw2po_cl.evt, Separation=  2.08"
       ]
      },
      {
       "output_type": "stream",
       "stream": "stdout",
       "text": [
        "\n",
        "evtfile = sw00091911038xwtw2po_cl.evt, Separation=  2.08\n",
        "evtfile = sw00091911039xwtw2po_cl.evt, Separation=  2.08\n",
        "evtfile = sw00091911040xwtw2po_cl.evt, Separation=  2.08"
       ]
      },
      {
       "output_type": "stream",
       "stream": "stdout",
       "text": [
        "\n",
        "evtfile = sw00091911041xwtw2po_cl.evt, Separation=  2.08\n",
        "evtfile = sw00091911042xwtw2po_cl.evt, Separation=  2.08\n",
        "evtfile = sw00091911043xwtw2po_cl.evt, Separation=  2.08"
       ]
      },
      {
       "output_type": "stream",
       "stream": "stdout",
       "text": [
        "\n",
        "evtfile = sw00091911045xwtw2po_cl.evt, Separation=  2.08\n",
        "evtfile = sw00091911046xwtw2po_cl.evt, Separation=  2.08\n",
        "evtfile = sw00091911047xwtw2po_cl.evt, Separation=  2.08"
       ]
      },
      {
       "output_type": "stream",
       "stream": "stdout",
       "text": [
        "\n",
        "evtfile = sw00091911048xwtw2po_cl.evt, Separation=  2.08\n",
        "evtfile = sw00091911049xwtw2po_cl.evt, Separation=  2.08\n",
        "evtfile = sw00091911050xwtw2po_cl.evt, Separation=  2.08"
       ]
      },
      {
       "output_type": "stream",
       "stream": "stdout",
       "text": [
        "\n",
        "evtfile = sw00091911051xwtw2po_cl.evt, Separation=  2.08\n",
        "evtfile = sw00091911052xwtw2po_cl.evt, Separation=  2.08\n",
        "evtfile = sw00091911053xwtw2po_cl.evt, Separation=  2.08"
       ]
      },
      {
       "output_type": "stream",
       "stream": "stdout",
       "text": [
        "\n"
       ]
      }
     ],
     "prompt_number": 22
    },
    {
     "cell_type": "code",
     "collapsed": false,
     "input": [
      "item.rsplit('/')[-1]"
     ],
     "language": "python",
     "metadata": {},
     "outputs": [
      {
       "metadata": {},
       "output_type": "pyout",
       "prompt_number": 18,
       "text": [
        "'sw00091911053xwtw2po_cl.evt'"
       ]
      }
     ],
     "prompt_number": 18
    },
    {
     "cell_type": "code",
     "collapsed": false,
     "input": [
      "hdr['TCRP*']\n"
     ],
     "language": "python",
     "metadata": {},
     "outputs": [
      {
       "metadata": {},
       "output_type": "pyout",
       "prompt_number": 19,
       "text": [
        "TCRPX2  =  5.0050000000000E+02 / X image reference pixel                        \n",
        "TCRPX3  =  5.0050000000000E+02 / Y image reference pixel                        \n",
        "TCRPX6  =  3.0050000000000E+02 / DETX image reference pixel                     \n",
        "TCRPX7  =  3.0050000000000E+02 / DETY image reference pixel                     "
       ]
      }
     ],
     "prompt_number": 19
    },
    {
     "cell_type": "markdown",
     "metadata": {},
     "source": [
      "<hr>"
     ]
    },
    {
     "cell_type": "markdown",
     "metadata": {},
     "source": [
      "\n",
      "\n",
      "Plotting XRT WT images and region files: 00091911052 (good coordinates) vs 00091911002 (bad coordinates)\n"
     ]
    },
    {
     "cell_type": "markdown",
     "metadata": {},
     "source": [
      "\n",
      "<hr>\n",
      "\n"
     ]
    },
    {
     "cell_type": "code",
     "collapsed": false,
     "input": [
      "d=ds9.ds9()\n"
     ],
     "language": "python",
     "metadata": {},
     "outputs": [],
     "prompt_number": 20
    },
    {
     "cell_type": "code",
     "collapsed": false,
     "input": [
      "d.set(\"tile mode column\")"
     ],
     "language": "python",
     "metadata": {},
     "outputs": [
      {
       "metadata": {},
       "output_type": "pyout",
       "prompt_number": 22,
       "text": [
        "1"
       ]
      }
     ],
     "prompt_number": 22
    },
    {
     "cell_type": "code",
     "collapsed": false,
     "input": [
      "d.set(\"file \"+evt52)"
     ],
     "language": "python",
     "metadata": {},
     "outputs": [
      {
       "metadata": {},
       "output_type": "pyout",
       "prompt_number": 21,
       "text": [
        "1"
       ]
      }
     ],
     "prompt_number": 21
    },
    {
     "cell_type": "code",
     "collapsed": false,
     "input": [
      "d.set(\"frame new\")\n",
      "d.set(\"tile mode column\")"
     ],
     "language": "python",
     "metadata": {},
     "outputs": [
      {
       "metadata": {},
       "output_type": "pyout",
       "prompt_number": 26,
       "text": [
        "1"
       ]
      }
     ],
     "prompt_number": 26
    },
    {
     "cell_type": "code",
     "collapsed": false,
     "input": [
      "d.set(\"file \"+evt2)"
     ],
     "language": "python",
     "metadata": {},
     "outputs": [
      {
       "metadata": {},
       "output_type": "pyout",
       "prompt_number": 27,
       "text": [
        "1"
       ]
      }
     ],
     "prompt_number": 27
    },
    {
     "cell_type": "code",
     "collapsed": false,
     "input": [
      "d.set(\"frame new\")\n",
      "d.set(\"file \"+hst)"
     ],
     "language": "python",
     "metadata": {},
     "outputs": [
      {
       "metadata": {},
       "output_type": "pyout",
       "prompt_number": 25,
       "text": [
        "1"
       ]
      }
     ],
     "prompt_number": 25
    },
    {
     "cell_type": "code",
     "collapsed": false,
     "input": [
      "d.set(\"frame first\")\n"
     ],
     "language": "python",
     "metadata": {},
     "outputs": [
      {
       "metadata": {},
       "output_type": "pyout",
       "prompt_number": 28,
       "text": [
        "1"
       ]
      }
     ],
     "prompt_number": 28
    },
    {
     "cell_type": "code",
     "collapsed": false,
     "input": [
      "d.set(\"match frame wcs\")"
     ],
     "language": "python",
     "metadata": {},
     "outputs": [
      {
       "metadata": {},
       "output_type": "pyout",
       "prompt_number": 29,
       "text": [
        "1"
       ]
      }
     ],
     "prompt_number": 29
    },
    {
     "cell_type": "code",
     "collapsed": false,
     "input": [
      "d.set(\"smooth\")"
     ],
     "language": "python",
     "metadata": {},
     "outputs": [
      {
       "metadata": {},
       "output_type": "pyout",
       "prompt_number": 30,
       "text": [
        "1"
       ]
      }
     ],
     "prompt_number": 30
    },
    {
     "cell_type": "code",
     "collapsed": false,
     "input": [
      "d.set(\"match smooth\")"
     ],
     "language": "python",
     "metadata": {},
     "outputs": [
      {
       "metadata": {},
       "output_type": "pyout",
       "prompt_number": 31,
       "text": [
        "1"
       ]
      }
     ],
     "prompt_number": 31
    },
    {
     "cell_type": "code",
     "collapsed": false,
     "input": [
      "eccoord.to_string(style='decimal')\n",
      "print 'fk5; circle('+str(eccoord.to_string(style='decimal'))+' 60\")'\n"
     ],
     "language": "python",
     "metadata": {},
     "outputs": [
      {
       "output_type": "stream",
       "stream": "stdout",
       "text": [
        "fk5; circle(161.265 -59.6844 60\")\n"
       ]
      }
     ],
     "prompt_number": 32
    },
    {
     "cell_type": "code",
     "collapsed": false,
     "input": [
      "d.set('regions', 'fk5; circle('+str(eccoord.to_string(style='decimal'))+' 60\")')"
     ],
     "language": "python",
     "metadata": {},
     "outputs": [
      {
       "metadata": {},
       "output_type": "pyout",
       "prompt_number": 33,
       "text": [
        "1"
       ]
      }
     ],
     "prompt_number": 33
    },
    {
     "cell_type": "code",
     "collapsed": false,
     "input": [
      "d.set('regions', 'physical; circle('+str(hdr52['TCRPX2'])+' '+str(hdr52['TCRPX3'])+' 5\")')"
     ],
     "language": "python",
     "metadata": {},
     "outputs": [
      {
       "metadata": {},
       "output_type": "pyout",
       "prompt_number": 32,
       "text": [
        "1"
       ]
      }
     ],
     "prompt_number": 32
    },
    {
     "cell_type": "code",
     "collapsed": false,
     "input": [
      "d.set(\"frame next\")"
     ],
     "language": "python",
     "metadata": {},
     "outputs": [
      {
       "metadata": {},
       "output_type": "pyout",
       "prompt_number": 37,
       "text": [
        "1"
       ]
      }
     ],
     "prompt_number": 37
    },
    {
     "cell_type": "code",
     "collapsed": false,
     "input": [
      "d.set('regions', 'fk5; circle('+str(eccoord.to_string(style='decimal'))+' 60\")')\n"
     ],
     "language": "python",
     "metadata": {},
     "outputs": [
      {
       "metadata": {},
       "output_type": "pyout",
       "prompt_number": 38,
       "text": [
        "1"
       ]
      }
     ],
     "prompt_number": 38
    },
    {
     "cell_type": "code",
     "collapsed": false,
     "input": [
      "d.set('regions', 'physical; circle('+str(hdr2['TCRPX2'])+' '+str(hdr2['TCRPX3'])+' 5\")')"
     ],
     "language": "python",
     "metadata": {},
     "outputs": [
      {
       "metadata": {},
       "output_type": "pyout",
       "prompt_number": 35,
       "text": [
        "1"
       ]
      }
     ],
     "prompt_number": 35
    },
    {
     "cell_type": "markdown",
     "metadata": {},
     "source": [
      "Now plot all the event files in evtfiles, one at a time, and print out their PROCVER value"
     ]
    },
    {
     "cell_type": "code",
     "collapsed": false,
     "input": [
      "evtfiles=!ls /Users/corcoran/research/ETA_CAR/Swift/2014/work/000919*/xsel/*evt"
     ],
     "language": "python",
     "metadata": {},
     "outputs": [],
     "prompt_number": 119
    },
    {
     "cell_type": "code",
     "collapsed": false,
     "input": [
      "i=9\n",
      "evt=evtfiles[i].rsplit(\"/\")[-1]\n",
      "hdr=pyfits.open(evtfiles[i])[1].header\n",
      "d.set('file '+evtfiles[i])\n",
      "\n",
      "d.set('regions', 'physical; circle('+str(hdr['TCRPX2'])+' '+str(hdr['TCRPX3'])+' 5\")')\n",
      "d.set('regions', 'fk5; circle('+str(eccoord.to_string(style='decimal'))+' 60\")')\n",
      "\n",
      "print \"{1} PROCVER => {0}\".format(hdr['PROCVER'], evt )\n",
      "print \"00091911052 PROCVER => {0}\".format(hdr52['PROCVER'])\n",
      "if hdr['PROCVER'] <> hdr52['PROCVER']:\n",
      "    print \"Perhaps this difference in PROCVER is important?\""
     ],
     "language": "python",
     "metadata": {},
     "outputs": [
      {
       "output_type": "stream",
       "stream": "stdout",
       "text": [
        "sw00091911011xwtw2po_cl.evt PROCVER => 3.16.04\n",
        "00091911052 PROCVER => 3.16.06\n",
        "Perhaps this difference in PROCVER is important?\n"
       ]
      }
     ],
     "prompt_number": 120
    },
    {
     "cell_type": "markdown",
     "metadata": {},
     "source": [
      "<h3>Summary:</h3>\n",
      "\n",
      "sw00091911011xwtw2po_cl.evt PROCVER => 3.16.04 has a bad location for eta car<br>\n",
      "sw00091911012xwtw2po_cl.evt PROCVER => 3.16.04 and subsequent event files have an accurate location for eta car; <br>\n",
      "earlier observations do not <br>\n",
      "sw00091911038xwtw2po_cl.evt is the first with PROCVER => 3.16.05<br>\n",
      "sw00091911040xwtw2po_cl.evt is the first with PROCVER => 3.16.06"
     ]
    },
    {
     "cell_type": "code",
     "collapsed": false,
     "input": [
      "d.set(\"exit\")\n"
     ],
     "language": "python",
     "metadata": {},
     "outputs": [
      {
       "metadata": {},
       "output_type": "pyout",
       "prompt_number": 122,
       "text": [
        "1"
       ]
      }
     ],
     "prompt_number": 122
    },
    {
     "cell_type": "code",
     "collapsed": false,
     "input": [
      "evtfiles[0]"
     ],
     "language": "python",
     "metadata": {},
     "outputs": [
      {
       "metadata": {},
       "output_type": "pyout",
       "prompt_number": 19,
       "text": [
        "'/Users/corcoran/research/ETA_CAR/Swift/2014/work/00091911002/xsel/sw00091911002xwtw2po_cl.evt'"
       ]
      }
     ],
     "prompt_number": 19
    },
    {
     "cell_type": "code",
     "collapsed": false,
     "input": [
      "d.set(\"file \"+evt2)\n",
      "d.set(\"smooth\")\n",
      "d.set(\"saveimage fits /tmp/ds9.fits\")"
     ],
     "language": "python",
     "metadata": {},
     "outputs": [
      {
       "metadata": {},
       "output_type": "pyout",
       "prompt_number": 24,
       "text": [
        "1"
       ]
      }
     ],
     "prompt_number": 24
    },
    {
     "cell_type": "code",
     "collapsed": false,
     "input": [
      "ls -l /tmp/ds9.fits\n"
     ],
     "language": "python",
     "metadata": {},
     "outputs": [
      {
       "output_type": "stream",
       "stream": "stdout",
       "text": [
        "-rw-r--r--  1 corcoran  wheel  1290240 Oct 17 09:42 /tmp/ds9.fits\r\n"
       ]
      }
     ],
     "prompt_number": 25
    },
    {
     "cell_type": "code",
     "collapsed": false,
     "input": [
      "im=pyfits.open('/tmp/ds9.fits')[0].data\n"
     ],
     "language": "python",
     "metadata": {},
     "outputs": [],
     "prompt_number": 26
    },
    {
     "cell_type": "code",
     "collapsed": false,
     "input": [
      "type(im)"
     ],
     "language": "python",
     "metadata": {},
     "outputs": [
      {
       "metadata": {},
       "output_type": "pyout",
       "prompt_number": 27,
       "text": [
        "numpy.ndarray"
       ]
      }
     ],
     "prompt_number": 27
    },
    {
     "cell_type": "code",
     "collapsed": false,
     "input": [
      "import matplotlib.pyplot as plt\n",
      "import matplotlib.image as mpimg\n",
      "import numpy as np\n",
      "imgplot = plt.imshow(im)"
     ],
     "language": "python",
     "metadata": {},
     "outputs": [],
     "prompt_number": 32
    },
    {
     "cell_type": "code",
     "collapsed": false,
     "input": [
      "from scipy import stats\n",
      "x = np.arange(-3, 3, 0.1)\n",
      "xx, yy = np.meshgrid(x, x)\n",
      "gauss2d = stats.norm.pdf(xx) * stats.norm.pdf(yy)"
     ],
     "language": "python",
     "metadata": {},
     "outputs": [],
     "prompt_number": 38
    },
    {
     "cell_type": "code",
     "collapsed": false,
     "input": [
      "evtfiles"
     ],
     "language": "python",
     "metadata": {},
     "outputs": [
      {
       "metadata": {},
       "output_type": "pyout",
       "prompt_number": 20,
       "text": [
        "['/Users/corcoran/research/ETA_CAR/Swift/2014/work/00091911002/xsel/sw00091911002xwtw2po_cl.evt',\n",
        " '/Users/corcoran/research/ETA_CAR/Swift/2014/work/00091911003/xsel/sw00091911003xwtw2po_cl.evt',\n",
        " '/Users/corcoran/research/ETA_CAR/Swift/2014/work/00091911004/xsel/sw00091911004xwtw2po_cl.evt',\n",
        " '/Users/corcoran/research/ETA_CAR/Swift/2014/work/00091911005/xsel/sw00091911005xwtw2po_cl.evt',\n",
        " '/Users/corcoran/research/ETA_CAR/Swift/2014/work/00091911006/xsel/sw00091911006xwtw2po_cl.evt',\n",
        " '/Users/corcoran/research/ETA_CAR/Swift/2014/work/00091911007/xsel/sw00091911007xwtw2po_cl.evt',\n",
        " '/Users/corcoran/research/ETA_CAR/Swift/2014/work/00091911008/xsel/sw00091911008xwtw2po_cl.evt',\n",
        " '/Users/corcoran/research/ETA_CAR/Swift/2014/work/00091911009/xsel/sw00091911009xwtw2po_cl.evt',\n",
        " '/Users/corcoran/research/ETA_CAR/Swift/2014/work/00091911010/xsel/sw00091911010xwtw2po_cl.evt',\n",
        " '/Users/corcoran/research/ETA_CAR/Swift/2014/work/00091911011/xsel/sw00091911011xwtw2po_cl.evt',\n",
        " '/Users/corcoran/research/ETA_CAR/Swift/2014/work/00091911012/xsel/sw00091911012xwtw2po_cl.evt',\n",
        " '/Users/corcoran/research/ETA_CAR/Swift/2014/work/00091911013/xsel/sw00091911013xwtw2po_cl.evt',\n",
        " '/Users/corcoran/research/ETA_CAR/Swift/2014/work/00091911014/xsel/sw00091911014xwtw2po_cl.evt',\n",
        " '/Users/corcoran/research/ETA_CAR/Swift/2014/work/00091911015/xsel/sw00091911015xwtw2po_cl.evt',\n",
        " '/Users/corcoran/research/ETA_CAR/Swift/2014/work/00091911016/xsel/sw00091911016xwtw2po_cl.evt',\n",
        " '/Users/corcoran/research/ETA_CAR/Swift/2014/work/00091911017/xsel/sw00091911017xwtw2po_cl.evt',\n",
        " '/Users/corcoran/research/ETA_CAR/Swift/2014/work/00091911019/xsel/sw00091911019xwtw2po_cl.evt',\n",
        " '/Users/corcoran/research/ETA_CAR/Swift/2014/work/00091911020/xsel/sw00091911020xwtw2po_cl.evt',\n",
        " '/Users/corcoran/research/ETA_CAR/Swift/2014/work/00091911021/xsel/sw00091911021xwtw2po_cl.evt',\n",
        " '/Users/corcoran/research/ETA_CAR/Swift/2014/work/00091911022/xsel/sw00091911022xwtw2po_cl.evt',\n",
        " '/Users/corcoran/research/ETA_CAR/Swift/2014/work/00091911023/xsel/sw00091911023xwtw2po_cl.evt',\n",
        " '/Users/corcoran/research/ETA_CAR/Swift/2014/work/00091911025/xsel/sw00091911025xwtw2po_cl.evt',\n",
        " '/Users/corcoran/research/ETA_CAR/Swift/2014/work/00091911026/xsel/sw00091911026xwtw2po_cl.evt',\n",
        " '/Users/corcoran/research/ETA_CAR/Swift/2014/work/00091911027/xsel/sw00091911027xwtw2po_cl.evt',\n",
        " '/Users/corcoran/research/ETA_CAR/Swift/2014/work/00091911028/xsel/sw00091911028xwtw2po_cl.evt',\n",
        " '/Users/corcoran/research/ETA_CAR/Swift/2014/work/00091911029/xsel/sw00091911029xwtw2po_cl.evt',\n",
        " '/Users/corcoran/research/ETA_CAR/Swift/2014/work/00091911030/xsel/sw00091911030xwtw2po_cl.evt',\n",
        " '/Users/corcoran/research/ETA_CAR/Swift/2014/work/00091911031/xsel/sw00091911031xwtw2po_cl.evt',\n",
        " '/Users/corcoran/research/ETA_CAR/Swift/2014/work/00091911032/xsel/sw00091911032xwtw2po_cl.evt',\n",
        " '/Users/corcoran/research/ETA_CAR/Swift/2014/work/00091911033/xsel/sw00091911033xwtw2po_cl.evt',\n",
        " '/Users/corcoran/research/ETA_CAR/Swift/2014/work/00091911034/xsel/sw00091911034xwtw2po_cl.evt',\n",
        " '/Users/corcoran/research/ETA_CAR/Swift/2014/work/00091911035/xsel/sw00091911035xwtw2po_cl.evt',\n",
        " '/Users/corcoran/research/ETA_CAR/Swift/2014/work/00091911036/xsel/sw00091911036xwtw2po_cl.evt',\n",
        " '/Users/corcoran/research/ETA_CAR/Swift/2014/work/00091911037/xsel/sw00091911037xwtw2po_cl.evt',\n",
        " '/Users/corcoran/research/ETA_CAR/Swift/2014/work/00091911038/xsel/sw00091911038xwtw2po_cl.evt',\n",
        " '/Users/corcoran/research/ETA_CAR/Swift/2014/work/00091911039/xsel/sw00091911039xwtw2po_cl.evt',\n",
        " '/Users/corcoran/research/ETA_CAR/Swift/2014/work/00091911040/xsel/sw00091911040xwtw2po_cl.evt',\n",
        " '/Users/corcoran/research/ETA_CAR/Swift/2014/work/00091911041/xsel/sw00091911041xwtw2po_cl.evt',\n",
        " '/Users/corcoran/research/ETA_CAR/Swift/2014/work/00091911042/xsel/sw00091911042xwtw2po_cl.evt',\n",
        " '/Users/corcoran/research/ETA_CAR/Swift/2014/work/00091911043/xsel/sw00091911043xwtw2po_cl.evt',\n",
        " '/Users/corcoran/research/ETA_CAR/Swift/2014/work/00091911045/xsel/sw00091911045xwtw2po_cl.evt',\n",
        " '/Users/corcoran/research/ETA_CAR/Swift/2014/work/00091911046/xsel/sw00091911046xwtw2po_cl.evt',\n",
        " '/Users/corcoran/research/ETA_CAR/Swift/2014/work/00091911047/xsel/sw00091911047xwtw2po_cl.evt',\n",
        " '/Users/corcoran/research/ETA_CAR/Swift/2014/work/00091911048/xsel/sw00091911048xwtw2po_cl.evt',\n",
        " '/Users/corcoran/research/ETA_CAR/Swift/2014/work/00091911049/xsel/sw00091911049xwtw2po_cl.evt',\n",
        " '/Users/corcoran/research/ETA_CAR/Swift/2014/work/00091911050/xsel/sw00091911050xwtw2po_cl.evt',\n",
        " '/Users/corcoran/research/ETA_CAR/Swift/2014/work/00091911051/xsel/sw00091911051xwtw2po_cl.evt',\n",
        " '/Users/corcoran/research/ETA_CAR/Swift/2014/work/00091911052/xsel/sw00091911052xwtw2po_cl.evt',\n",
        " '/Users/corcoran/research/ETA_CAR/Swift/2014/work/00091911053/xsel/sw00091911053xwtw2po_cl.evt']"
       ]
      }
     ],
     "prompt_number": 20
    },
    {
     "cell_type": "code",
     "collapsed": false,
     "input": [],
     "language": "python",
     "metadata": {},
     "outputs": []
    }
   ],
   "metadata": {}
  }
 ]
}