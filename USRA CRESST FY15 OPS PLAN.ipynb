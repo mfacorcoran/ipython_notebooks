{
 "metadata": {
  "name": ""
 },
 "nbformat": 3,
 "nbformat_minor": 0,
 "worksheets": [
  {
   "cells": [
    {
     "cell_type": "markdown",
     "metadata": {},
     "source": [
      "<h2>How to create an employee database in Python</h2>\n",
      "\n",
      "This could be used to keep track of employee budgeting for the USRA ops plan, and Task budgeting for CRESST\n",
      "\n",
      "We use a python dictionary of dictionaries, and store it as a JSON file (a javascript human-readable form).\n",
      "\n",
      "One thing we'd like to be able to do\n",
      "\n",
      "* suppose employee K changes a task in July, changing his FTE distribution for the year; we'd like to generate a report of employee name, current task list with FTE history, for example\n",
      "\n",
      "Name=K\n",
      "   task 1: 1 FTE (Oct 1 2014), 0.8 FTE (Jan 1 2015)\n",
      "   task 2: 0.2 FTE (Jan 1 2015), 0.0 FTE (Apr 1 2015)\n",
      "   task 3: 0.2 FTE (Apr 1 2015)\n"
     ]
    },
    {
     "cell_type": "raw",
     "metadata": {},
     "source": [
      "\n",
      "opsdir='/Volumes/Area51/USRA/CRESST/Director/ops plan/FY15/python'\n",
      "with open(opsdir+'/employee_data_tmp.json', 'w') as f:\n",
      "    json.dump(employee, f, indent=1)\n",
      "#\n",
      "# restoring the dictionary\n",
      "#\n",
      "with open(opsdir+'/employee_data.json') as f:\n",
      "    emp = json.load(f)\n",
      "\n",
      "    \n"
     ]
    },
    {
     "cell_type": "code",
     "collapsed": false,
     "input": [
      "#\n",
      "# restoring the dictionary\n",
      "#\n",
      "with open(opsdir+'/employee_data.json') as f:\n",
      "    my_dict = json.load(f)\n"
     ],
     "language": "python",
     "metadata": {},
     "outputs": [],
     "prompt_number": 143
    },
    {
     "cell_type": "code",
     "collapsed": false,
     "input": [
      "my_dict['0000000001']['LASTNAME']"
     ],
     "language": "python",
     "metadata": {},
     "outputs": [
      {
       "metadata": {},
       "output_type": "pyout",
       "prompt_number": 144,
       "text": [
        "u'Queen'"
       ]
      }
     ],
     "prompt_number": 144
    },
    {
     "cell_type": "code",
     "collapsed": false,
     "input": [
      "my_dict['0000000001']['TRAVEL']=1000.0"
     ],
     "language": "python",
     "metadata": {},
     "outputs": [],
     "prompt_number": 145
    },
    {
     "cell_type": "raw",
     "metadata": {},
     "source": [
      "#\n",
      "# dump the dictionary; use indent=1 for legibility\n",
      "#\n",
      "opsdir='/Volumes/Area51/USRA/CRESST/Director/ops plan/FY15/python'\n",
      "with open(opsdir+'/employee_data.json', 'w') as f:\n",
      "    json.dump(my_dict, f, indent=1)"
     ]
    },
    {
     "cell_type": "code",
     "collapsed": false,
     "input": [
      "print my_dict.keys()\n"
     ],
     "language": "python",
     "metadata": {},
     "outputs": [
      {
       "output_type": "stream",
       "stream": "stdout",
       "text": [
        "[u'5266100000', u'0000002573', u'4861900000', u'0000000004', u'0000002560', u'0000000002', u'0000000003', u'0000000001', u'0288400000', u'2486800000', u'0000000005', u'8133200000', u'1609900000', u'0000002749', u'6026550000', u'1857700000', u'0000002688', u'4864900000', u'7846800000']\n"
       ]
      }
     ],
     "prompt_number": 146
    },
    {
     "cell_type": "code",
     "collapsed": false,
     "input": [
      "print my_dict['5266100000']\n"
     ],
     "language": "python",
     "metadata": {},
     "outputs": [
      {
       "output_type": "stream",
       "stream": "stdout",
       "text": [
        "{u'SALARY': 0, u'LASTNAME': u'Link', u'Travel': 0, u'FTE': {u'662.003': 0.33, u'662.002': 0.33, u'662.001': 0.33}, u'FIRSTNAME': u'Jason'}\n"
       ]
      }
     ],
     "prompt_number": 147
    },
    {
     "cell_type": "code",
     "collapsed": false,
     "input": [
      "for key in my_dict:\n",
      "    l=my_dict[key]['LASTNAME']\n",
      "    f=my_dict[key]['FIRSTNAME']\n",
      "    print \"%s, %s, %s\" % (key,l,f)"
     ],
     "language": "python",
     "metadata": {},
     "outputs": [
      {
       "output_type": "stream",
       "stream": "stdout",
       "text": [
        "5266100000, Link, Jason\n",
        "0000002573, Hilton, George\n",
        "4861900000, Krimm, Hans\n",
        "0000000004, Arens, Jeff\n",
        "0000002560, Mattson, Barbara\n",
        "0000000002, Smith, Julie\n",
        "0000000003, Baird, Steven\n",
        "0000000001, Queen, Lynette\n",
        "0288400000, Arzoumanian, Zaven\n",
        "2486800000, Drake, Steve\n",
        "0000000005, Maginnis, Beth\n",
        "8133200000, Soong, Yang\n",
        "1609900000, Chen, Sean\n",
        "0000002749, Perez, Mario\n",
        "6026550000, Morgan, Dagmar\n",
        "1857700000, Corcoran, Michael\n",
        "0000002688, Bower, Hannah\n",
        "4864900000, Krizmanic, John\n",
        "7846800000, Shrader, Christopher\n"
       ]
      }
     ],
     "prompt_number": 148
    },
    {
     "cell_type": "code",
     "collapsed": false,
     "input": [
      "def open_employee_db(employee_db='/Volumes/Area51/USRA/CRESST/Director/ops plan/FY15/python/employee_data.json'):\n",
      "    try:\n",
      "        with open(employee_db) as f:\n",
      "            emp_db = json.load(f)\n",
      "    except:\n",
      "        print \"%s Does Not Exist\" % employee_db\n",
      "        return\n",
      "    return emp_db\n",
      "\n",
      "def create_new_employee(new_usraid,employee_db='/Volumes/Area51/USRA/CRESST/Director/ops plan/FY15/python/employee_data.json'):\n",
      "    emp_db=open_employee_db()\n",
      "    usraids=emp_db.keys()\n",
      "    # check to see if the new usra id already exists, if so return an error\n",
      "    if new_usraid in usraids:\n",
      "        print \"%s already exists in Employee database and belongs to %s %s \" % (new_usraid,emp_dict[new_usraid]['FIRSTNAME'], emp_dict[new_usraid]['LASTNAME'])\n",
      "        print \"Returning\"\n",
      "        return\n",
      "    # if new usraid does not exist then enter new employee record\n",
      "    # enter lastname, firstname, salary, number of tasks, FTE on each task (includes cresst tasks and grants)\n",
      "    lastname= raw_input(\"Enter Employee last name: \")\n",
      "    firstname= raw_input(\"Enter Employee first name: \")\n",
      "    salary=float(raw_input(\"Enter Employee salary: \"))\n",
      "    travel=float(raw_input(\"Enter Employee Expected Travel amount: \"))\n",
      "    fte=dict()\n",
      "    task=raw_input(\"Enter task string (CR to exit): \")\n",
      "    if len(task)==0:\n",
      "        task='EMPTY'\n",
      "        fte[task]=0.0\n",
      "    else:\n",
      "        while (len(task)>0):\n",
      "            f=raw_input(\"Enter FTE for task as a decimal<1: \")\n",
      "            if task in fte:\n",
      "                print \"%s already in task list\"\n",
      "            else:\n",
      "                task=task.upper()\n",
      "                fte[task]=float(f)\n",
      "                task=raw_input(\"Enter task string (CR to exit): \")\n",
      "   \n",
      "    # create the new employee record\n",
      "\n",
      "    newemp=dict()\n",
      "    newemp.update({'SALARY':salary})\n",
      "    newemp.update({'LASTNAME':lastname.upper()})\n",
      "    newemp.update({'FIRSTNAME':firstname.upper()})\n",
      "    newemp.update({'TRAVEL':travel})\n",
      "    newemp.update({'FTE':fte})\n",
      "    \n",
      "    print \"New Employee information: %s\" % new_usraid\n",
      "    print newemp\n",
      "    \n",
      "    # check on total FTE for employee\n",
      "    totfte=sum(newemp['FTE'].values())\n",
      "    print (\"Total FTE for %s %s = %f, Expected Direct Cost = %f\" % \n",
      "          (newemp['FIRSTNAME'], newemp['LASTNAME'], totfte, \n",
      "           newemp['SALARY']*totfte+newemp['TRAVEL']))\n",
      "    \n",
      "    # update employee database\n",
      "    emp_db.update({new_usraid:newemp})\n",
      "    \n",
      "    # if it looks good, write a backup of the current dictionary - make it read only\n",
      "    # prompt to write the new dictionary\n",
      "    return emp_db\n",
      "    \n",
      "def cresst_task_summary(task,employee_db='/Volumes/Area51/USRA/CRESST/Director/ops plan/FY15/python/employee_data.json'):\n",
      "    \"\"\"\n",
      "    for a specified task, examines the employee database and prints out a summary\n",
      "    \"\"\"\n",
      "    employee_db=open_employee_db()\n",
      "    totcost=0.0\n",
      "    for k in employee_db.keys():\n",
      "        for t in employee_db[k]['FTE'].keys():\n",
      "            if t==task:\n",
      "                cost=employee_db[k]['FTE'][t]*employee_db[k]['SALARY']\n",
      "                print \"%s %s\" % (employee_db[k]['FIRSTNAME'],employee_db[k]['LASTNAME'])\n",
      "                totcost=totcost+cost\n",
      "                print \"Task=%s, FTE=%f Salary=%f Direct Cost= %f\" % (task, employee_db[k]['FTE'][t], employee_db[k]['SALARY'], cost)\n",
      "    print \"Total Direct Cost on task = %f\" % totcost\n",
      "    return totcost\n",
      "\n",
      "def cresst_employee_cost(usraid,employee_db='/Volumes/Area51/USRA/CRESST/Director/ops plan/FY15/python/employee_data.json'):\n",
      "    \"\"\"\n",
      "    for a specified usraid, examines the employee database and prints out a summary\n",
      "    \"\"\"\n",
      "    employee_db=open_employee_db()\n",
      "    print \"Employee %s (%s, %s)\" % (usraid, employee_db[usraid]['FIRSTNAME'], employee_db[usraid]['LASTNAME'])\n",
      "    totcost=sum(employee_db[usraid]['FTE'].values()*employee_db[usraid]['SALARY'])\n",
      "    print \"   Total Direct Cost = %f\" % totcost\n",
      "    return totcost"
     ],
     "language": "python",
     "metadata": {},
     "outputs": [],
     "prompt_number": 235
    },
    {
     "cell_type": "code",
     "collapsed": false,
     "input": [
      "nid='9999999999'\n",
      "empupdate=create_new_employee(nid)"
     ],
     "language": "python",
     "metadata": {},
     "outputs": [
      {
       "name": "stdout",
       "output_type": "stream",
       "stream": "stdout",
       "text": [
        "Enter Employee last name: a\n"
       ]
      },
      {
       "name": "stdout",
       "output_type": "stream",
       "stream": "stdout",
       "text": [
        "Enter Employee first name: b\n"
       ]
      },
      {
       "name": "stdout",
       "output_type": "stream",
       "stream": "stdout",
       "text": [
        "Enter Employee salary: 5000\n"
       ]
      },
      {
       "name": "stdout",
       "output_type": "stream",
       "stream": "stdout",
       "text": [
        "Enter Employee Expected Travel amount: 10\n"
       ]
      },
      {
       "name": "stdout",
       "output_type": "stream",
       "stream": "stdout",
       "text": [
        "Enter task string (CR to exit): \n"
       ]
      },
      {
       "output_type": "stream",
       "stream": "stdout",
       "text": [
        "New Employee information: 9999999999\n",
        "{'SALARY': 5000.0, 'LASTNAME': 'A', 'TRAVEL': 10.0, 'FTE': {'EMPTY': 0.0}, 'FIRSTNAME': 'B'}\n",
        "Total FTE for B A = 0.000000, Expected Direct Cost = 10.000000\n"
       ]
      }
     ],
     "prompt_number": 214
    },
    {
     "cell_type": "code",
     "collapsed": false,
     "input": [
      "cresst_task_summary('662.999')"
     ],
     "language": "python",
     "metadata": {},
     "outputs": [
      {
       "output_type": "stream",
       "stream": "stdout",
       "text": [
        "Jason Link\n",
        "Task=662.999, FTE=0.330000 Salary=20000.000000 Direct Cost= 6600.000000\n",
        "George Hilton\n",
        "Task=662.999, FTE=0.330000 Salary=50000.000000 Direct Cost= 16500.000000\n",
        "Total Direct Cost on task = 23100.000000\n"
       ]
      }
     ],
     "prompt_number": 189
    },
    {
     "cell_type": "code",
     "collapsed": false,
     "input": [
      "dc=cresst_employee_cost('0000000001')\n",
      "dc"
     ],
     "language": "python",
     "metadata": {},
     "outputs": [
      {
       "output_type": "stream",
       "stream": "stdout",
       "text": [
        "Employee 0000000001 (Lynette, Queen)\n",
        "   Total Direct Cost = 0.000000\n"
       ]
      },
      {
       "metadata": {},
       "output_type": "pyout",
       "prompt_number": 237,
       "text": [
        "0.0"
       ]
      }
     ],
     "prompt_number": 237
    },
    {
     "cell_type": "code",
     "collapsed": false,
     "input": [
      "sum(emp['0000000001']['FTE'].values())"
     ],
     "language": "python",
     "metadata": {},
     "outputs": [
      {
       "metadata": {},
       "output_type": "pyout",
       "prompt_number": 197,
       "text": [
        "0.98999999999999999"
       ]
      }
     ],
     "prompt_number": 197
    },
    {
     "cell_type": "code",
     "collapsed": false,
     "input": [
      "sum(emp['0000000001']['FTE'].values())\n"
     ],
     "language": "python",
     "metadata": {},
     "outputs": [
      {
       "metadata": {},
       "output_type": "pyout",
       "prompt_number": 220,
       "text": [
        "0.98999999999999999"
       ]
      }
     ],
     "prompt_number": 220
    },
    {
     "cell_type": "code",
     "collapsed": false,
     "input": [
      "dc"
     ],
     "language": "python",
     "metadata": {},
     "outputs": [],
     "prompt_number": 234
    },
    {
     "cell_type": "code",
     "collapsed": false,
     "input": [
      "emp_db=open_employee_db()\n",
      "emp_db['0000000001']['FIRSTNAME']"
     ],
     "language": "python",
     "metadata": {},
     "outputs": [
      {
       "metadata": {},
       "output_type": "pyout",
       "prompt_number": 230,
       "text": [
        "u'Lynette'"
       ]
      }
     ],
     "prompt_number": 230
    },
    {
     "cell_type": "code",
     "collapsed": false,
     "input": [],
     "language": "python",
     "metadata": {},
     "outputs": []
    }
   ],
   "metadata": {}
  }
 ]
}