{
 "metadata": {
  "name": ""
 },
 "nbformat": 3,
 "nbformat_minor": 0,
 "worksheets": [
  {
   "cells": [
    {
     "cell_type": "markdown",
     "metadata": {},
     "source": [
      "<h2>Swift Eta Car processing</h2>\n",
      "\n",
      "<h3> General Notes</h3>\n",
      "\n",
      "**Sep 2013**: This generates xrtmkarf commands explicitly including the \"expofile\" which explicitly corrects for bad pixels and other exposure faults in the effective area (arf) file\n",
      "\n",
      "**April 18 2014** - had an error in the xrtmkarf command - the exposure map array selection was incorrect (it was\n",
      "\n",
      "expof=!ls 00091911*/*ex*img \n",
      "\n",
      "but should have been \n",
      "\n",
      "expof=!ls 00091911*/*po*ex*img)\n",
      "\n",
      "I re-made the exposure maps for the 2014 quicklook data, and am creating them for the 2012 and pre-2012 data."
     ]
    },
    {
     "cell_type": "code",
     "collapsed": false,
     "input": [
      "\"\"\"\n",
      "for the 2014 & later data (periastron passage 2014), seq 91911\n",
      "\"\"\"\n",
      "cmd=\"\"\n",
      "print cmd\n",
      "import os\n",
      "workingdir=\"/Users/corcoran/Dropbox/Eta_Car/swift/quicklook/work\"\n",
      "os.chdir(workingdir)\n",
      "seqdir=!ls -d 00091911*\n",
      "xsdir=!ls -d 00091911*/xspec\n",
      "expof=!ls 00091911*/*po*ex*img\n",
      "scriptfile=workingdir+\"/scripts/\"\n",
      "for i in range(len(xsdir)):\n",
      "    outfile=workingdir+\"/\"+xsdir[i]+\"/ec_srcbin10.arf\"\n",
      "    phafile=workingdir+\"/\"+xsdir[i]+\"/ec_srcbin10.pha\"\n",
      "    expofile=workingdir+\"/\"+expof[i]\n",
      "    cmd=\"xrtmkarf outfile=\"+outfile+\" psfflag='yes' phafile = \"+phafile+\" srcx = -1  srcy = -1 clobber=yes expofile = \"+expofile\n",
      "    print cmd"
     ],
     "language": "python",
     "metadata": {},
     "outputs": [
      {
       "output_type": "stream",
       "stream": "stdout",
       "text": [
        "\n"
       ]
      },
      {
       "output_type": "stream",
       "stream": "stdout",
       "text": [
        "xrtmkarf outfile=/Users/corcoran/Dropbox/Eta_Car/swift/quicklook/work/00091911002/xspec/ec_srcbin10.arf psfflag='yes' phafile = /Users/corcoran/Dropbox/Eta_Car/swift/quicklook/work/00091911002/xspec/ec_srcbin10.pha srcx = -1  srcy = -1 clobber=yes expofile = /Users/corcoran/Dropbox/Eta_Car/swift/quicklook/work/00091911002/sw00091911002xwtw2po_ex.img\n",
        "xrtmkarf outfile=/Users/corcoran/Dropbox/Eta_Car/swift/quicklook/work/00091911003/xspec/ec_srcbin10.arf psfflag='yes' phafile = /Users/corcoran/Dropbox/Eta_Car/swift/quicklook/work/00091911003/xspec/ec_srcbin10.pha srcx = -1  srcy = -1 clobber=yes expofile = /Users/corcoran/Dropbox/Eta_Car/swift/quicklook/work/00091911003/sw00091911003xwtw2po_ex.img\n",
        "xrtmkarf outfile=/Users/corcoran/Dropbox/Eta_Car/swift/quicklook/work/00091911004/xspec/ec_srcbin10.arf psfflag='yes' phafile = /Users/corcoran/Dropbox/Eta_Car/swift/quicklook/work/00091911004/xspec/ec_srcbin10.pha srcx = -1  srcy = -1 clobber=yes expofile = /Users/corcoran/Dropbox/Eta_Car/swift/quicklook/work/00091911004/sw00091911004xwtw2po_ex.img\n",
        "xrtmkarf outfile=/Users/corcoran/Dropbox/Eta_Car/swift/quicklook/work/00091911005/xspec/ec_srcbin10.arf psfflag='yes' phafile = /Users/corcoran/Dropbox/Eta_Car/swift/quicklook/work/00091911005/xspec/ec_srcbin10.pha srcx = -1  srcy = -1 clobber=yes expofile = /Users/corcoran/Dropbox/Eta_Car/swift/quicklook/work/00091911005/sw00091911005xwtw2po_ex.img\n"
       ]
      }
     ],
     "prompt_number": 6
    },
    {
     "cell_type": "code",
     "collapsed": false,
     "input": [
      "expof=!ls 00091911*/*po*ex*img\n",
      "expof"
     ],
     "language": "python",
     "metadata": {},
     "outputs": [
      {
       "metadata": {},
       "output_type": "pyout",
       "prompt_number": 5,
       "text": [
        "['00091911002/sw00091911002xwtw2po_ex.img',\n",
        " '00091911003/sw00091911003xwtw2po_ex.img',\n",
        " '00091911004/sw00091911004xwtw2po_ex.img',\n",
        " '00091911005/sw00091911005xwtw2po_ex.img']"
       ]
      }
     ],
     "prompt_number": 5
    },
    {
     "cell_type": "code",
     "collapsed": false,
     "input": [
      "\"\"\"\n",
      "for the 2012 & after data\n",
      "\"\"\"\n",
      "cmd=\"\"\n",
      "print cmd\n",
      "import os\n",
      "workingdir=\"/Users/corcoran/research/ETA_CAR/Swift/2012/work\"\n",
      "os.chdir(workingdir)\n",
      "seqdir=!ls -d 000*\n",
      "xsdir=!ls -d 000*/xspec\n",
      "expof=!ls 000*/*po*ex*img\n",
      "scriptfile=workingdir+\"/scripts/\"\n",
      "for i in range(len(xsdir)):\n",
      "    outfile=workingdir+\"/\"+xsdir[i]+\"/ec_srcbin10.arf\"\n",
      "    phafile=workingdir+\"/\"+xsdir[i]+\"/ec_srcbin10.pha\"\n",
      "    expofile=workingdir+\"/\"+expof[i]\n",
      "    cmd=\"xrtmkarf outfile=\"+outfile+\" psfflag='yes' phafile = \"+phafile+\" srcx = -1  srcy = -1 clobber=yes expofile = \"+expofile\n",
      "    print cmd"
     ],
     "language": "python",
     "metadata": {},
     "outputs": [
      {
       "output_type": "stream",
       "stream": "stdout",
       "text": [
        "\n"
       ]
      },
      {
       "output_type": "stream",
       "stream": "stdout",
       "text": [
        "xrtmkarf outfile=/Users/corcoran/research/ETA_CAR/Swift/2012/work/00031308014/xspec/ec_srcbin10.arf psfflag='yes' phafile = /Users/corcoran/research/ETA_CAR/Swift/2012/work/00031308014/xspec/ec_srcbin10.pha srcx = -1  srcy = -1 clobber=yes expofile = /Users/corcoran/research/ETA_CAR/Swift/2012/work/00031308014/sw00031308014xwtw2po_ex.img\n",
        "xrtmkarf outfile=/Users/corcoran/research/ETA_CAR/Swift/2012/work/00031308015/xspec/ec_srcbin10.arf psfflag='yes' phafile = /Users/corcoran/research/ETA_CAR/Swift/2012/work/00031308015/xspec/ec_srcbin10.pha srcx = -1  srcy = -1 clobber=yes expofile = /Users/corcoran/research/ETA_CAR/Swift/2012/work/00031308015/sw00031308015xwtw2po_ex.img\n",
        "xrtmkarf outfile=/Users/corcoran/research/ETA_CAR/Swift/2012/work/00031308016/xspec/ec_srcbin10.arf psfflag='yes' phafile = /Users/corcoran/research/ETA_CAR/Swift/2012/work/00031308016/xspec/ec_srcbin10.pha srcx = -1  srcy = -1 clobber=yes expofile = /Users/corcoran/research/ETA_CAR/Swift/2012/work/00031308016/sw00031308016xwtw2po_ex.img\n",
        "xrtmkarf outfile=/Users/corcoran/research/ETA_CAR/Swift/2012/work/00031308017/xspec/ec_srcbin10.arf psfflag='yes' phafile = /Users/corcoran/research/ETA_CAR/Swift/2012/work/00031308017/xspec/ec_srcbin10.pha srcx = -1  srcy = -1 clobber=yes expofile = /Users/corcoran/research/ETA_CAR/Swift/2012/work/00031308017/sw00031308017xwtw2po_ex.img\n",
        "xrtmkarf outfile=/Users/corcoran/research/ETA_CAR/Swift/2012/work/00031308018/xspec/ec_srcbin10.arf psfflag='yes' phafile = /Users/corcoran/research/ETA_CAR/Swift/2012/work/00031308018/xspec/ec_srcbin10.pha srcx = -1  srcy = -1 clobber=yes expofile = /Users/corcoran/research/ETA_CAR/Swift/2012/work/00031308018/sw00031308018xwtw2po_ex.img\n",
        "xrtmkarf outfile=/Users/corcoran/research/ETA_CAR/Swift/2012/work/00031308019/xspec/ec_srcbin10.arf psfflag='yes' phafile = /Users/corcoran/research/ETA_CAR/Swift/2012/work/00031308019/xspec/ec_srcbin10.pha srcx = -1  srcy = -1 clobber=yes expofile = /Users/corcoran/research/ETA_CAR/Swift/2012/work/00031308019/sw00031308019xwtw2po_ex.img\n",
        "xrtmkarf outfile=/Users/corcoran/research/ETA_CAR/Swift/2012/work/00031308020/xspec/ec_srcbin10.arf psfflag='yes' phafile = /Users/corcoran/research/ETA_CAR/Swift/2012/work/00031308020/xspec/ec_srcbin10.pha srcx = -1  srcy = -1 clobber=yes expofile = /Users/corcoran/research/ETA_CAR/Swift/2012/work/00031308020/sw00031308020xwtw2po_ex.img\n",
        "xrtmkarf outfile=/Users/corcoran/research/ETA_CAR/Swift/2012/work/00031308021/xspec/ec_srcbin10.arf psfflag='yes' phafile = /Users/corcoran/research/ETA_CAR/Swift/2012/work/00031308021/xspec/ec_srcbin10.pha srcx = -1  srcy = -1 clobber=yes expofile = /Users/corcoran/research/ETA_CAR/Swift/2012/work/00031308021/sw00031308021xwtw2po_ex.img\n",
        "xrtmkarf outfile=/Users/corcoran/research/ETA_CAR/Swift/2012/work/00031308022/xspec/ec_srcbin10.arf psfflag='yes' phafile = /Users/corcoran/research/ETA_CAR/Swift/2012/work/00031308022/xspec/ec_srcbin10.pha srcx = -1  srcy = -1 clobber=yes expofile = /Users/corcoran/research/ETA_CAR/Swift/2012/work/00031308022/sw00031308022xwtw2po_ex.img\n",
        "xrtmkarf outfile=/Users/corcoran/research/ETA_CAR/Swift/2012/work/00031308023/xspec/ec_srcbin10.arf psfflag='yes' phafile = /Users/corcoran/research/ETA_CAR/Swift/2012/work/00031308023/xspec/ec_srcbin10.pha srcx = -1  srcy = -1 clobber=yes expofile = /Users/corcoran/research/ETA_CAR/Swift/2012/work/00031308023/sw00031308023xwtw2po_ex.img\n",
        "xrtmkarf outfile=/Users/corcoran/research/ETA_CAR/Swift/2012/work/00091395001/xspec/ec_srcbin10.arf psfflag='yes' phafile = /Users/corcoran/research/ETA_CAR/Swift/2012/work/00091395001/xspec/ec_srcbin10.pha srcx = -1  srcy = -1 clobber=yes expofile = /Users/corcoran/research/ETA_CAR/Swift/2012/work/00091395001/sw00091395001xwtw2po_ex.img\n",
        "xrtmkarf outfile=/Users/corcoran/research/ETA_CAR/Swift/2012/work/00091395002/xspec/ec_srcbin10.arf psfflag='yes' phafile = /Users/corcoran/research/ETA_CAR/Swift/2012/work/00091395002/xspec/ec_srcbin10.pha srcx = -1  srcy = -1 clobber=yes expofile = /Users/corcoran/research/ETA_CAR/Swift/2012/work/00091395002/sw00091395002xwtw2po_ex.img\n",
        "xrtmkarf outfile=/Users/corcoran/research/ETA_CAR/Swift/2012/work/00091395003/xspec/ec_srcbin10.arf psfflag='yes' phafile = /Users/corcoran/research/ETA_CAR/Swift/2012/work/00091395003/xspec/ec_srcbin10.pha srcx = -1  srcy = -1 clobber=yes expofile = /Users/corcoran/research/ETA_CAR/Swift/2012/work/00091395003/sw00091395003xwtw2po_ex.img\n",
        "xrtmkarf outfile=/Users/corcoran/research/ETA_CAR/Swift/2012/work/00091395004/xspec/ec_srcbin10.arf psfflag='yes' phafile = /Users/corcoran/research/ETA_CAR/Swift/2012/work/00091395004/xspec/ec_srcbin10.pha srcx = -1  srcy = -1 clobber=yes expofile = /Users/corcoran/research/ETA_CAR/Swift/2012/work/00091395004/sw00091395004xwtw2po_ex.img\n",
        "xrtmkarf outfile=/Users/corcoran/research/ETA_CAR/Swift/2012/work/00091395005/xspec/ec_srcbin10.arf psfflag='yes' phafile = /Users/corcoran/research/ETA_CAR/Swift/2012/work/00091395005/xspec/ec_srcbin10.pha srcx = -1  srcy = -1 clobber=yes expofile = /Users/corcoran/research/ETA_CAR/Swift/2012/work/00091395005/sw00091395005xwtw2po_ex.img\n",
        "xrtmkarf outfile=/Users/corcoran/research/ETA_CAR/Swift/2012/work/00091395006/xspec/ec_srcbin10.arf psfflag='yes' phafile = /Users/corcoran/research/ETA_CAR/Swift/2012/work/00091395006/xspec/ec_srcbin10.pha srcx = -1  srcy = -1 clobber=yes expofile = /Users/corcoran/research/ETA_CAR/Swift/2012/work/00091395006/sw00091395006xwtw2po_ex.img\n",
        "xrtmkarf outfile=/Users/corcoran/research/ETA_CAR/Swift/2012/work/00091395007/xspec/ec_srcbin10.arf psfflag='yes' phafile = /Users/corcoran/research/ETA_CAR/Swift/2012/work/00091395007/xspec/ec_srcbin10.pha srcx = -1  srcy = -1 clobber=yes expofile = /Users/corcoran/research/ETA_CAR/Swift/2012/work/00091395007/sw00091395007xwtw2po_ex.img\n",
        "xrtmkarf outfile=/Users/corcoran/research/ETA_CAR/Swift/2012/work/00091395008/xspec/ec_srcbin10.arf psfflag='yes' phafile = /Users/corcoran/research/ETA_CAR/Swift/2012/work/00091395008/xspec/ec_srcbin10.pha srcx = -1  srcy = -1 clobber=yes expofile = /Users/corcoran/research/ETA_CAR/Swift/2012/work/00091395008/sw00091395008xwtw2po_ex.img\n",
        "xrtmkarf outfile=/Users/corcoran/research/ETA_CAR/Swift/2012/work/00091395009/xspec/ec_srcbin10.arf psfflag='yes' phafile = /Users/corcoran/research/ETA_CAR/Swift/2012/work/00091395009/xspec/ec_srcbin10.pha srcx = -1  srcy = -1 clobber=yes expofile = /Users/corcoran/research/ETA_CAR/Swift/2012/work/00091395009/sw00091395009xwtw2po_ex.img\n",
        "xrtmkarf outfile=/Users/corcoran/research/ETA_CAR/Swift/2012/work/00091395010/xspec/ec_srcbin10.arf psfflag='yes' phafile = /Users/corcoran/research/ETA_CAR/Swift/2012/work/00091395010/xspec/ec_srcbin10.pha srcx = -1  srcy = -1 clobber=yes expofile = /Users/corcoran/research/ETA_CAR/Swift/2012/work/00091395010/sw00091395010xwtw2po_ex.img\n",
        "xrtmkarf outfile=/Users/corcoran/research/ETA_CAR/Swift/2012/work/00091395011/xspec/ec_srcbin10.arf psfflag='yes' phafile = /Users/corcoran/research/ETA_CAR/Swift/2012/work/00091395011/xspec/ec_srcbin10.pha srcx = -1  srcy = -1 clobber=yes expofile = /Users/corcoran/research/ETA_CAR/Swift/2012/work/00091395011/sw00091395011xwtw2po_ex.img\n",
        "xrtmkarf outfile=/Users/corcoran/research/ETA_CAR/Swift/2012/work/00091395012/xspec/ec_srcbin10.arf psfflag='yes' phafile = /Users/corcoran/research/ETA_CAR/Swift/2012/work/00091395012/xspec/ec_srcbin10.pha srcx = -1  srcy = -1 clobber=yes expofile = /Users/corcoran/research/ETA_CAR/Swift/2012/work/00091395012/sw00091395012xwtw2po_ex.img\n",
        "xrtmkarf outfile=/Users/corcoran/research/ETA_CAR/Swift/2012/work/00091395013/xspec/ec_srcbin10.arf psfflag='yes' phafile = /Users/corcoran/research/ETA_CAR/Swift/2012/work/00091395013/xspec/ec_srcbin10.pha srcx = -1  srcy = -1 clobber=yes expofile = /Users/corcoran/research/ETA_CAR/Swift/2012/work/00091395013/sw00091395013xwtw2po_ex.img\n",
        "xrtmkarf outfile=/Users/corcoran/research/ETA_CAR/Swift/2012/work/00091395014/xspec/ec_srcbin10.arf psfflag='yes' phafile = /Users/corcoran/research/ETA_CAR/Swift/2012/work/00091395014/xspec/ec_srcbin10.pha srcx = -1  srcy = -1 clobber=yes expofile = /Users/corcoran/research/ETA_CAR/Swift/2012/work/00091395014/sw00091395014xwtw2po_ex.img\n",
        "xrtmkarf outfile=/Users/corcoran/research/ETA_CAR/Swift/2012/work/00091395015/xspec/ec_srcbin10.arf psfflag='yes' phafile = /Users/corcoran/research/ETA_CAR/Swift/2012/work/00091395015/xspec/ec_srcbin10.pha srcx = -1  srcy = -1 clobber=yes expofile = /Users/corcoran/research/ETA_CAR/Swift/2012/work/00091395015/sw00091395015xwtw2po_ex.img\n",
        "xrtmkarf outfile=/Users/corcoran/research/ETA_CAR/Swift/2012/work/00091395016/xspec/ec_srcbin10.arf psfflag='yes' phafile = /Users/corcoran/research/ETA_CAR/Swift/2012/work/00091395016/xspec/ec_srcbin10.pha srcx = -1  srcy = -1 clobber=yes expofile = /Users/corcoran/research/ETA_CAR/Swift/2012/work/00091395016/sw00091395016xwtw2po_ex.img\n"
       ]
      }
     ],
     "prompt_number": 7
    },
    {
     "cell_type": "code",
     "collapsed": false,
     "input": [
      "\"\"\"\n",
      "for the pre-2012 data\n",
      "\"\"\"\n",
      "cmd=\"\"\n",
      "print cmd\n",
      "import os\n",
      "workingdir=\"/Users/corcoran/research/ETA_CAR/Swift/pre_2012_data/work\"\n",
      "os.chdir(workingdir)\n",
      "seqdir=!ls -d 000*\n",
      "xsdir=!ls -d 000*/xspec\n",
      "expof=!ls 000*/*po*ex*img\n",
      "scriptfile=workingdir+\"/scripts/\"\n",
      "for i in range(len(xsdir)):\n",
      "    outfile=workingdir+\"/\"+xsdir[i]+\"/ec_srcbin10.arf\"\n",
      "    phafile=workingdir+\"/\"+xsdir[i]+\"/ec_srcbin10.pha\"\n",
      "    expofile=workingdir+\"/\"+expof[i]\n",
      "    cmd=\"xrtmkarf outfile=\"+outfile+\" psfflag='yes' phafile = \"+phafile+\" srcx = -1  srcy = -1 clobber=yes expofile = \"+expofile\n",
      "    print cmd"
     ],
     "language": "python",
     "metadata": {},
     "outputs": [
      {
       "output_type": "stream",
       "stream": "stdout",
       "text": [
        "\n"
       ]
      },
      {
       "output_type": "stream",
       "stream": "stdout",
       "text": [
        "xrtmkarf outfile=/Users/corcoran/research/ETA_CAR/Swift/pre_2012_data/work/00031308001/xspec/ec_srcbin10.arf psfflag='yes' phafile = /Users/corcoran/research/ETA_CAR/Swift/pre_2012_data/work/00031308001/xspec/ec_srcbin10.pha srcx = -1  srcy = -1 clobber=yes expofile = /Users/corcoran/research/ETA_CAR/Swift/pre_2012_data/work/00031308001/sw00031308001xpcw3po_ex.img\n",
        "xrtmkarf outfile=/Users/corcoran/research/ETA_CAR/Swift/pre_2012_data/work/00031308002/xspec/ec_srcbin10.arf psfflag='yes' phafile = /Users/corcoran/research/ETA_CAR/Swift/pre_2012_data/work/00031308002/xspec/ec_srcbin10.pha srcx = -1  srcy = -1 clobber=yes expofile = /Users/corcoran/research/ETA_CAR/Swift/pre_2012_data/work/00031308002/sw00031308002xwtw2po_ex.img\n",
        "xrtmkarf outfile=/Users/corcoran/research/ETA_CAR/Swift/pre_2012_data/work/00031308003/xspec/ec_srcbin10.arf psfflag='yes' phafile = /Users/corcoran/research/ETA_CAR/Swift/pre_2012_data/work/00031308003/xspec/ec_srcbin10.pha srcx = -1  srcy = -1 clobber=yes expofile = /Users/corcoran/research/ETA_CAR/Swift/pre_2012_data/work/00031308003/sw00031308003xwtw2po_ex.img\n",
        "xrtmkarf outfile=/Users/corcoran/research/ETA_CAR/Swift/pre_2012_data/work/00031308004/xspec/ec_srcbin10.arf psfflag='yes' phafile = /Users/corcoran/research/ETA_CAR/Swift/pre_2012_data/work/00031308004/xspec/ec_srcbin10.pha srcx = -1  srcy = -1 clobber=yes expofile = /Users/corcoran/research/ETA_CAR/Swift/pre_2012_data/work/00031308004/sw00031308004xwtw2po_ex.img\n",
        "xrtmkarf outfile=/Users/corcoran/research/ETA_CAR/Swift/pre_2012_data/work/00031308005/xspec/ec_srcbin10.arf psfflag='yes' phafile = /Users/corcoran/research/ETA_CAR/Swift/pre_2012_data/work/00031308005/xspec/ec_srcbin10.pha srcx = -1  srcy = -1 clobber=yes expofile = /Users/corcoran/research/ETA_CAR/Swift/pre_2012_data/work/00031308005/sw00031308005xwtw2po_ex.img\n",
        "xrtmkarf outfile=/Users/corcoran/research/ETA_CAR/Swift/pre_2012_data/work/00031308006/xspec/ec_srcbin10.arf psfflag='yes' phafile = /Users/corcoran/research/ETA_CAR/Swift/pre_2012_data/work/00031308006/xspec/ec_srcbin10.pha srcx = -1  srcy = -1 clobber=yes expofile = /Users/corcoran/research/ETA_CAR/Swift/pre_2012_data/work/00031308006/sw00031308006xwtw2po_ex.img\n",
        "xrtmkarf outfile=/Users/corcoran/research/ETA_CAR/Swift/pre_2012_data/work/00031308007/xspec/ec_srcbin10.arf psfflag='yes' phafile = /Users/corcoran/research/ETA_CAR/Swift/pre_2012_data/work/00031308007/xspec/ec_srcbin10.pha srcx = -1  srcy = -1 clobber=yes expofile = /Users/corcoran/research/ETA_CAR/Swift/pre_2012_data/work/00031308007/sw00031308007xwtw2po_ex.img\n",
        "xrtmkarf outfile=/Users/corcoran/research/ETA_CAR/Swift/pre_2012_data/work/00031308008/xspec/ec_srcbin10.arf psfflag='yes' phafile = /Users/corcoran/research/ETA_CAR/Swift/pre_2012_data/work/00031308008/xspec/ec_srcbin10.pha srcx = -1  srcy = -1 clobber=yes expofile = /Users/corcoran/research/ETA_CAR/Swift/pre_2012_data/work/00031308008/sw00031308008xwtw2po_ex.img\n",
        "xrtmkarf outfile=/Users/corcoran/research/ETA_CAR/Swift/pre_2012_data/work/00031308009/xspec/ec_srcbin10.arf psfflag='yes' phafile = /Users/corcoran/research/ETA_CAR/Swift/pre_2012_data/work/00031308009/xspec/ec_srcbin10.pha srcx = -1  srcy = -1 clobber=yes expofile = /Users/corcoran/research/ETA_CAR/Swift/pre_2012_data/work/00031308009/sw00031308009xwtw2po_ex.img\n",
        "xrtmkarf outfile=/Users/corcoran/research/ETA_CAR/Swift/pre_2012_data/work/00031308010/xspec/ec_srcbin10.arf psfflag='yes' phafile = /Users/corcoran/research/ETA_CAR/Swift/pre_2012_data/work/00031308010/xspec/ec_srcbin10.pha srcx = -1  srcy = -1 clobber=yes expofile = /Users/corcoran/research/ETA_CAR/Swift/pre_2012_data/work/00031308010/sw00031308010xwtw2po_ex.img\n",
        "xrtmkarf outfile=/Users/corcoran/research/ETA_CAR/Swift/pre_2012_data/work/00031308011/xspec/ec_srcbin10.arf psfflag='yes' phafile = /Users/corcoran/research/ETA_CAR/Swift/pre_2012_data/work/00031308011/xspec/ec_srcbin10.pha srcx = -1  srcy = -1 clobber=yes expofile = /Users/corcoran/research/ETA_CAR/Swift/pre_2012_data/work/00031308011/sw00031308011xwtw2po_ex.img\n",
        "xrtmkarf outfile=/Users/corcoran/research/ETA_CAR/Swift/pre_2012_data/work/00031308012/xspec/ec_srcbin10.arf psfflag='yes' phafile = /Users/corcoran/research/ETA_CAR/Swift/pre_2012_data/work/00031308012/xspec/ec_srcbin10.pha srcx = -1  srcy = -1 clobber=yes expofile = /Users/corcoran/research/ETA_CAR/Swift/pre_2012_data/work/00031308012/sw00031308012xwtw2po_ex.img\n",
        "xrtmkarf outfile=/Users/corcoran/research/ETA_CAR/Swift/pre_2012_data/work/00031308013/xspec/ec_srcbin10.arf psfflag='yes' phafile = /Users/corcoran/research/ETA_CAR/Swift/pre_2012_data/work/00031308013/xspec/ec_srcbin10.pha srcx = -1  srcy = -1 clobber=yes expofile = /Users/corcoran/research/ETA_CAR/Swift/pre_2012_data/work/00031308013/sw00031308013xwtw2po_ex.img\n",
        "xrtmkarf outfile=/Users/corcoran/research/ETA_CAR/Swift/pre_2012_data/work/00090033001/xspec/ec_srcbin10.arf psfflag='yes' phafile = /Users/corcoran/research/ETA_CAR/Swift/pre_2012_data/work/00090033001/xspec/ec_srcbin10.pha srcx = -1  srcy = -1 clobber=yes expofile = /Users/corcoran/research/ETA_CAR/Swift/pre_2012_data/work/00090033001/sw00090033001xpcw3po_ex.img\n",
        "xrtmkarf outfile=/Users/corcoran/research/ETA_CAR/Swift/pre_2012_data/work/00090033002/xspec/ec_srcbin10.arf psfflag='yes' phafile = /Users/corcoran/research/ETA_CAR/Swift/pre_2012_data/work/00090033002/xspec/ec_srcbin10.pha srcx = -1  srcy = -1 clobber=yes expofile = /Users/corcoran/research/ETA_CAR/Swift/pre_2012_data/work/00090033002/sw00090033002xwtw2po_ex.img\n",
        "xrtmkarf outfile=/Users/corcoran/research/ETA_CAR/Swift/pre_2012_data/work/00090033003/xspec/ec_srcbin10.arf psfflag='yes' phafile = /Users/corcoran/research/ETA_CAR/Swift/pre_2012_data/work/00090033003/xspec/ec_srcbin10.pha srcx = -1  srcy = -1 clobber=yes expofile = /Users/corcoran/research/ETA_CAR/Swift/pre_2012_data/work/00090033003/sw00090033003xwtw2po_ex.img\n",
        "xrtmkarf outfile=/Users/corcoran/research/ETA_CAR/Swift/pre_2012_data/work/00090033004/xspec/ec_srcbin10.arf psfflag='yes' phafile = /Users/corcoran/research/ETA_CAR/Swift/pre_2012_data/work/00090033004/xspec/ec_srcbin10.pha srcx = -1  srcy = -1 clobber=yes expofile = /Users/corcoran/research/ETA_CAR/Swift/pre_2012_data/work/00090033004/sw00090033004xwtw2po_ex.img\n",
        "xrtmkarf outfile=/Users/corcoran/research/ETA_CAR/Swift/pre_2012_data/work/00090033005/xspec/ec_srcbin10.arf psfflag='yes' phafile = /Users/corcoran/research/ETA_CAR/Swift/pre_2012_data/work/00090033005/xspec/ec_srcbin10.pha srcx = -1  srcy = -1 clobber=yes expofile = /Users/corcoran/research/ETA_CAR/Swift/pre_2012_data/work/00090033005/sw00090033005xwtw2po_ex.img\n"
       ]
      }
     ],
     "prompt_number": 8
    },
    {
     "cell_type": "code",
     "collapsed": false,
     "input": [],
     "language": "python",
     "metadata": {},
     "outputs": []
    },
    {
     "cell_type": "code",
     "collapsed": false,
     "input": [],
     "language": "python",
     "metadata": {},
     "outputs": []
    }
   ],
   "metadata": {}
  }
 ]
}