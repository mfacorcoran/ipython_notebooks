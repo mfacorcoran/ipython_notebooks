{
 "metadata": {
  "name": ""
 },
 "nbformat": 3,
 "nbformat_minor": 0,
 "worksheets": [
  {
   "cells": [
    {
     "cell_type": "markdown",
     "metadata": {},
     "source": [
      "<hr>\n",
      "<h2>pycaldb Code</h2>\n",
      "<hr>"
     ]
    },
    {
     "cell_type": "code",
     "collapsed": false,
     "input": [
      "def get_cif(telescope,instrument,caldb='http://heasarc.gsfc.nasa.gov/FTP/caldb',caldbver='',cifout=\"/tmp/cif\"):\n",
      "    import urllib\n",
      "    import pyfits\n",
      "    import os  \n",
      "    import datetime\n",
      "    import pdb\n",
      "    import numpy as np\n",
      "    from astropy.time import Time\n",
      "    #print cal_cbd\n",
      "    cifurl=caldb+'/data/'+telescope+'/'+instrument+'/caldb.indx'\n",
      "    print \"cifurl = \"+cifurl\n",
      "    print \"cifout = \"+cifout\n",
      "    urllib.urlcleanup()\n",
      "    urllib.urlretrieve(cifurl,cifout) # retrieve this url using urllib.urlretrieve and copy it to a temporary file cifout\n",
      "    hdulist = pyfits.open(cifout)\n",
      "    return hdulist\n",
      "\n",
      "def quizcif(telescope, instrument, cal_cnam, detnam='',cal_cbd=['','','','','','','','',''],\n",
      "filter=\"none\", cal_vsd=\"today\", cal_vst=\"now\", cal_qual=0, caldb='ftp://heasarc.gsfc.nasa.gov/caldb', caldbver=''):\n",
      "    \"\"\"\n",
      "for a given telescope, instrument, detnam, filter, validity date+time, quality, and boundaries\n",
      "returns the entries from the caldb.indx file which matches these criteria.\n",
      "\n",
      "Limitations\n",
      "    Only single parameter boundary values are accepted as input (i.e \"theta=10\" not \"theta>5\")\n",
      "    \"\"\"\n",
      "    import urllib\n",
      "    import pyfits\n",
      "    import os  \n",
      "    import datetime\n",
      "    import pdb\n",
      "    import numpy as np\n",
      "    from astropy.time import Time\n",
      "    hdulist=get_cif(telescope,instrument)\n",
      "    #print cal_cbd\n",
      "    #cifurl=caldb+'/data/'+telescope+'/'+instrument+'/caldb.indx'\n",
      "    #print \"cifurl = \"+cifurl\n",
      "    #cif=urllib.urlretrieve(cifurl) # retrieve this url urllib.urlretrieve and copy it to a temporary file\n",
      "    #cif=cif[0]\n",
      "    #print \"cif = \"+cif\n",
      "    #pdb.set_trace()\n",
      "    #hdulist = pyfits.open(cif)\n",
      "    #hdulist.info()\n",
      "    #urllib.urlcleanup() # this apparently removes the file \n",
      "    cols = hdulist[1].columns\n",
      "    cifdata = hdulist[1].data\n",
      "    #\n",
      "    # get entries that match cal_cnam\n",
      "    #\n",
      "    icnam=where(cifdata.field(\"cal_cnam\")==cal_cnam)\n",
      "    #print cifdata[icnam].field(\"cal_cnam\")\n",
      "    cifdata=cifdata[icnam]\n",
      "    print cifdata.field(\"cal_cnam\")\n",
      "    #\n",
      "    # get entries that match cal_qual\n",
      "    #\n",
      "    iqual=where(cifdata.field(\"cal_qual\")==cal_qual)\n",
      "    cifdate=cifdata[iqual]\n",
      "    print cifdata.field(\"cal_qual\")\n",
      "    #\n",
      "    # cbds - have to extract all the boundary value entries, then find the ones that match\n",
      "    # the specified boundary array entries\n",
      "    # for example we might specify as input: \n",
      "    # cal_cbd=['theta=50', 'phi=30'] (only equalities of input parameters are supported)\n",
      "    #\n",
      "    # and have cbds in the cif like cbd='theta(40-60)degrees           phi(10-50)degrees'\n",
      "    #   which would match the input, while\n",
      "    #   cbd='theta(40-60)degrees           phi(10-25)degrees'\n",
      "    #   would not match the input (note the implicit \"AND\"-ing of the boundaries, not 'OR'-ing\n",
      "    #\n",
      "    bnd= cifdata.field(\"cal_cbd\") # get a string array of all the boundary values\n",
      "    # find all rows of bnd that contain the first input boundary parameter\n",
      "    #  a. find the name of the first input boundary parameter by splitting on = equality, or < or > as necessary\n",
      "    #\n",
      "    i=0\n",
      "    try: \n",
      "        cal_cbd[i].split('=')[1] # if = found then param is a 2 element array, one element otherwise\n",
      "    except:\n",
      "        print \"WARNING: Boundary value \"+cal_cbd[i]+\" is not an equality\"\n",
      "        print \"Skipping\"\n",
      "    pname=cal_cbd[i].split('=')[0]\n",
      "    pval=cal_cbd[i].split('=')[1]\n",
      "    print \"PNAME, PVAL=\",pname,pval\n",
      "    testbnd=bnd.split() # split cbds from cif on whitespace\n",
      "    dir(testbnd)\n",
      "    print \"testbnd[1][0]\", testbnd[1][0]\n",
      "    #\n",
      "    # vsd & vst - after instrument, filter, qual, cal_cnam matching, get the file that has the vsd\n",
      "    # + vst that is closest to but less than the time specified by the user\n",
      "    #\n",
      "    now = datetime.datetime.now()\n",
      "    if cal_vsd==\"today\":\n",
      "        vsd=now.date()\n",
      "    else:\n",
      "        vsd=cal_vsd\n",
      "    if cal_vst==\"now\":\n",
      "        vst=now.time()\n",
      "    else:\n",
      "        vst=cal_vst\n",
      "    vsdt=str(vsd)+' '+str(vst)\n",
      "    vsdt=Time(vsdt,format='iso',scale='utc')\n",
      "    cif_vsdt=cifdata.field(\"cal_vsd\")+' '+cifdata.field(\"cal_vst\")\n",
      "    cif_vsdt= Time(cif_vsdt, format='iso', scale='utc')\n",
      "    \"\"\"print vsdt.jd\n",
      "    print cif_vsdt.jd\"\"\"\n",
      "    dift= cif_vsdt.jd-vsdt.jd\n",
      "    #dift=vsdt.jd-cif_vsdt.jd\n",
      "    print \"DIFT =\" \n",
      "    print dift\n",
      "    ivsd=where(dift<0)\n",
      "    print ivsd[0]\n",
      "    if ivsd[0].size==0: # if no elements match then ivsd[0] is an array of size 0\n",
      "        print \"Time criterion not matched by CALDB\"\n",
      "        return\n",
      "    cifdata=cifdata[ivsd] # filter on acceptable vsds.  Any cif_vsdt<vsdt is acceptable\n",
      "    \n",
      "def get_cbds(telescope, instrument):\n",
      "    import urllib\n",
      "    import pyfits\n",
      "    import os  \n",
      "    import datetime\n",
      "    import pdb\n",
      "    import numpy as np\n",
      "    from astropy.time import Time\n",
      "    \"\"\"\n",
      "    access the cal_cbd string (9 values of 72 characters each), extract the parameter name, \n",
      "    then return a python array of lists\n",
      "    with each parameter name as the key and the minimum and maximum values allowable as the key values \n",
      "    (if an equality, then minval=maxval as expected)\n",
      "    cbd={'parname1':[min,max], 'parname2':[min,max],...}\n",
      "    to test for the existence of a parname:\n",
      "    cbd.has_key('parname2') (evaluates to true if parname2 is a key in the dictionary)\n",
      "    \"\"\"\n",
      "    #print cal_cbd\n",
      "    #urllib.urlcleanup() # this apparently removes the file \n",
      "    hdulist=get_cif(telescope, instrument)\n",
      "    tbdata = hdulist[1].data\n",
      "    cbds=tbdata.field('CAL_CBD')\n",
      "    nel=len(cbds)\n",
      "    # return array of boundaries\n",
      "    cbds=cbds.split() # split the cbd values on whitespace\n",
      "    print \"Splitting cbds\"\n",
      "    return cbds\n",
      "\n",
      "def cmp_cbd(cbd, pname, pval, punit=\"\"):\n",
      "    \"\"\" \n",
      "    for specfied param name (pname), parameter value (pval), an optional unit string, and a caldb boundary\n",
      "    list from a cif of form PARAM(VAL-RANGE)UNIT, returns true if pname = cbd parameter name AND pval is matches the \n",
      "    cbd parameter value or range, AND (optionally) the unit strings match\n",
      "    \"\"\"\n",
      "    a=parse_cbd(cbd)\n",
      "    if pname.upper()==a[0].upper(): \n",
      "        if a[1]<=pval<=a[2]:\n",
      "            #print pname.upper(), pval, punit, \" Found\"\n",
      "            if punit<>a[3]: \n",
      "                print \"WARNING: UNIT MISMATCH\"\n",
      "                print \"Specified Unit: \"+punit\n",
      "                print \"Boundary Value Unit: \"+a[3]\n",
      "            check=bool(1)\n",
      "        else: \n",
      "            #print \"No Match\"\n",
      "            check=bool(0)\n",
      "    else:\n",
      "        check=bool(0) # param names don't match\n",
      "    return check\n",
      "\n",
      "def parse_cbd(bound):\n",
      "    import numpy as np\n",
      "    \"\"\"\n",
      "    for a boundary string of the form PARAM(VALUE)UNIT, returns the parameter name, min and max allowed value, \n",
      "    (and unit string if any) as a python list (param, minval, maxval, unit)\n",
      "    \"\"\"\n",
      "    test=asarray(bound.split(\"(\")) # split the string at the \"(\" into a list; use numpy.asarray to convert to an array\n",
      "    param=test[0]\n",
      "    cbd=(\"NONE\", \"NONE\", \"NONE\", \"\")\n",
      "    if param != \"NONE\": \n",
      "        bval=test[1].split(\")\") \n",
      "        print \"\\n\"\n",
      "        if bval[0].find(\"-\")>=0: # .find returns a -1 if the substring is not found, otherwise the position of the string\n",
      "            ptype=\"Range\" \n",
      "            vals=bval[0].split(\"-\")\n",
      "            minval=vals[0]\n",
      "            maxval=vals[1]\n",
      "        else:\n",
      "            ptype=\"Equality\"\n",
      "            minval=bval[0]\n",
      "            maxval=bval[0]\n",
      "        print \"Parameter = \"+param\n",
      "        print \"Parameter Boundary Value = \"+bval[0]\n",
      "        print \"Type = \"+ptype\n",
      "        if ptype =='Range':\n",
      "            print(\"Minimum = %f, maximum = %f\") % (float(minval), float(maxval))\n",
      "        unit=\"\"\n",
      "        if len(bval[1]) > 0:\n",
      "            unit=bval[1]\n",
      "        print \"Unit = \"+unit\n",
      "        if minval.isdigit(): \n",
      "            minval=float(minval)\n",
      "        if maxval.isdigit(): \n",
      "            maxval=float(maxval)\n",
      "        cbd=(param, minval, maxval, unit)\n",
      "    return cbd #returns python list (string, number or string, number or string, string)\n",
      "    \n",
      "   "
     ],
     "language": "python",
     "metadata": {},
     "outputs": [],
     "prompt_number": 1
    },
    {
     "cell_type": "code",
     "collapsed": false,
     "input": [
      "cbd=\"PHI(10-20)arcmin\"\n",
      "parse_cbd(cbd)"
     ],
     "language": "python",
     "metadata": {},
     "outputs": [
      {
       "output_type": "stream",
       "stream": "stdout",
       "text": [
        "\n",
        "\n",
        "Parameter = PHI\n",
        "Parameter Boundary Value = 10-20\n",
        "Type = Range\n",
        "Minimum = 10.000000, maximum = 20.000000\n",
        "Unit = arcmin\n"
       ]
      },
      {
       "metadata": {},
       "output_type": "pyout",
       "prompt_number": 4,
       "text": [
        "('PHI', 10.0, 20.0, 'arcmin')"
       ]
      }
     ],
     "prompt_number": 4
    },
    {
     "cell_type": "code",
     "collapsed": false,
     "input": [
      "cbd=\"PHI(10-20)arcmin\"\n",
      "a= cmp_cbd(cbd,'phi',20)\n",
      "print a"
     ],
     "language": "python",
     "metadata": {},
     "outputs": [
      {
       "output_type": "stream",
       "stream": "stdout",
       "text": [
        "\n",
        "\n",
        "Parameter = PHI\n",
        "Parameter Boundary Value = 10-20\n",
        "Type = Range\n",
        "Minimum = 10.000000, maximum = 20.000000\n",
        "Unit = arcmin\n",
        "WARNING: UNIT MISMATCH\n",
        "Specified Unit: \n",
        "Boundary Value Unit: arcmin\n",
        "True\n"
       ]
      }
     ],
     "prompt_number": 5
    },
    {
     "cell_type": "markdown",
     "metadata": {},
     "source": [
      "<hr>\n",
      "<h3>pycaldb tests</h3>"
     ]
    },
    {
     "cell_type": "code",
     "collapsed": false,
     "input": [
      "cifhdu=get_cif('fermi','lat',cifout='/tmp/cif4')\n",
      "cols=cifhdu[1].columns\n",
      "cols"
     ],
     "language": "python",
     "metadata": {},
     "outputs": [
      {
       "output_type": "stream",
       "stream": "stdout",
       "text": [
        "cifurl = http://heasarc.gsfc.nasa.gov/FTP/caldb/data/fermi/lat/caldb.indx\n",
        "cifout = /tmp/cif4\n"
       ]
      },
      {
       "metadata": {},
       "output_type": "pyout",
       "prompt_number": 6,
       "text": [
        "ColDefs(\n",
        "    name = 'TELESCOP'; format = '10A'\n",
        "    name = 'INSTRUME'; format = '10A'\n",
        "    name = 'DETNAM'; format = '20A'\n",
        "    name = 'FILTER'; format = '10A'\n",
        "    name = 'CAL_DEV'; format = '20A'\n",
        "    name = 'CAL_DIR'; format = '70A'\n",
        "    name = 'CAL_FILE'; format = '40A'\n",
        "    name = 'CAL_CLAS'; format = '3A'\n",
        "    name = 'CAL_DTYP'; format = '4A'\n",
        "    name = 'CAL_CNAM'; format = '20A'\n",
        "    name = 'CAL_CBD'; format = '630A70'\n",
        "    name = 'CAL_XNO'; format = 'I'\n",
        "    name = 'CAL_VSD'; format = '10A'\n",
        "    name = 'CAL_VST'; format = '8A'\n",
        "    name = 'REF_TIME'; format = 'D'\n",
        "    name = 'CAL_QUAL'; format = 'I'\n",
        "    name = 'CAL_DATE'; format = '10A'\n",
        "    name = 'CAL_DESC'; format = '70A'\n",
        ")"
       ]
      }
     ],
     "prompt_number": 6
    },
    {
     "cell_type": "code",
     "collapsed": false,
     "input": [
      "tbdata=cifhdu[1].data\n",
      "cbd=tbdata.field('CAL_CBD')"
     ],
     "language": "python",
     "metadata": {},
     "outputs": [],
     "prompt_number": 7
    },
    {
     "cell_type": "code",
     "collapsed": false,
     "input": [
      "\n",
      "cbds=get_cbds('fermi','lat')\n",
      "for c in cbds[0]: \n",
      "    if cmp_cbd(c, \"CLASS\", \"P6_v1_diff_front\"):\n",
      "        print \"FOUND a match!\"\n",
      "        "
     ],
     "language": "python",
     "metadata": {},
     "outputs": [
      {
       "output_type": "stream",
       "stream": "stdout",
       "text": [
        "cifurl = http://heasarc.gsfc.nasa.gov/FTP/caldb/data/fermi/lat/caldb.indx\n",
        "cifout = /tmp/cif\n",
        "Splitting cbds"
       ]
      },
      {
       "output_type": "stream",
       "stream": "stdout",
       "text": [
        "\n",
        "\n",
        "\n",
        "Parameter = VERSION\n",
        "Parameter Boundary Value = P6_V1_DIFFUSE\n",
        "Type = Equality\n",
        "Unit = \n",
        "\n",
        "\n",
        "Parameter = CLASS\n",
        "Parameter Boundary Value = P6_v1_diff_front\n",
        "Type = Equality\n",
        "Unit = \n",
        "FOUND a match!\n",
        "\n",
        "\n",
        "Parameter = ENERG\n",
        "Parameter Boundary Value = 18-560000\n",
        "Type = Range\n",
        "Minimum = 18.000000, maximum = 560000.000000\n",
        "Unit = MeV\n",
        "\n",
        "\n",
        "Parameter = CTHETA\n",
        "Parameter Boundary Value = 0.2-1\n",
        "Type = Range\n",
        "Minimum = 0.200000, maximum = 1.000000\n",
        "Unit = \n",
        "\n",
        "\n",
        "Parameter = PHI\n",
        "Parameter Boundary Value = 0-360\n",
        "Type = Range\n",
        "Minimum = 0.000000, maximum = 360.000000\n",
        "Unit = deg\n"
       ]
      }
     ],
     "prompt_number": 8
    },
    {
     "cell_type": "code",
     "collapsed": false,
     "input": [
      "bnd=['theta=100','phi=200','version=latest']\n",
      "quizcif('fermi','lat','EDISP',cal_cbd=bnd)"
     ],
     "language": "python",
     "metadata": {},
     "outputs": [
      {
       "output_type": "stream",
       "stream": "stdout",
       "text": [
        "cifurl = http://heasarc.gsfc.nasa.gov/FTP/caldb/data/fermi/lat/caldb.indx\n",
        "cifout = /tmp/cif\n",
        "['EDISP' 'EDISP' 'EDISP' 'EDISP' 'EDISP' 'EDISP' 'EDISP' 'EDISP' 'EDISP'\n",
        " 'EDISP' 'EDISP' 'EDISP' 'EDISP' 'EDISP' 'EDISP' 'EDISP' 'EDISP' 'EDISP'\n",
        " 'EDISP' 'EDISP' 'EDISP' 'EDISP' 'EDISP' 'EDISP' 'EDISP' 'EDISP' 'EDISP'\n",
        " 'EDISP' 'EDISP' 'EDISP' 'EDISP' 'EDISP' 'EDISP' 'EDISP' 'EDISP' 'EDISP']"
       ]
      },
      {
       "output_type": "stream",
       "stream": "stdout",
       "text": [
        "\n",
        "[0 0 0 0 0 0 0 0 0 0 0 0 0 0 0 0 0 0 0 0 0 0 0 0 0 0 0 0 0 0 0 0 0 0 0 0]\n",
        "PNAME, PVAL= theta 100\n",
        "testbnd[1][0] VERSION(P6_V1_DIFFUSE)\n",
        "DIFT =\n",
        "[-2409.32659893 -2409.32659893 -2409.32659893 -2409.32659893 -2409.32659893\n",
        " -2409.32659893 -2409.32659893 -2409.32659893 -2409.32659893 -2409.32659893\n",
        " -2409.32659893 -2409.32659893 -2409.32659893 -2409.32659893 -2409.32659893\n",
        " -2409.32659893 -2409.32659893 -2409.32659893 -2409.32659893 -2409.32659893\n",
        " -2409.32659893 -2409.32659893 -2409.32659893 -2409.32659893 -2409.32659893\n",
        " -2409.32659893 -2409.32659893 -2409.32659893 -2409.32659893 -2409.32659893\n",
        " -2409.32659893 -2409.32659893 -2409.32659893 -2409.32659893 -2409.32659893\n",
        " -2409.32659893]\n",
        "[ 0  1  2  3  4  5  6  7  8  9 10 11 12 13 14 15 16 17 18 19 20 21 22 23 24\n",
        " 25 26 27 28 29 30 31 32 33 34 35]\n"
       ]
      }
     ],
     "prompt_number": 9
    },
    {
     "cell_type": "code",
     "collapsed": false,
     "input": [
      "rcbds=get_cbds('rosat','pspc')"
     ],
     "language": "python",
     "metadata": {},
     "outputs": [
      {
       "output_type": "stream",
       "stream": "stdout",
       "text": [
        "cifurl = http://heasarc.gsfc.nasa.gov/FTP/caldb/data/rosat/pspc/caldb.indx\n",
        "cifout = /tmp/cif\n",
        "Splitting cbds"
       ]
      },
      {
       "output_type": "stream",
       "stream": "stdout",
       "text": [
        "\n"
       ]
      }
     ],
     "prompt_number": 10
    },
    {
     "cell_type": "code",
     "collapsed": false,
     "input": [
      "for i in arange(3):\n",
      "    print \"\\nBoundary value is %i\" %i \n",
      "    for icbd in rcbds[i]:\n",
      "        a=parse_cbd(icbd)\n",
      "        print \"\\n\"\n",
      "        print a\n"
     ],
     "language": "python",
     "metadata": {},
     "outputs": [
      {
       "output_type": "stream",
       "stream": "stdout",
       "text": [
        "\n",
        "Boundary value is 0\n",
        "\n",
        "\n",
        "Parameter = THETA\n",
        "Parameter Boundary Value = 0-60.0\n",
        "Type = Range\n",
        "Minimum = 0.000000, maximum = 60.000000\n",
        "Unit = arcmin\n",
        "\n",
        "\n",
        "('THETA', 0.0, '60.0', 'arcmin')\n",
        "\n",
        "\n",
        "Parameter = PHI\n",
        "Parameter Boundary Value = 0-360\n",
        "Type = Range\n",
        "Minimum = 0.000000, maximum = 360.000000\n",
        "Unit = deg\n",
        "\n",
        "\n",
        "('PHI', 0.0, 360.0, 'deg')\n",
        "\n",
        "\n",
        "Parameter = ENERG\n",
        "Parameter Boundary Value = 0.0546-3.01\n",
        "Type = Range\n",
        "Minimum = 0.054600, maximum = 3.010000\n",
        "Unit = keV\n",
        "\n",
        "\n",
        "('ENERG', '0.0546', '3.01', 'keV')\n",
        "\n",
        "\n",
        "('NONE', 'NONE', 'NONE', '')\n",
        "\n",
        "\n",
        "('NONE', 'NONE', 'NONE', '')\n",
        "\n",
        "\n",
        "('NONE', 'NONE', 'NONE', '')\n",
        "\n",
        "\n",
        "('NONE', 'NONE', 'NONE', '')\n",
        "\n",
        "\n",
        "('NONE', 'NONE', 'NONE', '')\n",
        "\n",
        "\n",
        "('NONE', 'NONE', 'NONE', '')\n",
        "\n",
        "Boundary value is 1\n",
        "\n",
        "\n",
        "Parameter = THETA\n",
        "Parameter Boundary Value = 0-60.0\n",
        "Type = Range\n",
        "Minimum = 0.000000, maximum = 60.000000\n",
        "Unit = arcmin\n",
        "\n",
        "\n",
        "('THETA', 0.0, '60.0', 'arcmin')\n",
        "\n",
        "\n",
        "Parameter = PHI\n",
        "Parameter Boundary Value = 0-360\n",
        "Type = Range\n",
        "Minimum = 0.000000, maximum = 360.000000\n",
        "Unit = deg\n",
        "\n",
        "\n",
        "('PHI', 0.0, 360.0, 'deg')\n",
        "\n",
        "\n",
        "Parameter = ENERG\n",
        "Parameter Boundary Value = 0.0546-3.01\n",
        "Type = Range\n",
        "Minimum = 0.054600, maximum = 3.010000\n",
        "Unit = keV\n",
        "\n",
        "\n",
        "('ENERG', '0.0546', '3.01', 'keV')\n",
        "\n",
        "\n",
        "('NONE', 'NONE', 'NONE', '')\n",
        "\n",
        "\n",
        "('NONE', 'NONE', 'NONE', '')\n",
        "\n",
        "\n",
        "('NONE', 'NONE', 'NONE', '')\n",
        "\n",
        "\n",
        "('NONE', 'NONE', 'NONE', '')\n",
        "\n",
        "\n",
        "('NONE', 'NONE', 'NONE', '')\n",
        "\n",
        "\n",
        "('NONE', 'NONE', 'NONE', '')\n",
        "\n",
        "Boundary value is 2\n",
        "\n",
        "\n",
        "('NONE', 'NONE', 'NONE', '')\n",
        "\n",
        "\n",
        "('NONE', 'NONE', 'NONE', '')\n",
        "\n",
        "\n",
        "('NONE', 'NONE', 'NONE', '')\n",
        "\n",
        "\n",
        "('NONE', 'NONE', 'NONE', '')\n",
        "\n",
        "\n",
        "('NONE', 'NONE', 'NONE', '')\n",
        "\n",
        "\n",
        "('NONE', 'NONE', 'NONE', '')\n",
        "\n",
        "\n",
        "('NONE', 'NONE', 'NONE', '')\n",
        "\n",
        "\n",
        "('NONE', 'NONE', 'NONE', '')\n",
        "\n",
        "\n",
        "('NONE', 'NONE', 'NONE', '')\n"
       ]
      }
     ],
     "prompt_number": 18
    },
    {
     "cell_type": "code",
     "collapsed": false,
     "input": [
      "a=rcbds[0]\n",
      "if 'THETA' in a:\n",
      "    print FOUND"
     ],
     "language": "python",
     "metadata": {},
     "outputs": [],
     "prompt_number": 29
    },
    {
     "cell_type": "code",
     "collapsed": false,
     "input": [
      "test_pycaldb(0)\n"
     ],
     "language": "python",
     "metadata": {},
     "outputs": [
      {
       "ename": "NameError",
       "evalue": "name 'test_pycaldb' is not defined",
       "output_type": "pyerr",
       "traceback": [
        "\u001b[0;31m---------------------------------------------------------------------------\u001b[0m\n\u001b[0;31mNameError\u001b[0m                                 Traceback (most recent call last)",
        "\u001b[0;32m<ipython-input-2-3fc5f66bd99f>\u001b[0m in \u001b[0;36m<module>\u001b[0;34m()\u001b[0m\n\u001b[0;32m----> 1\u001b[0;31m \u001b[0mtest_pycaldb\u001b[0m\u001b[0;34m(\u001b[0m\u001b[0;36m0\u001b[0m\u001b[0;34m)\u001b[0m\u001b[0;34m\u001b[0m\u001b[0m\n\u001b[0m",
        "\u001b[0;31mNameError\u001b[0m: name 'test_pycaldb' is not defined"
       ]
      }
     ],
     "prompt_number": 2
    },
    {
     "cell_type": "code",
     "collapsed": false,
     "input": [
      "get_cbds()\n"
     ],
     "language": "python",
     "metadata": {},
     "outputs": [
      {
       "ename": "TypeError",
       "evalue": "get_cbds() takes exactly 2 arguments (0 given)",
       "output_type": "pyerr",
       "traceback": [
        "\u001b[0;31m---------------------------------------------------------------------------\u001b[0m\n\u001b[0;31mTypeError\u001b[0m                                 Traceback (most recent call last)",
        "\u001b[0;32m<ipython-input-3-b7c08d75880b>\u001b[0m in \u001b[0;36m<module>\u001b[0;34m()\u001b[0m\n\u001b[0;32m----> 1\u001b[0;31m \u001b[0mget_cbds\u001b[0m\u001b[0;34m(\u001b[0m\u001b[0;34m)\u001b[0m\u001b[0;34m\u001b[0m\u001b[0m\n\u001b[0m",
        "\u001b[0;31mTypeError\u001b[0m: get_cbds() takes exactly 2 arguments (0 given)"
       ]
      }
     ],
     "prompt_number": 3
    },
    {
     "cell_type": "code",
     "collapsed": false,
     "input": [
      "get_cif()\n"
     ],
     "language": "python",
     "metadata": {},
     "outputs": [
      {
       "ename": "TypeError",
       "evalue": "get_cif() takes at least 2 arguments (0 given)",
       "output_type": "pyerr",
       "traceback": [
        "\u001b[0;31m---------------------------------------------------------------------------\u001b[0m\n\u001b[0;31mTypeError\u001b[0m                                 Traceback (most recent call last)",
        "\u001b[0;32m<ipython-input-4-7317ca646cab>\u001b[0m in \u001b[0;36m<module>\u001b[0;34m()\u001b[0m\n\u001b[0;32m----> 1\u001b[0;31m \u001b[0mget_cif\u001b[0m\u001b[0;34m(\u001b[0m\u001b[0;34m)\u001b[0m\u001b[0;34m\u001b[0m\u001b[0m\n\u001b[0m",
        "\u001b[0;31mTypeError\u001b[0m: get_cif() takes at least 2 arguments (0 given)"
       ]
      }
     ],
     "prompt_number": 4
    },
    {
     "cell_type": "code",
     "collapsed": false,
     "input": [
      "get_cif('nustar','fpm')\n"
     ],
     "language": "python",
     "metadata": {},
     "outputs": [
      {
       "output_type": "stream",
       "stream": "stdout",
       "text": [
        "cifurl = http://heasarc.gsfc.nasa.gov/FTP/caldb/data/nustar/fpm/caldb.indx\n",
        "cifout = /tmp/cif\n"
       ]
      },
      {
       "metadata": {},
       "output_type": "pyout",
       "prompt_number": 5,
       "text": [
        "[<pyfits.hdu.image.PrimaryHDU at 0x1079ae210>,\n",
        " <pyfits.hdu.table.BinTableHDU at 0x1079aeed0>]"
       ]
      }
     ],
     "prompt_number": 5
    },
    {
     "cell_type": "code",
     "collapsed": false,
     "input": [],
     "language": "python",
     "metadata": {},
     "outputs": []
    }
   ],
   "metadata": {}
  }
 ]
}