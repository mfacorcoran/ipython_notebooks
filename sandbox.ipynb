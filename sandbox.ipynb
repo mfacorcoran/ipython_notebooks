{
 "worksheets": [
  {
   "cells": [
    {
     "cell_type": "markdown",
     "metadata": {},
     "source": [
      "Some useful resources\n",
      "---------------------\n",
      "\n",
      "Matplotlib gallery http://matplotlib.org/gallery.html\n",
      "\n",
      "Python Science Lecture notes http://scipy-lectures.github.io/index.html\n",
      "\n",
      "CodeAcademy: http://www.codecademy.com/tracks/python\n",
      "\n",
      "Markdown information: http://daringfireball.net/projects/markdown/\n",
      "\n",
      "See\n",
      "\n",
      "http://nbviewer.ipython.org/urls/raw.github.com/ipython/ipython/1.x/examples/notebooks/Part%202%20-%20Basic%20Output.ipynb\n",
      "\n",
      "which has useful information about capturing cell output using %%capture \n",
      "\n",
      "\n",
      "<hr>"
     ]
    },
    {
     "cell_type": "code",
     "execution_count": null,
     "metadata": {},
     "outputs": [
      {
       "output_type": "stream",
       "stream": "stdout",
       "text": [
        "Populating the interactive namespace from numpy and matplotlib\n"
       ]
      },
      {
       "output_type": "stream",
       "stream": "stderr",
       "text": [
        "WARNING: pylab import has clobbered these variables: ['linalg', 'pylab', 'draw_if_interactive', 'random', 'power', 'info', 'fft']\n`%matplotlib` prevents importing * from pylab and numpy\n"
       ]
      }
     ],
     "input": [
      "%pylab inline"
     ],
     "language": "python",
     "prompt_number": 2
    },
    {
     "cell_type": "code",
     "execution_count": null,
     "metadata": {},
     "outputs": [
      {
       "output_type": "pyout",
       "prompt_number": 3,
       "text": [
        "(0.5, 1.1)"
       ],
       "metadata": {}
      },
      {
       "output_type": "display_data",
       "png": "[encoded data removed]",
       "text": [
        "<matplotlib.figure.Figure at 0x10e56e550>"
       ],
       "metadata": {}
      }
     ],
     "input": [
      "phase=[0.5,0.96,0.98,0.99,1.00,1.01,1.02,1.04]\n",
      "vmax=[2700,2100,1600,1200,550,1200,1300,2000] # maximum wind V's from Tom Madura's sims\n",
      "fig=plt.figure()\n",
      "axes1 = fig.add_axes([0.1, 0.1, 0.8, 0.8]) # main axes\n",
      "axes1.plot(phase, vmax, '*-')\n",
      "axes1.set_xlabel('Phase')\n",
      "axes1.set_ylabel('Vmax')\n",
      "axes1.set_ylim([0,3000])\n",
      "axes1.set_xlim([0.5,1.1])"
     ],
     "language": "python",
     "prompt_number": 3
    },
    {
     "cell_type": "markdown",
     "metadata": {},
     "source": [
      "<hr> \n",
      "<h2>A fun numerical function showing the use of Numpy's \"where\" function</h2>"
     ]
    },
    {
     "cell_type": "code",
     "execution_count": null,
     "metadata": {},
     "outputs": [
      {
       "output_type": "stream",
       "stream": "stdout",
       "text": [
        "max of function =  1.44466786101\n",
        "index of maximum =  (array([1909]),)\n",
        "value of x where f(x) is maximum =  2.71827182718\n"
       ]
      },
      {
       "output_type": "display_data",
       "png": "[encoded data removed]",
       "text": [
        "<matplotlib.figure.Figure at 0x10633bf90>"
       ],
       "metadata": {}
      }
     ],
     "input": [
      "x=linspace(1,10,10000)\n",
      "plot(x,x**(1/x),'r')\n",
      "print \"max of function = \", max(x**(1/x))\n",
      "print \"index of maximum = \", where(x**(1/x)==max(x**(1/x))) # uses numpy's \"where\" function\n",
      "print \"value of x where f(x) is maximum = \", x[where(x**(1/x)==max(x**(1/x)))[0]][0] # extracts [0] element from where and [0] from the x value to return a scalar"
     ],
     "language": "python",
     "prompt_number": 24
    },
    {
     "cell_type": "markdown",
     "metadata": {},
     "source": [
      "<hr>\n",
      "How to read and plot a Chandra HETG spectrum using pyfits\n",
      "========================================================="
     ]
    },
    {
     "cell_type": "code",
     "execution_count": null,
     "metadata": {},
     "outputs": [
      {
       "output_type": "stream",
       "stream": "stdout",
       "text": [
        "Filename: /Users/corcoran/research/ETA_CAR/CHANDRA2/repro/seqid/apastron/200692/12358/acisf12358_repro_pha2.fits\n",
        "No.    Name         Type      Cards   Dimensions   Format\n",
        "0    PRIMARY     PrimaryHDU      29   ()           int16   \n",
        "1    SPECTRUM    BinTableHDU    275   12R x 13C    [1I, 1I, 1I, 1I, 1E, 1E, 8192I, 8192I, 8192E, 8192I, 8192I, 8192D, 8192D]   \n",
        "2    REGION      BinTableHDU    145   36R x 11C    [1I, 64A, 16A, 1E, 1E, 2E, 1E, 1I, 1I, 1I, 1I]   \n"
       ]
      }
     ],
     "input": [
      "import pyfits\n",
      "spec='/Users/corcoran/research/ETA_CAR/CHANDRA2/repro/seqid/apastron/200692/12358/acisf12358_repro_pha2.fits'\n",
      "hdulist = pyfits.open(spec)\n",
      "hdulist.info()"
     ],
     "language": "python",
     "prompt_number": 25
    },
    {
     "cell_type": "code",
     "execution_count": null,
     "metadata": {},
     "outputs": [
      {
       "output_type": "pyout",
       "prompt_number": 26,
       "text": [
        "104985.0"
       ],
       "metadata": {}
      }
     ],
     "input": [
      "prihdr = hdulist[1].header\n",
      "prihdr\n",
      "ontime=prihdr['ONTIME']\n",
      "ontime"
     ],
     "language": "python",
     "prompt_number": 26
    },
    {
     "cell_type": "code",
     "execution_count": null,
     "metadata": {},
     "outputs": [],
     "input": [
      "scidata = hdulist[1].data"
     ],
     "language": "python",
     "prompt_number": 27
    },
    {
     "cell_type": "code",
     "execution_count": null,
     "metadata": {},
     "outputs": [
      {
       "output_type": "pyout",
       "prompt_number": 28,
       "text": [
        "(12,)"
       ],
       "metadata": {}
      }
     ],
     "input": [
      "scidata.shape"
     ],
     "language": "python",
     "prompt_number": 28
    },
    {
     "cell_type": "code",
     "execution_count": null,
     "metadata": {},
     "outputs": [],
     "input": [
      "tbdata = hdulist[1].data"
     ],
     "language": "python",
     "prompt_number": 29
    },
    {
     "cell_type": "code",
     "execution_count": null,
     "metadata": {},
     "outputs": [
      {
       "output_type": "pyout",
       "prompt_number": 30,
       "text": [
        "array([ 1,  2,  3,  4,  5,  6,  7,  8,  9, 10, 11, 12], dtype=int16)"
       ],
       "metadata": {}
      }
     ],
     "input": [
      "tbdata.field(0)"
     ],
     "language": "python",
     "prompt_number": 30
    },
    {
     "cell_type": "code",
     "execution_count": null,
     "metadata": {},
     "outputs": [
      {
       "output_type": "pyout",
       "prompt_number": 31,
       "text": [
        "array([ 1,  2,  3,  4,  5,  6,  7,  8,  9, 10, 11, 12], dtype=int16)"
       ],
       "metadata": {}
      }
     ],
     "input": [
      "a=tbdata.field(0)\n",
      "a"
     ],
     "language": "python",
     "prompt_number": 31
    },
    {
     "cell_type": "code",
     "execution_count": null,
     "metadata": {},
     "outputs": [
      {
       "output_type": "stream",
       "stream": "stdout",
       "text": [
        "[ 1  2  3  4  5  6  7  8  9 10 11 12]\n"
       ]
      }
     ],
     "input": [
      "print a"
     ],
     "language": "python",
     "prompt_number": 32
    },
    {
     "cell_type": "code",
     "execution_count": null,
     "metadata": {},
     "outputs": [],
     "input": [
      "a=tbdata.field(4)"
     ],
     "language": "python",
     "prompt_number": 33
    },
    {
     "cell_type": "code",
     "execution_count": null,
     "metadata": {},
     "outputs": [],
     "input": [
      "cols = hdulist[1].columns"
     ],
     "language": "python",
     "prompt_number": 34
    },
    {
     "cell_type": "code",
     "execution_count": null,
     "metadata": {},
     "outputs": [
      {
       "output_type": "stream",
       "stream": "stdout",
       "text": [
        "ColDefs(\n",
        "    name = 'SPEC_NUM'; format = '1I'; null = 0\n",
        "    name = 'TG_M'; format = '1I'; null = 99\n",
        "    name = 'TG_PART'; format = '1I'\n",
        "    name = 'TG_SRCID'; format = '1I'; null = 0\n",
        "    name = 'X'; format = '1E'; unit = 'pixel'\n",
        "    name = 'Y'; format = '1E'; unit = 'pixel'\n",
        "    name = 'CHANNEL'; format = '8192I'; null = 0\n",
        "    name = 'COUNTS'; format = '8192I'; unit = 'count'; null = -1\n",
        "    name = 'STAT_ERR'; format = '8192E'; unit = 'count'\n",
        "    name = 'BACKGROUND_UP'; format = '8192I'; unit = 'count'; null = -1\n",
        "    name = 'BACKGROUND_DOWN'; format = '8192I'; unit = 'count'; null = -1\n",
        "    name = 'BIN_LO'; format = '8192D'; unit = 'angstrom'\n",
        "    name = 'BIN_HI'; format = '8192D'; unit = 'angstrom'\n",
        ")\n"
       ]
      }
     ],
     "input": [
      "print cols"
     ],
     "language": "python",
     "prompt_number": 35
    },
    {
     "cell_type": "code",
     "execution_count": null,
     "metadata": {},
     "outputs": [
      {
       "output_type": "display_data",
       "png": "[encoded data removed]",
       "text": [
        "<matplotlib.figure.Figure at 0x10662fd90>"
       ],
       "metadata": {}
      }
     ],
     "input": [
      "counts=tbdata.field('COUNTS')\n",
      "counts.shape\n",
      "y=counts[3]\n",
      "bin_lo=tbdata.field('BIN_LO')\n",
      "x=bin_lo[3]\n",
      "staterr=tbdata.field('STAT_ERR')\n",
      "yerr=staterr[3]\n",
      "\n",
      "orders=array([-3,-2,-1,1,2,3,-3,-2,-1,1,2,3])\n",
      "order=1\n",
      "ind=where(abs(orders)==order)\n",
      "ind=ind[0]\n",
      "indh=ind[0:2]\n",
      "indm=ind[2:4]\n",
      "\n",
      "xmin=4.65 # min wavelength\n",
      "xmax=4.8 # max wavelength\n",
      "\n",
      "fig=plt.figure(figsize=(12, 6))\n",
      "ax=fig.add_subplot(1,2,1) # 1 row, 2 columns, first plot\n",
      "ax.set_xlim([xmin,xmax])\n",
      "#ax.set_ylim([0,130])\n",
      "#ax.plot(x,y/ontime)\n",
      "for i in indh:\n",
      "    plt.errorbar(bin_lo[i], (counts[i]), yerr=staterr[i])\n",
      "ax=fig.add_subplot(1,2,2)\n",
      "ax.set_xlim([xmin,xmax])\n",
      "for i in indm:\n",
      "    plt.errorbar(bin_lo[i], (counts[i]), yerr=staterr[i])\n",
      "plt.show()"
     ],
     "language": "python",
     "prompt_number": 36
    },
    {
     "cell_type": "markdown",
     "metadata": {},
     "source": [
      "<hr>"
     ]
    },
    {
     "cell_type": "code",
     "execution_count": null,
     "metadata": {},
     "outputs": [
      {
       "output_type": "display_data",
       "png": "[encoded data removed]",
       "text": [
        "<matplotlib.figure.Figure at 0x1069e9a90>"
       ],
       "metadata": {}
      }
     ],
     "input": [
      "import matplotlib.patches as patches\n",
      "import matplotlib.transforms as transforms\n",
      "\n",
      "fig = plt.figure()\n",
      "ax = fig.add_subplot(111)\n",
      "\n",
      "x = np.random.randn(1000)\n",
      "\n",
      "ax.hist(x, 30)\n",
      "ax.set_title(r'$\\sigma=1 \\/ \\dots \\/ \\sigma=2$', fontsize=16)\n",
      "\n",
      "# the x coords of this transformation are data, and the\n",
      "# y coord are axes\n",
      "trans = transforms.blended_transform_factory(\n",
      "    ax.transData, ax.transAxes)\n",
      "\n",
      "# highlight the 1..2 stddev region with a span.\n",
      "# We want x to be in data coordinates and y to\n",
      "# span from 0..1 in axes coords\n",
      "rect = patches.Rectangle((1,0), width=1, height=1,\n",
      "                         transform=trans, color='yellow',\n",
      "                         alpha=0.5)\n",
      "ax.set_xlim([-5,5])\n",
      "\n",
      "ax.add_patch(rect)\n",
      "\n",
      "plt.show()"
     ],
     "language": "python",
     "prompt_number": 37
    },
    {
     "cell_type": "code",
     "execution_count": null,
     "metadata": {},
     "outputs": [
      {
       "output_type": "stream",
       "stream": "stdout",
       "text": [
        "(array([0, 2]),)\n"
       ]
      }
     ],
     "input": [
      "a = array([3,5,-3,9])\n",
      "b=where(abs(a)==3)\n",
      "print b"
     ],
     "language": "python",
     "prompt_number": 38
    },
    {
     "cell_type": "code",
     "execution_count": null,
     "metadata": {},
     "outputs": [
      {
       "output_type": "pyout",
       "prompt_number": 47,
       "text": [
        "9"
       ],
       "metadata": {}
      }
     ],
     "input": [
      "len(arange(1,10))"
     ],
     "language": "python",
     "prompt_number": 47
    },
    {
     "cell_type": "markdown",
     "metadata": {},
     "source": [
      "<hr>\n",
      "Implementation of a Switch (idl=\"case\") statement in Python\n",
      "==="
     ]
    },
    {
     "cell_type": "code",
     "execution_count": null,
     "metadata": {},
     "outputs": [
      {
       "output_type": "stream",
       "stream": "stdout",
       "text": [
        "10\n",
        "something else!\n"
       ]
      }
     ],
     "input": [
      "#\n",
      "# see http://code.activestate.com/recipes/410692/ for a readable switch (i.e. \"case\") statement in python\n",
      "#\n",
      "# This class provides the functionality we want. You only need to look at\n",
      "# this if you want to know how this works. It only needs to be defined\n",
      "# once, no need to muck around with its internals.\n",
      "class switch(object):\n",
      "    def __init__(self, value):\n",
      "        self.value = value\n",
      "        self.fall = False\n",
      "    def __iter__(self):\n",
      "            \"\"\"Return the match method once, then stop\"\"\"\n",
      "            yield self.match\n",
      "            raise StopIteration\n",
      "\n",
      "    def match(self, *args):\n",
      "        \"\"\"Indicate whether or not to enter a case suite\"\"\"\n",
      "        if self.fall or not args:\n",
      "            return True\n",
      "        elif self.value in args: # changed for v1.5, see below\n",
      "            self.fall = True\n",
      "            return True\n",
      "        else:\n",
      "            return False\n",
      "\"\"\" The following example is pretty much the exact use-case of a dictionary,\n",
      " but is included for its simplicity. Note that you can include statements\n",
      " in each suite.\"\"\"\n",
      "bcd='asfd      bgc    kdes'\n",
      "i=bcd.find('bgc')\n",
      "print i\n",
      "for case in switch(i<10):\n",
      "    if case(10):\n",
      "        print 'ok'\n",
      "        break\n",
      "    if case('two'):\n",
      "        print 2\n",
      "    if case(): # default, could also just omit condition or 'if True'\n",
      "        print \"something else!\""
     ],
     "language": "python",
     "prompt_number": 40
    },
    {
     "cell_type": "code",
     "execution_count": null,
     "metadata": {},
     "outputs": [
      {
       "output_type": "pyout",
       "prompt_number": 41,
       "text": [
        "('/tmp/caldb.indx', <httplib.HTTPMessage instance at 0x1066ad0e0>)"
       ],
       "metadata": {}
      }
     ],
     "input": [
      "import urllib\n",
      "cifurl=\"http://heasarc.gsfc.nasa.gov/FTP/caldb/data/fermi/lat/caldb.indx\"\n",
      "urllib.urlretrieve(cifurl,\"/tmp/caldb.indx\")"
     ],
     "language": "python",
     "prompt_number": 41
    },
    {
     "cell_type": "markdown",
     "metadata": {},
     "source": [
      "<hr>\n",
      "LAT Event Class Bitmask function\n",
      "========\n",
      "\n",
      "LAT event classes are bit encoded in pass 7 (and pass 8).  A given event can be acceptable in one or more event selections (\"source\", \"clean\", etc) and thus can have more than one IRF associated with it.  The user will specify a class (\"source\", \"transient\" etc) appropriate for their analysis.  GTSELECT determines which events are appropriate using the BIT_MASK function described below by Jim Chiang:\n",
      "\n",
      "<pre>\n",
      "Hi Mike,\n",
      "\n",
      "The currently implemented meaning is\n",
      "\n",
      "BIT_MASK(EVENT_CLASS, 3) = EVENT_CLASS & (1 << 3)\n",
      "\n",
      "When this is non-zero, the event is accepted.\n",
      "\n",
      "-Jim\n",
      "\n",
      "</pre>\n",
      "\n",
      "the definition of the event class selection value, from fhelp for gtselect:\n",
      "\n",
      "    (evclass) [integer] \n",
      "         Event class selection for pass 7 data. The \n",
      "         default is 2 (source class). Other values are 0 for transient\n",
      "         data, 3 for the clean data class and 4 for the ultraclean data\n",
      "         class. 1 is currently unused. \n",
      "\n",
      "The appropriate IRF is determined from the irf_index.fits file in the CALDB.\n",
      "\n",
      "From irf_index.fits:\n",
      "\n",
      "<table>\n",
      "    <tr><td>Event Class  </td><td> BITPOSITION</td>\n",
      "    <tr><td> P7TRANSIENT_V6 </td><td> 0          </td>\n",
      "    <tr><td> P7SOURCE_V6    </td><td> 2          </td>\n",
      "    <tr><td> P7CLEAN_V6     </td><td> 3          </td>\n",
      "    <tr><td> P7ULTRACLEAN_V6</td><td> 4          </td>\n",
      "   </table>\n"
     ]
    },
    {
     "cell_type": "code",
     "execution_count": null,
     "metadata": {},
     "outputs": [
      {
       "output_type": "stream",
       "stream": "stdout",
       "text": [
        "Bitmask =  16384\n",
        "Event Acceptable for this selection criterion\n"
       ]
      }
     ],
     "input": [
      "def bit_mask(event_class, evselection):\n",
      "    selection=event_class & (1 << evselection)\n",
      "    return selection\n",
      "\n",
      "event_class=65311\n",
      "evselection=14\n",
      "print \"Bitmask = \",bit_mask(event_class,evselection)\n",
      "if bit_mask(event_class,evselection) > 0:\n",
      "    print \"Event Acceptable for this selection criterion\"\n",
      "else:\n",
      "    print \"Event Not Acceptable for this selection criterion\""
     ],
     "language": "python",
     "prompt_number": 42
    },
    {
     "cell_type": "markdown",
     "metadata": {},
     "source": [
      "<hr>"
     ]
    },
    {
     "cell_type": "code",
     "execution_count": null,
     "metadata": {},
     "outputs": [
      {
       "output_type": "stream",
       "stream": "stdout",
       "text": [
        "found 5\n"
       ]
      }
     ],
     "input": [
      "a='theta<10'\n",
      "b=a.find(\"<\")\n",
      "if (b>=0):\n",
      "    print \"found\",b"
     ],
     "language": "python",
     "prompt_number": 43
    },
    {
     "cell_type": "code",
     "execution_count": null,
     "metadata": {},
     "outputs": [
      {
       "ename": "TypeError",
       "evalue": "list indices must be integers, not tuple",
       "output_type": "pyerr",
       "traceback": [
        "\u001b[0;31m---------------------------------------------------------------------------\u001b[0m\n\u001b[0;31mTypeError\u001b[0m                                 Traceback (most recent call last)",
        "\u001b[0;32m<ipython-input-44-dadf749d4b33>\u001b[0m in \u001b[0;36m<module>\u001b[0;34m()\u001b[0m\n\u001b[0;32m----> 1\u001b[0;31m \u001b[0mbnd\u001b[0m\u001b[0;34m=\u001b[0m\u001b[0;34m[\u001b[0m\u001b[0;34m[\u001b[0m\u001b[0;34m'theta=100'\u001b[0m\u001b[0;34m,\u001b[0m\u001b[0;34m'phi=200'\u001b[0m\u001b[0;34m,\u001b[0m\u001b[0;34m'version=latest'\u001b[0m\u001b[0;34m]\u001b[0m\u001b[0;34m[\u001b[0m\u001b[0;34m'theta=10'\u001b[0m\u001b[0;34m,\u001b[0m\u001b[0;34m'phi=20'\u001b[0m\u001b[0;34m,\u001b[0m\u001b[0;34m'version=latest'\u001b[0m\u001b[0;34m]\u001b[0m\u001b[0;34m]\u001b[0m\u001b[0;34m\u001b[0m\u001b[0m\n\u001b[0m\u001b[1;32m      2\u001b[0m \u001b[0;32mprint\u001b[0m \u001b[0mlen\u001b[0m\u001b[0;34m(\u001b[0m\u001b[0mbnd\u001b[0m\u001b[0;34m)\u001b[0m\u001b[0;34m\u001b[0m\u001b[0m\n",
        "\u001b[0;31mTypeError\u001b[0m: list indices must be integers, not tuple"
       ]
      }
     ],
     "input": [
      "bnd=[['theta=100','phi=200','version=latest']['theta=10','phi=20','version=latest']]\n",
      "print len(bnd)"
     ],
     "language": "python",
     "prompt_number": 44
    },
    {
     "cell_type": "code",
     "execution_count": null,
     "metadata": {},
     "outputs": [],
     "input": [
      "dict(a=\"happy\", b=\"sad\")"
     ],
     "language": "python"
    },
    {
     "cell_type": "code",
     "execution_count": null,
     "metadata": {},
     "outputs": [],
     "input": [
      "a=[\"theta+10\",\"phi=20\"]\n",
      "try:\n",
      "    b=a[0].split(\"+\")[1]\n",
      "    print \"found +\"\n",
      "except:\n",
      "    print \"+ not found\"\n",
      "b"
     ],
     "language": "python"
    },
    {
     "cell_type": "code",
     "execution_count": null,
     "metadata": {},
     "outputs": [],
     "input": [
      "test=np.matrix([ ['VERSION(P6_V1_DIFFUSE)', 'CLASS(P6_v1_diff_front)'], ['ENERG(18-560000)MeV', 'CTHETA(0.2-1)'] ])"
     ],
     "language": "python"
    },
    {
     "cell_type": "code",
     "execution_count": null,
     "metadata": {},
     "outputs": [],
     "input": [
      "test.shape"
     ],
     "language": "python"
    },
    {
     "cell_type": "code",
     "execution_count": null,
     "metadata": {},
     "outputs": [],
     "input": [
      "for i in arange(4):\n",
      "    print i"
     ],
     "language": "python"
    },
    {
     "cell_type": "code",
     "execution_count": null,
     "metadata": {},
     "outputs": [],
     "input": [
      "pwd"
     ],
     "language": "python"
    },
    {
     "cell_type": "markdown",
     "metadata": {},
     "source": [
      "<hr> \n",
      "<h2> Reading and plotting velocities from ISIS analysis of Eta Car Chandra Data<h2>\n",
      "\n",
      "<h4>(See /Users/corcoran/research/ETA_CAR/CHANDRA2/repro/seqid/get_sixiv_vels.csh for example of generating the list of velocities for the Si XIV line)\n"
     ]
    },
    {
     "cell_type": "code",
     "execution_count": null,
     "metadata": {},
     "outputs": [],
     "input": [
      "vsixiv=open(\"/Users/corcoran/research/ETA_CAR/CHANDRA2/repro/seqid/get_sixiv_vels.out\",\"r\")\n",
      "v=vsixiv.read()\n",
      "vsixiv.close()\n",
      "print v"
     ],
     "language": "python"
    },
    {
     "cell_type": "code",
     "execution_count": null,
     "metadata": {},
     "outputs": [],
     "input": [
      "b=v.split(\"\\n\")\n",
      "print b[0]\n",
      "c=b[0].split(\"=\")\n",
      "print c[1]\n",
      "d=c[1].split('(')\n",
      "print d[0]\n",
      "e=d[1].split(',')\n",
      "\n",
      "e[0]\n",
      "e[1].split(')')[0]"
     ],
     "language": "python"
    },
    {
     "cell_type": "code",
     "execution_count": null,
     "metadata": {},
     "outputs": [],
     "input": [
      "def parse_v(vtxt):\n",
      "    \"\"\" given text of the form \n",
      "    200215/isis/h_diagnostics/SiXIV/SiXIV_output.txt:V(K1) = -556.461 (-605.824,-509.619)\n",
      "    (as produced by /Users/corcoran/research/ETA_CAR/CHANDRA2/repro/seqid/get_sixiv_vels.csh)\n",
      "    parses each line and returns the velocity along with plus and minus error bars\n",
      "    \"\"\"\n",
      "    seq=vtxt[0:6]\n",
      "    b=vtxt.split(\"=\")\n",
      "    c=b[1].split(\"(\")\n",
      "    v=float(c[0])\n",
      "    d=c[1].split(',')\n",
      "    minus_error=v-float(d[0])\n",
      "    plus_error=float(d[1].split(')')[0])-v\n",
      "    return seq, v, minus_error, plus_error"
     ],
     "language": "python"
    },
    {
     "cell_type": "code",
     "execution_count": null,
     "metadata": {},
     "outputs": [],
     "input": [
      "seq, v1, m1, p1 = parse_v(\"200218/isis/h_diagnostics/SiXIV/SiXIV_output.txt:V(K1) = -716.919 (-773.221,-652.865)\")\n",
      "print b[2]\n",
      "print v1\n",
      "print m1\n",
      "print p1\n",
      "print seq"
     ],
     "language": "python"
    },
    {
     "cell_type": "code",
     "execution_count": null,
     "metadata": {},
     "outputs": [],
     "input": [
      "v=[] \n",
      "merror=[]\n",
      "perror=[]\n",
      "seq=[]\n",
      "for i in arange(len(b)-1):\n",
      "    s,v1,m1,p1=parse_v(b[i])\n",
      "    seq.append(s)\n",
      "    v.append(v1)\n",
      "    merror.append(m1)\n",
      "    perror.append(p1)"
     ],
     "language": "python"
    },
    {
     "cell_type": "code",
     "execution_count": null,
     "metadata": {},
     "outputs": [],
     "input": [
      "obsinfofile=open(\"/Users/corcoran/research/ETA_CAR/CHANDRA2/Observation_Info.txt\",\"r\")\n",
      "obs=obsinfofile.read()\n",
      "obsinfofile.close()\n",
      "b=obs.split(\"\\n\")\n",
      "cols=b[0]\n",
      "b=b[1:] # strip off header\n",
      "oseq=[] \n",
      "ojd=[]\n",
      "ophi=[]\n",
      "otime=[]\n",
      "for i in range(len(b)-1):\n",
      "    c=b[i].split()\n",
      "    oseq.append(c[0])\n",
      "    ojd.append(float(c[1]))\n",
      "    ophi.append(float(c[2]))\n",
      "    otime.append(c[3])\n",
      "jd=[]\n",
      "phi=[]\n",
      "for s in seq:\n",
      "    try:\n",
      "        i=oseq.index(s)\n",
      "        jd.append(ojd[i])\n",
      "        phi.append(ophi[i])\n",
      "    except ValueError:\n",
      "        print s+\" NOT IN OSEQ\"\n",
      "        jd.append(-99)\n",
      "        phi.append(-99)\n",
      "\n",
      "    print \"Index\", i"
     ],
     "language": "python"
    },
    {
     "cell_type": "code",
     "execution_count": null,
     "metadata": {},
     "outputs": [],
     "input": [
      "print oseq"
     ],
     "language": "python"
    },
    {
     "cell_type": "code",
     "execution_count": null,
     "metadata": {},
     "outputs": [],
     "input": [
      "print otime"
     ],
     "language": "python"
    },
    {
     "cell_type": "code",
     "execution_count": null,
     "metadata": {},
     "outputs": [],
     "input": [
      "p=np.asarray(phi)\n",
      "cyc0=where((floor(p-0.5))==0)\n",
      "cyc0=cyc0[0]\n",
      "print cyc0\n",
      "cyc1=where(floor(p-0.5)==1)\n",
      "cyc1=cyc1[0]\n",
      "print cyc1\n",
      "cyc2=where(floor(p-0.5)==2)\n",
      "cyc2=cyc2[0]\n",
      "print cyc2"
     ],
     "language": "python"
    },
    {
     "cell_type": "code",
     "execution_count": null,
     "metadata": {},
     "outputs": [],
     "input": [
      "fig=figure()\n",
      "axes = fig.add_axes([0.1, 0.1, 0.8, 0.8])\n",
      "x=phi-floor(phi)\n",
      "axes.set_ylim([-600,200])\n",
      "axes.set_xlim([-0.1,1.1])\n",
      "axes.errorbar(x, v, yerr=[merror, perror], fmt='o')\n",
      "axes.plot(x[cyc1], np.asarray(v)[cyc1], 'ro') # need to convert v from a list to a numpy array"
     ],
     "language": "python"
    },
    {
     "cell_type": "code",
     "execution_count": null,
     "metadata": {},
     "outputs": [],
     "input": [
      "for i in  range(len(phi)):\n",
      "   # if phi[i]>0: \n",
      "        print seq[i],phi[i],x[i],floor(phi[i]-0.5),otime[i],v[i]"
     ],
     "language": "python"
    },
    {
     "cell_type": "code",
     "execution_count": null,
     "metadata": {},
     "outputs": [],
     "input": [
      "seq"
     ],
     "language": "python"
    },
    {
     "cell_type": "code",
     "execution_count": null,
     "metadata": {},
     "outputs": [],
     "input": [
      "otime"
     ],
     "language": "python"
    },
    {
     "cell_type": "code",
     "execution_count": null,
     "metadata": {},
     "outputs": [],
     "input": [
      "for i in range(len(phi)):\n",
      "    print seq[i], jd[i], phi[i], v[i]"
     ],
     "language": "python"
    },
    {
     "cell_type": "code",
     "execution_count": null,
     "metadata": {},
     "outputs": [],
     "input": [
      "import igor"
     ],
     "language": "python"
    },
    {
     "cell_type": "code",
     "execution_count": null,
     "metadata": {},
     "outputs": [],
     "input": [
      "import os\n",
      "print os.environ['DYLD_LIBRARY_PATH']"
     ],
     "language": "python"
    },
    {
     "cell_type": "code",
     "execution_count": null,
     "metadata": {},
     "outputs": [],
     "input": [
      "import numpy as np\n",
      "import matplotlib.pyplot as plt\n",
      "\n",
      "plt.bar(xrange(5), [2,5,3,4,7], yerr=[[1,4,2,3,6],[4,10,6,8,14]]) #DO NOT work!"
     ],
     "language": "python"
    },
    {
     "cell_type": "code",
     "execution_count": null,
     "metadata": {},
     "outputs": [],
     "input": [
      "import matplotlib.pyplot as plt\n",
      "from numpy.random import random\n",
      "\n",
      "colors = ['b', 'c', 'y', 'm', 'r']\n",
      "\n",
      "lo = plt.scatter(random(10), random(10), marker='x', color=colors[0])\n",
      "ll = plt.scatter(random(10), random(10), marker='o', color=colors[0])\n",
      "l  = plt.scatter(random(10), random(10), marker='o', color=colors[1])\n",
      "a  = plt.scatter(random(10), random(10), marker='o', color=colors[2])\n",
      "h  = plt.scatter(random(10), random(10), marker='o', color=colors[3])\n",
      "hh = plt.scatter(random(10), random(10), marker='o', color=colors[4])\n",
      "ho = plt.scatter(random(10), random(10), marker='x', color=colors[4])\n",
      "\n",
      "plt.legend((lo, ll, l, a, h, hh, ho),\n",
      "           ('Low Outlier', 'LoLo', 'Lo', 'Average', 'Hi', 'HiHi', 'High Outlier'),\n",
      "           scatterpoints=1,\n",
      "           loc='lower left',\n",
      "           ncol=3,\n",
      "           fontsize=8)\n",
      "\n",
      "plt.show()"
     ],
     "language": "python"
    },
    {
     "cell_type": "code",
     "execution_count": null,
     "metadata": {},
     "outputs": [],
     "input": [
      "plt.scatter([1,2,3], [1,2,3], marker='o', label=' 1')\n",
      "plt.scatter([1,2,3], [1,4,9], marker='x',  label=' 2')\n",
      "legend(scatterpoints=1)\n",
      "show()"
     ],
     "language": "python"
    },
    {
     "cell_type": "code",
     "execution_count": null,
     "metadata": {},
     "outputs": [
      {
       "output_type": "stream",
       "stream": "stdout",
       "text": [
        "BayesianStats.ipynb                 Mean Molecular Weight.ipynb         event_class test.ipynb              statistics.ipynb\r\n",
        "CALDB sandbox.ipynb                 Swift Cycle 10 proposal.ipynb       pycaldb.ipynb\r\n",
        "Eta Car HETGS velocity plots.ipynb  delta_ori.ipynb                     sandbox.ipynb\r\n"
       ]
      }
     ],
     "input": [
      "ls"
     ],
     "language": "python",
     "prompt_number": 49
    },
    {
     "cell_type": "code",
     "execution_count": null,
     "metadata": {},
     "outputs": [],
     "input": [
      "files=!ls"
     ],
     "language": "python",
     "prompt_number": 54
    },
    {
     "cell_type": "code",
     "execution_count": null,
     "metadata": {},
     "outputs": [
      {
       "output_type": "stream",
       "stream": "stdout",
       "text": [
        "['BayesianStats.ipynb', 'CALDB sandbox.ipynb', 'Eta Car HETGS velocity plots.ipynb', 'Mean Molecular Weight.ipynb', 'Swift Cycle 10 proposal.ipynb', 'delta_ori.ipynb', 'event_class test.ipynb', 'pycaldb.ipynb', 'sandbox.ipynb', 'statistics.ipynb']\n"
       ]
      }
     ],
     "input": [
      "print files"
     ],
     "language": "python",
     "prompt_number": 55
    },
    {
     "cell_type": "markdown",
     "metadata": {},
     "source": [
      "<hr>\n",
      "<h2>Using Sympy</h2>"
     ]
    },
    {
     "cell_type": "code",
     "execution_count": null,
     "metadata": {},
     "outputs": [
      {
       "output_type": "pyout",
       "prompt_number": 58,
       "text": [
        "x**3 + 3*x**2*y + 3*x*y**2 + y**3"
       ],
       "metadata": {}
      }
     ],
     "input": [
      "from sympy import *\n",
      "x, y, z, t = symbols('x y z t')\n",
      "expr=(x+y)**3\n",
      "expand(expr)"
     ],
     "language": "python",
     "prompt_number": 58
    },
    {
     "cell_type": "code",
     "execution_count": null,
     "metadata": {},
     "outputs": [
      {
       "output_type": "pyout",
       "prompt_number": 65,
       "text": [
        "<Container object of 3 artists>"
       ],
       "metadata": {}
      },
      {
       "output_type": "display_data",
       "png": "[encoded data removed]",
       "text": [
        "<matplotlib.figure.Figure at 0x1085f8610>"
       ],
       "metadata": {}
      }
     ],
     "input": [
      "fig=plt.figure(figsize=(12, 6))\n",
      "errorbar(arange(10),arange(10),yerr=np.zeros(10)+1, fmt='ro')"
     ],
     "language": "python",
     "prompt_number": 65
    },
    {
     "cell_type": "code",
     "execution_count": null,
     "metadata": {},
     "outputs": [
      {
       "output_type": "stream",
       "stream": "stdout",
       "text": [
        "-3.600000, +4.900000\n"
       ]
      }
     ],
     "input": [
      "maxb=4+2.3+5+2.6\n",
      "maxb\n",
      "minb=4-1.7+5-1.9\n",
      "print \"-%f, +%f\" %(9-minb, maxb-9)"
     ],
     "language": "python",
     "prompt_number": 6
    },
    {
     "cell_type": "code",
     "execution_count": null,
     "metadata": {},
     "outputs": [
      {
       "output_type": "pyout",
       "prompt_number": 2,
       "text": [
        "12.3"
       ],
       "metadata": {}
      }
     ],
     "input": [
      "9+3.3"
     ],
     "language": "python",
     "prompt_number": 2
    },
    {
     "cell_type": "markdown",
     "metadata": {},
     "source": [
      "----"
     ]
    },
    {
     "cell_type": "code",
     "execution_count": null,
     "metadata": {},
     "outputs": [
      {
       "output_type": "stream",
       "stream": "stdout",
       "text": [
        "['',\n",
        " '/Users/corcoran/bin/anaconda/lib/python2.7/site-packages/pyobjc_core-2.5.1-py2.7-macosx-10.5-x86_64.egg',\n",
        " '/Users/corcoran/bin/anaconda/lib/python2.7/site-packages/pyobjc-2.5.1-py2.7.egg',\n",
        " '/Users/corcoran/bin/anaconda/lib/python2.7/site-packages/pyobjc_framework_Social-2.5.1-py2.7.egg',\n",
        " '/Users/corcoran/bin/anaconda/lib/python2.7/site-packages/pyobjc_framework_EventKit-2.5.1-py2.7.egg',\n",
        " '/Users/corcoran/bin/anaconda/lib/python2.7/site-packages/pyobjc_framework_Accounts-2.5.1-py2.7.egg',\n",
        " '/Users/corcoran/bin/anaconda/lib/python2.7/site-packages/pyobjc_framework_ServiceManagement-2.5.1-py2.7.egg',\n",
        " '/Users/corcoran/bin/anaconda/lib/python2.7/site-packages/pyobjc_framework_ServerNotification-2.5.1-py2.7.egg',\n",
        " '/Users/corcoran/bin/anaconda/lib/python2.7/site-packages/pyobjc_framework_CoreLocation-2.5.1-py2.7-macosx-10.5-x86_64.egg',\n",
        " '/Users/corcoran/bin/anaconda/lib/python2.7/site-packages/pyobjc_framework_AppleScriptObjC-2.5.1-py2.7.egg',\n",
        " '/Users/corcoran/bin/anaconda/lib/python2.7/site-packages/pyobjc_framework_ScriptingBridge-2.5.1-py2.7-macosx-10.5-x86_64.egg',\n",
        " '/Users/corcoran/bin/anaconda/lib/python2.7/site-packages/pyobjc_framework_QTKit-2.5.1-py2.7.egg',\n",
        " '/Users/corcoran/bin/anaconda/lib/python2.7/site-packages/pyobjc_framework_PubSub-2.5.1-py2.7.egg',\n",
        " '/Users/corcoran/bin/anaconda/lib/python2.7/site-packages/pyobjc_framework_InstantMessage-2.5.1-py2.7.egg',\n",
        " '/Users/corcoran/bin/anaconda/lib/python2.7/site-packages/pyobjc_framework_InputMethodKit-2.5.1-py2.7-macosx-10.5-x86_64.egg',\n",
        " '/Users/corcoran/bin/anaconda/lib/python2.7/site-packages/pyobjc_framework_DictionaryServices-2.5.1-py2.7.egg',\n",
        " '/Users/corcoran/bin/anaconda/lib/python2.7/site-packages/pyobjc_framework_Collaboration-2.5.1-py2.7.egg',\n",
        " '/Users/corcoran/bin/anaconda/lib/python2.7/site-packages/pyobjc_framework_CalendarStore-2.5.1-py2.7.egg',\n",
        " '/Users/corcoran/bin/anaconda/lib/python2.7/site-packages/pyobjc_framework_WebKit-2.5.1-py2.7-macosx-10.5-x86_64.egg',\n",
        " '/Users/corcoran/bin/anaconda/lib/python2.7/site-packages/pyobjc_framework_SystemConfiguration-2.5.1-py2.7-macosx-10.5-x86_64.egg',\n",
        " '/Users/corcoran/bin/anaconda/lib/python2.7/site-packages/pyobjc_framework_SyncServices-2.5.1-py2.7-macosx-10.5-x86_64.egg',\n",
        " '/Users/corcoran/bin/anaconda/lib/python2.7/site-packages/pyobjc_framework_SearchKit-2.5.1-py2.7.egg',\n",
        " '/Users/corcoran/bin/anaconda/lib/python2.7/site-packages/pyobjc_framework_ScreenSaver-2.5.1-py2.7-macosx-10.5-x86_64.egg',\n",
        " '/Users/corcoran/bin/anaconda/lib/python2.7/site-packages/pyobjc_framework_Quartz-2.5.1-py2.7-macosx-10.5-x86_64.egg',\n",
        " '/Users/corcoran/bin/anaconda/lib/python2.7/site-packages/pyobjc_framework_PreferencePanes-2.5.1-py2.7.egg',\n",
        " '/Users/corcoran/bin/anaconda/lib/python2.7/site-packages/pyobjc_framework_Message-2.5.1-py2.7.egg',\n",
        " '/Users/corcoran/bin/anaconda/lib/python2.7/site-packages/pyobjc_framework_LaunchServices-2.5.1-py2.7.egg',\n",
        " '/Users/corcoran/bin/anaconda/lib/python2.7/site-packages/pyobjc_framework_LatentSemanticMapping-2.5.1-py2.7.egg',\n",
        " '/Users/corcoran/bin/anaconda/lib/python2.7/site-packages/pyobjc_framework_InstallerPlugins-2.5.1-py2.7.egg',\n",
        " '/Users/corcoran/bin/anaconda/lib/python2.7/site-packages/pyobjc_framework_FSEvents-2.5.1-py2.7-macosx-10.5-x86_64.egg',\n",
        " '/Users/corcoran/bin/anaconda/lib/python2.7/site-packages/pyobjc_framework_ExceptionHandling-2.5.1-py2.7.egg',\n",
        " '/Users/corcoran/bin/anaconda/lib/python2.7/site-packages/pyobjc_framework_CoreText-2.5.1-py2.7-macosx-10.5-x86_64.egg',\n",
        " '/Users/corcoran/bin/anaconda/lib/python2.7/site-packages/pyobjc_framework_CoreData-2.5.1-py2.7.egg',\n",
        " '/Users/corcoran/bin/anaconda/lib/python2.7/site-packages/pyobjc_framework_Cocoa-2.5.1-py2.7-macosx-10.5-x86_64.egg',\n",
        " '/Users/corcoran/bin/anaconda/lib/python2.7/site-packages/pyobjc_framework_CFNetwork-2.5.1-py2.7-macosx-10.5-x86_64.egg',\n",
        " '/Users/corcoran/bin/anaconda/lib/python2.7/site-packages/pyobjc_framework_Automator-2.5.1-py2.7.egg',\n",
        " '/Users/corcoran/bin/anaconda/lib/python2.7/site-packages/pyobjc_framework_AppleScriptKit-2.5.1-py2.7.egg',\n",
        " '/Users/corcoran/bin/anaconda/lib/python2.7/site-packages/pyobjc_framework_AddressBook-2.5.1-py2.7-macosx-10.5-x86_64.egg',\n",
        " '/Users/corcoran/bin/anaconda/lib/python2.7/site-packages/wx-1.0.0-py2.7.egg',\n",
        " '/Users/corcoran/bin/anaconda/lib/python2.7/site-packages/xlutils-1.6.0-py2.7.egg',\n",
        " '/Users/corcoran/bin/anaconda/lib/python2.7/site-packages',\n",
        " '/software/heasoft/headas/setup/lib/python',\n",
        " '/software/heasoft/headas/setup/lib',\n",
        " '/Users/corcoran/bin/anaconda/lib/python27.zip',\n",
        " '/Users/corcoran/bin/anaconda/lib/python2.7',\n",
        " '/Users/corcoran/bin/anaconda/lib/python2.7/plat-darwin',\n",
        " '/Users/corcoran/bin/anaconda/lib/python2.7/plat-mac',\n",
        " '/Users/corcoran/bin/anaconda/lib/python2.7/plat-mac/lib-scriptpackages',\n",
        " '/Users/corcoran/bin/anaconda/lib/python2.7/lib-tk',\n",
        " '/Users/corcoran/bin/anaconda/lib/python2.7/lib-old',\n",
        " '/Users/corcoran/bin/anaconda/lib/python2.7/lib-dynload',\n",
        " '/Users/corcoran/bin/anaconda/lib/python2.7/site-packages/PIL',\n",
        " '/Users/corcoran/bin/anaconda/lib/python2.7/site-packages/setuptools-0.6c11-py2.7.egg-info',\n",
        " '/Users/corcoran/bin/anaconda/lib/python2.7/site-packages/IPython/extensions']\n"
       ]
      }
     ],
     "input": [
      "import sys\n",
      "from pprint import pprint as pp\n",
      "pp(sys.path)"
     ],
     "language": "python",
     "prompt_number": 2
    },
    {
     "cell_type": "markdown",
     "metadata": {},
     "source": [
      "<hr>\n",
      "<h2>Lomb-Scargle Periodogram Analysis example</h2>\n",
      "Use for unevenly sampled data\n",
      "<hr>"
     ]
    },
    {
     "cell_type": "code",
     "execution_count": null,
     "metadata": {},
     "outputs": [
      {
       "output_type": "display_data",
       "png": "[encoded data removed]",
       "text": [
        "<matplotlib.figure.Figure at 0x107aeafd0>"
       ],
       "metadata": {}
      }
     ],
     "input": [
      "# see\n",
      "# http://docs.scipy.org/doc/scipy-dev/reference/generated/scipy.signal.periodogram.html\n",
      "\n",
      "from scipy import signal\n",
      "import matplotlib.pyplot as plt\n",
      "\n",
      "# Generate a test signal, a 2 Vrms sine wave at 1234 Hz, corrupted by 0.001 V**2/Hz of \n",
      "# white noise sampled at 10 kHz.\n",
      "\n",
      "fs = 10e3\n",
      "N = 1e5\n",
      "amp = 2*np.sqrt(2)\n",
      "freq = 1234.0\n",
      "noise_power = 0.001 * fs / 2\n",
      "time = np.arange(N) / fs\n",
      "x = amp*np.sin(2*np.pi*freq*time)\n",
      "x += np.random.normal(scale=np.sqrt(noise_power), size=time.shape)\n",
      "\n",
      "#Compute and plot the power spectral density.\n",
      "\n",
      "f, Pxx_den = signal.periodogram(x, fs)\n",
      "plt.semilogy(f, Pxx_den)\n",
      "plt.ylim([1e-7, 1e2])\n",
      "plt.xlim([1230,1237])\n",
      "plt.xlabel('frequency [Hz]')\n",
      "plt.ylabel('PSD [V**2/Hz]')\n",
      "plt.show()"
     ],
     "language": "python",
     "prompt_number": 35
    },
    {
     "cell_type": "code",
     "execution_count": null,
     "metadata": {},
     "outputs": [
      {
       "output_type": "pyout",
       "prompt_number": 17,
       "text": [
        "39.780046652310972"
       ],
       "metadata": {}
      }
     ],
     "input": [
      "max(Pxx_den)"
     ],
     "language": "python",
     "prompt_number": 17
    },
    {
     "cell_type": "code",
     "execution_count": null,
     "metadata": {},
     "outputs": [
      {
       "output_type": "display_data",
       "png": "[encoded data removed]",
       "text": [
        "<matplotlib.figure.Figure at 0x107b5e290>"
       ],
       "metadata": {}
      }
     ],
     "input": [
      "import scipy.signal\n",
      "import numpy as np\n",
      "\n",
      "#First define some input parameters for the signal:\n",
      "\n",
      "A = 2.\n",
      "w = 1.\n",
      "phi = 0.5 * np.pi\n",
      "nin = 1000\n",
      "nout = 100000\n",
      "frac_points = 0.9 # Fraction of points to select\n",
      "\n",
      "# Randomly select a fraction of an array with timesteps:\n",
      "\n",
      "r = np.random.rand(nin)\n",
      "x = np.linspace(0.01, 10*np.pi, nin)\n",
      "x = x[r >= frac_points]\n",
      "normval = x.shape[0] # For normalization of the periodogram\n",
      "\n",
      "#Plot a sine wave for the selected times:\n",
      "\n",
      "y = A * np.sin(w*x+phi)\n",
      "\n",
      "# Define the array of frequencies for which to compute the periodogram:\n",
      "\n",
      "f = np.linspace(0.01, 10, nout)\n",
      "\n",
      "# Calculate Lomb-Scargle periodogram:\n",
      "\n",
      "pgram = signal.lombscargle(x, y, f)\n",
      "\n",
      "# Now make a plot of the input data:\n",
      "\n",
      "plt.subplot(2, 1, 1)\n",
      "plt.plot(x, y, 'b+')\n",
      "\n",
      "# Then plot the normalized periodogram:\n",
      "\n",
      "plt.subplot(2, 1, 2)\n",
      "\n",
      "plt.plot(f, np.sqrt(4*(pgram/normval)))\n",
      "\n",
      "plt.show()"
     ],
     "language": "python",
     "prompt_number": 38
    },
    {
     "cell_type": "code",
     "execution_count": null,
     "metadata": {},
     "outputs": [
      {
       "output_type": "pyout",
       "prompt_number": 4,
       "text": [
        "(array([ 0.00313904,  0.00392381,  0.00392381,  0.00313904,  0.00235428,\n",
        "        0.00313904,  0.00549333,  0.00392381,  0.00470857,  0.00392381,\n",
        "        0.00235428,  0.00313904,  0.00549333,  0.00392381,  0.00627809,\n",
        "        0.00549333,  0.00549333,  0.01020189,  0.00706285,  0.00863237,\n",
        "        0.00784761,  0.00706285,  0.01334094,  0.01177142,  0.01726474,\n",
        "        0.0141257 ,  0.02040379,  0.02668188,  0.03295997,  0.04708566,\n",
        "        0.03766853,  0.05571804,  0.06513517,  0.07141326,  0.10751227,\n",
        "        0.17029315,  0.18206457,  0.20246836,  0.14831984,  0.12870082,\n",
        "        0.08004563,  0.06670469,  0.04865519,  0.0463009 ,  0.05571804,\n",
        "        0.05257899,  0.09652561,  0.13497891,  0.09103229,  0.04473138,\n",
        "        0.03139044,  0.0321752 ,  0.04551614,  0.05100947,  0.05493328,\n",
        "        0.08004563,  0.10829703,  0.09181705,  0.10123418,  0.07298278,\n",
        "        0.06356565,  0.05022471,  0.04943995,  0.04708566,  0.03845329,\n",
        "        0.03374473,  0.03766853,  0.02354283,  0.02511235,  0.01726474,\n",
        "        0.01177142,  0.02040379,  0.00706285,  0.01177142,  0.00784761,\n",
        "        0.00784761,  0.00549333,  0.00784761,  0.01020189,  0.00313904,\n",
        "        0.00706285,  0.00941713,  0.00156952,  0.00313904,  0.00549333,\n",
        "        0.00313904,  0.00313904,  0.00627809,  0.00313904,  0.00392381,\n",
        "        0.00235428,  0.        ,  0.00078476,  0.00313904,  0.00235428,\n",
        "        0.00156952,  0.00235428,  0.00078476,  0.00078476,  0.00235428]),\n",
        " array([-14.97136966, -14.67660371, -14.38183777, -14.08707182,\n",
        "       -13.79230588, -13.49753993, -13.20277398, -12.90800804,\n",
        "       -12.61324209, -12.31847615, -12.0237102 , -11.72894426,\n",
        "       -11.43417831, -11.13941236, -10.84464642, -10.54988047,\n",
        "       -10.25511453,  -9.96034858,  -9.66558264,  -9.37081669,\n",
        "        -9.07605075,  -8.7812848 ,  -8.48651885,  -8.19175291,\n",
        "        -7.89698696,  -7.60222102,  -7.30745507,  -7.01268913,\n",
        "        -6.71792318,  -6.42315724,  -6.12839129,  -5.83362534,\n",
        "        -5.5388594 ,  -5.24409345,  -4.94932751,  -4.65456156,\n",
        "        -4.35979562,  -4.06502967,  -3.77026372,  -3.47549778,\n",
        "        -3.18073183,  -2.88596589,  -2.59119994,  -2.296434  ,\n",
        "        -2.00166805,  -1.70690211,  -1.41213616,  -1.11737021,\n",
        "        -0.82260427,  -0.52783832,  -0.23307238,   0.06169357,\n",
        "         0.35645951,   0.65122546,   0.94599141,   1.24075735,\n",
        "         1.5355233 ,   1.83028924,   2.12505519,   2.41982113,\n",
        "         2.71458708,   3.00935302,   3.30411897,   3.59888492,\n",
        "         3.89365086,   4.18841681,   4.48318275,   4.7779487 ,\n",
        "         5.07271464,   5.36748059,   5.66224653,   5.95701248,\n",
        "         6.25177843,   6.54654437,   6.84131032,   7.13607626,\n",
        "         7.43084221,   7.72560815,   8.0203741 ,   8.31514005,\n",
        "         8.60990599,   8.90467194,   9.19943788,   9.49420383,\n",
        "         9.78896977,  10.08373572,  10.37850166,  10.67326761,\n",
        "        10.96803356,  11.2627995 ,  11.55756545,  11.85233139,\n",
        "        12.14709734,  12.44186328,  12.73662923,  13.03139517,\n",
        "        13.32616112,  13.62092707,  13.91569301,  14.21045896,  14.5052249 ]),\n",
        " <a list of 100 Patch objects>)"
       ],
       "metadata": {}
      },
      {
       "output_type": "display_data",
       "png": "[encoded data removed]",
       "text": [
        "<matplotlib.figure.Figure at 0x10745b790>"
       ],
       "metadata": {}
      }
     ],
     "input": [
      "import numpy as np\n",
      "from scipy import stats\n",
      "\n",
      "np.random.seed(0)\n",
      "x = np.concatenate([stats.cauchy(-5, 1.8).rvs(500),\n",
      "                    stats.cauchy(-4, 0.8).rvs(2000),\n",
      "                    stats.cauchy(-1, 0.3).rvs(500),\n",
      "                    stats.cauchy(2, 0.8).rvs(1000),\n",
      "                    stats.cauchy(4, 1.5).rvs(500)])\n",
      "\n",
      "# truncate values to a reasonable range\n",
      "x = x[(x > -15) & (x < 15)]\n",
      "\n",
      "hist(x, normed=True)\n",
      "\n",
      "hist(x, bins=100, normed=True)"
     ],
     "language": "python",
     "prompt_number": 4
    },
    {
     "cell_type": "code",
     "execution_count": null,
     "metadata": {},
     "outputs": [
      {
       "ename": "AttributeError",
       "evalue": "'module' object has no attribute 'cmp_cbds'",
       "output_type": "pyerr",
       "traceback": [
        "\u001b[0;31m---------------------------------------------------------------------------\u001b[0m\n\u001b[0;31mAttributeError\u001b[0m                            Traceback (most recent call last)",
        "\u001b[0;32m<ipython-input-17-2a7030ab5662>\u001b[0m in \u001b[0;36m<module>\u001b[0;34m()\u001b[0m\n\u001b[1;32m      1\u001b[0m \u001b[0;32mimport\u001b[0m \u001b[0mpycaldb\u001b[0m \u001b[0;32mas\u001b[0m \u001b[0mpy\u001b[0m\u001b[0;34m\u001b[0m\u001b[0m\n\u001b[0;32m----> 2\u001b[0;31m \u001b[0mhelp\u001b[0m\u001b[0;34m(\u001b[0m\u001b[0mpy\u001b[0m\u001b[0;34m.\u001b[0m\u001b[0mcmp_cbds\u001b[0m\u001b[0;34m)\u001b[0m\u001b[0;34m\u001b[0m\u001b[0m\n\u001b[0m\u001b[1;32m      3\u001b[0m \u001b[0;34m\u001b[0m\u001b[0m\n",
        "\u001b[0;31mAttributeError\u001b[0m: 'module' object has no attribute 'cmp_cbds'"
       ]
      }
     ],
     "input": [
      "import pycaldb as py\n",
      "pyu"
     ],
     "language": "python",
     "prompt_number": 17
    },
    {
     "cell_type": "code",
     "execution_count": null,
     "metadata": {},
     "outputs": [
      {
       "ename": "TypeError",
       "evalue": "'module' object is not callable",
       "output_type": "pyerr",
       "traceback": [
        "\u001b[0;31m---------------------------------------------------------------------------\u001b[0m\n\u001b[0;31mTypeError\u001b[0m                                 Traceback (most recent call last)",
        "\u001b[0;32m<ipython-input-7-693ec174880f>\u001b[0m in \u001b[0;36m<module>\u001b[0;34m()\u001b[0m\n\u001b[0;32m----> 1\u001b[0;31m H2 = hist(x, bins=bayesian_blocks(x), color='black',\n\u001b[0m\u001b[1;32m      2\u001b[0m           histtype='step', normed=True)\n",
        "\u001b[0;31mTypeError\u001b[0m: 'module' object is not callable"
       ]
      }
     ],
     "input": [
      "H2 = hist(x, bins=bayesian_blocks(x), color='black',\n",
      "          histtype='step', normed=True)"
     ],
     "language": "python",
     "prompt_number": 7
    },
    {
     "cell_type": "code",
     "execution_count": null,
     "metadata": {},
     "outputs": [
      {
       "ename": "TypeError",
       "evalue": "'module' object is not callable",
       "output_type": "pyerr",
       "traceback": [
        "\u001b[0;31m---------------------------------------------------------------------------\u001b[0m\n\u001b[0;31mTypeError\u001b[0m                                 Traceback (most recent call last)",
        "\u001b[0;32m<ipython-input-8-535e1cfb886a>\u001b[0m in \u001b[0;36m<module>\u001b[0;34m()\u001b[0m\n\u001b[0;32m----> 1\u001b[0;31m \u001b[0ma\u001b[0m\u001b[0;34m=\u001b[0m\u001b[0mbayesian_blocks\u001b[0m\u001b[0;34m(\u001b[0m\u001b[0mx\u001b[0m\u001b[0;34m)\u001b[0m\u001b[0;34m\u001b[0m\u001b[0m\n\u001b[0m",
        "\u001b[0;31mTypeError\u001b[0m: 'module' object is not callable"
       ]
      }
     ],
     "input": [
      "a=bayesian_blocks(x)"
     ],
     "language": "python",
     "prompt_number": 8
    },
    {
     "cell_type": "code",
     "execution_count": null,
     "metadata": {},
     "outputs": [
      {
       "output_type": "stream",
       "stream": "stdout",
       "text": [
        "Help on module timing.bayesian_blocks in timing:\n",
        "\n",
        "NAME\n",
        "    timing.bayesian_blocks\n",
        "\n",
        "FILE\n",
        "    /Users/corcoran/Dropbox/Python/python_modules/timing/bayesian_blocks.py\n",
        "\n",
        "FUNCTIONS\n",
        "    bayesian_blocks(t)\n",
        "        Bayesian Blocks Implementation\n",
        "        \n",
        "        By Jake Vanderplas.  License: BSD\n",
        "        Based on algorithm outlined in http://adsabs.harvard.edu/abs/2012arXiv1207.5578S\n",
        "        \n",
        "        Parameters\n",
        "        ----------\n",
        "        t : ndarray, length N\n",
        "            data to be histogrammed\n",
        "        \n",
        "        Returns\n",
        "        -------\n",
        "        bins : ndarray\n",
        "            array containing the (N+1) bin edges\n",
        "        \n",
        "        Notes\n",
        "        -----\n",
        "        This is an incomplete implementation: it may fail for some\n",
        "        datasets.  Alternate fitness functions and prior forms can\n",
        "        be found in the paper listed above.\n",
        "\n",
        "\n"
       ]
      }
     ],
     "input": [
      "help(bayesian_blocks)"
     ],
     "language": "python",
     "prompt_number": 9
    },
    {
     "cell_type": "code",
     "execution_count": null,
     "metadata": {},
     "outputs": [],
     "input": [
      "def bayesian_blocks(t):\n",
      "    \"\"\"Bayesian Blocks Implementation\n",
      "\n",
      "    By Jake Vanderplas.  License: BSD\n",
      "    Based on algorithm outlined in http://adsabs.harvard.edu/abs/2012arXiv1207.5578S\n",
      "\n",
      "    Parameters\n",
      "    ----------\n",
      "    t : ndarray, length N\n",
      "        data to be histogrammed\n",
      "\n",
      "    Returns\n",
      "    -------\n",
      "    bins : ndarray\n",
      "        array containing the (N+1) bin edges\n",
      "\n",
      "    Notes\n",
      "    -----\n",
      "    This is an incomplete implementation: it may fail for some\n",
      "    datasets.  Alternate fitness functions and prior forms can\n",
      "    be found in the paper listed above.\n",
      "    \"\"\"\n",
      "    # copy and sort the array\n",
      "    t = np.sort(t)\n",
      "    N = t.size\n",
      "\n",
      "    # create length-(N + 1) array of cell edges\n",
      "    edges = np.concatenate([t[:1],\n",
      "                            0.5 * (t[1:] + t[:-1]),\n",
      "                            t[-1:]])\n",
      "    block_length = t[-1] - edges\n",
      "\n",
      "    # arrays needed for the iteration\n",
      "    nn_vec = np.ones(N)\n",
      "    best = np.zeros(N, dtype=float)\n",
      "    last = np.zeros(N, dtype=int)\n",
      "\n",
      "    #-----------------------------------------------------------------\n",
      "    # Start with first data cell; add one cell at each iteration\n",
      "    #-----------------------------------------------------------------\n",
      "    for K in range(N):\n",
      "        # Compute the width and count of the final bin for all possible\n",
      "        # locations of the K^th changepoint\n",
      "        width = block_length[:K + 1] - block_length[K + 1]\n",
      "        count_vec = np.cumsum(nn_vec[:K + 1][::-1])[::-1]\n",
      "\n",
      "        # evaluate fitness function for these possibilities\n",
      "        fit_vec = count_vec * (np.log(count_vec) - np.log(width))\n",
      "        fit_vec -= 4  # 4 comes from the prior on the number of changepoints\n",
      "        fit_vec[1:] += best[:K]\n",
      "\n",
      "        # find the max of the fitness: this is the K^th changepoint\n",
      "        i_max = np.argmax(fit_vec)\n",
      "        last[K] = i_max\n",
      "        best[K] = fit_vec[i_max]\n",
      "\n",
      "    #-----------------------------------------------------------------\n",
      "    # Recover changepoints by iteratively peeling off the last block\n",
      "    #-----------------------------------------------------------------\n",
      "    change_points =  np.zeros(N, dtype=int)\n",
      "    i_cp = N\n",
      "    ind = N\n",
      "    while True:\n",
      "        i_cp -= 1\n",
      "        change_points[i_cp] = ind\n",
      "        if ind == 0:\n",
      "            break\n",
      "        ind = last[ind - 1]\n",
      "    change_points = change_points[i_cp:]\n",
      "\n",
      "    return edges[change_points]"
     ],
     "language": "python",
     "prompt_number": 10
    },
    {
     "cell_type": "code",
     "execution_count": null,
     "metadata": {},
     "outputs": [],
     "input": [
      "a=bayesian_blocks(x)"
     ],
     "language": "python",
     "prompt_number": 11
    },
    {
     "cell_type": "code",
     "execution_count": null,
     "metadata": {},
     "outputs": [
      {
       "output_type": "pyout",
       "prompt_number": 12,
       "text": [
        "array([-14.97136966,  -9.97833787,  -8.30032639,  -7.20947227,\n",
        "        -6.5664823 ,  -5.61111739,  -4.93909444,  -4.63517611,\n",
        "        -3.67195943,  -3.30025458,  -2.72032808,  -1.31563551,\n",
        "        -0.68004784,  -0.32148883,   0.48496711,   1.39257178,\n",
        "         2.36089893,   3.10617066,   4.68536101,   6.16901031,\n",
        "         9.11405688,  11.53270207,  14.5052249 ])"
       ],
       "metadata": {}
      }
     ],
     "input": [
      "a"
     ],
     "language": "python",
     "prompt_number": 12
    },
    {
     "cell_type": "code",
     "execution_count": null,
     "metadata": {},
     "outputs": [
      {
       "output_type": "display_data",
       "png": "[encoded data removed]",
       "text": [
        "<matplotlib.figure.Figure at 0x107a2dad0>"
       ],
       "metadata": {}
      }
     ],
     "input": [
      "H2 = hist(x, bins=bayesian_blocks(x), color='black',\n",
      "          histtype='step', normed=True)"
     ],
     "language": "python",
     "prompt_number": 13
    },
    {
     "cell_type": "code",
     "execution_count": null,
     "metadata": {},
     "outputs": [
      {
       "output_type": "pyout",
       "prompt_number": 14,
       "text": [
        "array([-4.72178177, -3.55616908, -4.39781898, ...,  4.48693421,\n",
        "        2.25704353,  3.58016107])"
       ],
       "metadata": {}
      }
     ],
     "input": [
      "x"
     ],
     "language": "python",
     "prompt_number": 14
    },
    {
     "cell_type": "code",
     "execution_count": null,
     "metadata": {},
     "outputs": [],
     "input": [
      "from timing import bayesian_blocks as bb"
     ],
     "language": "python"
    },
    {
     "cell_type": "code",
     "execution_count": null,
     "metadata": {},
     "outputs": [],
     "input": [
      "b=bb.bayesian_blocks(x)"
     ],
     "language": "python"
    },
    {
     "cell_type": "markdown",
     "metadata": {},
     "source": [
      "<hr>\n",
      "<h2> Plotting on left and right hand side axes\n",
      "<hr>"
     ]
    },
    {
     "cell_type": "code",
     "execution_count": null,
     "metadata": {},
     "outputs": [
      {
       "output_type": "display_data",
       "png": "[encoded data removed]",
       "text": [
        "<matplotlib.figure.Figure at 0x10647df10>"
       ],
       "metadata": {}
      }
     ],
     "input": [
      "from pylab import figure, show, legend, ylabel\n",
      " \n",
      "# create the general figure\n",
      "fig1 = figure()\n",
      " \n",
      "# and the first axes using subplot populated with data \n",
      "ax1 = fig1.add_subplot(111)\n",
      "line1 = ax1.plot([1,3,4,5,2], 'o-')\n",
      "ylabel(\"Left Y-Axis Data\")\n",
      "\n",
      " \n",
      "# now, the second axes that shares the x-axis with the ax1\n",
      "ax2 = fig1.add_subplot(111, sharex=ax1, frameon=False)\n",
      "line2 = ax2.plot([10,40,20,30,50], 'xr-')\n",
      "ax2.yaxis.tick_right() # uses ticks only on the right\n",
      "ax2.yaxis.set_label_position(\"right\")\n",
      "ylabel(\"Right Y-Axis Data\")\n",
      " \n",
      "show()\n",
      "# for the legend, remember that we used two different axes so, we need \n",
      "# to build the legend manually\n",
      "#legend((line1, line2), (\"1\", \"2\"))\n",
      "#show()\n",
      "#See more at: http://thomas-cokelaer.info/blog/2012/04/481/#sthash.HdR4tBPJ.dpuf"
     ],
     "language": "python",
     "prompt_number": 10
    },
    {
     "cell_type": "code",
     "execution_count": null,
     "metadata": {},
     "outputs": [
      {
       "output_type": "stream",
       "stream": "stdout",
       "text": [
        "Help on method tick_right in module matplotlib.axis:\n",
        "\n",
        "tick_right(self) method of matplotlib.axis.YAxis instance\n",
        "    use ticks only on right\n",
        "\n"
       ]
      }
     ],
     "input": [
      "help(ax2.yaxis.tick_right)"
     ],
     "language": "python",
     "prompt_number": 11
    },
    {
     "cell_type": "code",
     "execution_count": null,
     "metadata": {},
     "outputs": [],
     "input": [
      "def q(t, *popt):\n",
      "    for param in popt:\n",
      "        print \"Param value is %f\" % param\n",
      "    return\n",
      "\n",
      "popt=arange(1,4,1)"
     ],
     "language": "python",
     "prompt_number": 4
    },
    {
     "cell_type": "code",
     "execution_count": null,
     "metadata": {},
     "outputs": [
      {
       "output_type": "pyout",
       "prompt_number": 8,
       "text": [
        "array([1, 2, 3])"
       ],
       "metadata": {}
      }
     ],
     "input": [
      "popt"
     ],
     "language": "python",
     "prompt_number": 8
    },
    {
     "cell_type": "code",
     "execution_count": null,
     "metadata": {},
     "outputs": [
      {
       "output_type": "stream",
       "stream": "stdout",
       "text": [
        "Param value is 4.000000\n",
        "Param value is 1.000000\n",
        "Param value is 2.000000\n",
        "Param value is 3.000000\n"
       ]
      }
     ],
     "input": [
      "q(4, *popt)"
     ],
     "language": "python",
     "prompt_number": 9
    },
    {
     "cell_type": "code",
     "execution_count": null,
     "metadata": {},
     "outputs": [],
     "input": [
      "import numpy as np\n",
      "from scipy.optimize import curve_fit\n",
      "def func(x, *params):\n",
      "    params\n",
      "    return param[1]*np.exp(-b*x) + c\n",
      "x = np.linspace(0,4,50)\n",
      "y = func(x, 2.5, 1.3, 0.5)\n",
      "yn = y + 0.2*np.random.normal(size=len(x))"
     ],
     "language": "python",
     "prompt_number": 13
    },
    {
     "cell_type": "code",
     "execution_count": null,
     "metadata": {},
     "outputs": [],
     "input": [
      "popt, pcov = curve_fit(func, x, yn)"
     ],
     "language": "python",
     "prompt_number": 14
    },
    {
     "cell_type": "code",
     "execution_count": null,
     "metadata": {},
     "outputs": [
      {
       "output_type": "pyout",
       "prompt_number": 15,
       "text": [
        "array([ 2.4847904 ,  1.48195538,  0.55518764])"
       ],
       "metadata": {}
      }
     ],
     "input": [
      "popt"
     ],
     "language": "python",
     "prompt_number": 15
    },
    {
     "cell_type": "code",
     "execution_count": null,
     "metadata": {},
     "outputs": [
      {
       "output_type": "pyout",
       "prompt_number": 16,
       "text": [
        "array([[ 0.01383134,  0.00700008, -0.0005182 ],\n",
        "       [ 0.00700008,  0.02048086,  0.00434432],\n",
        "       [-0.0005182 ,  0.00434432,  0.00198603]])"
       ],
       "metadata": {}
      }
     ],
     "input": [
      "pcov"
     ],
     "language": "python",
     "prompt_number": 16
    },
    {
     "cell_type": "code",
     "execution_count": null,
     "metadata": {},
     "outputs": [],
     "input": [
      "from utils import fit"
     ],
     "language": "python",
     "prompt_number": 18
    },
    {
     "cell_type": "code",
     "execution_count": null,
     "metadata": {},
     "outputs": [
      {
       "output_type": "pyout",
       "prompt_number": 88,
       "text": [
        "1.6773845582328868"
       ],
       "metadata": {}
      }
     ],
     "input": [
      "reload(fit)\n",
      "sigma=np.zeros(len(x))+1\n",
      "popt, pcov, chi2, dof = fit.fit_func(func, x, yn,sigma=sigma)\n",
      "chi2"
     ],
     "language": "python",
     "prompt_number": 88
    },
    {
     "cell_type": "code",
     "execution_count": null,
     "metadata": {},
     "outputs": [
      {
       "output_type": "pyout",
       "prompt_number": 87,
       "text": [
        "1.6773845582328868"
       ],
       "metadata": {}
      }
     ],
     "input": [
      "sum((yn-func(x,*popt))**2)"
     ],
     "language": "python",
     "prompt_number": 87
    },
    {
     "cell_type": "code",
     "execution_count": null,
     "metadata": {},
     "outputs": [
      {
       "output_type": "pyout",
       "prompt_number": 89,
       "text": [
        "47"
       ],
       "metadata": {}
      }
     ],
     "input": [
      "dof"
     ],
     "language": "python",
     "prompt_number": 89
    },
    {
     "cell_type": "code",
     "execution_count": null,
     "metadata": {},
     "outputs": [
      {
       "output_type": "pyout",
       "prompt_number": 71,
       "text": [
        "<Container object of 3 artists>"
       ],
       "metadata": {}
      },
      {
       "output_type": "display_data",
       "png": "[encoded data removed]",
       "text": [
        "<matplotlib.figure.Figure at 0x106a55690>"
       ],
       "metadata": {}
      }
     ],
     "input": [
      "errorbar(x,yn,yerr=sigma,fmt=\".\")"
     ],
     "language": "python",
     "prompt_number": 71
    },
    {
     "cell_type": "code",
     "execution_count": null,
     "metadata": {},
     "outputs": [
      {
       "output_type": "pyout",
       "prompt_number": 61,
       "text": [
        "array([  6.05862141e-03,   3.00674937e-02,   9.30705065e-03,\n",
        "         1.49051188e-02,   3.33526936e-02,   2.41151008e-02,\n",
        "         5.23285774e-02,   8.35395695e-02,   2.74422178e-03,\n",
        "         4.53065808e-02,   9.34338076e-02,   2.57459521e-02,\n",
        "         7.28998066e-02,   7.71739865e-03,   2.33324318e-02,\n",
        "         1.70274653e-05,   4.00685815e-05,   9.41778476e-03,\n",
        "         1.40311511e-02,   1.07084797e-01,   5.55604309e-03,\n",
        "         3.45090335e-02,   5.81573242e-02,   7.48650209e-03,\n",
        "         3.48576475e-02,   2.97726999e-02,   6.00952981e-02,\n",
        "         6.99316467e-03,   1.02451213e-03,   1.79647256e-03,\n",
        "         1.28999889e-04,   5.74391238e-02,   1.13932249e-01,\n",
        "         3.34880183e-02,   2.45411068e-04,   2.15857147e-02,\n",
        "         1.34656297e-01,   2.50539508e-02,   9.63713308e-03,\n",
        "         1.11044282e-01,   2.16341807e-02,   3.40767727e-05,\n",
        "         2.93947614e-02,   4.64734726e-03,   6.15815646e-02,\n",
        "         2.64870595e-02,   1.87599479e-02,   2.99236694e-02,\n",
        "         1.43479199e-02,   6.76688994e-02])"
       ],
       "metadata": {}
      }
     ],
     "input": [
      "(yn-func(x,*popt))**2"
     ],
     "language": "python",
     "prompt_number": 61
    },
    {
     "cell_type": "code",
     "execution_count": null,
     "metadata": {},
     "outputs": [
      {
       "output_type": "pyout",
       "prompt_number": 62,
       "text": [
        "array([ 3.11781518,  2.58344945,  2.40950847,  2.40578536,  2.26937129,\n",
        "        2.06752168,  1.52884893,  1.33156228,  1.44681159,  1.60448546,\n",
        "        1.60199304,  1.05141961,  1.40704863,  0.98290023,  0.85925389,\n",
        "        0.96407814,  0.92016095,  0.77592018,  0.95520951,  0.47743494,\n",
        "        0.85078439,  0.93682322,  0.96989714,  0.62243902,  0.87814367,\n",
        "        0.50336854,  0.41701641,  0.73359605,  0.67117886,  0.5872166 ,\n",
        "        0.63248017,  0.37394483,  0.26941407,  0.78405156,  0.61149358,\n",
        "        0.73811801,  0.22013868,  0.74174295,  0.48206833,  0.24414988,\n",
        "        0.72193954,  0.56677552,  0.39917851,  0.63703968,  0.81546572,\n",
        "        0.40317973,  0.70167131,  0.73660457,  0.68244196,  0.82194028])"
       ],
       "metadata": {}
      }
     ],
     "input": [
      "yn"
     ],
     "language": "python",
     "prompt_number": 62
    },
    {
     "cell_type": "code",
     "execution_count": null,
     "metadata": {},
     "outputs": [
      {
       "output_type": "pyout",
       "prompt_number": 63,
       "text": [
        "array([ 3.03997803,  2.75684926,  2.50598152,  2.28369884,  2.0867441 ,\n",
        "        1.91223131,  1.75760333,  1.6205944 ,  1.49919691,  1.39163203,\n",
        "        1.2963236 ,  1.21187506,  1.13704899,  1.07074896,  1.01200346,\n",
        "        0.95995171,  0.91383097,  0.87296545,  0.83675635,  0.80467308,\n",
        "        0.77624553,  0.75105714,  0.72873885,  0.7089636 ,  0.69144164,\n",
        "        0.67591621,  0.66215983,  0.64997091,  0.63917086,  0.62960141,\n",
        "        0.62112235,  0.61360944,  0.60695258,  0.60105424,  0.59582798,\n",
        "        0.59119723,  0.58709413,  0.58345855,  0.58023723,  0.57738296,\n",
        "        0.57485392,  0.57261305,  0.57062752,  0.56886822,  0.56730939,\n",
        "        0.56592818,  0.56470435,  0.56361997,  0.56265915,  0.56180781])"
       ],
       "metadata": {}
      }
     ],
     "input": [
      "func(x,*popt)"
     ],
     "language": "python",
     "prompt_number": 63
    },
    {
     "cell_type": "code",
     "execution_count": null,
     "metadata": {},
     "outputs": [
      {
       "output_type": "pyout",
       "prompt_number": 64,
       "text": [
        "array([ 0.07783715, -0.17339981, -0.09647306,  0.12208652,  0.1826272 ,\n",
        "        0.15529038, -0.2287544 , -0.28903213, -0.05238532,  0.21285343,\n",
        "        0.30566944, -0.16045545,  0.26999964, -0.08784873, -0.15274957,\n",
        "        0.00412643,  0.00632997, -0.09704527,  0.11845316, -0.32723813,\n",
        "        0.07453887,  0.18576607,  0.2411583 , -0.08652458,  0.18670203,\n",
        "       -0.17254767, -0.24514342,  0.08362514,  0.032008  , -0.04238482,\n",
        "        0.01135781, -0.23966461, -0.33753852,  0.18299732,  0.0156656 ,\n",
        "        0.14692078, -0.36695544,  0.1582844 , -0.0981689 , -0.33323308,\n",
        "        0.14708562, -0.00583753, -0.17144901,  0.06817145,  0.24815633,\n",
        "       -0.16274845,  0.13696696,  0.17298459,  0.1197828 ,  0.26013247])"
       ],
       "metadata": {}
      }
     ],
     "input": [
      "yn-func(x,*popt)"
     ],
     "language": "python",
     "prompt_number": 64
    },
    {
     "cell_type": "code",
     "execution_count": null,
     "metadata": {},
     "outputs": [
      {
       "output_type": "pyout",
       "prompt_number": 41,
       "text": [
        "array([ 0.5,  0.5,  0.5,  0.5])"
       ],
       "metadata": {}
      }
     ],
     "input": [
      "b"
     ],
     "language": "python",
     "prompt_number": 41
    },
    {
     "cell_type": "code",
     "execution_count": null,
     "metadata": {},
     "outputs": [
      {
       "output_type": "pyout",
       "prompt_number": 42,
       "text": [
        "array([ 2.,  2.,  2.,  2.])"
       ],
       "metadata": {}
      }
     ],
     "input": [
      "c"
     ],
     "language": "python",
     "prompt_number": 42
    },
    {
     "cell_type": "code",
     "execution_count": null,
     "metadata": {},
     "outputs": [
      {
       "output_type": "pyout",
       "prompt_number": 43,
       "text": [
        "array([ 1.,  1.,  1.,  1.])"
       ],
       "metadata": {}
      }
     ],
     "input": [
      "c*b"
     ],
     "language": "python",
     "prompt_number": 43
    },
    {
     "cell_type": "code",
     "execution_count": null,
     "metadata": {},
     "outputs": [],
     "input": [
      "sigma=b/2"
     ],
     "language": "python",
     "prompt_number": 44
    },
    {
     "cell_type": "code",
     "execution_count": null,
     "metadata": {},
     "outputs": [
      {
       "output_type": "pyout",
       "prompt_number": 45,
       "text": [
        "array([ 0.25,  0.25,  0.25,  0.25])"
       ],
       "metadata": {}
      }
     ],
     "input": [
      "sigma"
     ],
     "language": "python",
     "prompt_number": 45
    },
    {
     "cell_type": "markdown",
     "metadata": {},
     "source": [
      "<hr>\n",
      "<h2>Some Time examples</h2>\n",
      "see <a href=\"http://docs.astropy.org/en/stable/time/index.html#module-astropy.time\">the astropy time guide</a>"
     ]
    },
    {
     "cell_type": "code",
     "execution_count": null,
     "metadata": {},
     "outputs": [
      {
       "output_type": "stream",
       "stream": "stdout",
       "text": [
        "Cycle 11 start = 2457113.500000\n",
        "Cycle 11   end = 2457478.740000\n",
        "WR 140 next minimum 2016-12-20 21:36:00.000 \n",
        "WR 140 phase at cycle 11 start =  0.78\n",
        "WR 140 phase at cycle 11   end =  0.91\n"
       ]
      }
     ],
     "input": [
      "from astropy.time import Time\n",
      "e_wr140=2446147.4 # Marchenko et al. 2001\n",
      "p_wr140=2899\n",
      "\n",
      "t=Time('2008-08-25 14:13:48.1',scale='utc', format='iso')\n",
      "t.jd\n",
      "t_min=e_wr140+4*p_wr140\n",
      "t_swift11_start=\"2015-04-01\"# April 1, 2015\n",
      "t=Time(e_wr140+4*p_wr140,scale='utc', format='jd')\n",
      "ts=Time(t_swift11_start, scale='utc', format='iso')\n",
      "print \"Cycle 11 start = %f\" % ts.jd\n",
      "print \"Cycle 11   end = %f\" % (ts.jd+365.24)\n",
      "print \"WR 140 next minimum %s \" %t.iso\n",
      "print \"WR 140 phase at cycle 11 start = %5.2f\" % ((ts.jd-e_wr140)/p_wr140 - int((ts.jd-e_wr140)/p_wr140))\n",
      "print \"WR 140 phase at cycle 11   end = %5.2f\" % ((ts.jd+365.24-e_wr140)/p_wr140 - int((ts.jd+365.24-e_wr140)/p_wr140))"
     ],
     "language": "python",
     "prompt_number": 20
    },
    {
     "cell_type": "code",
     "execution_count": null,
     "metadata": {},
     "outputs": [],
     "input": [
      "grbt=['2008-08-25 14:13:48.1',\n",
      "'2008-09-16 00:12:45.6',\n",
      "'2008-10-6 14:29:34.1 ',\n",
      "'2008-10-24 21:22:40.8',\n",
      "'2009-02-17 04:56:42.5',\n",
      "'2009-02-27 18:31:01.4',\n",
      "'2009-03-23 00:02:42.6',\n",
      "'2009-03-28 09:36:46.5',\n",
      "'2009-05-10 00:22:59.9',\n",
      "'2009-05-31 18:35:56.4',\n",
      "'2009-06-26 04:32:08.8',\n",
      "'2009-07-20 17:02:56.9',\n",
      "'2009-09-2 11:05:08.3 ',\n",
      "'2009-09-26 04:20:26.9',\n",
      "'2009-10-3 04:35:45.5 ',\n",
      "'2009-10-31 12:00:28.8',\n",
      "'2009-12-8 09:49:57.9 ',\n",
      "'2010-01-16 21:31:00.2',\n",
      "'2010-02-25 02:45:31.1',\n",
      "'2010-03-25 06:36:08.0',\n",
      "'2010-04-14 02:20:21.9',\n",
      "'2010-06-20 02:51:29.1',\n",
      "'2010-07-24 00:42:05.9',\n",
      "'2010-07-28 02:17:30.6',\n",
      "'2010-08-26 22:58:22.8',\n",
      "'2010-10-14 04:11:52.6',\n",
      "'2010-11-23 22:51:34.9',\n",
      "'2011-01-20 15:59:39.2',\n",
      "'2011-03-28 12:29:19.1',\n",
      "'2011-04-28 09:18:30.4',\n",
      "'2011-05-29 00:48:42.8',\n",
      "'2011-06-25 21:08:18.2',\n",
      "'2011-07-9 15:24:27.4 ',\n",
      "'2011-07-21 04:47:43.7',\n",
      "'2011-07-31 11:09:29.9']"
     ],
     "language": "python",
     "prompt_number": 16
    },
    {
     "cell_type": "code",
     "execution_count": null,
     "metadata": {},
     "outputs": [
      {
       "output_type": "pyout",
       "prompt_number": 25,
       "text": [
        "['2008-08-25 14:13:48.1',\n",
        " '2008-09-16 00:12:45.6',\n",
        " '2008-10-6 14:29:34.1 ',\n",
        " '2008-10-24 21:22:40.8',\n",
        " '2009-02-17 04:56:42.5',\n",
        " '2009-02-27 18:31:01.4',\n",
        " '2009-03-23 00:02:42.6',\n",
        " '2009-03-28 09:36:46.5',\n",
        " '2009-05-10 00:22:59.9',\n",
        " '2009-05-31 18:35:56.4',\n",
        " '2009-06-26 04:32:08.8',\n",
        " '2009-07-20 17:02:56.9',\n",
        " '2009-09-2 11:05:08.3 ',\n",
        " '2009-09-26 04:20:26.9',\n",
        " '2009-10-3 04:35:45.5 ',\n",
        " '2009-10-31 12:00:28.8',\n",
        " '2009-12-8 09:49:57.9 ',\n",
        " '2010-01-16 21:31:00.2',\n",
        " '2010-02-25 02:45:31.1',\n",
        " '2010-03-25 06:36:08.0',\n",
        " '2010-04-14 02:20:21.9',\n",
        " '2010-06-20 02:51:29.1',\n",
        " '2010-07-24 00:42:05.9',\n",
        " '2010-07-28 02:17:30.6',\n",
        " '2010-08-26 22:58:22.8',\n",
        " '2010-10-14 04:11:52.6',\n",
        " '2010-11-23 22:51:34.9',\n",
        " '2011-01-20 15:59:39.2',\n",
        " '2011-03-28 12:29:19.1',\n",
        " '2011-04-28 09:18:30.4',\n",
        " '2011-05-29 00:48:42.8',\n",
        " '2011-06-25 21:08:18.2',\n",
        " '2011-07-9 15:24:27.4 ',\n",
        " '2011-07-21 04:47:43.7',\n",
        " '2011-07-31 11:09:29.9']"
       ],
       "metadata": {}
      }
     ],
     "input": [
      "grbt # times from fermi LAT GRB catalog, 2013-12-17"
     ],
     "language": "python",
     "prompt_number": 25
    },
    {
     "cell_type": "code",
     "execution_count": null,
     "metadata": {},
     "outputs": [],
     "input": [
      "t=Time(grbt,scale='utc',format='iso')"
     ],
     "language": "python",
     "prompt_number": 18
    },
    {
     "cell_type": "code",
     "execution_count": null,
     "metadata": {},
     "outputs": [
      {
       "output_type": "pyout",
       "prompt_number": 19,
       "text": [
        "array([ 2454704.09291782,  2454725.50886111,  2454746.1038669 ,\n",
        "        2454764.39075   ,  2454879.70604745,  2454890.27154398,\n",
        "        2454913.50188194,  2454918.90053819,  2454961.51597107,\n",
        "        2454983.27495833,  2455008.68899074,  2455033.21038079,\n",
        "        2455076.96190162,  2455100.6808669 ,  2455107.69149884,\n",
        "        2455136.00033333,  2455173.90969792,  2455213.39653009,\n",
        "        2455252.61494329,  2455280.77509259,  2455300.59747569,\n",
        "        2455367.61908681,  2455401.52923495,  2455405.59549306,\n",
        "        2455435.45720833,  2455483.67491435,  2455524.45248727,\n",
        "        2455582.16642593,  2455649.02035995,  2455679.88785185,\n",
        "        2455710.5338287 ,  2455738.3807662 ,  2455752.1419838 ,\n",
        "        2455763.69981134,  2455773.9649294 ])"
       ],
       "metadata": {}
      }
     ],
     "input": [
      "t.jd"
     ],
     "language": "python",
     "prompt_number": 19
    },
    {
     "cell_type": "code",
     "execution_count": null,
     "metadata": {},
     "outputs": [
      {
       "output_type": "stream",
       "stream": "stdout",
       "text": [
        "54703.5929178\n",
        "54725.0088611\n",
        "54745.6038669\n",
        "54763.89075\n",
        "54879.2060475\n",
        "54889.771544\n",
        "54913.0018819\n",
        "54918.4005382\n",
        "54961.0159711\n",
        "54982.7749583\n",
        "55008.1889907\n",
        "55032.7103808\n",
        "55076.4619016\n",
        "55100.1808669\n",
        "55107.1914988\n",
        "55135.5003333\n",
        "55173.4096979\n",
        "55212.8965301\n",
        "55252.1149433\n",
        "55280.2750926\n",
        "55300.0974757\n",
        "55367.1190868\n",
        "55401.029235\n",
        "55405.0954931\n",
        "55434.9572083\n",
        "55483.1749144\n",
        "55523.9524873\n",
        "55581.6664259\n",
        "55648.52036\n",
        "55679.3878519\n",
        "55710.0338287\n",
        "55737.8807662\n",
        "55751.6419838\n",
        "55763.1998113\n",
        "55773.4649294\n"
       ]
      }
     ],
     "input": [
      "for time in t.mjd:\n",
      "    print time"
     ],
     "language": "python",
     "prompt_number": 20
    },
    {
     "cell_type": "code",
     "execution_count": null,
     "metadata": {},
     "outputs": [
      {
       "output_type": "stream",
       "stream": "stdout",
       "text": [
        "54703.592918 2008-08-25 14:13:48.1\n",
        "54725.008861 2008-09-16 00:12:45.6\n",
        "54745.603867 2008-10-6 14:29:34.1 \n",
        "54763.890750 2008-10-24 21:22:40.8\n",
        "54879.206047 2009-02-17 04:56:42.5\n",
        "54889.771544 2009-02-27 18:31:01.4\n",
        "54913.001882 2009-03-23 00:02:42.6\n",
        "54918.400538 2009-03-28 09:36:46.5\n",
        "54961.015971 2009-05-10 00:22:59.9\n",
        "54982.774958 2009-05-31 18:35:56.4\n",
        "55008.188991 2009-06-26 04:32:08.8\n",
        "55032.710381 2009-07-20 17:02:56.9\n",
        "55076.461902 2009-09-2 11:05:08.3 \n",
        "55100.180867 2009-09-26 04:20:26.9\n",
        "55107.191499 2009-10-3 04:35:45.5 \n",
        "55135.500333 2009-10-31 12:00:28.8\n",
        "55173.409698 2009-12-8 09:49:57.9 \n",
        "55212.896530 2010-01-16 21:31:00.2\n",
        "55252.114943 2010-02-25 02:45:31.1\n",
        "55280.275093 2010-03-25 06:36:08.0\n",
        "55300.097476 2010-04-14 02:20:21.9\n",
        "55367.119087 2010-06-20 02:51:29.1\n",
        "55401.029235 2010-07-24 00:42:05.9\n",
        "55405.095493 2010-07-28 02:17:30.6\n",
        "55434.957208 2010-08-26 22:58:22.8\n",
        "55483.174914 2010-10-14 04:11:52.6\n",
        "55523.952487 2010-11-23 22:51:34.9\n",
        "55581.666426 2011-01-20 15:59:39.2\n",
        "55648.520360 2011-03-28 12:29:19.1\n",
        "55679.387852 2011-04-28 09:18:30.4\n",
        "55710.033829 2011-05-29 00:48:42.8\n",
        "55737.880766 2011-06-25 21:08:18.2\n",
        "55751.641984 2011-07-9 15:24:27.4 \n",
        "55763.199811 2011-07-21 04:47:43.7\n",
        "55773.464929 2011-07-31 11:09:29.9\n"
       ]
      }
     ],
     "input": [
      "for i in range(len(t.mjd)):\n",
      "    print \"%f %s\" % (t.mjd[i], grbt[i])"
     ],
     "language": "python",
     "prompt_number": 27
    },
    {
     "cell_type": "code",
     "execution_count": null,
     "metadata": {},
     "outputs": [
      {
       "output_type": "stream",
       "stream": "stdout",
       "text": [
        "Help on package astropy.time in astropy:\n",
        "\n",
        "NAME\n",
        "    astropy.time - # Licensed under a 3-clause BSD style license - see LICENSE.rst\n",
        "\n",
        "FILE\n",
        "    /Users/corcoran/bin/anaconda/lib/python2.7/site-packages/astropy/time/__init__.py\n",
        "\n",
        "PACKAGE CONTENTS\n",
        "    core\n",
        "    erfa_time\n",
        "    setup_package\n",
        "    tests (package)\n",
        "\n",
        "DATA\n",
        "    TIME_DELTA_FORMATS = {u'jd': <class 'astropy.time.core.TimeDeltaJD'>, ...\n",
        "    TIME_DELTA_SCALES = (u'tai',)\n",
        "    TIME_FORMATS = {u'astropy_time': <class 'astropy.time.core.TimeAstropy...\n",
        "    TIME_SCALES = (u'tai', u'tcb', u'tcg', u'tdb', u'tt', u'ut1', u'utc')\n",
        "\n",
        "\n"
       ]
      }
     ],
     "input": [
      "import astropy\n",
      "help(astropy.time)"
     ],
     "language": "python",
     "prompt_number": 32
    },
    {
     "cell_type": "code",
     "execution_count": null,
     "metadata": {},
     "outputs": [],
     "input": [
      "import os"
     ],
     "language": "python",
     "prompt_number": 1
    },
    {
     "cell_type": "code",
     "execution_count": null,
     "metadata": {},
     "outputs": [],
     "input": [
      "def change_dir(dirname=\"/Users/corcoran/Downloads/\"):\n",
      "    import os\n",
      "    d=os.chdir(dirname)\n",
      "    return"
     ],
     "language": "python",
     "prompt_number": 2
    },
    {
     "cell_type": "code",
     "execution_count": null,
     "metadata": {},
     "outputs": [
      {
       "output_type": "stream",
       "stream": "stdout",
       "text": [
        "/Users/corcoran/Dropbox/Python/ipython_notebooks\n"
       ]
      }
     ],
     "input": [
      "print os.getcwd()"
     ],
     "language": "python",
     "prompt_number": 3
    },
    {
     "cell_type": "code",
     "execution_count": null,
     "metadata": {},
     "outputs": [
      {
       "output_type": "stream",
       "stream": "stdout",
       "text": [
        "/Users/corcoran/Documents\n"
       ]
      }
     ],
     "input": [
      "change_dir(dirname=\"/Users/corcoran/Documents\")\n",
      "print os.getcwd()"
     ],
     "language": "python",
     "prompt_number": 5
    },
    {
     "cell_type": "markdown",
     "metadata": {},
     "source": [
      "----\n",
      "\n",
      "<h3>Event Handling</h3>\n",
      "\n",
      "see http://matplotlib.org/users/event_handling.html\n",
      "\n"
     ]
    },
    {
     "cell_type": "code",
     "execution_count": null,
     "metadata": {},
     "outputs": [
      {
       "output_type": "display_data",
       "png": "[encoded data removed]",
       "text": [
        "<matplotlib.figure.Figure at 0x107cf7ed0>"
       ],
       "metadata": {}
      }
     ],
     "input": [
      "fig = plt.figure()\n",
      "ax = fig.add_subplot(111)\n",
      "ax.plot(np.random.rand(10))\n",
      "\n",
      "def onclick(event):\n",
      "    print 'button=%d, x=%d, y=%d, xdata=%f, ydata=%f'%(\n",
      "        event.button, event.x, event.y, event.xdata, event.ydata)\n",
      "\n",
      "cid = fig.canvas.mpl_connect('button_press_event', onclick)"
     ],
     "language": "python",
     "prompt_number": 1
    },
    {
     "cell_type": "code",
     "execution_count": null,
     "metadata": {},
     "outputs": [],
     "input": [
      ""
     ],
     "language": "python"
    }
   ]
  }
 ],
 "cells": [],
 "metadata": {
  "name": "",
  "signature": "sha256:cdfe70d92dea399df478a655ed156d7fc382a19681b45b6f01e5eb65c62f6f2c"
 },
 "nbformat": 3,
 "nbformat_minor": 0
}