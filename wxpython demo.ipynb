{
 "metadata": {
  "name": ""
 },
 "nbformat": 3,
 "nbformat_minor": 0,
 "worksheets": [
  {
   "cells": [
    {
     "cell_type": "markdown",
     "metadata": {},
     "source": [
      "see http://wiki.wxpython.org/Getting%20Started#A_First_Application:_.22Hello.2C_World.22"
     ]
    },
    {
     "cell_type": "code",
     "collapsed": false,
     "input": [
      "import wxversion\n",
      "wxversion.select('3.0')\n",
      "import wx"
     ],
     "language": "python",
     "metadata": {},
     "outputs": [],
     "prompt_number": 1
    },
    {
     "cell_type": "code",
     "collapsed": false,
     "input": [
      "class MainWindow(wx.Frame):\n",
      "    def __init__(self, parent, title):\n",
      "        wx.Frame.__init__(self, parent, title=title, size=(200,100))\n",
      "        self.control = wx.TextCtrl(self, style=wx.TE_MULTILINE)\n",
      "        self.CreateStatusBar() # A Statusbar in the bottom of the window\n",
      "\n",
      "        # Setting up the menu.\n",
      "        filemenu= wx.Menu()\n",
      "\n",
      "        # wx.ID_ABOUT and wx.ID_EXIT are standard IDs provided by wxWidgets.\n",
      "        filemenu.Append(wx.ID_ABOUT, \"&About\",\" Information about this program\")\n",
      "        filemenu.AppendSeparator()\n",
      "        filemenu.Append(wx.ID_EXIT,\"E&xit\",\" Terminate the program\")\n",
      "\n",
      "        # Creating the menubar.\n",
      "        menuBar = wx.MenuBar()\n",
      "        menuBar.Append(filemenu,\"&File\") # Adding the \"filemenu\" to the MenuBar\n",
      "        self.SetMenuBar(menuBar)  # Adding the MenuBar to the Frame content.\n",
      "        self.Show(True)"
     ],
     "language": "python",
     "metadata": {},
     "outputs": [],
     "prompt_number": 2
    },
    {
     "cell_type": "code",
     "collapsed": false,
     "input": [
      "app = wx.App(False)\n",
      "frame = MainWindow(None, \"Sample editor\")\n",
      "app.MainLoop()"
     ],
     "language": "python",
     "metadata": {},
     "outputs": [],
     "prompt_number": 3
    },
    {
     "cell_type": "code",
     "collapsed": false,
     "input": [],
     "language": "python",
     "metadata": {},
     "outputs": []
    }
   ],
   "metadata": {}
  }
 ]
}