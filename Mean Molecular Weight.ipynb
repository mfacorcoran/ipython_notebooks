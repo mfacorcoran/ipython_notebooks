{
 "metadata": {
  "name": "Mean Molecular Weight"
 },
 "nbformat": 3,
 "nbformat_minor": 0,
 "worksheets": [
  {
   "cells": [
    {
     "cell_type": "markdown",
     "metadata": {},
     "source": [
      "(from http://www2.astro.psu.edu/users/rbc/a534/lec5.pdf)\n",
      "\n",
      "The thermodynamic relations between $P, \\rho,$ and $T$, as well as the calculation of stellar opacity requires knowledge of the system\u2019s **mean molecular weight, $\\mu$**.\n",
      "\n",
      "Mean molecular weight ($\\mu$) is the mass per unit mole of material or, alternatively, the mean mass of a particle in Atomic Mass Units. \n",
      "\n",
      "Recall that a mole of any substance contains $N_A = 6.02252\\times10^{23}$ atoms. Thus, the number density of ions is related to the mass density, $\\rho$, by\n",
      "$$n = \\rho = \\rho\\times N_A/(\\mu m_a)$$\n",
      "\n",
      "where $m_a$ is the mass that is equivalent to 1 atomic mass unit. If the mass fraction of species $i$ is $x_i$, then its number density is\n",
      "\n",
      "$$n_i = x_i\\rho N_A/A_i$$\n",
      "\n",
      "where $A_i$ is the atomic weight of the species. The number density of all ions in a volume of gas is then\n",
      "\n",
      "$$n_I=\\Sigma_i n_i = \\rho N_A \\Sigma_i \\frac{x_i}{A_i}$$\n",
      "\n",
      "or\n",
      "\n",
      "$$n_I = \\frac{\\rho N_A}{\\mu_I}$$\n",
      "\n",
      "where\n",
      "\n",
      "$$\\mu_I = (\\Sigma_i \\frac{x_i}{A_i})^{-1}$$\n",
      "\n",
      "To compute the contribution of (massless) electrons to the mean molecular weight, let $Z_i$ be the atomic number of species $i$, and $f_i$ be the species' ionization fraction, i.e., the fraction of electrons of $i$ that are free. The number density of electrons is therefore\n",
      "\n",
      "$$n_e=\\frac{\\rho N_A}{\\mu_e}$$\n",
      "\n",
      "where\n",
      "\n",
      "$$\\mu_e = (\\Sigma_i \\frac{Z x_i f_i}{A_i})^{-1}$$\n",
      "\n",
      "\n",
      "Note that in the case of total ionization ($f_i = 1$), this equation simplifies greatly. Since $Z_i/A_i = 1$ for hydrogen, and $\\sim 1/2$ for everything else,\n",
      "\n",
      "$$\\mu_e= (X+\\frac{1}{2}(Y+Z))^{-1} = \\frac{2}{1+X}$$\n",
      "\n",
      "From the definitions above, the total number density of particles is\n",
      "\n",
      "$$n=n_I+n_e = \\frac{\\rho N_A}{\\mu}$$\n",
      "\n",
      "where \n",
      "\n",
      "$$\\mu=\\[\\frac{1}{\\mu_I}+\\frac{1}{\\mu_e}\\]^{-1}$$\n",
      "\n",
      "NOTE: if the gas is non-ionized, then $\\mu_e=0$ and $\\mu=\\mu_I$.  "
     ]
    },
    {
     "cell_type": "code",
     "collapsed": false,
     "input": [
      "# if f_i = 0 (non-ionized material), mu_e=0 and mu = mu_I\n"
     ],
     "language": "python",
     "metadata": {},
     "outputs": []
    },
    {
     "cell_type": "markdown",
     "metadata": {},
     "source": [
      "(from http://www.vikdhillon.staff.shef.ac.uk/teaching/phy213/phy213_molecular.html)\n",
      "\n",
      "We must now derive an expression for the mean molecular weight, $\\mu$, for use in the equation of state that we have just formulated.\n",
      "\n",
      "An exact calculation of $\\mu$ is very complicated as it depends on the fractional ionisation of all the elements in all parts of a star. Fortunately, we can simplify things enormously and only introduce a small error in the calculation of $\\mu$  by assuming that all of the material in a star is fully ionised. This is a valid assumption because hydrogen and helium are very much more abundant than all of the other elements and they are certainly fully ionised in stellar interiors. Near the cool stellar surface, however, where hydrogen and helium are not fully ionised, the assumption breaks down. \n",
      "\n",
      "If all the stellar material is assumed to be fully ionised, the calculation of  proceeds as follows. Let us define:\n",
      "\n",
      "X = fraction of material by mass in form of hydrogen,\n",
      "Y = fraction of material by mass in form of helium, and\n",
      "Z = fraction of material by mass in form of heavier elements.\n",
      "\n",
      "Hence,\n",
      "\n",
      "X + Y + Z = 1.\n",
      "\n",
      "This means that in a cubic metre of stellar material of density $\\rho$ , there is a mass\n",
      "\n",
      "X$\\rho$ of hydrogen,\n",
      "\n",
      "Y$\\rho$ of helium, and\n",
      "\n",
      "Z$\\rho$ of heavier elements.\n",
      "\n",
      "Now, in a fully ionised gas,\n",
      "\n",
      "hydrogen gives  2 particles per $m_H$ (a proton and an electron),\n",
      "helium gives 3/4 particle per $m_H$ (a nucleus containing 2 protons and 2 neutrons = $4m_H$ and two electrons = 3 particles divided by a mass of 4$m_H$), \n",
      "and heavier elements give $\\sim 1/2$ particle per $m_H$\t (e.g. Carbon gives a nucleus containing 6 protons and 6 neutrons = $12m_H$ and six electrons = $7/12$, Oxygen gives a nucleus containing 8 protons and 8 neutrons = $16m_H$ and eight electrons = $9/16$, etc.)\n",
      "\n",
      "Thus the number of particles per cubic metre due to\n",
      "\n",
      "hydrogen = 2X$\\rho/m_H$, \n",
      "\n",
      "helium = 3Y$\\rho/4m_H$, and\n",
      "\n",
      "heavier elements = Z$\\rho/2m_H$.\n",
      "\n",
      "The total number of particles per cubic metre is then given by the sum of the above, i.e.\n",
      "\n",
      "$$n = (2X\\rho/m_H) + (3Y\\rho/4m_H) + (Z\\rho/2m_H).$$\n",
      "\n",
      "Rearranging, we obtain:\n",
      "\n",
      "$$n = (\\rho/4m_H)(8X + 3Y + 2Z).$$\n",
      "\n",
      "Now, X + Y + Z = 1, and hence Z = 1 - X - Y, giving:\n",
      "\n",
      "$$n = (\\rho/4m_H)(6X + Y + 2).$$\n",
      "\n",
      "Recalling that $\\rho =n\\mu m_H$, we can write:\n",
      "\n",
      "$$\\mu = 4/(6X + Y + 2),$$\n",
      "\n",
      "which is a good approximation to $\\mu$ if the material is fully ionized, except in the cool outer regions of stars. \n",
      "\n",
      "For solar composition, we have the mass fractions X=0.747, Y=0.236 and Z=0.017, resulting in  $\\mu\\sim0.6$, i.e. the mean mass of the particles in the Sun is a little over half the mass of a proton. \n",
      "\n",
      "NOW, in a non-ionised gas,\n",
      "hydrogen gives 1 particles per $m_H$ (a proton), helium gives 1/4 particle per $m_H$ (a nucleus containing 2 protons and 2 neutrons = $4m_H$  i.e.  1 particle divided by a mass of $4m_H$), and heavier elements give 1 particle per $2A_I m_H$ (e.g. Carbon gives one nucleus containing 6 protons and 6 neutrons = $1/12m_H$, Oxygen gives one nucleus containing 8 protons and 8 neutrons = $1/16m_H$, etc.)\n",
      "\n",
      "So the number of particles per cubic metre in this case is\n",
      "\n",
      "hydrogen = X$\\rho/m_H$, \n",
      "helium = Y$\\rho/4m_H$, and\n",
      "heavier elements = Z$\\rho/(2A_Im_H)$\n",
      "\n",
      "or \n",
      "\n",
      "$$n=(X + \\frac{Y}{4} + \\frac{Z_3}{2A_3} + \\frac{Z_4}{2A_4}+...\\frac{Z_{100}}{2A_{100}})\\rho/m_H$$\n",
      "\n",
      "So for X=0.747, Y=0.236 and Z=0.017, we have $n=0.8\\rho/m_H$ or $\\mu=n m_H/\\rho = 1.22$.\n",
      "\n",
      "\n",
      "\n",
      "\n"
     ]
    },
    {
     "cell_type": "code",
     "collapsed": false,
     "input": [
      "n=0.747+0.236/4+0.017\n",
      "n"
     ],
     "language": "python",
     "metadata": {},
     "outputs": [
      {
       "output_type": "pyout",
       "prompt_number": 3,
       "text": [
        "0.8230000000000001"
       ]
      }
     ],
     "prompt_number": 3
    },
    {
     "cell_type": "code",
     "collapsed": false,
     "input": [
      "1/n"
     ],
     "language": "python",
     "metadata": {},
     "outputs": [
      {
       "output_type": "pyout",
       "prompt_number": 4,
       "text": [
        "1.215066828675577"
       ]
      }
     ],
     "prompt_number": 4
    },
    {
     "cell_type": "markdown",
     "metadata": {},
     "source": [
      "So for a pure non-ionized He atmosphere (X=Z=0, Y=1)\n",
      "\n",
      "$$n = \\frac{1}{4m_H} \\rho $$\n",
      "\n",
      "and \n",
      "\n",
      "$$\\mu = 4.$$\n",
      "\n"
     ]
    }
   ],
   "metadata": {}
  }
 ]
}